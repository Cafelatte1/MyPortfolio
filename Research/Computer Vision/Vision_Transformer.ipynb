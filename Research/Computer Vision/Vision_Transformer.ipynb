{
  "nbformat": 4,
  "nbformat_minor": 0,
  "metadata": {
    "colab": {
      "provenance": []
    },
    "kernelspec": {
      "name": "python3",
      "display_name": "Python 3"
    },
    "gpuClass": "standard"
  },
  "cells": [
    {
      "cell_type": "markdown",
      "metadata": {
        "id": "4M2bOS5W62SA"
      },
      "source": [
        "## Setup"
      ]
    },
    {
      "cell_type": "code",
      "source": [
        "!pip install -q transformers\n",
        "!pip install -q einops"
      ],
      "metadata": {
        "id": "zO9VlVuiGiYz"
      },
      "execution_count": 1,
      "outputs": []
    },
    {
      "cell_type": "code",
      "metadata": {
        "id": "QFH8bsYnCixL"
      },
      "source": [
        "GLOBAL_SEED = 42\n",
        "\n",
        "import os\n",
        "os.environ['PYTHONHASHSEED'] = str(GLOBAL_SEED)\n",
        "import sys\n",
        "\n",
        "import pandas as pd\n",
        "import numpy as np\n",
        "from numpy import random as np_rnd\n",
        "import random as rnd\n",
        "import gc\n",
        "import datetime\n",
        "import copy\n",
        "import pickle\n",
        "from sklearn.metrics import accuracy_score, f1_score\n",
        "\n",
        "import warnings\n",
        "warnings.filterwarnings(\"ignore\")\n",
        "\n",
        "import torch\n",
        "from torch import nn\n",
        "from torch.nn import functional as F\n",
        "from torch.utils.data import Dataset, DataLoader\n",
        "from torchvision import datasets\n",
        "from torchvision.transforms import transforms\n",
        "from torch.optim import AdamW\n",
        "from transformers import get_polynomial_decay_schedule_with_warmup\n",
        "\n",
        "from einops import rearrange\n",
        "from einops.layers.torch import Rearrange\n",
        "\n",
        "device = \"cuda\" if torch.cuda.is_available() else \"cpu\""
      ],
      "execution_count": 2,
      "outputs": []
    },
    {
      "cell_type": "code",
      "source": [
        "def seed_everything(seed=42):\n",
        "    os.environ['PYTHONHASHSEED'] = str(seed)\n",
        "    # python random\n",
        "    rnd.seed(seed)\n",
        "    # numpy random\n",
        "    np_rnd.seed(seed)\n",
        "    # tf random\n",
        "    try:\n",
        "        tf_rnd.set_seed(seed)\n",
        "    except:\n",
        "        pass\n",
        "    # RAPIDS random\n",
        "    try:\n",
        "        cupy.random.seed(seed)\n",
        "    except:\n",
        "        pass\n",
        "    # pytorch random\n",
        "    try:\n",
        "        torch.manual_seed(seed)\n",
        "        torch.cuda.manual_seed(seed)\n",
        "        torch.backends.cudnn.deterministic = True\n",
        "    except:\n",
        "        pass\n",
        "\n",
        "def pickleIO(obj, src, op=\"w\"):\n",
        "    if op==\"w\":\n",
        "        with open(src, op + \"b\") as f:\n",
        "            pickle.dump(obj, f)\n",
        "    elif op==\"r\":\n",
        "        with open(src, op + \"b\") as f:\n",
        "            tmp = pickle.load(f)\n",
        "        return tmp\n",
        "    else:\n",
        "        print(\"unknown operation\")\n",
        "        return obj\n",
        "    \n",
        "def findIdx(data_x, col_names):\n",
        "    return [int(i) for i, j in enumerate(data_x) if j in col_names]\n",
        "\n",
        "def createFolder(directory):\n",
        "    try:\n",
        "        if not os.path.exists(directory):\n",
        "            os.makedirs(directory)\n",
        "    except OSError:\n",
        "        print('Error: Creating directory. ' + directory)"
      ],
      "metadata": {
        "id": "7KDYdmNdH1RK"
      },
      "execution_count": 3,
      "outputs": []
    },
    {
      "cell_type": "code",
      "source": [
        "class CFG:\n",
        "    local = False\n",
        "    debug = False\n",
        "    \n",
        "    epochs = 20\n",
        "    early_stopping_rounds = max(10, epochs // 5)\n",
        "    batch_size = 128\n",
        "    number_of_labels = 10\n",
        "    classes = ('plane', 'car', 'bird', 'cat', 'deer', 'dog', 'frog', 'horse', 'ship', 'truck')\n",
        "    eta = 5e-4\n",
        "    weight_decay = 1e-4\n",
        "\n",
        "if CFG.debug:\n",
        "    CFG.epochs = 5"
      ],
      "metadata": {
        "id": "gpuSZEW8IEeh"
      },
      "execution_count": 4,
      "outputs": []
    },
    {
      "cell_type": "markdown",
      "source": [
        "## Loading CIFAR10 Dataset"
      ],
      "metadata": {
        "id": "h-m3LndoE3BQ"
      }
    },
    {
      "cell_type": "code",
      "source": [
        "# Create an instance for training. \n",
        "# When we run this code for the first time, the CIFAR10 train dataset will be downloaded locally. \n",
        "train_ds = datasets.CIFAR10(root=\"./data\", train=True, download=True)\n",
        "train_mean = [train_ds.data[:,:,:,i].mean() for i in range(train_ds.data.shape[-1])]\n",
        "del train_ds; gc.collect()"
      ],
      "metadata": {
        "colab": {
          "base_uri": "https://localhost:8080/"
        },
        "id": "Th6rmDDqIswu",
        "outputId": "2c02389e-37e5-4e66-c126-56925523d6cf"
      },
      "execution_count": 5,
      "outputs": [
        {
          "output_type": "stream",
          "name": "stdout",
          "text": [
            "Files already downloaded and verified\n"
          ]
        },
        {
          "output_type": "execute_result",
          "data": {
            "text/plain": [
              "72"
            ]
          },
          "metadata": {},
          "execution_count": 5
        }
      ]
    },
    {
      "cell_type": "markdown",
      "source": [
        "**INFO: Use MinMax Normalization 0~1 (different from the original paper)**"
      ],
      "metadata": {
        "id": "x7OfU4l5o3X6"
      }
    },
    {
      "cell_type": "code",
      "source": [
        "# Create Train dataset loader\n",
        "train_ft = transforms.Compose([\n",
        "    transforms.ToTensor(),\n",
        "    transforms.ConvertImageDtype(torch.float32),\n",
        "    transforms.Normalize(0, 255),\n",
        "    # transforms.Normalize(train_mean, 1),\n",
        "    transforms.RandomHorizontalFlip(),\n",
        "])\n",
        "train_dl = DataLoader(\n",
        "    datasets.CIFAR10(root=\"./data\", train=True, transform=train_ft ,download=True),\n",
        "    batch_size=CFG.batch_size, shuffle=True, drop_last=True\n",
        ")\n",
        "\n",
        "# Create Test dataset loader\n",
        "test_ft = transforms.Compose([\n",
        "    transforms.ToTensor(),\n",
        "    transforms.ConvertImageDtype(torch.float32),\n",
        "    transforms.Normalize(0, 255),\n",
        "    # transforms.Normalize(train_mean, 1),\n",
        "    # transforms.RandomHorizontalFlip(),\n",
        "])\n",
        "test_dl = DataLoader(\n",
        "    datasets.CIFAR10(root=\"./data\", train=False, transform=test_ft, download=True),\n",
        "    batch_size=CFG.batch_size, shuffle=False, drop_last=False\n",
        ")\n",
        "\n",
        "print(\"The number of images in a test set is: \", len(test_dl) * CFG.batch_size)\n",
        "print(\"The number of iteration is: \", len(train_dl))"
      ],
      "metadata": {
        "colab": {
          "base_uri": "https://localhost:8080/"
        },
        "id": "DaJWD7KxLc6z",
        "outputId": "b6f131b6-bbe9-4066-e0f1-33ae0bb07664"
      },
      "execution_count": 6,
      "outputs": [
        {
          "output_type": "stream",
          "name": "stdout",
          "text": [
            "Files already downloaded and verified\n",
            "Files already downloaded and verified\n",
            "The number of images in a test set is:  10112\n",
            "The number of iteration is:  390\n"
          ]
        }
      ]
    },
    {
      "cell_type": "markdown",
      "metadata": {
        "id": "NKO1CzhyFK5D"
      },
      "source": [
        "## Create Model & Define helper functions"
      ]
    },
    {
      "cell_type": "code",
      "source": [
        "def get_optimizer_params(model, eta, weight_decay):\n",
        "    param_optimizer = list(model.named_parameters())\n",
        "    no_decay = [\"bias\", \"LayerNorm.bias\", \"LayerNorm.weight\"]\n",
        "    optimizer_parameters = [\n",
        "        # apply weight decay\n",
        "        {'params': [p for n, p in param_optimizer if not any(nd in n for nd in no_decay)],\n",
        "         'lr': eta, 'weight_decay': weight_decay},\n",
        "        # don't apply weight decay for LayerNormalization layer\n",
        "        {'params': [p for n, p in param_optimizer if any(nd in n for nd in no_decay)],\n",
        "         'lr': eta, 'weight_decay': 0.0},\n",
        "    ]\n",
        "    return optimizer_parameters\n",
        "\n",
        "def get_scheduler(optimizer, num_warmup_steps, num_training_steps):\n",
        "    scheduler = get_polynomial_decay_schedule_with_warmup(\n",
        "        optimizer, num_warmup_steps=num_warmup_steps, num_training_steps=num_training_steps, power=0.5, lr_end=1e-7\n",
        "    )\n",
        "    return scheduler\n",
        "\n",
        "class AverageMeter(object):\n",
        "    \"\"\"Computes and stores the average and current value\"\"\"\n",
        "    def __init__(self, name, fmt=':f'):\n",
        "        self.name = name\n",
        "        self.fmt = fmt\n",
        "        self.reset()\n",
        "\n",
        "    def reset(self):\n",
        "        self.val = 0\n",
        "        self.avg = 0\n",
        "        self.sum = 0\n",
        "        self.count = 0\n",
        "\n",
        "    def update(self, val, n=1):\n",
        "        self.val = val\n",
        "        self.sum += val * n\n",
        "        self.count += n\n",
        "        self.avg = self.sum / self.count\n",
        "\n",
        "    def __str__(self):\n",
        "        fmtstr = '{name} {val' + self.fmt + '} ({avg' + self.fmt + '})'\n",
        "        return fmtstr.format(**self.__dict__)"
      ],
      "metadata": {
        "id": "R__Wsv7pQP3G"
      },
      "execution_count": 7,
      "outputs": []
    },
    {
      "cell_type": "markdown",
      "source": [
        "**INFO: The model is simplified architecture from original paper**\n"
      ],
      "metadata": {
        "id": "SR-UTxhsQR5R"
      }
    },
    {
      "cell_type": "code",
      "source": [
        "img_size = 32\n",
        "patch_size = 4\n",
        "patch_dim = patch_size ** 2 * 3\n",
        "seq_len = (img_size // 4) ** 2\n",
        "num_heads = 2\n",
        "base_hidden_layers = 64\n",
        "assert img_size % patch_size == 0\n",
        "\n",
        "class PatchExtract(nn.Module):\n",
        "    def __init__(self):\n",
        "        super(PatchExtract, self).__init__()\n",
        "        self.get_patches = Rearrange('b c (h p1) (w p2) -> b (h w) (p1 p2 c)', p1=patch_size, p2=patch_size)\n",
        "\n",
        "    def forward(self, x):\n",
        "        x = self.get_patches(x)\n",
        "        return x\n",
        "\n",
        "class PatchEmbedding(nn.Module):\n",
        "    def __init__(self, embed_dim):\n",
        "        super(PatchEmbedding, self).__init__()\n",
        "\n",
        "        self.pos_vector = torch.arange(seq_len)\n",
        "        self.pos_linear = (self.pos_vector / seq_len).view(-1, 1)\n",
        "        self.pos_center = (1 - ((seq_len / 2 - self.pos_vector).abs() / seq_len / 2)).view(-1, 1)\n",
        "        self.pos_sin = torch.sin(self.pos_vector).view(-1, 1)\n",
        "        self.pos_cos = torch.cos(self.pos_vector).view(-1, 1)\n",
        "        self.pos_embed = nn.Embedding(seq_len, max(4, seq_len // 4))\n",
        "        self.cls_token = nn.Parameter(torch.randn(1, embed_dim))\n",
        "        self.lin_prj = nn.Linear(patch_dim + seq_len // 4 + 4, embed_dim)\n",
        "\n",
        "    def forward(self, x):\n",
        "        # Concatenate positional features\n",
        "        # Linear, Center, Sin, Cos\n",
        "        x_pos = torch.cat([\n",
        "            self.pos_embed(self.pos_vector),\n",
        "            self.pos_linear,\n",
        "            self.pos_center,\n",
        "            self.pos_sin,\n",
        "            self.pos_cos,\n",
        "        ], dim=-1)\n",
        "        x_pos = x_pos.expand(x.shape[0], x_pos.shape[0], x_pos.shape[1])\n",
        "        x = self.lin_prj(torch.cat([x, x_pos], dim=-1))\n",
        "        x = torch.cat([self.cls_token.expand(x.shape[0], -1, -1), x], dim=1)\n",
        "        return x\n",
        "\n",
        "class TransformerBlock(nn.Module):\n",
        "    def __init__(self, embed_dim, dropoutRate_lin=0.25, dropoutRate_attn=0.125):\n",
        "        super(TransformerBlock, self).__init__()\n",
        "        self.attn = nn.MultiheadAttention(embed_dim, num_heads, dropout=dropoutRate_attn, batch_first=True)\n",
        "        self.lin_prj = nn.Sequential(\n",
        "            nn.Dropout(dropoutRate_lin),\n",
        "            nn.Linear(embed_dim, embed_dim),\n",
        "            nn.GELU()\n",
        "        )\n",
        "        self.layer_norm1 = nn.LayerNorm([seq_len + 1, embed_dim])\n",
        "        self.layer_norm2 = nn.LayerNorm([seq_len + 1, embed_dim])\n",
        "        \n",
        "    def forward(self, x):\n",
        "        x_norm = self.layer_norm1(x)\n",
        "        x = self.attn(x_norm, x_norm, x_norm)[0] + x\n",
        "        x_norm = self.layer_norm2(x)\n",
        "        x = self.lin_prj(x_norm) + x\n",
        "        return x\n",
        "\n",
        "class ViT(nn.Module):\n",
        "    def __init__(self):\n",
        "        super(ViT, self).__init__()\n",
        "        \n",
        "        self.patch_extract = PatchExtract()\n",
        "        self.patch_embedding = PatchEmbedding(base_hidden_layers)\n",
        "        self.transformer_block = TransformerBlock(base_hidden_layers)\n",
        "\n",
        "        self.fc = nn.Sequential(\n",
        "            nn.Dropout(),\n",
        "            nn.Linear(base_hidden_layers, base_hidden_layers // 4),\n",
        "            nn.ReLU(),\n",
        "        )\n",
        "\n",
        "        self.classifier = nn.Linear(base_hidden_layers // 4, CFG.number_of_labels)\n",
        "\n",
        "    def forward(self, x):\n",
        "        x = self.patch_extract(x)\n",
        "        x = self.patch_embedding(x)\n",
        "        x = self.transformer_block(x)\n",
        "        x = x[:, 0, :]\n",
        "        x = self.fc(x)\n",
        "        return self.classifier(x)"
      ],
      "metadata": {
        "id": "ar8v-fLrNRhg"
      },
      "execution_count": 8,
      "outputs": []
    },
    {
      "cell_type": "markdown",
      "metadata": {
        "id": "kFj6geDUTPkl"
      },
      "source": [
        "## Training"
      ]
    },
    {
      "cell_type": "code",
      "source": [
        "def fn_training():\n",
        "    return_score_dic = []\n",
        "    best_score = np.inf\n",
        "    \n",
        "    seed_everything()\n",
        "    for epoch in range(CFG.epochs):\n",
        "        train_loss = AverageMeter('Loss', ':.4e')\n",
        "        valid_loss = AverageMeter('Loss', ':.4e')\n",
        "        train_accuracy = AverageMeter('Accuracy', ':.4e')\n",
        "        valid_accuracy = AverageMeter('Accuracy', ':.4e')\n",
        "        train_f1 = AverageMeter('F1', ':.4e')\n",
        "        valid_f1 = AverageMeter('F1', ':.4e')\n",
        "\n",
        "        model.train()\n",
        "        for feature, label in train_dl:\n",
        "            with torch.cuda.amp.autocast():\n",
        "                feature = feature.to(device)\n",
        "                label = label.to(device)\n",
        "                output = model(feature)\n",
        "                loss = criterion(output, label)\n",
        "\n",
        "            # initialization gradients to zero\n",
        "            optimizer.zero_grad()\n",
        "            # get scaled gradients by float16 (default)\n",
        "            grad_scaler.scale(loss).backward()\n",
        "            # apply original gradients (unscaling) to parameters\n",
        "            # if these gradients do not contain infs or NaNs, optimizer.step() is then called.\n",
        "            # otherwise, optimizer.step() is skipped.\n",
        "            grad_scaler.step(optimizer)\n",
        "            grad_scaler.update()\n",
        "            scheduler.step()\n",
        "            \n",
        "            train_loss.update(loss.item())\n",
        "\n",
        "            y_pred = output.argmax(axis=-1).detach().cpu().numpy()\n",
        "            y_true = label.detach().cpu().numpy()\n",
        "\n",
        "            train_accuracy.update(accuracy_score(y_true, y_pred))        \n",
        "            train_f1.update(f1_score(y_true, y_pred, average=\"macro\"))\n",
        "\n",
        "        model.eval()\n",
        "        for feature, label in test_dl:\n",
        "            with torch.no_grad():\n",
        "                feature = feature.to(device)\n",
        "                label = label.to(device)\n",
        "                output = model(feature)\n",
        "                loss = criterion(output, label)\n",
        "\n",
        "            valid_loss.update(loss.item())  \n",
        "\n",
        "            y_pred = output.argmax(axis=-1).detach().cpu().numpy()\n",
        "            y_true = label.detach().cpu().numpy()\n",
        "\n",
        "            valid_accuracy.update(accuracy_score(y_true, y_pred))        \n",
        "            valid_f1.update(f1_score(y_true, y_pred, average=\"macro\"))\n",
        "\n",
        "        score = valid_loss.avg\n",
        "        return_score_dic.append({\n",
        "            \"epoch\": epoch,\n",
        "            \"train_loss\": train_loss.avg,\n",
        "            \"valid_loss\": valid_loss.avg,\n",
        "            \"train_accuracy\": train_accuracy.avg,\n",
        "            \"valid_accuracy\": valid_accuracy.avg,\n",
        "            \"train_f1\": train_f1.avg,\n",
        "            \"valid_f1\": valid_f1.avg,  \n",
        "        })\n",
        "\n",
        "        if score < best_score:\n",
        "            best_score = copy.deepcopy(score)\n",
        "            early_stopping_cnt = 0 \n",
        "        else:\n",
        "            early_stopping_cnt += 1\n",
        "\n",
        "        if early_stopping_cnt == CFG.early_stopping_rounds:\n",
        "            print(\"INFO : Early Stopped ! (Epoch[{0}/{1}])\".format(epoch+1, CFG.epochs))  \n",
        "            break\n",
        "\n",
        "        print(f'[{epoch+1:02d}/{CFG.epochs}]:  * Train Loss {train_loss.avg:.3f} * Train Accuracy {train_accuracy.avg:.3f} * Train F1 {train_f1.avg:.3f} * Valid Loss {valid_loss.avg:.3f} * Valid Accuracy {valid_accuracy.avg:.3f} * Valid F1 {valid_f1.avg:.3f}')\n",
        "\n",
        "    return return_score_dic"
      ],
      "metadata": {
        "id": "kV41_PFCRbgE"
      },
      "execution_count": 9,
      "outputs": []
    },
    {
      "cell_type": "code",
      "metadata": {
        "id": "mQ_CXj23St6c"
      },
      "source": [
        "# model\n",
        "model = ViT()\n",
        "model.to(device)\n",
        "\n",
        "# optimizer & scheduler\n",
        "optimizer_parameters = get_optimizer_params(\n",
        "    model,\n",
        "    eta=CFG.eta,\n",
        "    weight_decay=CFG.weight_decay\n",
        ")\n",
        "optimizer = AdamW(optimizer_parameters, lr=CFG.eta, weight_decay=CFG.weight_decay)\n",
        "scheduler = get_scheduler(\n",
        "    optimizer,\n",
        "    num_warmup_steps=0,\n",
        "    num_training_steps=(len(train_dl) * CFG.epochs)\n",
        ")\n",
        "\n",
        "# loss function\n",
        "criterion = nn.CrossEntropyLoss()\n",
        "\n",
        "# gradient scaler for fast operation with float16\n",
        "grad_scaler = torch.cuda.amp.GradScaler()"
      ],
      "execution_count": 10,
      "outputs": []
    },
    {
      "cell_type": "code",
      "source": [
        "%%time\n",
        "\n",
        "score_dic = fn_training()"
      ],
      "metadata": {
        "colab": {
          "base_uri": "https://localhost:8080/"
        },
        "id": "F8dvyK8KSPeA",
        "outputId": "8a8fcfaf-5bba-49d7-b05a-56e5813e95f1"
      },
      "execution_count": 11,
      "outputs": [
        {
          "output_type": "stream",
          "name": "stdout",
          "text": [
            "[01/20]:  * Train Loss 2.310 * Train Accuracy 0.101 * Train F1 0.073 * Valid Loss 2.304 * Valid Accuracy 0.101 * Valid F1 0.018\n",
            "[02/20]:  * Train Loss 2.304 * Train Accuracy 0.102 * Train F1 0.076 * Valid Loss 2.302 * Valid Accuracy 0.100 * Valid F1 0.018\n",
            "[03/20]:  * Train Loss 2.303 * Train Accuracy 0.102 * Train F1 0.078 * Valid Loss 2.300 * Valid Accuracy 0.100 * Valid F1 0.028\n",
            "[04/20]:  * Train Loss 2.271 * Train Accuracy 0.123 * Train F1 0.085 * Valid Loss 2.188 * Valid Accuracy 0.158 * Valid F1 0.097\n",
            "[05/20]:  * Train Loss 2.186 * Train Accuracy 0.160 * Train F1 0.120 * Valid Loss 2.145 * Valid Accuracy 0.174 * Valid F1 0.125\n",
            "[06/20]:  * Train Loss 2.156 * Train Accuracy 0.172 * Train F1 0.135 * Valid Loss 2.128 * Valid Accuracy 0.189 * Valid F1 0.131\n",
            "[07/20]:  * Train Loss 2.130 * Train Accuracy 0.191 * Train F1 0.153 * Valid Loss 2.080 * Valid Accuracy 0.235 * Valid F1 0.181\n",
            "[08/20]:  * Train Loss 2.089 * Train Accuracy 0.226 * Train F1 0.195 * Valid Loss 2.025 * Valid Accuracy 0.273 * Valid F1 0.230\n",
            "[09/20]:  * Train Loss 2.056 * Train Accuracy 0.245 * Train F1 0.215 * Valid Loss 1.983 * Valid Accuracy 0.284 * Valid F1 0.248\n",
            "[10/20]:  * Train Loss 2.017 * Train Accuracy 0.258 * Train F1 0.229 * Valid Loss 1.958 * Valid Accuracy 0.295 * Valid F1 0.260\n",
            "[11/20]:  * Train Loss 1.994 * Train Accuracy 0.270 * Train F1 0.239 * Valid Loss 1.916 * Valid Accuracy 0.305 * Valid F1 0.268\n",
            "[12/20]:  * Train Loss 1.974 * Train Accuracy 0.277 * Train F1 0.247 * Valid Loss 1.966 * Valid Accuracy 0.295 * Valid F1 0.265\n",
            "[13/20]:  * Train Loss 1.952 * Train Accuracy 0.287 * Train F1 0.257 * Valid Loss 1.885 * Valid Accuracy 0.313 * Valid F1 0.275\n",
            "[14/20]:  * Train Loss 1.944 * Train Accuracy 0.291 * Train F1 0.262 * Valid Loss 1.881 * Valid Accuracy 0.323 * Valid F1 0.291\n",
            "[15/20]:  * Train Loss 1.934 * Train Accuracy 0.297 * Train F1 0.268 * Valid Loss 1.873 * Valid Accuracy 0.319 * Valid F1 0.287\n",
            "[16/20]:  * Train Loss 1.927 * Train Accuracy 0.298 * Train F1 0.267 * Valid Loss 1.860 * Valid Accuracy 0.329 * Valid F1 0.295\n",
            "[17/20]:  * Train Loss 1.918 * Train Accuracy 0.302 * Train F1 0.273 * Valid Loss 1.849 * Valid Accuracy 0.329 * Valid F1 0.296\n",
            "[18/20]:  * Train Loss 1.909 * Train Accuracy 0.305 * Train F1 0.275 * Valid Loss 1.855 * Valid Accuracy 0.328 * Valid F1 0.296\n",
            "[19/20]:  * Train Loss 1.902 * Train Accuracy 0.308 * Train F1 0.280 * Valid Loss 1.842 * Valid Accuracy 0.329 * Valid F1 0.294\n",
            "[20/20]:  * Train Loss 1.897 * Train Accuracy 0.310 * Train F1 0.282 * Valid Loss 1.837 * Valid Accuracy 0.336 * Valid F1 0.302\n",
            "CPU times: user 17min 37s, sys: 3.08 s, total: 17min 40s\n",
            "Wall time: 17min 46s\n"
          ]
        }
      ]
    },
    {
      "cell_type": "code",
      "source": [
        "pd.DataFrame(score_dic).mean().iloc[1:]"
      ],
      "metadata": {
        "colab": {
          "base_uri": "https://localhost:8080/"
        },
        "id": "kq1n5mwzbA-A",
        "outputId": "32131fdc-406a-494b-b8bb-4b5d30117af6"
      },
      "execution_count": 12,
      "outputs": [
        {
          "output_type": "execute_result",
          "data": {
            "text/plain": [
              "train_loss        2.058666\n",
              "valid_loss        2.008859\n",
              "train_accuracy    0.231303\n",
              "valid_accuracy    0.255726\n",
              "train_f1          0.200392\n",
              "valid_f1          0.210210\n",
              "dtype: float64"
            ]
          },
          "metadata": {},
          "execution_count": 12
        }
      ]
    },
    {
      "cell_type": "code",
      "source": [],
      "metadata": {
        "id": "_QiKLnpMQmuU"
      },
      "execution_count": 12,
      "outputs": []
    }
  ]
}
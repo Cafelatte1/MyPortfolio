{
  "nbformat": 4,
  "nbformat_minor": 0,
  "metadata": {
    "colab": {
      "provenance": [],
      "toc_visible": true
    },
    "kernelspec": {
      "name": "python3",
      "display_name": "Python 3"
    },
    "gpuClass": "standard",
    "widgets": {
      "application/vnd.jupyter.widget-state+json": {
        "62ea17d5d56344379a45f0e3fd35b6a5": {
          "model_module": "@jupyter-widgets/controls",
          "model_name": "HBoxModel",
          "model_module_version": "1.5.0",
          "state": {
            "_dom_classes": [],
            "_model_module": "@jupyter-widgets/controls",
            "_model_module_version": "1.5.0",
            "_model_name": "HBoxModel",
            "_view_count": null,
            "_view_module": "@jupyter-widgets/controls",
            "_view_module_version": "1.5.0",
            "_view_name": "HBoxView",
            "box_style": "",
            "children": [
              "IPY_MODEL_4f257034dc754bdfb8a98abade874383",
              "IPY_MODEL_fc0e9823356643a983922c6942eba0c4",
              "IPY_MODEL_367299ad70d84399883ae3b9c502d64b"
            ],
            "layout": "IPY_MODEL_bea8d931a87946c6946cea46096b1505"
          }
        },
        "4f257034dc754bdfb8a98abade874383": {
          "model_module": "@jupyter-widgets/controls",
          "model_name": "HTMLModel",
          "model_module_version": "1.5.0",
          "state": {
            "_dom_classes": [],
            "_model_module": "@jupyter-widgets/controls",
            "_model_module_version": "1.5.0",
            "_model_name": "HTMLModel",
            "_view_count": null,
            "_view_module": "@jupyter-widgets/controls",
            "_view_module_version": "1.5.0",
            "_view_name": "HTMLView",
            "description": "",
            "description_tooltip": null,
            "layout": "IPY_MODEL_010e680262ef41e29e9567b6c8dace28",
            "placeholder": "​",
            "style": "IPY_MODEL_5d19608ed6e544c882073035218f0829",
            "value": "100%"
          }
        },
        "fc0e9823356643a983922c6942eba0c4": {
          "model_module": "@jupyter-widgets/controls",
          "model_name": "FloatProgressModel",
          "model_module_version": "1.5.0",
          "state": {
            "_dom_classes": [],
            "_model_module": "@jupyter-widgets/controls",
            "_model_module_version": "1.5.0",
            "_model_name": "FloatProgressModel",
            "_view_count": null,
            "_view_module": "@jupyter-widgets/controls",
            "_view_module_version": "1.5.0",
            "_view_name": "ProgressView",
            "bar_style": "success",
            "description": "",
            "description_tooltip": null,
            "layout": "IPY_MODEL_c2805f82a46f4c0891c4e2dcf141de53",
            "max": 170498071,
            "min": 0,
            "orientation": "horizontal",
            "style": "IPY_MODEL_621a71d157254a1e903d3464eae1da9a",
            "value": 170498071
          }
        },
        "367299ad70d84399883ae3b9c502d64b": {
          "model_module": "@jupyter-widgets/controls",
          "model_name": "HTMLModel",
          "model_module_version": "1.5.0",
          "state": {
            "_dom_classes": [],
            "_model_module": "@jupyter-widgets/controls",
            "_model_module_version": "1.5.0",
            "_model_name": "HTMLModel",
            "_view_count": null,
            "_view_module": "@jupyter-widgets/controls",
            "_view_module_version": "1.5.0",
            "_view_name": "HTMLView",
            "description": "",
            "description_tooltip": null,
            "layout": "IPY_MODEL_ece7cf0df3d9421dae07370d694f4a0b",
            "placeholder": "​",
            "style": "IPY_MODEL_db720d24487d4280b7d0ad4f82a9eae8",
            "value": " 170498071/170498071 [00:03&lt;00:00, 52188585.66it/s]"
          }
        },
        "bea8d931a87946c6946cea46096b1505": {
          "model_module": "@jupyter-widgets/base",
          "model_name": "LayoutModel",
          "model_module_version": "1.2.0",
          "state": {
            "_model_module": "@jupyter-widgets/base",
            "_model_module_version": "1.2.0",
            "_model_name": "LayoutModel",
            "_view_count": null,
            "_view_module": "@jupyter-widgets/base",
            "_view_module_version": "1.2.0",
            "_view_name": "LayoutView",
            "align_content": null,
            "align_items": null,
            "align_self": null,
            "border": null,
            "bottom": null,
            "display": null,
            "flex": null,
            "flex_flow": null,
            "grid_area": null,
            "grid_auto_columns": null,
            "grid_auto_flow": null,
            "grid_auto_rows": null,
            "grid_column": null,
            "grid_gap": null,
            "grid_row": null,
            "grid_template_areas": null,
            "grid_template_columns": null,
            "grid_template_rows": null,
            "height": null,
            "justify_content": null,
            "justify_items": null,
            "left": null,
            "margin": null,
            "max_height": null,
            "max_width": null,
            "min_height": null,
            "min_width": null,
            "object_fit": null,
            "object_position": null,
            "order": null,
            "overflow": null,
            "overflow_x": null,
            "overflow_y": null,
            "padding": null,
            "right": null,
            "top": null,
            "visibility": null,
            "width": null
          }
        },
        "010e680262ef41e29e9567b6c8dace28": {
          "model_module": "@jupyter-widgets/base",
          "model_name": "LayoutModel",
          "model_module_version": "1.2.0",
          "state": {
            "_model_module": "@jupyter-widgets/base",
            "_model_module_version": "1.2.0",
            "_model_name": "LayoutModel",
            "_view_count": null,
            "_view_module": "@jupyter-widgets/base",
            "_view_module_version": "1.2.0",
            "_view_name": "LayoutView",
            "align_content": null,
            "align_items": null,
            "align_self": null,
            "border": null,
            "bottom": null,
            "display": null,
            "flex": null,
            "flex_flow": null,
            "grid_area": null,
            "grid_auto_columns": null,
            "grid_auto_flow": null,
            "grid_auto_rows": null,
            "grid_column": null,
            "grid_gap": null,
            "grid_row": null,
            "grid_template_areas": null,
            "grid_template_columns": null,
            "grid_template_rows": null,
            "height": null,
            "justify_content": null,
            "justify_items": null,
            "left": null,
            "margin": null,
            "max_height": null,
            "max_width": null,
            "min_height": null,
            "min_width": null,
            "object_fit": null,
            "object_position": null,
            "order": null,
            "overflow": null,
            "overflow_x": null,
            "overflow_y": null,
            "padding": null,
            "right": null,
            "top": null,
            "visibility": null,
            "width": null
          }
        },
        "5d19608ed6e544c882073035218f0829": {
          "model_module": "@jupyter-widgets/controls",
          "model_name": "DescriptionStyleModel",
          "model_module_version": "1.5.0",
          "state": {
            "_model_module": "@jupyter-widgets/controls",
            "_model_module_version": "1.5.0",
            "_model_name": "DescriptionStyleModel",
            "_view_count": null,
            "_view_module": "@jupyter-widgets/base",
            "_view_module_version": "1.2.0",
            "_view_name": "StyleView",
            "description_width": ""
          }
        },
        "c2805f82a46f4c0891c4e2dcf141de53": {
          "model_module": "@jupyter-widgets/base",
          "model_name": "LayoutModel",
          "model_module_version": "1.2.0",
          "state": {
            "_model_module": "@jupyter-widgets/base",
            "_model_module_version": "1.2.0",
            "_model_name": "LayoutModel",
            "_view_count": null,
            "_view_module": "@jupyter-widgets/base",
            "_view_module_version": "1.2.0",
            "_view_name": "LayoutView",
            "align_content": null,
            "align_items": null,
            "align_self": null,
            "border": null,
            "bottom": null,
            "display": null,
            "flex": null,
            "flex_flow": null,
            "grid_area": null,
            "grid_auto_columns": null,
            "grid_auto_flow": null,
            "grid_auto_rows": null,
            "grid_column": null,
            "grid_gap": null,
            "grid_row": null,
            "grid_template_areas": null,
            "grid_template_columns": null,
            "grid_template_rows": null,
            "height": null,
            "justify_content": null,
            "justify_items": null,
            "left": null,
            "margin": null,
            "max_height": null,
            "max_width": null,
            "min_height": null,
            "min_width": null,
            "object_fit": null,
            "object_position": null,
            "order": null,
            "overflow": null,
            "overflow_x": null,
            "overflow_y": null,
            "padding": null,
            "right": null,
            "top": null,
            "visibility": null,
            "width": null
          }
        },
        "621a71d157254a1e903d3464eae1da9a": {
          "model_module": "@jupyter-widgets/controls",
          "model_name": "ProgressStyleModel",
          "model_module_version": "1.5.0",
          "state": {
            "_model_module": "@jupyter-widgets/controls",
            "_model_module_version": "1.5.0",
            "_model_name": "ProgressStyleModel",
            "_view_count": null,
            "_view_module": "@jupyter-widgets/base",
            "_view_module_version": "1.2.0",
            "_view_name": "StyleView",
            "bar_color": null,
            "description_width": ""
          }
        },
        "ece7cf0df3d9421dae07370d694f4a0b": {
          "model_module": "@jupyter-widgets/base",
          "model_name": "LayoutModel",
          "model_module_version": "1.2.0",
          "state": {
            "_model_module": "@jupyter-widgets/base",
            "_model_module_version": "1.2.0",
            "_model_name": "LayoutModel",
            "_view_count": null,
            "_view_module": "@jupyter-widgets/base",
            "_view_module_version": "1.2.0",
            "_view_name": "LayoutView",
            "align_content": null,
            "align_items": null,
            "align_self": null,
            "border": null,
            "bottom": null,
            "display": null,
            "flex": null,
            "flex_flow": null,
            "grid_area": null,
            "grid_auto_columns": null,
            "grid_auto_flow": null,
            "grid_auto_rows": null,
            "grid_column": null,
            "grid_gap": null,
            "grid_row": null,
            "grid_template_areas": null,
            "grid_template_columns": null,
            "grid_template_rows": null,
            "height": null,
            "justify_content": null,
            "justify_items": null,
            "left": null,
            "margin": null,
            "max_height": null,
            "max_width": null,
            "min_height": null,
            "min_width": null,
            "object_fit": null,
            "object_position": null,
            "order": null,
            "overflow": null,
            "overflow_x": null,
            "overflow_y": null,
            "padding": null,
            "right": null,
            "top": null,
            "visibility": null,
            "width": null
          }
        },
        "db720d24487d4280b7d0ad4f82a9eae8": {
          "model_module": "@jupyter-widgets/controls",
          "model_name": "DescriptionStyleModel",
          "model_module_version": "1.5.0",
          "state": {
            "_model_module": "@jupyter-widgets/controls",
            "_model_module_version": "1.5.0",
            "_model_name": "DescriptionStyleModel",
            "_view_count": null,
            "_view_module": "@jupyter-widgets/base",
            "_view_module_version": "1.2.0",
            "_view_name": "StyleView",
            "description_width": ""
          }
        }
      }
    }
  },
  "cells": [
    {
      "cell_type": "markdown",
      "metadata": {
        "id": "4M2bOS5W62SA"
      },
      "source": [
        "## Setup"
      ]
    },
    {
      "cell_type": "code",
      "source": [
        "!pip install -q transformers\n",
        "!pip install -q einops"
      ],
      "metadata": {
        "id": "zO9VlVuiGiYz",
        "colab": {
          "base_uri": "https://localhost:8080/"
        },
        "outputId": "8472f1b1-edeb-48bf-ea1e-aae2fef8d336"
      },
      "execution_count": 1,
      "outputs": [
        {
          "output_type": "stream",
          "name": "stdout",
          "text": [
            "\u001b[2K     \u001b[90m━━━━━━━━━━━━━━━━━━━━━━━━━━━━━━━━━━━━━━━━\u001b[0m \u001b[32m6.3/6.3 MB\u001b[0m \u001b[31m39.7 MB/s\u001b[0m eta \u001b[36m0:00:00\u001b[0m\n",
            "\u001b[2K     \u001b[90m━━━━━━━━━━━━━━━━━━━━━━━━━━━━━━━━━━━━━━━━\u001b[0m \u001b[32m7.6/7.6 MB\u001b[0m \u001b[31m23.6 MB/s\u001b[0m eta \u001b[36m0:00:00\u001b[0m\n",
            "\u001b[2K     \u001b[90m━━━━━━━━━━━━━━━━━━━━━━━━━━━━━━━━━━━━━━\u001b[0m \u001b[32m190.3/190.3 KB\u001b[0m \u001b[31m11.7 MB/s\u001b[0m eta \u001b[36m0:00:00\u001b[0m\n",
            "\u001b[2K     \u001b[90m━━━━━━━━━━━━━━━━━━━━━━━━━━━━━━━━━━━━━━━━\u001b[0m \u001b[32m41.6/41.6 KB\u001b[0m \u001b[31m2.2 MB/s\u001b[0m eta \u001b[36m0:00:00\u001b[0m\n",
            "\u001b[?25h"
          ]
        }
      ]
    },
    {
      "cell_type": "code",
      "metadata": {
        "id": "QFH8bsYnCixL"
      },
      "source": [
        "GLOBAL_SEED = 42\n",
        "\n",
        "import os\n",
        "os.environ['PYTHONHASHSEED'] = str(GLOBAL_SEED)\n",
        "import sys\n",
        "\n",
        "import pandas as pd\n",
        "import numpy as np\n",
        "from numpy import random as np_rnd\n",
        "import random as rnd\n",
        "import gc\n",
        "import datetime\n",
        "import copy\n",
        "import pickle\n",
        "from sklearn.metrics import accuracy_score, f1_score\n",
        "\n",
        "import warnings\n",
        "warnings.filterwarnings(\"ignore\")\n",
        "\n",
        "import torch\n",
        "from torch import nn\n",
        "from torch.nn import functional as F\n",
        "from torch.utils.data import Dataset, DataLoader\n",
        "from torchvision import datasets\n",
        "from torchvision.transforms import transforms\n",
        "from torch.optim import AdamW\n",
        "from transformers import get_polynomial_decay_schedule_with_warmup\n",
        "\n",
        "from einops import rearrange\n",
        "from einops.layers.torch import Rearrange\n",
        "\n",
        "device = \"cuda\" if torch.cuda.is_available() else \"cpu\""
      ],
      "execution_count": 2,
      "outputs": []
    },
    {
      "cell_type": "code",
      "source": [
        "def seed_everything(seed=42):\n",
        "    os.environ['PYTHONHASHSEED'] = str(seed)\n",
        "    # python random\n",
        "    rnd.seed(seed)\n",
        "    # numpy random\n",
        "    np_rnd.seed(seed)\n",
        "    # tf random\n",
        "    try:\n",
        "        tf_rnd.set_seed(seed)\n",
        "    except:\n",
        "        pass\n",
        "    # RAPIDS random\n",
        "    try:\n",
        "        cupy.random.seed(seed)\n",
        "    except:\n",
        "        pass\n",
        "    # pytorch random\n",
        "    try:\n",
        "        torch.manual_seed(seed)\n",
        "        torch.cuda.manual_seed(seed)\n",
        "        torch.backends.cudnn.deterministic = True\n",
        "    except:\n",
        "        pass\n",
        "\n",
        "def pickleIO(obj, src, op=\"w\"):\n",
        "    if op==\"w\":\n",
        "        with open(src, op + \"b\") as f:\n",
        "            pickle.dump(obj, f)\n",
        "    elif op==\"r\":\n",
        "        with open(src, op + \"b\") as f:\n",
        "            tmp = pickle.load(f)\n",
        "        return tmp\n",
        "    else:\n",
        "        print(\"unknown operation\")\n",
        "        return obj\n",
        "    \n",
        "def findIdx(data_x, col_names):\n",
        "    return [int(i) for i, j in enumerate(data_x) if j in col_names]\n",
        "\n",
        "def createFolder(directory):\n",
        "    try:\n",
        "        if not os.path.exists(directory):\n",
        "            os.makedirs(directory)\n",
        "    except OSError:\n",
        "        print('Error: Creating directory. ' + directory)"
      ],
      "metadata": {
        "id": "7KDYdmNdH1RK"
      },
      "execution_count": 3,
      "outputs": []
    },
    {
      "cell_type": "code",
      "source": [
        "class CFG:\n",
        "    local = False\n",
        "    debug = False\n",
        "    \n",
        "    epochs = 20\n",
        "    early_stopping_rounds = max(10, epochs // 5)\n",
        "    batch_size = 128\n",
        "    number_of_labels = 10\n",
        "    classes = ('plane', 'car', 'bird', 'cat', 'deer', 'dog', 'frog', 'horse', 'ship', 'truck')\n",
        "    eta = 5e-4\n",
        "    weight_decay = 1e-4\n",
        "\n",
        "if CFG.debug:\n",
        "    CFG.epochs = 5"
      ],
      "metadata": {
        "id": "gpuSZEW8IEeh"
      },
      "execution_count": 4,
      "outputs": []
    },
    {
      "cell_type": "markdown",
      "source": [
        "## Loading CIFAR10 Dataset"
      ],
      "metadata": {
        "id": "h-m3LndoE3BQ"
      }
    },
    {
      "cell_type": "code",
      "source": [
        "# Create an instance for training. \n",
        "# When we run this code for the first time, the CIFAR10 train dataset will be downloaded locally. \n",
        "train_ds = datasets.CIFAR10(root=\"./data\", train=True, download=True)\n",
        "train_mean = [train_ds.data[:,:,:,i].mean() for i in range(train_ds.data.shape[-1])]\n",
        "del train_ds; gc.collect()"
      ],
      "metadata": {
        "colab": {
          "base_uri": "https://localhost:8080/",
          "height": 101,
          "referenced_widgets": [
            "62ea17d5d56344379a45f0e3fd35b6a5",
            "4f257034dc754bdfb8a98abade874383",
            "fc0e9823356643a983922c6942eba0c4",
            "367299ad70d84399883ae3b9c502d64b",
            "bea8d931a87946c6946cea46096b1505",
            "010e680262ef41e29e9567b6c8dace28",
            "5d19608ed6e544c882073035218f0829",
            "c2805f82a46f4c0891c4e2dcf141de53",
            "621a71d157254a1e903d3464eae1da9a",
            "ece7cf0df3d9421dae07370d694f4a0b",
            "db720d24487d4280b7d0ad4f82a9eae8"
          ]
        },
        "id": "Th6rmDDqIswu",
        "outputId": "932ddcc9-4406-4772-e44d-00e3ecb12501"
      },
      "execution_count": 5,
      "outputs": [
        {
          "output_type": "stream",
          "name": "stdout",
          "text": [
            "Downloading https://www.cs.toronto.edu/~kriz/cifar-10-python.tar.gz to ./data/cifar-10-python.tar.gz\n"
          ]
        },
        {
          "output_type": "display_data",
          "data": {
            "text/plain": [
              "  0%|          | 0/170498071 [00:00<?, ?it/s]"
            ],
            "application/vnd.jupyter.widget-view+json": {
              "version_major": 2,
              "version_minor": 0,
              "model_id": "62ea17d5d56344379a45f0e3fd35b6a5"
            }
          },
          "metadata": {}
        },
        {
          "output_type": "stream",
          "name": "stdout",
          "text": [
            "Extracting ./data/cifar-10-python.tar.gz to ./data\n"
          ]
        },
        {
          "output_type": "execute_result",
          "data": {
            "text/plain": [
              "59"
            ]
          },
          "metadata": {},
          "execution_count": 5
        }
      ]
    },
    {
      "cell_type": "markdown",
      "source": [
        "**INFO: Use MinMax Normalization 0~1 (different from the original paper)**"
      ],
      "metadata": {
        "id": "x7OfU4l5o3X6"
      }
    },
    {
      "cell_type": "code",
      "source": [
        "# Create Train dataset loader\n",
        "train_ft = transforms.Compose([\n",
        "    transforms.ToTensor(),\n",
        "    transforms.ConvertImageDtype(torch.float32),\n",
        "    transforms.Normalize(0, 255),\n",
        "    # transforms.Normalize(train_mean, 1),\n",
        "    transforms.RandomHorizontalFlip(),\n",
        "])\n",
        "train_dl = DataLoader(\n",
        "    datasets.CIFAR10(root=\"./data\", train=True, transform=train_ft ,download=True),\n",
        "    batch_size=CFG.batch_size, shuffle=True, drop_last=True\n",
        ")\n",
        "\n",
        "# Create Test dataset loader\n",
        "test_ft = transforms.Compose([\n",
        "    transforms.ToTensor(),\n",
        "    transforms.ConvertImageDtype(torch.float32),\n",
        "    transforms.Normalize(0, 255),\n",
        "    # transforms.Normalize(train_mean, 1),\n",
        "    # transforms.RandomHorizontalFlip(),\n",
        "])\n",
        "test_dl = DataLoader(\n",
        "    datasets.CIFAR10(root=\"./data\", train=False, transform=test_ft, download=True),\n",
        "    batch_size=CFG.batch_size, shuffle=False, drop_last=False\n",
        ")\n",
        "\n",
        "print(\"The number of images in a test set is: \", len(test_dl) * CFG.batch_size)\n",
        "print(\"The number of iteration is: \", len(train_dl))"
      ],
      "metadata": {
        "colab": {
          "base_uri": "https://localhost:8080/"
        },
        "id": "DaJWD7KxLc6z",
        "outputId": "24d3d46e-4835-4056-a977-1c5014a29be7"
      },
      "execution_count": 6,
      "outputs": [
        {
          "output_type": "stream",
          "name": "stdout",
          "text": [
            "Files already downloaded and verified\n",
            "Files already downloaded and verified\n",
            "The number of images in a test set is:  10112\n",
            "The number of iteration is:  390\n"
          ]
        }
      ]
    },
    {
      "cell_type": "markdown",
      "metadata": {
        "id": "NKO1CzhyFK5D"
      },
      "source": [
        "## Create Model & Define helper functions"
      ]
    },
    {
      "cell_type": "code",
      "source": [
        "def get_optimizer_params(model, eta, weight_decay):\n",
        "    param_optimizer = list(model.named_parameters())\n",
        "    no_decay = [\"bias\", \"LayerNorm.bias\", \"LayerNorm.weight\"]\n",
        "    optimizer_parameters = [\n",
        "        # apply weight decay\n",
        "        {'params': [p for n, p in param_optimizer if not any(nd in n for nd in no_decay)],\n",
        "         'lr': eta, 'weight_decay': weight_decay},\n",
        "        # don't apply weight decay for LayerNormalization layer\n",
        "        {'params': [p for n, p in param_optimizer if any(nd in n for nd in no_decay)],\n",
        "         'lr': eta, 'weight_decay': 0.0},\n",
        "    ]\n",
        "    return optimizer_parameters\n",
        "\n",
        "def get_scheduler(optimizer, num_warmup_steps, num_training_steps):\n",
        "    scheduler = get_polynomial_decay_schedule_with_warmup(\n",
        "        optimizer, num_warmup_steps=num_warmup_steps, num_training_steps=num_training_steps, power=0.5, lr_end=1e-7\n",
        "    )\n",
        "    return scheduler\n",
        "\n",
        "class AverageMeter(object):\n",
        "    \"\"\"Computes and stores the average and current value\"\"\"\n",
        "    def __init__(self, name, fmt=':f'):\n",
        "        self.name = name\n",
        "        self.fmt = fmt\n",
        "        self.reset()\n",
        "\n",
        "    def reset(self):\n",
        "        self.val = 0\n",
        "        self.avg = 0\n",
        "        self.sum = 0\n",
        "        self.count = 0\n",
        "\n",
        "    def update(self, val, n=1):\n",
        "        self.val = val\n",
        "        self.sum += val * n\n",
        "        self.count += n\n",
        "        self.avg = self.sum / self.count\n",
        "\n",
        "    def __str__(self):\n",
        "        fmtstr = '{name} {val' + self.fmt + '} ({avg' + self.fmt + '})'\n",
        "        return fmtstr.format(**self.__dict__)"
      ],
      "metadata": {
        "id": "R__Wsv7pQP3G"
      },
      "execution_count": 7,
      "outputs": []
    },
    {
      "cell_type": "markdown",
      "source": [
        "**INFO: The model is simplified architecture from original paper**\n"
      ],
      "metadata": {
        "id": "SR-UTxhsQR5R"
      }
    },
    {
      "cell_type": "code",
      "source": [
        "img_size = 32\n",
        "base_hidden_layers = 32\n",
        "\n",
        "class DepthWiseConv(nn.Module):\n",
        "    def __init__(self, in_c, kernel=3, stride=1):\n",
        "        super(DepthWiseConv, self).__init__()\n",
        "        self.conv = nn.Sequential(\n",
        "            nn.Conv2d(in_c, in_c, kernel_size=(kernel, kernel), stride=stride, padding=\"same\" if stride == 1 else \"valid\", groups=in_c),\n",
        "            nn.BatchNorm2d(in_c),\n",
        "            nn.ReLU(),\n",
        "        )\n",
        "\n",
        "    def forward(self, x):\n",
        "        return self.conv(x)\n",
        "\n",
        "class PointWiseConv(nn.Module):\n",
        "    def __init__(self, in_c, out_c):\n",
        "        super(PointWiseConv, self).__init__()\n",
        "        self.conv = nn.Sequential(\n",
        "            nn.Conv2d(in_c, out_c, kernel_size=(1, 1), padding=\"valid\"),\n",
        "            nn.BatchNorm2d(out_c),\n",
        "            nn.ReLU(),\n",
        "        )\n",
        "\n",
        "    def forward(self, x):\n",
        "        return self.conv(x)\n",
        "\n",
        "class MobileNet(nn.Module):\n",
        "    def __init__(self):\n",
        "        super(MobileNet, self).__init__()\n",
        "        \n",
        "        target_size = img_size // 2\n",
        "        target_stride = max(1, int(np.ceil((img_size - 3 + 0) / (target_size - 1))))\n",
        "        self.conv1 = nn.Sequential(\n",
        "            nn.Conv2d(3, base_hidden_layers, kernel_size=(3, 3), stride=target_stride, padding=\"valid\"),\n",
        "            nn.BatchNorm2d(base_hidden_layers),\n",
        "            nn.ReLU(),\n",
        "        )\n",
        "\n",
        "        target_size = img_size // 4\n",
        "        target_stride = max(1, int(np.ceil((img_size // 2 - 3 + 0) / (target_size - 1))))\n",
        "        self.conv2 = nn.Sequential(\n",
        "            DepthWiseConv(base_hidden_layers),\n",
        "            PointWiseConv(base_hidden_layers, base_hidden_layers * 2),\n",
        "            DepthWiseConv(base_hidden_layers * 2, stride=target_stride),\n",
        "        )\n",
        "\n",
        "        target_size = img_size // 8\n",
        "        target_stride = max(1, int(np.ceil((img_size // 4 - 3 + 0) / (target_size - 1))))\n",
        "        self.conv3 = nn.Sequential(\n",
        "            DepthWiseConv(base_hidden_layers * 2),\n",
        "            PointWiseConv(base_hidden_layers * 2, base_hidden_layers * 4),\n",
        "            DepthWiseConv(base_hidden_layers * 4, stride=target_stride),\n",
        "        )\n",
        "\n",
        "        self.flatten = nn.Flatten()\n",
        "\n",
        "        self.fc = nn.Sequential(\n",
        "            nn.Dropout(),\n",
        "            nn.Linear(1152, 256),\n",
        "            nn.ReLU(),\n",
        "        )\n",
        "\n",
        "        self.classifier = nn.Linear(256, CFG.number_of_labels)\n",
        "\n",
        "    def forward(self, x):\n",
        "        x = self.conv1(x)\n",
        "        x = self.conv2(x)\n",
        "        x = self.conv3(x)\n",
        "        x = self.flatten(x)\n",
        "        x = self.fc(x)\n",
        "        return self.classifier(x)"
      ],
      "metadata": {
        "id": "ar8v-fLrNRhg"
      },
      "execution_count": 91,
      "outputs": []
    },
    {
      "cell_type": "markdown",
      "metadata": {
        "id": "kFj6geDUTPkl"
      },
      "source": [
        "## Training"
      ]
    },
    {
      "cell_type": "code",
      "source": [
        "def fn_training():\n",
        "    return_score_dic = []\n",
        "    best_score = np.inf\n",
        "    \n",
        "    seed_everything()\n",
        "    for epoch in range(CFG.epochs):\n",
        "        train_loss = AverageMeter('Loss', ':.4e')\n",
        "        valid_loss = AverageMeter('Loss', ':.4e')\n",
        "        train_accuracy = AverageMeter('Accuracy', ':.4e')\n",
        "        valid_accuracy = AverageMeter('Accuracy', ':.4e')\n",
        "        train_f1 = AverageMeter('F1', ':.4e')\n",
        "        valid_f1 = AverageMeter('F1', ':.4e')\n",
        "\n",
        "        model.train()\n",
        "        for feature, label in train_dl:\n",
        "            with torch.cuda.amp.autocast():\n",
        "                feature = feature.to(device)\n",
        "                label = label.to(device)\n",
        "                output = model(feature)\n",
        "                loss = criterion(output, label)\n",
        "\n",
        "            # initialization gradients to zero\n",
        "            optimizer.zero_grad()\n",
        "            # get scaled gradients by float16 (default)\n",
        "            grad_scaler.scale(loss).backward()\n",
        "            # apply original gradients (unscaling) to parameters\n",
        "            # if these gradients do not contain infs or NaNs, optimizer.step() is then called.\n",
        "            # otherwise, optimizer.step() is skipped.\n",
        "            grad_scaler.step(optimizer)\n",
        "            grad_scaler.update()\n",
        "            scheduler.step()\n",
        "            \n",
        "            train_loss.update(loss.item())\n",
        "\n",
        "            y_pred = output.argmax(axis=-1).detach().cpu().numpy()\n",
        "            y_true = label.detach().cpu().numpy()\n",
        "\n",
        "            train_accuracy.update(accuracy_score(y_true, y_pred))        \n",
        "            train_f1.update(f1_score(y_true, y_pred, average=\"macro\"))\n",
        "\n",
        "        model.eval()\n",
        "        for feature, label in test_dl:\n",
        "            with torch.no_grad():\n",
        "                feature = feature.to(device)\n",
        "                label = label.to(device)\n",
        "                output = model(feature)\n",
        "                loss = criterion(output, label)\n",
        "\n",
        "            valid_loss.update(loss.item())  \n",
        "\n",
        "            y_pred = output.argmax(axis=-1).detach().cpu().numpy()\n",
        "            y_true = label.detach().cpu().numpy()\n",
        "\n",
        "            valid_accuracy.update(accuracy_score(y_true, y_pred))        \n",
        "            valid_f1.update(f1_score(y_true, y_pred, average=\"macro\"))\n",
        "\n",
        "        score = valid_loss.avg\n",
        "        return_score_dic.append({\n",
        "            \"epoch\": epoch,\n",
        "            \"train_loss\": train_loss.avg,\n",
        "            \"valid_loss\": valid_loss.avg,\n",
        "            \"train_accuracy\": train_accuracy.avg,\n",
        "            \"valid_accuracy\": valid_accuracy.avg,\n",
        "            \"train_f1\": train_f1.avg,\n",
        "            \"valid_f1\": valid_f1.avg,  \n",
        "        })\n",
        "\n",
        "        if score < best_score:\n",
        "            best_score = copy.deepcopy(score)\n",
        "            early_stopping_cnt = 0 \n",
        "        else:\n",
        "            early_stopping_cnt += 1\n",
        "\n",
        "        if early_stopping_cnt == CFG.early_stopping_rounds:\n",
        "            print(\"INFO : Early Stopped ! (Epoch[{0}/{1}])\".format(epoch+1, CFG.epochs))  \n",
        "            break\n",
        "\n",
        "        print(f'[{epoch+1:02d}/{CFG.epochs}]:  * Train Loss {train_loss.avg:.3f} * Train Accuracy {train_accuracy.avg:.3f} * Train F1 {train_f1.avg:.3f} * Valid Loss {valid_loss.avg:.3f} * Valid Accuracy {valid_accuracy.avg:.3f} * Valid F1 {valid_f1.avg:.3f}')\n",
        "\n",
        "    return return_score_dic"
      ],
      "metadata": {
        "id": "kV41_PFCRbgE"
      },
      "execution_count": 92,
      "outputs": []
    },
    {
      "cell_type": "code",
      "metadata": {
        "id": "mQ_CXj23St6c"
      },
      "source": [
        "# model\n",
        "model = MobileNet()\n",
        "model.to(device)\n",
        "\n",
        "# optimizer & scheduler\n",
        "optimizer_parameters = get_optimizer_params(\n",
        "    model,\n",
        "    eta=CFG.eta,\n",
        "    weight_decay=CFG.weight_decay\n",
        ")\n",
        "optimizer = AdamW(optimizer_parameters, lr=CFG.eta, weight_decay=CFG.weight_decay)\n",
        "scheduler = get_scheduler(\n",
        "    optimizer,\n",
        "    num_warmup_steps=0,\n",
        "    num_training_steps=(len(train_dl) * CFG.epochs)\n",
        ")\n",
        "\n",
        "# loss function\n",
        "criterion = nn.CrossEntropyLoss()\n",
        "\n",
        "# gradient scaler for fast operation with float16\n",
        "grad_scaler = torch.cuda.amp.GradScaler()"
      ],
      "execution_count": 93,
      "outputs": []
    },
    {
      "cell_type": "code",
      "source": [
        "%%time\n",
        "\n",
        "score_dic = fn_training()"
      ],
      "metadata": {
        "colab": {
          "base_uri": "https://localhost:8080/"
        },
        "id": "F8dvyK8KSPeA",
        "outputId": "d1c81a2f-34da-4ada-bdb0-cc290b87445a"
      },
      "execution_count": 94,
      "outputs": [
        {
          "output_type": "stream",
          "name": "stdout",
          "text": [
            "[01/20]:  * Train Loss 1.687 * Train Accuracy 0.383 * Train F1 0.364 * Valid Loss 2.487 * Valid Accuracy 0.271 * Valid F1 0.211\n",
            "[02/20]:  * Train Loss 1.396 * Train Accuracy 0.494 * Train F1 0.480 * Valid Loss 1.916 * Valid Accuracy 0.332 * Valid F1 0.289\n",
            "[03/20]:  * Train Loss 1.275 * Train Accuracy 0.539 * Train F1 0.526 * Valid Loss 2.367 * Valid Accuracy 0.250 * Valid F1 0.195\n",
            "[04/20]:  * Train Loss 1.189 * Train Accuracy 0.573 * Train F1 0.560 * Valid Loss 2.035 * Valid Accuracy 0.334 * Valid F1 0.285\n",
            "[05/20]:  * Train Loss 1.122 * Train Accuracy 0.596 * Train F1 0.584 * Valid Loss 1.417 * Valid Accuracy 0.484 * Valid F1 0.468\n",
            "[06/20]:  * Train Loss 1.071 * Train Accuracy 0.618 * Train F1 0.606 * Valid Loss 1.619 * Valid Accuracy 0.427 * Valid F1 0.408\n",
            "[07/20]:  * Train Loss 1.024 * Train Accuracy 0.634 * Train F1 0.622 * Valid Loss 1.503 * Valid Accuracy 0.471 * Valid F1 0.465\n",
            "[08/20]:  * Train Loss 0.983 * Train Accuracy 0.648 * Train F1 0.638 * Valid Loss 3.220 * Valid Accuracy 0.237 * Valid F1 0.142\n",
            "[09/20]:  * Train Loss 0.952 * Train Accuracy 0.660 * Train F1 0.650 * Valid Loss 1.792 * Valid Accuracy 0.393 * Valid F1 0.322\n",
            "[10/20]:  * Train Loss 0.914 * Train Accuracy 0.674 * Train F1 0.665 * Valid Loss 1.682 * Valid Accuracy 0.451 * Valid F1 0.434\n",
            "[11/20]:  * Train Loss 0.894 * Train Accuracy 0.682 * Train F1 0.673 * Valid Loss 1.390 * Valid Accuracy 0.514 * Valid F1 0.487\n",
            "[12/20]:  * Train Loss 0.862 * Train Accuracy 0.692 * Train F1 0.683 * Valid Loss 1.853 * Valid Accuracy 0.444 * Valid F1 0.377\n",
            "[13/20]:  * Train Loss 0.849 * Train Accuracy 0.699 * Train F1 0.689 * Valid Loss 3.654 * Valid Accuracy 0.321 * Valid F1 0.233\n",
            "[14/20]:  * Train Loss 0.823 * Train Accuracy 0.707 * Train F1 0.698 * Valid Loss 1.360 * Valid Accuracy 0.520 * Valid F1 0.492\n",
            "[15/20]:  * Train Loss 0.805 * Train Accuracy 0.716 * Train F1 0.707 * Valid Loss 1.611 * Valid Accuracy 0.482 * Valid F1 0.482\n",
            "[16/20]:  * Train Loss 0.788 * Train Accuracy 0.722 * Train F1 0.713 * Valid Loss 3.491 * Valid Accuracy 0.269 * Valid F1 0.184\n",
            "[17/20]:  * Train Loss 0.774 * Train Accuracy 0.725 * Train F1 0.716 * Valid Loss 1.147 * Valid Accuracy 0.588 * Valid F1 0.572\n",
            "[18/20]:  * Train Loss 0.761 * Train Accuracy 0.731 * Train F1 0.722 * Valid Loss 1.447 * Valid Accuracy 0.525 * Valid F1 0.496\n",
            "[19/20]:  * Train Loss 0.745 * Train Accuracy 0.736 * Train F1 0.727 * Valid Loss 0.854 * Valid Accuracy 0.698 * Valid F1 0.689\n",
            "[20/20]:  * Train Loss 0.732 * Train Accuracy 0.743 * Train F1 0.735 * Valid Loss 0.753 * Valid Accuracy 0.736 * Valid F1 0.724\n",
            "CPU times: user 21min 57s, sys: 3.91 s, total: 22min 1s\n",
            "Wall time: 22min 3s\n"
          ]
        }
      ]
    },
    {
      "cell_type": "code",
      "source": [
        "pd.DataFrame(score_dic).mean().iloc[1:]"
      ],
      "metadata": {
        "colab": {
          "base_uri": "https://localhost:8080/"
        },
        "id": "kq1n5mwzbA-A",
        "outputId": "f69a34e1-d39f-405f-9a61-27495650192b"
      },
      "execution_count": 95,
      "outputs": [
        {
          "output_type": "execute_result",
          "data": {
            "text/plain": [
              "train_loss        0.982111\n",
              "valid_loss        1.879998\n",
              "train_accuracy    0.648639\n",
              "valid_accuracy    0.437287\n",
              "train_f1          0.637932\n",
              "valid_f1          0.397765\n",
              "dtype: float64"
            ]
          },
          "metadata": {},
          "execution_count": 95
        }
      ]
    },
    {
      "cell_type": "code",
      "source": [],
      "metadata": {
        "id": "_QiKLnpMQmuU"
      },
      "execution_count": 95,
      "outputs": []
    }
  ]
}
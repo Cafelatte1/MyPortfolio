{
 "cells": [
  {
   "cell_type": "code",
   "execution_count": 8,
   "metadata": {},
   "outputs": [],
   "source": [
    "import os\n",
    "import pandas as pd\n",
    "from sklearn.metrics import accuracy_score, f1_score"
   ]
  },
  {
   "cell_type": "code",
   "execution_count": 18,
   "metadata": {},
   "outputs": [],
   "source": [
    "TEST_DATA_PATH = './dataset/test/'\n",
    "HTP_LIST = ['house', 'tree', 'person']"
   ]
  },
  {
   "cell_type": "code",
   "execution_count": 19,
   "metadata": {},
   "outputs": [],
   "source": [
    "label_mapper = {\n",
    "\t\t\"house\": {\n",
    "\t\t\t\t'door_yn':{'n':0, 'y':1},\n",
    "\t\t\t\t'loc':{'left':0, 'center':1, 'right':2},\n",
    "\t\t\t\t'roof_yn':{'y':1, 'n':0},\n",
    "\t\t\t\t'window_cnt':{'absence':0, '1 or 2':1, 'more than 3':2},\n",
    "\t\t\t\t'size':{'small':0, 'middle':1, 'big':2},\n",
    "\t\t},\n",
    "        \"tree\": {\n",
    "\t\t    \"branch_yn\": {\"n\": 0, \"y\": 1},\n",
    "\t\t    \"root_yn\": {\"n\": 0, \"y\": 1},\n",
    "\t\t    \"crown_yn\": {\"n\": 0, \"y\": 1},\n",
    "\t\t    \"fruit_yn\": {\"n\": 0, \"y\": 1},\n",
    "\t\t    \"gnarl_yn\": {\"n\": 0, \"y\": 1},\n",
    "\t\t    \"loc\": {\"left\": 0, \"center\": 1, \"right\": 2},\n",
    "\t\t    \"size\": {\"small\": 0, \"middle\": 1, \"big\": 2},\n",
    "\t\t},\n",
    "        \"person\": {\n",
    "\t\t    \"eye_yn\": {\"n\": 0, \"y\": 1},\n",
    "\t\t    \"leg_yn\": {\"n\": 0, \"y\": 1},\n",
    "\t\t    \"loc\": {\"left\": 0, \"center\": 1, \"right\": 2},\n",
    "\t\t    \"mouth_yn\": {\"n\": 0, \"y\": 1},\n",
    "\t\t    \"size\": {\"small\": 0, \"middle\": 1, \"big\": 2},\n",
    "\t\t    \"arm_yn\": {\"n\": 0, \"y\": 1},\n",
    "\t\t}\n",
    "}"
   ]
  },
  {
   "cell_type": "code",
   "execution_count": 23,
   "metadata": {},
   "outputs": [],
   "source": [
    "class LoadData:\n",
    "    def load_test_data(path, htp_list):\n",
    "        test_data_list = []\n",
    "\n",
    "        for idx, htp in enumerate(htp_list):\n",
    "            test_data = pd.read_csv(f'{path}dbi_{htp}.csv')\n",
    "            test_data_list.append(test_data)\n",
    "            test_data_list[idx] = test_data_list[idx].replace(label_mapper[htp]).iloc[:, 1:]\n",
    "\n",
    "        return test_data_list\n",
    "\n",
    "    def load_pred_data(htp_list):\n",
    "        pred_data_list = []\n",
    "\n",
    "        for htp in htp_list:\n",
    "            pred_data = pd.read_csv(f'./ensemble_{htp}_output.csv')\n",
    "            pred_data = pred_data.iloc[:, 1:]\n",
    "            pred_data_list.append(pred_data)\n",
    "\n",
    "        return pred_data_list"
   ]
  },
  {
   "cell_type": "code",
   "execution_count": 24,
   "metadata": {},
   "outputs": [
    {
     "data": {
      "text/plain": [
       "[     door_yn  loc  roof_yn  window_cnt  size\n",
       " 0          1    1        0           1     1\n",
       " 1          0    1        1           2     1\n",
       " 2          1    1        1           0     1\n",
       " 3          1    1        1           0     1\n",
       " 4          0    1        0           2     2\n",
       " ..       ...  ...      ...         ...   ...\n",
       " 995        1    1        1           2     0\n",
       " 996        1    1        1           2     1\n",
       " 997        0    1        1           1     2\n",
       " 998        1    1        1           1     1\n",
       " 999        1    1        1           1     1\n",
       " \n",
       " [1000 rows x 5 columns],\n",
       "      branch_yn root_yn crown_yn fruit_yn gnarl_yn   loc  size\n",
       " 0            0       0        1        1        0     0     1\n",
       " 1            0       0        1        0        0     1     0\n",
       " 2            0       0        1        0        0     1     0\n",
       " 3            1       0        0        0        0     0     0\n",
       " 4            0       0        1        1        1     1     2\n",
       " ...        ...     ...      ...      ...      ...   ...   ...\n",
       " 996          0       1        1        0        0     1     1\n",
       " 997          0       1        1        1        0     1     1\n",
       " 998          1       1        1        1        0     1     1\n",
       " 999          1       0        1        1        0     1     1\n",
       " 1000      1001    1001     1001     1001     1001  1001  1001\n",
       " \n",
       " [1001 rows x 7 columns],\n",
       "      eye_yn  leg_yn  loc  mouth_yn  size  arm_yn\n",
       " 0         1       0    0         1     1       0\n",
       " 1         1       0    1         1     1       1\n",
       " 2         1       1    2         0     1       1\n",
       " 3         1       1    1         1     1       1\n",
       " 4         1       1    2         1     1       1\n",
       " ..      ...     ...  ...       ...   ...     ...\n",
       " 995       1       1    1         1     1       1\n",
       " 996       1       1    0         1     0       1\n",
       " 997       1       1    1         1     2       1\n",
       " 998       1       1    1         1     0       0\n",
       " 999       1       1    1         1     0       1\n",
       " \n",
       " [1000 rows x 6 columns]]"
      ]
     },
     "execution_count": 24,
     "metadata": {},
     "output_type": "execute_result"
    }
   ],
   "source": [
    "LoadData.load_test_data(TEST_DATA_PATH, HTP_LIST)"
   ]
  },
  {
   "cell_type": "code",
   "execution_count": 22,
   "metadata": {},
   "outputs": [
    {
     "data": {
      "text/plain": [
       "[   door_yn  loc  roof_yn  window_cnt  size\n",
       " 0        1    1        1           1     0\n",
       " 1        1    1        1           1     1\n",
       " 2        1    0        1           1     0\n",
       " 3        0    1        1           1     0\n",
       " 4        1    1        1           0     0\n",
       " 5        0    1        1           2     0\n",
       " 6        1    1        1           1     0\n",
       " 7        1    1        1           1     1\n",
       " 8        1    1        1           2     0\n",
       " 9        1    1        1           1     0,\n",
       "    branch_yn  root_yn  crown_yn  fruit_yn  gnarl_yn  loc  size\n",
       " 0          0        1         1         0         0    1     0\n",
       " 1          0        0         1         1         1    1     0\n",
       " 2          1        1         1         0         1    1     0\n",
       " 3          1        0         1         0         0    1     0\n",
       " 4          0        0         1         0         0    1     0\n",
       " 5          1        1         1         0         0    1     0\n",
       " 6          0        0         1         0         0    1     0\n",
       " 7          0        0         1         0         0    1     0\n",
       " 8          1        1         1         1         1    1     0\n",
       " 9          1        0         0         0         0    1     0,\n",
       "    eye_yn  leg_yn  loc  mouth_yn  size  arm_yn\n",
       " 0       1       1    1         1     0       1\n",
       " 1       1       1    1         1     0       1\n",
       " 2       1       1    1         1     0       1\n",
       " 3       1       1    1         1     1       1\n",
       " 4       1       1    1         1     0       1\n",
       " 5       1       1    1         1     0       1\n",
       " 6       1       1    1         1     0       0\n",
       " 7       1       1    1         0     0       0\n",
       " 8       1       1    1         1     0       1\n",
       " 9       1       1    1         1     0       1]"
      ]
     },
     "execution_count": 22,
     "metadata": {},
     "output_type": "execute_result"
    }
   ],
   "source": [
    "LoadData.load_pred_data(HTP_LIST)"
   ]
  },
  {
   "cell_type": "code",
   "execution_count": 8,
   "metadata": {},
   "outputs": [
    {
     "name": "stdout",
     "output_type": "stream",
     "text": [
      "house\n",
      "Feature: door_yn\n",
      "Accuracy: 0.9000\n",
      "F1 Score (Macro average): 0.8667\n",
      "----------------------------------------\n",
      "Feature: loc\n",
      "Accuracy: 1.0000\n",
      "F1 Score (Macro average): 1.0000\n",
      "----------------------------------------\n",
      "Feature: roof_yn\n",
      "Accuracy: 1.0000\n",
      "F1 Score (Macro average): 1.0000\n",
      "----------------------------------------\n",
      "Feature: window_cnt\n",
      "Accuracy: 1.0000\n",
      "F1 Score (Macro average): 1.0000\n",
      "----------------------------------------\n",
      "Feature: size\n",
      "Accuracy: 0.5000\n",
      "F1 Score (Macro average): 0.2564\n",
      "----------------------------------------\n",
      "tree\n",
      "Feature: branch_yn\n",
      "Accuracy: 0.8000\n",
      "F1 Score (Macro average): 0.7917\n",
      "----------------------------------------\n",
      "Feature: root_yn\n",
      "Accuracy: 0.9000\n",
      "F1 Score (Macro average): 0.8901\n",
      "----------------------------------------\n",
      "Feature: crown_yn\n",
      "Accuracy: 1.0000\n",
      "F1 Score (Macro average): 1.0000\n",
      "----------------------------------------\n",
      "Feature: fruit_yn\n",
      "Accuracy: 0.9000\n",
      "F1 Score (Macro average): 0.8667\n",
      "----------------------------------------\n",
      "Feature: gnarl_yn\n",
      "Accuracy: 0.9000\n",
      "F1 Score (Macro average): 0.8901\n",
      "----------------------------------------\n",
      "Feature: loc\n",
      "Accuracy: 1.0000\n",
      "F1 Score (Macro average): 1.0000\n",
      "----------------------------------------\n",
      "Feature: size\n",
      "Accuracy: 0.2000\n",
      "F1 Score (Macro average): 0.1111\n",
      "----------------------------------------\n",
      "person\n",
      "Feature: eye_yn\n",
      "Accuracy: 1.0000\n",
      "F1 Score (Macro average): 1.0000\n",
      "----------------------------------------\n",
      "Feature: leg_yn\n",
      "Accuracy: 1.0000\n",
      "F1 Score (Macro average): 1.0000\n",
      "----------------------------------------\n",
      "Feature: loc\n",
      "Accuracy: 1.0000\n",
      "F1 Score (Macro average): 1.0000\n",
      "----------------------------------------\n",
      "Feature: mouth_yn\n",
      "Accuracy: 1.0000\n",
      "F1 Score (Macro average): 1.0000\n",
      "----------------------------------------\n",
      "Feature: size\n",
      "Accuracy: 0.3000\n",
      "F1 Score (Macro average): 0.1667\n",
      "----------------------------------------\n",
      "Feature: arm_yn\n",
      "Accuracy: 1.0000\n",
      "F1 Score (Macro average): 1.0000\n",
      "----------------------------------------\n",
      "Total Accuracy Average:0.8592\n",
      "Total F1 Score Average:0.8262\n"
     ]
    }
   ],
   "source": [
    "accuracy_list = []\n",
    "f1_list = []\n",
    "for i in range(len(HTP_LIST)):\n",
    "    accuracy_sum = 0\n",
    "    f1_sum = 0\n",
    "    print(f'{HTP_LIST[i]}')\n",
    "    for idx, column in enumerate(LoadData.load_test_data(TEST_DATA_PATH, HTP_LIST)[i].columns):\n",
    "        accuracy = accuracy_score(LoadData.load_test_data(TEST_DATA_PATH, HTP_LIST)[i][column], LoadData.load_pred_data(HTP_LIST)[i][column])\n",
    "        f1 = f1_score(LoadData.load_test_data(TEST_DATA_PATH, HTP_LIST)[i][column], LoadData.load_pred_data(HTP_LIST)[i][column], average='macro')\n",
    "        accuracy_sum = accuracy_sum + accuracy\n",
    "        f1_sum = f1_sum + f1\n",
    "        print(f\"Feature: {column}\")\n",
    "        print(f\"Accuracy: {accuracy:.4f}\")\n",
    "        print(f\"F1 Score (Macro average): {f1:.4f}\")\n",
    "        print(\"-\" * 40)\n",
    "\n",
    "    accuracy_list.append(accuracy_sum / (idx + 1))\n",
    "    f1_list.append(f1_sum / (idx + 1))\n",
    "\n",
    "htp_accuracy_average = sum(accuracy_list) / len(accuracy_list)\n",
    "htp_f1_average = sum(f1_list) / len(f1_list)\n",
    "print(f'Total Accuracy Average:{htp_accuracy_average:.4f}')\n",
    "print(f'Total F1 Score Average:{htp_f1_average:.4f}')"
   ]
  },
  {
   "cell_type": "code",
   "execution_count": null,
   "metadata": {},
   "outputs": [],
   "source": [
    "83 + 83 + 82"
   ]
  },
  {
   "cell_type": "code",
   "execution_count": null,
   "metadata": {},
   "outputs": [],
   "source": [
    "83 + 83 + 82\n",
    "84 + 86 + 82\n",
    "93 + 90 + 89"
   ]
  },
  {
   "cell_type": "code",
   "execution_count": null,
   "metadata": {},
   "outputs": [],
   "source": []
  },
  {
   "cell_type": "code",
   "execution_count": null,
   "metadata": {},
   "outputs": [],
   "source": []
  }
 ],
 "metadata": {
  "kernelspec": {
   "display_name": "torch",
   "language": "python",
   "name": "python3"
  },
  "language_info": {
   "codemirror_mode": {
    "name": "ipython",
    "version": 3
   },
   "file_extension": ".py",
   "mimetype": "text/x-python",
   "name": "python",
   "nbconvert_exporter": "python",
   "pygments_lexer": "ipython3",
   "version": "3.7.16"
  },
  "orig_nbformat": 4
 },
 "nbformat": 4,
 "nbformat_minor": 2
}

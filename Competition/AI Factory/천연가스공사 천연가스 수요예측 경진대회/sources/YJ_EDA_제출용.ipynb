{
 "cells": [
  {
   "cell_type": "markdown",
   "id": "94a70128-e47a-49f7-9b54-3f762017d55a",
   "metadata": {},
   "source": [
    "## 1. Setup"
   ]
  },
  {
   "cell_type": "code",
   "execution_count": 42,
   "id": "77f35542-44c8-4a0a-923f-04872f0a2b27",
   "metadata": {},
   "outputs": [],
   "source": [
    "import os\n",
    "import sys\n",
    "sys.path.append(\"C:\\\\Miniconda\\\\envs\\\\kogas_env1\\\\Lib\\\\site-packages\")\n",
    "import shutil\n",
    "import datetime\n",
    "import random as rnd\n",
    "from glob import glob\n",
    "\n",
    "import numpy as np\n",
    "from numpy import random as np_rnd\n",
    "import pandas as pd\n",
    "from scipy.stats import linregress\n",
    "from scipy.stats import trim_mean\n",
    "\n",
    "from sklearn.linear_model import LinearRegression, ElasticNet\n",
    "from sklearn.multioutput import RegressorChain\n",
    "from sklearn.model_selection import TimeSeriesSplit\n",
    "from sklearn.preprocessing import StandardScaler, OneHotEncoder\n",
    "from sklearn import metrics as skl_merics\n",
    "\n",
    "from matplotlib import font_manager, rc\n",
    "import matplotlib.pyplot as plt\n",
    "# import seaborn as sns\n",
    "\n",
    "import warnings\n",
    "warnings.simplefilter(action=\"ignore\")\n",
    "\n",
    "pd.set_option(\"display.max_rows\", 500)\n",
    "# pd.set_option(\"display.height\", 500)\n",
    "\n",
    "plt.rcParams[\"axes.unicode_minus\"] = False\n",
    "font_path = \"C:\\\\Users\\\\kogas\\\\Desktop\\\\nanum-square\\\\NanumSquareR.ttf\"\n",
    "font_name = font_manager.FontProperties(fname=font_path).get_name()\n",
    "rc('font', family=font_name)"
   ]
  },
  {
   "cell_type": "code",
   "execution_count": 43,
   "id": "3ac902c6-adcc-4641-a3cb-c4dee62fe8c6",
   "metadata": {},
   "outputs": [],
   "source": [
    "def seed_everything(seed=42):\n",
    "    os.environ[\"PYTHONHASHSEED\"] = str(seed)\n",
    "    rnd.seed(seed)\n",
    "    np_rnd.seed(seed)\n",
    "\n",
    "def diff(x1, x2):\n",
    "    x2 = set(x2)\n",
    "    return [i for i in x1 if i not in x2]"
   ]
  },
  {
   "cell_type": "code",
   "execution_count": 44,
   "id": "08659b53-0fb6-41b8-98a0-e282db9b70fd",
   "metadata": {},
   "outputs": [],
   "source": [
    "folder_path = \"C:\\\\Users\\\\kogas\\\\Desktop\\\\jupyter_root_folder\\\\YJ_notebooks\\\\\"\n",
    "# C:\\Users\\kogas\\Desktop\\jupyter_root_folder\\YJ_notebooks\n",
    "seed_everything()"
   ]
  },
  {
   "cell_type": "markdown",
   "id": "67f912e3-f890-44af-a59c-e8e7e43aae37",
   "metadata": {},
   "source": [
    "**data loading**"
   ]
  },
  {
   "cell_type": "code",
   "execution_count": 45,
   "id": "d839bab0-71d6-4f02-9f24-cc470cd308b9",
   "metadata": {},
   "outputs": [],
   "source": [
    "df_supply = pd.read_csv(folder_path + '\\\\dataset\\\\월별공급량및비중.csv')\n",
    "df_supply.columns = [\"year\", \"month\", \"target_civil\", \"target_ind\", \"total\", \"weight_civil\", \"weight_ind\"]\n",
    "df_indust = pd.read_csv(folder_path + '\\\\dataset\\\\제조업 부가가치(분기별).csv')\n",
    "df_indust.columns = [\"year\", \"quarter\", \"qva\"]\n",
    "df_commer = pd.read_csv(folder_path + '\\\\dataset\\\\상업용 상대가격(기준=2015).csv')\n",
    "df_commer.columns = [\"year\", \"month\", \"relative_price\", \"gas_price\", \"oil_price\"]"
   ]
  },
  {
   "cell_type": "markdown",
   "id": "58b01014-c1f2-4f3c-bd91-d167a2fa2783",
   "metadata": {},
   "source": [
    "**시간 관련 feature 입력**"
   ]
  },
  {
   "cell_type": "code",
   "execution_count": 46,
   "id": "48135518-447f-4ba9-a44c-ccdaaeaec299",
   "metadata": {},
   "outputs": [],
   "source": [
    "quarter_dic = {\n",
    "    \"Q1\": [1, 2, 3],\n",
    "    \"Q2\": [4, 5, 6],\n",
    "    \"Q3\": [7, 8, 9],\n",
    "    \"Q4\": [10, 11, 12],\n",
    "}\n",
    "# df_indust 에는 쿼터가 없기 때문에, 다른 데이터에 쿼터를 달아준다\n",
    "month_dic = {\n",
    "    1 : 'Q1',\n",
    "    2 : 'Q1',\n",
    "    3 : 'Q1',\n",
    "    4 : 'Q2',\n",
    "    5 : 'Q2',\n",
    "    6 : 'Q2',\n",
    "    7 : 'Q3',\n",
    "    8 : 'Q3',\n",
    "    9 : 'Q3',\n",
    "    10 : 'Q4',\n",
    "    11 : 'Q4',\n",
    "    12 : 'Q4'\n",
    "}"
   ]
  },
  {
   "cell_type": "code",
   "execution_count": 47,
   "id": "43cd6203-9666-4c4b-a3ca-f8d8da055963",
   "metadata": {},
   "outputs": [],
   "source": [
    "df_supply[\"quarter\"] = df_supply[\"month\"].apply(lambda x: month_dic[x])\n",
    "df_indust[\"month\"] = df_indust[\"quarter\"].apply(lambda x: quarter_dic[x])\n",
    "df_commer[\"quarter\"] = df_commer[\"month\"].apply(lambda x: month_dic[x])"
   ]
  },
  {
   "cell_type": "code",
   "execution_count": 48,
   "id": "5fd9d915-823a-4f29-a3fa-f6e850cbeeb3",
   "metadata": {},
   "outputs": [
    {
     "data": {
      "text/html": [
       "<div>\n",
       "<style scoped>\n",
       "    .dataframe tbody tr th:only-of-type {\n",
       "        vertical-align: middle;\n",
       "    }\n",
       "\n",
       "    .dataframe tbody tr th {\n",
       "        vertical-align: top;\n",
       "    }\n",
       "\n",
       "    .dataframe thead th {\n",
       "        text-align: right;\n",
       "    }\n",
       "</style>\n",
       "<table border=\"1\" class=\"dataframe\">\n",
       "  <thead>\n",
       "    <tr style=\"text-align: right;\">\n",
       "      <th></th>\n",
       "      <th>year</th>\n",
       "      <th>month</th>\n",
       "      <th>target_civil</th>\n",
       "      <th>target_ind</th>\n",
       "      <th>total</th>\n",
       "      <th>weight_civil</th>\n",
       "      <th>weight_ind</th>\n",
       "      <th>quarter</th>\n",
       "    </tr>\n",
       "  </thead>\n",
       "  <tbody>\n",
       "    <tr>\n",
       "      <th>0</th>\n",
       "      <td>1996</td>\n",
       "      <td>1</td>\n",
       "      <td>605519.0</td>\n",
       "      <td>83809.0</td>\n",
       "      <td>689328.0</td>\n",
       "      <td>0.87842</td>\n",
       "      <td>0.12158</td>\n",
       "      <td>Q1</td>\n",
       "    </tr>\n",
       "    <tr>\n",
       "      <th>1</th>\n",
       "      <td>1996</td>\n",
       "      <td>2</td>\n",
       "      <td>566323.0</td>\n",
       "      <td>70427.0</td>\n",
       "      <td>636750.0</td>\n",
       "      <td>0.88940</td>\n",
       "      <td>0.11060</td>\n",
       "      <td>Q1</td>\n",
       "    </tr>\n",
       "    <tr>\n",
       "      <th>2</th>\n",
       "      <td>1996</td>\n",
       "      <td>3</td>\n",
       "      <td>477514.0</td>\n",
       "      <td>62652.0</td>\n",
       "      <td>540166.0</td>\n",
       "      <td>0.88401</td>\n",
       "      <td>0.11599</td>\n",
       "      <td>Q1</td>\n",
       "    </tr>\n",
       "    <tr>\n",
       "      <th>3</th>\n",
       "      <td>1996</td>\n",
       "      <td>4</td>\n",
       "      <td>337794.0</td>\n",
       "      <td>47050.0</td>\n",
       "      <td>384844.0</td>\n",
       "      <td>0.87774</td>\n",
       "      <td>0.12226</td>\n",
       "      <td>Q2</td>\n",
       "    </tr>\n",
       "    <tr>\n",
       "      <th>4</th>\n",
       "      <td>1996</td>\n",
       "      <td>5</td>\n",
       "      <td>184522.0</td>\n",
       "      <td>30709.0</td>\n",
       "      <td>215231.0</td>\n",
       "      <td>0.85732</td>\n",
       "      <td>0.14268</td>\n",
       "      <td>Q2</td>\n",
       "    </tr>\n",
       "  </tbody>\n",
       "</table>\n",
       "</div>"
      ],
      "text/plain": [
       "   year  month  target_civil  target_ind     total  weight_civil  weight_ind  \\\n",
       "0  1996      1      605519.0     83809.0  689328.0       0.87842     0.12158   \n",
       "1  1996      2      566323.0     70427.0  636750.0       0.88940     0.11060   \n",
       "2  1996      3      477514.0     62652.0  540166.0       0.88401     0.11599   \n",
       "3  1996      4      337794.0     47050.0  384844.0       0.87774     0.12226   \n",
       "4  1996      5      184522.0     30709.0  215231.0       0.85732     0.14268   \n",
       "\n",
       "  quarter  \n",
       "0      Q1  \n",
       "1      Q1  \n",
       "2      Q1  \n",
       "3      Q2  \n",
       "4      Q2  "
      ]
     },
     "execution_count": 48,
     "metadata": {},
     "output_type": "execute_result"
    }
   ],
   "source": [
    "df_supply.head()"
   ]
  },
  {
   "cell_type": "code",
   "execution_count": 49,
   "id": "ddbc3604-114d-4078-a1f8-616703e1cb1b",
   "metadata": {},
   "outputs": [
    {
     "data": {
      "text/html": [
       "<div>\n",
       "<style scoped>\n",
       "    .dataframe tbody tr th:only-of-type {\n",
       "        vertical-align: middle;\n",
       "    }\n",
       "\n",
       "    .dataframe tbody tr th {\n",
       "        vertical-align: top;\n",
       "    }\n",
       "\n",
       "    .dataframe thead th {\n",
       "        text-align: right;\n",
       "    }\n",
       "</style>\n",
       "<table border=\"1\" class=\"dataframe\">\n",
       "  <thead>\n",
       "    <tr style=\"text-align: right;\">\n",
       "      <th></th>\n",
       "      <th>year</th>\n",
       "      <th>quarter</th>\n",
       "      <th>qva</th>\n",
       "      <th>month</th>\n",
       "    </tr>\n",
       "  </thead>\n",
       "  <tbody>\n",
       "    <tr>\n",
       "      <th>0</th>\n",
       "      <td>1996</td>\n",
       "      <td>Q1</td>\n",
       "      <td>36550.3</td>\n",
       "      <td>[1, 2, 3]</td>\n",
       "    </tr>\n",
       "    <tr>\n",
       "      <th>1</th>\n",
       "      <td>1996</td>\n",
       "      <td>Q2</td>\n",
       "      <td>37152.4</td>\n",
       "      <td>[4, 5, 6]</td>\n",
       "    </tr>\n",
       "    <tr>\n",
       "      <th>2</th>\n",
       "      <td>1996</td>\n",
       "      <td>Q3</td>\n",
       "      <td>37792.4</td>\n",
       "      <td>[7, 8, 9]</td>\n",
       "    </tr>\n",
       "    <tr>\n",
       "      <th>3</th>\n",
       "      <td>1996</td>\n",
       "      <td>Q4</td>\n",
       "      <td>38372.4</td>\n",
       "      <td>[10, 11, 12]</td>\n",
       "    </tr>\n",
       "    <tr>\n",
       "      <th>4</th>\n",
       "      <td>1997</td>\n",
       "      <td>Q1</td>\n",
       "      <td>38710.8</td>\n",
       "      <td>[1, 2, 3]</td>\n",
       "    </tr>\n",
       "  </tbody>\n",
       "</table>\n",
       "</div>"
      ],
      "text/plain": [
       "   year quarter      qva         month\n",
       "0  1996      Q1  36550.3     [1, 2, 3]\n",
       "1  1996      Q2  37152.4     [4, 5, 6]\n",
       "2  1996      Q3  37792.4     [7, 8, 9]\n",
       "3  1996      Q4  38372.4  [10, 11, 12]\n",
       "4  1997      Q1  38710.8     [1, 2, 3]"
      ]
     },
     "execution_count": 49,
     "metadata": {},
     "output_type": "execute_result"
    }
   ],
   "source": [
    "df_indust.head()"
   ]
  },
  {
   "cell_type": "code",
   "execution_count": 50,
   "id": "97796254-abdb-4336-b83c-7ec317feb136",
   "metadata": {},
   "outputs": [],
   "source": [
    "df_indust = df_indust.explode(\"month\")\n",
    "df_indust[\"qva\"] /= 3"
   ]
  },
  {
   "cell_type": "code",
   "execution_count": 51,
   "id": "623324c9-8c94-4fd0-a0d4-3bfa2785391f",
   "metadata": {},
   "outputs": [
    {
     "data": {
      "text/html": [
       "<div>\n",
       "<style scoped>\n",
       "    .dataframe tbody tr th:only-of-type {\n",
       "        vertical-align: middle;\n",
       "    }\n",
       "\n",
       "    .dataframe tbody tr th {\n",
       "        vertical-align: top;\n",
       "    }\n",
       "\n",
       "    .dataframe thead th {\n",
       "        text-align: right;\n",
       "    }\n",
       "</style>\n",
       "<table border=\"1\" class=\"dataframe\">\n",
       "  <thead>\n",
       "    <tr style=\"text-align: right;\">\n",
       "      <th></th>\n",
       "      <th>year</th>\n",
       "      <th>quarter</th>\n",
       "      <th>qva</th>\n",
       "      <th>month</th>\n",
       "    </tr>\n",
       "  </thead>\n",
       "  <tbody>\n",
       "    <tr>\n",
       "      <th>0</th>\n",
       "      <td>1996</td>\n",
       "      <td>Q1</td>\n",
       "      <td>12183.433333</td>\n",
       "      <td>1</td>\n",
       "    </tr>\n",
       "    <tr>\n",
       "      <th>0</th>\n",
       "      <td>1996</td>\n",
       "      <td>Q1</td>\n",
       "      <td>12183.433333</td>\n",
       "      <td>2</td>\n",
       "    </tr>\n",
       "    <tr>\n",
       "      <th>0</th>\n",
       "      <td>1996</td>\n",
       "      <td>Q1</td>\n",
       "      <td>12183.433333</td>\n",
       "      <td>3</td>\n",
       "    </tr>\n",
       "    <tr>\n",
       "      <th>1</th>\n",
       "      <td>1996</td>\n",
       "      <td>Q2</td>\n",
       "      <td>12384.133333</td>\n",
       "      <td>4</td>\n",
       "    </tr>\n",
       "    <tr>\n",
       "      <th>1</th>\n",
       "      <td>1996</td>\n",
       "      <td>Q2</td>\n",
       "      <td>12384.133333</td>\n",
       "      <td>5</td>\n",
       "    </tr>\n",
       "  </tbody>\n",
       "</table>\n",
       "</div>"
      ],
      "text/plain": [
       "   year quarter           qva month\n",
       "0  1996      Q1  12183.433333     1\n",
       "0  1996      Q1  12183.433333     2\n",
       "0  1996      Q1  12183.433333     3\n",
       "1  1996      Q2  12384.133333     4\n",
       "1  1996      Q2  12384.133333     5"
      ]
     },
     "execution_count": 51,
     "metadata": {},
     "output_type": "execute_result"
    }
   ],
   "source": [
    "df_indust.head()"
   ]
  },
  {
   "cell_type": "code",
   "execution_count": 52,
   "id": "2086536b-d3d0-444c-b3ab-90cf850e7fd3",
   "metadata": {},
   "outputs": [
    {
     "data": {
      "text/html": [
       "<div>\n",
       "<style scoped>\n",
       "    .dataframe tbody tr th:only-of-type {\n",
       "        vertical-align: middle;\n",
       "    }\n",
       "\n",
       "    .dataframe tbody tr th {\n",
       "        vertical-align: top;\n",
       "    }\n",
       "\n",
       "    .dataframe thead th {\n",
       "        text-align: right;\n",
       "    }\n",
       "</style>\n",
       "<table border=\"1\" class=\"dataframe\">\n",
       "  <thead>\n",
       "    <tr style=\"text-align: right;\">\n",
       "      <th></th>\n",
       "      <th>year</th>\n",
       "      <th>month</th>\n",
       "      <th>relative_price</th>\n",
       "      <th>gas_price</th>\n",
       "      <th>oil_price</th>\n",
       "      <th>quarter</th>\n",
       "    </tr>\n",
       "  </thead>\n",
       "  <tbody>\n",
       "    <tr>\n",
       "      <th>0</th>\n",
       "      <td>1996</td>\n",
       "      <td>1</td>\n",
       "      <td>0.97</td>\n",
       "      <td>26.94</td>\n",
       "      <td>27.86</td>\n",
       "      <td>Q1</td>\n",
       "    </tr>\n",
       "    <tr>\n",
       "      <th>1</th>\n",
       "      <td>1996</td>\n",
       "      <td>2</td>\n",
       "      <td>0.93</td>\n",
       "      <td>26.94</td>\n",
       "      <td>29.04</td>\n",
       "      <td>Q1</td>\n",
       "    </tr>\n",
       "    <tr>\n",
       "      <th>2</th>\n",
       "      <td>1996</td>\n",
       "      <td>3</td>\n",
       "      <td>0.96</td>\n",
       "      <td>26.94</td>\n",
       "      <td>27.99</td>\n",
       "      <td>Q1</td>\n",
       "    </tr>\n",
       "    <tr>\n",
       "      <th>3</th>\n",
       "      <td>1996</td>\n",
       "      <td>4</td>\n",
       "      <td>0.94</td>\n",
       "      <td>26.94</td>\n",
       "      <td>28.74</td>\n",
       "      <td>Q2</td>\n",
       "    </tr>\n",
       "    <tr>\n",
       "      <th>4</th>\n",
       "      <td>1996</td>\n",
       "      <td>5</td>\n",
       "      <td>0.92</td>\n",
       "      <td>26.94</td>\n",
       "      <td>29.18</td>\n",
       "      <td>Q2</td>\n",
       "    </tr>\n",
       "  </tbody>\n",
       "</table>\n",
       "</div>"
      ],
      "text/plain": [
       "   year  month  relative_price  gas_price  oil_price quarter\n",
       "0  1996      1            0.97      26.94      27.86      Q1\n",
       "1  1996      2            0.93      26.94      29.04      Q1\n",
       "2  1996      3            0.96      26.94      27.99      Q1\n",
       "3  1996      4            0.94      26.94      28.74      Q2\n",
       "4  1996      5            0.92      26.94      29.18      Q2"
      ]
     },
     "execution_count": 52,
     "metadata": {},
     "output_type": "execute_result"
    }
   ],
   "source": [
    "df_commer.head()"
   ]
  },
  {
   "cell_type": "code",
   "execution_count": 53,
   "id": "4bd407c4-e025-405e-8c8f-3365fef4349d",
   "metadata": {},
   "outputs": [],
   "source": [
    "df_full = df_supply[[\"year\", \"quarter\", \"month\"]]\n",
    "concat_list = [df_supply, df_indust, df_commer]\n",
    "for i in concat_list:  \n",
    "    df_full = pd.merge(df_full, i, on=[\"year\", \"quarter\", \"month\"], how=\"left\")"
   ]
  },
  {
   "cell_type": "code",
   "execution_count": 54,
   "id": "7415947f-5cf1-42c5-812a-8168f7004861",
   "metadata": {},
   "outputs": [],
   "source": [
    "# df_full.columns = [\"year\", \"month\", \"target_civil\", \"target_ind\", \"total\", \"weight_civil\", \"weight_ind\", \"quarter\", \"qva\", \"qva_norm2015\", \"relative_price\", \"price_gas\", \"price_oil\"]\n",
    "df_full = df_full.drop([\"weight_ind\", \"total\"], axis=1)\n",
    "# df_test.columns = [\"year\", \"month\", \"target_civil\", \"target_ind\"]"
   ]
  },
  {
   "cell_type": "code",
   "execution_count": 55,
   "id": "73a4a157-a690-4878-a0c4-b045c284c89c",
   "metadata": {},
   "outputs": [
    {
     "name": "stdout",
     "output_type": "stream",
     "text": [
      "<class 'pandas.core.frame.DataFrame'>\n",
      "Int64Index: 300 entries, 0 to 299\n",
      "Data columns (total 10 columns):\n",
      " #   Column          Non-Null Count  Dtype  \n",
      "---  ------          --------------  -----  \n",
      " 0   year            300 non-null    int64  \n",
      " 1   quarter         300 non-null    object \n",
      " 2   month           300 non-null    object \n",
      " 3   target_civil    300 non-null    float64\n",
      " 4   target_ind      300 non-null    float64\n",
      " 5   weight_civil    300 non-null    float64\n",
      " 6   qva             300 non-null    float64\n",
      " 7   relative_price  300 non-null    float64\n",
      " 8   gas_price       300 non-null    float64\n",
      " 9   oil_price       300 non-null    float64\n",
      "dtypes: float64(7), int64(1), object(2)\n",
      "memory usage: 25.8+ KB\n"
     ]
    }
   ],
   "source": [
    "df_full.info()"
   ]
  },
  {
   "cell_type": "code",
   "execution_count": 56,
   "id": "58bca13e-4cff-4801-a313-09434f9afc10",
   "metadata": {},
   "outputs": [
    {
     "data": {
      "text/html": [
       "<div>\n",
       "<style scoped>\n",
       "    .dataframe tbody tr th:only-of-type {\n",
       "        vertical-align: middle;\n",
       "    }\n",
       "\n",
       "    .dataframe tbody tr th {\n",
       "        vertical-align: top;\n",
       "    }\n",
       "\n",
       "    .dataframe thead th {\n",
       "        text-align: right;\n",
       "    }\n",
       "</style>\n",
       "<table border=\"1\" class=\"dataframe\">\n",
       "  <thead>\n",
       "    <tr style=\"text-align: right;\">\n",
       "      <th></th>\n",
       "      <th>year</th>\n",
       "      <th>quarter</th>\n",
       "      <th>month</th>\n",
       "      <th>target_civil</th>\n",
       "      <th>target_ind</th>\n",
       "      <th>weight_civil</th>\n",
       "      <th>qva</th>\n",
       "      <th>relative_price</th>\n",
       "      <th>gas_price</th>\n",
       "      <th>oil_price</th>\n",
       "    </tr>\n",
       "  </thead>\n",
       "  <tbody>\n",
       "    <tr>\n",
       "      <th>0</th>\n",
       "      <td>1996</td>\n",
       "      <td>Q1</td>\n",
       "      <td>1</td>\n",
       "      <td>605519.0</td>\n",
       "      <td>83809.0</td>\n",
       "      <td>0.87842</td>\n",
       "      <td>12183.433333</td>\n",
       "      <td>0.97</td>\n",
       "      <td>26.94</td>\n",
       "      <td>27.86</td>\n",
       "    </tr>\n",
       "    <tr>\n",
       "      <th>1</th>\n",
       "      <td>1996</td>\n",
       "      <td>Q1</td>\n",
       "      <td>2</td>\n",
       "      <td>566323.0</td>\n",
       "      <td>70427.0</td>\n",
       "      <td>0.88940</td>\n",
       "      <td>12183.433333</td>\n",
       "      <td>0.93</td>\n",
       "      <td>26.94</td>\n",
       "      <td>29.04</td>\n",
       "    </tr>\n",
       "    <tr>\n",
       "      <th>2</th>\n",
       "      <td>1996</td>\n",
       "      <td>Q1</td>\n",
       "      <td>3</td>\n",
       "      <td>477514.0</td>\n",
       "      <td>62652.0</td>\n",
       "      <td>0.88401</td>\n",
       "      <td>12183.433333</td>\n",
       "      <td>0.96</td>\n",
       "      <td>26.94</td>\n",
       "      <td>27.99</td>\n",
       "    </tr>\n",
       "    <tr>\n",
       "      <th>3</th>\n",
       "      <td>1996</td>\n",
       "      <td>Q2</td>\n",
       "      <td>4</td>\n",
       "      <td>337794.0</td>\n",
       "      <td>47050.0</td>\n",
       "      <td>0.87774</td>\n",
       "      <td>12384.133333</td>\n",
       "      <td>0.94</td>\n",
       "      <td>26.94</td>\n",
       "      <td>28.74</td>\n",
       "    </tr>\n",
       "    <tr>\n",
       "      <th>4</th>\n",
       "      <td>1996</td>\n",
       "      <td>Q2</td>\n",
       "      <td>5</td>\n",
       "      <td>184522.0</td>\n",
       "      <td>30709.0</td>\n",
       "      <td>0.85732</td>\n",
       "      <td>12384.133333</td>\n",
       "      <td>0.92</td>\n",
       "      <td>26.94</td>\n",
       "      <td>29.18</td>\n",
       "    </tr>\n",
       "  </tbody>\n",
       "</table>\n",
       "</div>"
      ],
      "text/plain": [
       "   year quarter month  target_civil  target_ind  weight_civil           qva  \\\n",
       "0  1996      Q1     1      605519.0     83809.0       0.87842  12183.433333   \n",
       "1  1996      Q1     2      566323.0     70427.0       0.88940  12183.433333   \n",
       "2  1996      Q1     3      477514.0     62652.0       0.88401  12183.433333   \n",
       "3  1996      Q2     4      337794.0     47050.0       0.87774  12384.133333   \n",
       "4  1996      Q2     5      184522.0     30709.0       0.85732  12384.133333   \n",
       "\n",
       "   relative_price  gas_price  oil_price  \n",
       "0            0.97      26.94      27.86  \n",
       "1            0.93      26.94      29.04  \n",
       "2            0.96      26.94      27.99  \n",
       "3            0.94      26.94      28.74  \n",
       "4            0.92      26.94      29.18  "
      ]
     },
     "execution_count": 56,
     "metadata": {},
     "output_type": "execute_result"
    }
   ],
   "source": [
    "df_full.head()"
   ]
  },
  {
   "cell_type": "markdown",
   "id": "cea0a66c-01f2-4dce-885c-7ac83ec4f89e",
   "metadata": {},
   "source": [
    "## 외부데이터 로딩"
   ]
  },
  {
   "cell_type": "code",
   "execution_count": null,
   "id": "50efdf79-664f-43e3-83c6-745322af4431",
   "metadata": {},
   "outputs": [],
   "source": [
    "external_data = {\n",
    "    \"tmper\": None,\n",
    "    \"hum\": None,\n",
    "    \"eura_snow\": None,\n",
    "    \"neg_north\": None,\n",
    "    \"sea_ice\": None,\n",
    "}"
   ]
  },
  {
   "cell_type": "markdown",
   "id": "472adaa1-9d89-46b9-80ca-7a0c60ac4701",
   "metadata": {},
   "source": [
    "**온도**"
   ]
  },
  {
   "cell_type": "code",
   "execution_count": null,
   "id": "4064771a-acec-45cb-9734-399f1498a396",
   "metadata": {},
   "outputs": [],
   "source": [
    "tmp_df = []\n",
    "\n",
    "for i in glob(\"C:\\\\Users\\\\kogas\\\\Desktop\\\\external_data\\\\20220930\\\\기온\\\\*\"):\n",
    "    if i.split(\"\\\\\")[-1][:2] in [\"서울\", \"인천\", \"대전\", \"대구\", \"광주\", \"울산\", \"부산\"]:\n",
    "        tmp = pd.read_csv(i, encoding=\"cp949\")\n",
    "        tmp = tmp.iloc[:, 1:]\n",
    "        tmp.columns = [\"지점명\", \"일시\", \"평균기온\", \"최고기온\", \"최고기온시각\", \"최저기온\", \"최저기온시각\", \"일교차\"]\n",
    "        tmp = tmp[[\"지점명\", \"일시\", \"평균기온\", \"최고기온\", \"최저기온\", \"일교차\"]]\n",
    "        tmp[\"일시\"] = pd.to_datetime(tmp[\"일시\"])\n",
    "        tmp[\"year\"] = tmp[\"일시\"].dt.year\n",
    "        tmp[\"month\"] = tmp[\"일시\"].dt.month\n",
    "        tmp = tmp.loc[(tmp[\"일시\"] >= pd.to_datetime(\"1996-01-01\")) &( tmp[\"일시\"] <= pd.to_datetime(\"2020-12-31\"))]\n",
    "        tmp_df.append(tmp)\n",
    "\n",
    "tmp_df = pd.concat(tmp_df, axis=0, ignore_index=True)"
   ]
  },
  {
   "cell_type": "code",
   "execution_count": null,
   "id": "4e17a472-df85-4f51-882e-d298116851c5",
   "metadata": {},
   "outputs": [],
   "source": [
    "df_full[[\"전국평균_\" + str(i) for i in tmp_df.groupby([\"year\", \"month\"]).mean().columns]] = tmp_df.groupby([\"year\", \"month\"]).mean().values\n",
    "df_full[[\"전국표준편차_\" + str(i) for i in tmp_df.groupby([\"year\", \"month\"]).mean().columns]] = tmp_df.groupby([\"year\", \"month\"]).std().values\n",
    "df_full[[\"서울_\" + str(i) for i in tmp_df.groupby([\"year\", \"month\"]).mean().columns]] = tmp_df.loc[tmp_df[\"지점명\"] == \"서울\"].groupby([\"year\", \"month\"]).mean().values\n",
    "df_full[[\"부산_\" + str(i) for i in tmp_df.groupby([\"year\", \"month\"]).mean().columns]] = tmp_df.loc[tmp_df[\"지점명\"] == \"부산\"].groupby([\"year\", \"month\"]).mean().values"
   ]
  },
  {
   "cell_type": "code",
   "execution_count": null,
   "id": "b7f85daf-27c3-4d43-b949-4b286a58848e",
   "metadata": {},
   "outputs": [],
   "source": [
    "df_full.head()"
   ]
  },
  {
   "cell_type": "markdown",
   "id": "637911cc-845e-420e-a502-406a66820dae",
   "metadata": {},
   "source": [
    "**습도**"
   ]
  },
  {
   "cell_type": "code",
   "execution_count": null,
   "id": "fc5ab0a3-57ab-43e3-ad1e-e886b0810ba9",
   "metadata": {},
   "outputs": [],
   "source": [
    "tmp_df = []\n",
    "\n",
    "for i in glob(\"C:\\\\Users\\\\kogas\\\\Desktop\\\\external_data\\\\20221008\\\\습도\\\\*\"):\n",
    "    if i.split(\"\\\\\")[-1][:2] in [\"서울\", \"인천\", \"대전\", \"대구\", \"광주\", \"울산\", \"부산\"]:\n",
    "        tmp = pd.read_csv(i, encoding=\"cp949\")\n",
    "        tmp = tmp.iloc[:, 1:]\n",
    "        tmp.columns = [\"지점명\", \"일시\", \"평균습도\", \"최저습도\"]\n",
    "        tmp = tmp[[\"지점명\", \"일시\", \"평균습도\", \"최저습도\"]]\n",
    "        tmp[\"일시\"] = pd.to_datetime(tmp[\"일시\"])\n",
    "        tmp[\"year\"] = tmp[\"일시\"].dt.year\n",
    "        tmp[\"month\"] = tmp[\"일시\"].dt.month\n",
    "        tmp = tmp.loc[(tmp[\"일시\"] >= pd.to_datetime(\"1996-01-01\")) & (tmp[\"일시\"] <= pd.to_datetime(\"2020-12-31\"))]\n",
    "        tmp_df.append(tmp)\n",
    "    else:\n",
    "        continue\n",
    "#     break\n",
    "\n",
    "tmp_df = pd.concat(tmp_df, axis=0, ignore_index=True)"
   ]
  },
  {
   "cell_type": "code",
   "execution_count": null,
   "id": "d89aa43e-30dc-4612-a6b5-6b2d50b4dc93",
   "metadata": {},
   "outputs": [],
   "source": [
    "tmp"
   ]
  },
  {
   "cell_type": "code",
   "execution_count": null,
   "id": "515e344f-197c-431f-a452-70bcfaa0ae6d",
   "metadata": {},
   "outputs": [],
   "source": [
    "df_full[[\"전국평균_\" + str(i) for i in tmp_df.groupby([\"year\", \"month\"]).mean().columns]] = tmp_df.groupby([\"year\", \"month\"]).mean().values\n",
    "df_full[[\"전국표준편차_\" + str(i) for i in tmp_df.groupby([\"year\", \"month\"]).mean().columns]] = tmp_df.groupby([\"year\", \"month\"]).std().values\n",
    "df_full[[\"서울_\" + str(i) for i in tmp_df.groupby([\"year\", \"month\"]).mean().columns]] = tmp_df.loc[tmp_df[\"지점명\"] == \"서울\"].groupby([\"year\", \"month\"]).mean().values\n",
    "df_full[[\"부산_\" + str(i) for i in tmp_df.groupby([\"year\", \"month\"]).mean().columns]] = tmp_df.loc[tmp_df[\"지점명\"] == \"부산\"].groupby([\"year\", \"month\"]).mean().values"
   ]
  },
  {
   "cell_type": "code",
   "execution_count": null,
   "id": "ac278810-0ab4-4de6-b98d-b089820b42d9",
   "metadata": {},
   "outputs": [],
   "source": [
    "df_full.head()"
   ]
  },
  {
   "cell_type": "markdown",
   "id": "a25c3422-1d19-4e24-bc04-e72746577a10",
   "metadata": {},
   "source": [
    "**소비매출 데이터**"
   ]
  },
  {
   "cell_type": "code",
   "execution_count": null,
   "id": "533287ef-7642-4194-a1e0-5baecf153342",
   "metadata": {},
   "outputs": [],
   "source": [
    "tmp_df = pd.read_csv(\"C:\\\\Users\\\\kogas\\\\Desktop\\\\external_data\\\\20221006\\\\kosis_korea_retail_sale.csv\", encoding=\"cp949\")\n",
    "tmp_df.isna().sum().sum()"
   ]
  },
  {
   "cell_type": "code",
   "execution_count": null,
   "id": "0856dc7d-be8e-4b37-847e-fe96a5a2e10d",
   "metadata": {},
   "outputs": [],
   "source": [
    "tmp_df.info()"
   ]
  },
  {
   "cell_type": "code",
   "execution_count": null,
   "id": "ca40a5a3-645a-42d8-99d2-53a133878a45",
   "metadata": {},
   "outputs": [],
   "source": [
    "tmp_df.head()"
   ]
  },
  {
   "cell_type": "code",
   "execution_count": null,
   "id": "5e4f2e19-7cf1-4d71-a739-b57340b721c7",
   "metadata": {},
   "outputs": [],
   "source": [
    "tmp_df[\"날짜\"] = tmp_df[\"날짜\"].apply(lambda x: datetime.datetime.strptime(x, \"%Y%m월\"))\n",
    "tmp_df[\"year\"] = tmp_df[\"날짜\"].dt.year\n",
    "tmp_df[\"month\"] = tmp_df[\"날짜\"].dt.month\n",
    "df_full[[\"총합\", \"내구재\", \"준내구재\", \"비내구재\"]] = tmp_df[[\"총합\", \"내구재\", \"준내구재\", \"비내구재\"]].values"
   ]
  },
  {
   "cell_type": "code",
   "execution_count": null,
   "id": "8ba00630-e763-42ce-8aff-f858abd70161",
   "metadata": {},
   "outputs": [],
   "source": [
    "df_full.head()"
   ]
  },
  {
   "cell_type": "markdown",
   "id": "c661df52-efdf-4752-933d-f7c06eb03b59",
   "metadata": {},
   "source": [
    "**수출입 데이터**"
   ]
  },
  {
   "cell_type": "code",
   "execution_count": null,
   "id": "d8ebd199-67a6-4505-875e-7c88810980a1",
   "metadata": {},
   "outputs": [],
   "source": [
    "# 수출입 데이터\n",
    "tmp_df = pd.read_csv(\"C:\\\\Users\\\\kogas\\\\Desktop\\\\external_data\\\\20221006\\\\kosis_korea_trade_balance.csv\")\n",
    "tmp_df.columns = [\"날짜\", \"수출\", \"수출_yoy\", \"수입\", \"수입_yoy\", \"trade_balance\"]\n",
    "tmp_df.isna().sum().sum()"
   ]
  },
  {
   "cell_type": "code",
   "execution_count": null,
   "id": "dfde5734-89d3-40d6-b909-95d41f15a1e9",
   "metadata": {},
   "outputs": [],
   "source": [
    "tmp_df.info()"
   ]
  },
  {
   "cell_type": "code",
   "execution_count": null,
   "id": "e74fdef0-5be3-476d-85a1-24581019a976",
   "metadata": {},
   "outputs": [],
   "source": [
    "tmp_df.head()"
   ]
  },
  {
   "cell_type": "code",
   "execution_count": null,
   "id": "7ed463d0-3937-4fa4-96f0-68fa559d0ba0",
   "metadata": {},
   "outputs": [],
   "source": [
    "tmp_df[\"날짜\"] = tmp_df[\"날짜\"].apply(lambda x: datetime.datetime.strptime(x, \"%Y%m월\"))\n",
    "tmp_df[\"year\"] = tmp_df[\"날짜\"].dt.year\n",
    "tmp_df[\"month\"] = tmp_df[\"날짜\"].dt.month\n",
    "df_full[[\"수출\", \"수출_yoy\", \"수입_yoy\", \"trade_balance\"]] = tmp_df[[\"수출\", \"수출_yoy\", \"수입_yoy\", \"trade_balance\"]].iloc[1:].values"
   ]
  },
  {
   "cell_type": "code",
   "execution_count": null,
   "id": "2e6e743f-6e00-47ee-8d0c-b61935fb99c4",
   "metadata": {},
   "outputs": [],
   "source": [
    "df_full.head()"
   ]
  },
  {
   "cell_type": "markdown",
   "id": "68c1305c-7eb0-4ea4-b8f4-6cca25aaf6de",
   "metadata": {},
   "source": [
    "**GDP 데이터**"
   ]
  },
  {
   "cell_type": "code",
   "execution_count": null,
   "id": "90b5fde3-8bad-46de-b1ab-21bc187c7d66",
   "metadata": {},
   "outputs": [],
   "source": [
    "tmp_df = pd.read_csv(\"C:\\\\Users\\\\kogas\\\\Desktop\\\\external_data\\\\20221006\\\\kosis_korea_gdp.csv\")\n",
    "tmp_df.columns = [\"날짜\", \"gdp_nominal\", \"gdp_real_gwr\"]\n",
    "tmp_df.isna().sum().sum()"
   ]
  },
  {
   "cell_type": "code",
   "execution_count": null,
   "id": "38670425-685f-4aab-8a9e-6c4ad7dc3ea1",
   "metadata": {},
   "outputs": [],
   "source": [
    "tmp_df.info()"
   ]
  },
  {
   "cell_type": "code",
   "execution_count": null,
   "id": "32d4a870-bbdf-467d-8d98-9bae21230ff5",
   "metadata": {},
   "outputs": [],
   "source": [
    "tmp_df.head()"
   ]
  },
  {
   "cell_type": "code",
   "execution_count": null,
   "id": "890a145d-4aaa-4b6d-8b04-fd4333248886",
   "metadata": {},
   "outputs": [],
   "source": [
    "tmp_df[\"quarter\"] = tmp_df[\"날짜\"].apply(lambda x: \"Q\" + x[-3])\n",
    "tmp_df[\"날짜\"] = tmp_df[\"날짜\"].apply(lambda x: datetime.datetime.strptime(x[:4], \"%Y\"))\n",
    "tmp_df[\"year\"] = tmp_df[\"날짜\"].dt.year\n",
    "# tmp_df[\"month\"] = tmp_df[\"quarter\"].apply(lambda x: quarter_dic[x])\n",
    "tmp_df[\"month\"] = [3, 6, 9, 12] * (104 // 4)"
   ]
  },
  {
   "cell_type": "code",
   "execution_count": null,
   "id": "0113b0f8-0916-4831-ad73-e08b5da55878",
   "metadata": {},
   "outputs": [],
   "source": [
    "merge_df = pd.DataFrame(pd.date_range(\"1996-01\", \"2020-12\", freq=\"MS\"), columns=[\"날짜\"])\n",
    "merge_df[\"year\"] = merge_df[\"날짜\"].dt.year\n",
    "merge_df[\"month\"] = merge_df[\"날짜\"].dt.month"
   ]
  },
  {
   "cell_type": "code",
   "execution_count": null,
   "id": "c785f3e1-01ca-4e82-ba7f-ecfde55d8db7",
   "metadata": {},
   "outputs": [],
   "source": [
    "merge_df"
   ]
  },
  {
   "cell_type": "code",
   "execution_count": null,
   "id": "bde375e1-e6d4-4c25-811a-09b8e9ddde4c",
   "metadata": {},
   "outputs": [],
   "source": [
    "merge_df = merge_df.merge(tmp_df[[\"year\", \"month\", \"gdp_nominal\", \"gdp_real_gwr\"]], on=[\"year\", \"month\"], how=\"left\")\n",
    "merge_df[\"gdp_nominal\"] = merge_df[\"gdp_nominal\"].apply(lambda x: str(x).replace(\",\", \"\")).astype(\"float32\")\n",
    "merge_df[\"gdp_nominal\"] = merge_df[\"gdp_nominal\"] / 3\n",
    "merge_df[\"gdp_real_gwr\"] = (((1 + merge_df[\"gdp_real_gwr\"] / 100) ** (1/3)) - 1) * 100\n",
    "df_full[[\"gdp_nominal\", \"gdp_real_gwr\"]] = merge_df[[\"gdp_nominal\", \"gdp_real_gwr\"]].bfill().ffill().values\n",
    "del merge_df"
   ]
  },
  {
   "cell_type": "code",
   "execution_count": null,
   "id": "ddfbdfae-c7b3-40de-9d94-60686bb30a72",
   "metadata": {},
   "outputs": [],
   "source": [
    "df_full"
   ]
  },
  {
   "cell_type": "markdown",
   "id": "9fb85a04-b203-42de-9d82-e2eab11f04cb",
   "metadata": {},
   "source": [
    "**Global Energy Price**"
   ]
  },
  {
   "cell_type": "code",
   "execution_count": null,
   "id": "5ce8e870-385b-43e9-89f2-0d3b659ee0f6",
   "metadata": {},
   "outputs": [],
   "source": [
    "df_full[[\"GEP\"]] = pd.read_csv(\"C:\\\\Users\\\\kogas\\\\Desktop\\\\external_data\\\\20221006\\\\Weather_And_GEP.csv\")[[\"GEP\"]]"
   ]
  },
  {
   "cell_type": "code",
   "execution_count": null,
   "id": "98da9f24-4b53-4775-babd-7b41dd11b310",
   "metadata": {},
   "outputs": [],
   "source": [
    "df_full.head()"
   ]
  },
  {
   "cell_type": "markdown",
   "id": "f3b50cb7-889a-4035-9da0-bfaf5a5f9fa9",
   "metadata": {},
   "source": [
    "**글로벌 수심별 수온편차**"
   ]
  },
  {
   "cell_type": "code",
   "execution_count": null,
   "id": "21f2b8d7-1e01-4582-977d-752d46830836",
   "metadata": {},
   "outputs": [],
   "source": [
    "with open(\"C:\\\\Users\\\\kogas\\\\Desktop\\\\external_data\\\\20221006\\\\global_수심별수온편차.txt\", \"r\", encoding=\"cp949\") as f:\n",
    "    rawdata = f.readlines()\n",
    "    tmp_df = pd.DataFrame([i.split(\",\")[:-1] for i in rawdata[1:]], columns=rawdata[0].split(\",\")[:-1])"
   ]
  },
  {
   "cell_type": "code",
   "execution_count": null,
   "id": "bc0743dd-99eb-431e-8423-a876cdac3da3",
   "metadata": {},
   "outputs": [],
   "source": [
    "tmp_df"
   ]
  },
  {
   "cell_type": "code",
   "execution_count": null,
   "id": "8c2d9ff9-d585-4a3c-8a1b-14de0473a362",
   "metadata": {},
   "outputs": [],
   "source": [
    "tmp_df[\"연도\"] = tmp_df[\"연도\"].astype(\"int\")\n",
    "tmp_df = tmp_df.loc[tmp_df[\"연도\"]>=1996]\n",
    "tmp_df[\"month\"] = 12\n",
    "tmp_df = tmp_df.rename(\n",
    "    {\"연도\": \"year\",\n",
    "     \"국외 수온(수온밑) 편차(0-100m)\": \"글로벌_수심수온편차_0to100\",\n",
    "     \"국외 수온(수온밑) 편차(0-700m)\": \"글로벌_수심수온편차_0to700\",\n",
    "     \"국외 수온(수온밑) 편차(0-2000m)\": \"글로벌_수심수온편차_0to2000\",}, axis=1\n",
    ")\n",
    "df_full = df_full.merge(tmp_df[[\"year\", \"month\", \"글로벌_수심수온편차_0to100\", \"글로벌_수심수온편차_0to700\", \"글로벌_수심수온편차_0to2000\"]], on=[\"year\", \"month\"], how=\"left\")\n",
    "df_full[[\"글로벌_수심수온편차_0to100\", \"글로벌_수심수온편차_0to700\", \"글로벌_수심수온편차_0to2000\"]] = df_full[[\"글로벌_수심수온편차_0to100\", \"글로벌_수심수온편차_0to700\", \"글로벌_수심수온편차_0to2000\"]].astype(\"float32\")\n",
    "df_full[\"글로벌_수심수온편차_평균\"] = df_full[[\"글로벌_수심수온편차_0to100\", \"글로벌_수심수온편차_0to700\", \"글로벌_수심수온편차_0to2000\"]].mean(axis=1).values\n",
    "df_full[\"글로벌_수심수온편차_표준편차\"] = df_full[[\"글로벌_수심수온편차_0to100\", \"글로벌_수심수온편차_0to700\", \"글로벌_수심수온편차_0to2000\"]].std(axis=1).values\n",
    "df_full[[\"글로벌_수심수온편차_0to100\", \"글로벌_수심수온편차_0to700\", \"글로벌_수심수온편차_0to2000\", \"글로벌_수심수온편차_평균\", \"글로벌_수심수온편차_표준편차\"]] = df_full[[\"글로벌_수심수온편차_0to100\", \"글로벌_수심수온편차_0to700\", \"글로벌_수심수온편차_0to2000\", \"글로벌_수심수온편차_평균\", \"글로벌_수심수온편차_표준편차\"]].interpolate().bfill().ffill().values"
   ]
  },
  {
   "cell_type": "code",
   "execution_count": null,
   "id": "f1bd3e2f-a4c9-4d40-97ce-a9894c7bb54f",
   "metadata": {},
   "outputs": [],
   "source": [
    "df_full.head()"
   ]
  },
  {
   "cell_type": "markdown",
   "id": "04e95f82-de84-4c79-a1e7-b491ae074e9c",
   "metadata": {},
   "source": [
    "**글로벌 연평균 해양열용량**"
   ]
  },
  {
   "cell_type": "code",
   "execution_count": null,
   "id": "329b359f-0982-40af-a4b9-aa476c310ef7",
   "metadata": {},
   "outputs": [],
   "source": [
    "with open(\"C:\\\\Users\\\\kogas\\\\Desktop\\\\external_data\\\\20221006\\\\global_연평균_해양열용량.txt\", \"r\", encoding=\"cp949\") as f:\n",
    "    rawdata = f.readlines()\n",
    "    tmp_df = pd.DataFrame([i.split(\",\")[:-1] for i in rawdata[1:]], columns=rawdata[0].split(\",\")[:-1])"
   ]
  },
  {
   "cell_type": "code",
   "execution_count": null,
   "id": "5661a1eb-60f7-465e-a47a-7a275e99b1d9",
   "metadata": {},
   "outputs": [],
   "source": [
    "tmp_df.replace(\"\", np.nan).dropna()"
   ]
  },
  {
   "cell_type": "code",
   "execution_count": null,
   "id": "58bf93d2-a247-4c5d-bd9d-9e2a98a72a74",
   "metadata": {},
   "outputs": [],
   "source": [
    "tmp_df[\"연도\"] = tmp_df[\"연도\"].astype(\"int\")\n",
    "tmp_df = tmp_df.loc[tmp_df[\"연도\"]>=1996]\n",
    "tmp_df[\"month\"] = 12\n",
    "tmp_df = tmp_df.rename(\n",
    "    {\"연도\": \"year\",\n",
    "     \"국외 해양열용량 편차(0-700m)\": \"글로벌_해양열용량편차_0to700\"}, axis=1\n",
    ")\n",
    "df_full = df_full.merge(tmp_df[[\"year\", \"month\", \"글로벌_해양열용량편차_0to700\"]], on=[\"year\", \"month\"], how=\"left\")\n",
    "df_full[[\"글로벌_해양열용량편차_0to700\"]] = df_full[[\"글로벌_해양열용량편차_0to700\"]].astype(\"float32\")\n",
    "\n",
    "df_full[[\"글로벌_해양열용량편차_0to700\"]] = df_full[[\"글로벌_해양열용량편차_0to700\"]].interpolate().bfill().ffill().values"
   ]
  },
  {
   "cell_type": "code",
   "execution_count": null,
   "id": "282f9580-e679-40e2-ad08-c3472fde4e92",
   "metadata": {},
   "outputs": [],
   "source": [
    "df_full"
   ]
  },
  {
   "cell_type": "markdown",
   "id": "cf1c4c6c-9182-4537-9f04-5c7e23b4f1e7",
   "metadata": {},
   "source": [
    "**글로벌 해수면 높이 및 온도편차 (데이터 부재로 merge 불가)**"
   ]
  },
  {
   "cell_type": "code",
   "execution_count": null,
   "id": "4fff6cad-48df-4599-a817-96d7ae6b2db1",
   "metadata": {},
   "outputs": [],
   "source": [
    "# with open(\"C:\\\\Users\\\\kogas\\\\Desktop\\\\external_data\\\\20221006\\\\global_해수면높이_온도편차.txt\", \"r\", encoding=\"cp949\") as f:\n",
    "#     rawdata = f.readlines()\n",
    "#     tmp_df = pd.DataFrame([i.split(\",\")[:-1] for i in rawdata[1:]], columns=rawdata[0].split(\",\")[:-1])"
   ]
  },
  {
   "cell_type": "code",
   "execution_count": null,
   "id": "dd2d0acc-7489-49b5-8d4e-0d474a497000",
   "metadata": {},
   "outputs": [],
   "source": [
    "# tmp_df.head()"
   ]
  },
  {
   "cell_type": "markdown",
   "id": "764ce266-6488-481f-a1d8-3d2bfd5ecc1a",
   "metadata": {},
   "source": [
    "**글로벌 및 한국 해양표층ph, CO2농도 (데이터 부재로 merge 불가)**"
   ]
  },
  {
   "cell_type": "code",
   "execution_count": null,
   "id": "9fdf1f73-c9de-4640-8eb1-435e82246bc4",
   "metadata": {},
   "outputs": [],
   "source": [
    "# with open(\"C:\\\\Users\\\\kogas\\\\Desktop\\\\external_data\\\\20221006\\\\korea&global_해양표층ph_co2농도_해양분압.txt\", \"r\", encoding=\"cp949\") as f:\n",
    "#     rawdata = f.readlines()\n",
    "#     tmp_df = pd.DataFrame([i.split(\",\")[:-1] for i in rawdata[1:]], columns=rawdata[0].split(\",\")[:-1])"
   ]
  },
  {
   "cell_type": "code",
   "execution_count": null,
   "id": "f90fa64d-6902-4d5d-a450-fbfbfd9a1cc9",
   "metadata": {},
   "outputs": [],
   "source": [
    "# tmp_df.replace(\"\", np.nan).dropna()"
   ]
  },
  {
   "cell_type": "markdown",
   "id": "6fea7d17-f020-4e69-8dbc-6905645d8cae",
   "metadata": {},
   "source": [
    "**한국 3면 연평균 표층염분 (각 데이터 내 분산이 너무 작아서 drop)**"
   ]
  },
  {
   "cell_type": "code",
   "execution_count": null,
   "id": "7c77f9fe-8158-4698-9690-7e44b7c61f29",
   "metadata": {},
   "outputs": [],
   "source": [
    "# with open(\"C:\\\\Users\\\\kogas\\\\Desktop\\\\external_data\\\\20221006\\\\korea_3면_연평균_표층염분.txt\", \"r\", encoding=\"cp949\") as f:\n",
    "#     rawdata = f.readlines()\n",
    "#     tmp_df = pd.DataFrame([i.split(\",\")[:-1] for i in rawdata[1:]], columns=rawdata[0].split(\",\")[:-1])"
   ]
  },
  {
   "cell_type": "code",
   "execution_count": null,
   "id": "092b69ac-81c9-449b-bf78-8ced688250c7",
   "metadata": {},
   "outputs": [],
   "source": [
    "# tmp_df.replace(\"\", np.nan).dropna()"
   ]
  },
  {
   "cell_type": "markdown",
   "id": "e79fbcc6-367f-4c6e-849d-40576ef080de",
   "metadata": {},
   "source": [
    "**한국 바다3면 평균수온**"
   ]
  },
  {
   "cell_type": "code",
   "execution_count": null,
   "id": "b5802de6-bfc0-4f1c-9bcc-156b6759f178",
   "metadata": {},
   "outputs": [],
   "source": [
    "tmp_df = pd.read_csv(\"C:\\\\Users\\\\kogas\\\\Desktop\\\\external_data\\\\20221006\\\\korea_3면온도.txt\", sep=\",\", encoding=\"cp949\")\n",
    "# tmp_df.columns = [\"날짜\", \"gdp_nominal\", \"gdp_real_gwr\"]\n",
    "tmp_df.isna().sum().sum()"
   ]
  },
  {
   "cell_type": "code",
   "execution_count": null,
   "id": "26209c5f-8ce9-48f2-8352-38ae78027738",
   "metadata": {},
   "outputs": [],
   "source": [
    "tmp_df.info()"
   ]
  },
  {
   "cell_type": "code",
   "execution_count": null,
   "id": "e2c7a168-83f2-48da-8782-a1125aac5f79",
   "metadata": {},
   "outputs": [],
   "source": [
    "tmp_df.head()"
   ]
  },
  {
   "cell_type": "code",
   "execution_count": null,
   "id": "acfea9b3-1ffd-47d4-87a9-fa1d25e4c9ed",
   "metadata": {},
   "outputs": [],
   "source": [
    "tmp_df[\"연도\"] = tmp_df[\"연도\"].astype(\"int\")\n",
    "tmp_df = tmp_df.loc[tmp_df[\"연도\"]>=1996].reset_index(drop=True)\n",
    "tmp_df[\"month\"] = 12\n",
    "tmp_df = tmp_df.rename({\"연도\": \"year\", \"동해\": \"해수면온도_동해\", \"남해\": \"해수면온도_남해\", \"서해\": \"해수면온도_서해\"}, axis=1)\n",
    "df_full = df_full.merge(tmp_df[[\"year\", \"month\", \"해수면온도_동해\", \"해수면온도_남해\", \"해수면온도_서해\"]], on=[\"year\", \"month\"], how=\"left\")\n",
    "df_full[\"해수면온도_3면평균\"] = df_full[[\"해수면온도_동해\", \"해수면온도_남해\", \"해수면온도_서해\"]].mean(axis=1)\n",
    "df_full[\"해수면온도_3면표준편차\"] = df_full[[\"해수면온도_동해\", \"해수면온도_남해\", \"해수면온도_서해\"]].std(axis=1)\n",
    "df_full[[\"해수면온도_동해\", \"해수면온도_남해\", \"해수면온도_서해\", \"해수면온도_3면평균\", \"해수면온도_3면표준편차\"]] = df_full[[\"해수면온도_동해\", \"해수면온도_남해\", \"해수면온도_서해\", \"해수면온도_3면평균\", \"해수면온도_3면표준편차\"]].interpolate().bfill().ffill().values"
   ]
  },
  {
   "cell_type": "code",
   "execution_count": null,
   "id": "b0e1f9b2-5aed-4d54-8567-fb49f3468e48",
   "metadata": {},
   "outputs": [],
   "source": [
    "df_full.head()"
   ]
  },
  {
   "cell_type": "markdown",
   "id": "67c71eb3-1c2f-4fa5-affa-673d4de4a229",
   "metadata": {},
   "source": [
    "**한국 연평균 표층염분 (각 필드의 데이터가 분산이 너무 작아서 drop)**"
   ]
  },
  {
   "cell_type": "code",
   "execution_count": null,
   "id": "085a86cb-9b85-4be8-950d-22afa9e5c68c",
   "metadata": {},
   "outputs": [],
   "source": [
    "# with open(\"C:\\\\Users\\\\kogas\\\\Desktop\\\\external_data\\\\20221006\\\\korea_연평균_표층염분.txt\", \"r\", encoding=\"cp949\") as f:\n",
    "#     rawdata = f.readlines()\n",
    "#     tmp_df = pd.DataFrame([i.split(\",\")[:-1] for i in rawdata[1:]], columns=rawdata[0].split(\",\")[:-1])"
   ]
  },
  {
   "cell_type": "code",
   "execution_count": null,
   "id": "0eba7bb5-737e-48af-9272-de626fc4ace6",
   "metadata": {},
   "outputs": [],
   "source": [
    "# tmp_df.replace(\"\", np.nan).dropna()"
   ]
  },
  {
   "cell_type": "markdown",
   "id": "d6bd33e5-d913-4982-8632-c0691538f072",
   "metadata": {},
   "source": [
    "**한국 연평균 지표온도**"
   ]
  },
  {
   "cell_type": "code",
   "execution_count": null,
   "id": "a2c1b322-a9d9-4c63-9ad2-3176a8c1f6ee",
   "metadata": {},
   "outputs": [],
   "source": [
    "with open(\"C:\\\\Users\\\\kogas\\\\Desktop\\\\external_data\\\\20221006\\\\korea_지표온도.txt\", \"r\", encoding=\"cp949\") as f:\n",
    "    rawdata = f.readlines()\n",
    "    tmp_df = pd.DataFrame([i.split(\",\")[:-1] for i in rawdata[1:]], columns=rawdata[0].split(\",\")[:-1])"
   ]
  },
  {
   "cell_type": "code",
   "execution_count": null,
   "id": "a27fa50c-48c2-44b0-8101-f92cec3b5924",
   "metadata": {},
   "outputs": [],
   "source": [
    "tmp_df.head()"
   ]
  },
  {
   "cell_type": "code",
   "execution_count": null,
   "id": "680ed34a-caab-4521-b566-0891165a5886",
   "metadata": {},
   "outputs": [],
   "source": [
    "tmp_df[\"연도\"] = tmp_df[\"연도\"].astype(\"int\")\n",
    "tmp_df = tmp_df.loc[tmp_df[\"연도\"]>=1996].reset_index(drop=True)\n",
    "tmp_df[\"month\"] = 12\n",
    "tmp_df = tmp_df.rename({\"연도\": \"year\"}, axis=1)\n",
    "df_full = df_full.merge(tmp_df[[\"year\", \"month\", \"SF_TMP_SUF\", \"SF_TMP_1m\", \"SF_TMP_5m\"]], on=[\"year\", \"month\"], how=\"left\")\n",
    "df_full[[\"SF_TMP_SUF\", \"SF_TMP_1m\", \"SF_TMP_5m\"]] = df_full[[\"SF_TMP_SUF\", \"SF_TMP_1m\", \"SF_TMP_5m\"]].astype(\"float32\")\n",
    "df_full[\"SF_TMP_고도평균\"] = df_full[[\"SF_TMP_SUF\", \"SF_TMP_1m\", \"SF_TMP_5m\"]].mean(axis=1)\n",
    "df_full[\"SF_TMP_고도표준편차\"] = df_full[[\"SF_TMP_SUF\", \"SF_TMP_1m\", \"SF_TMP_5m\"]].std(axis=1)\n",
    "df_full[[\"SF_TMP_고도평균\", \"SF_TMP_고도표준편차\", \"SF_TMP_SUF\", \"SF_TMP_1m\", \"SF_TMP_5m\"]] = df_full[[\"SF_TMP_고도평균\", \"SF_TMP_고도표준편차\", \"SF_TMP_SUF\", \"SF_TMP_1m\", \"SF_TMP_5m\"]].interpolate().bfill().ffill().values"
   ]
  },
  {
   "cell_type": "code",
   "execution_count": null,
   "id": "46347768-0a06-4b7d-aecc-adf594b42fc8",
   "metadata": {},
   "outputs": [],
   "source": [
    "df_full.head()"
   ]
  },
  {
   "cell_type": "markdown",
   "id": "f8339254-603d-4896-b340-11898012da10",
   "metadata": {},
   "source": [
    "**한국 해수면높이 및 온도편차**"
   ]
  },
  {
   "cell_type": "code",
   "execution_count": null,
   "id": "61025fad-7787-4857-849c-4d2a4ee60ada",
   "metadata": {},
   "outputs": [],
   "source": [
    "tmp_df = pd.read_csv(\"C:\\\\Users\\\\kogas\\\\Desktop\\\\external_data\\\\20221006\\\\korea_해수면높이_온도편차.txt\", sep=\",\", encoding=\"cp949\")\n",
    "tmp_df.isna().sum().sum()"
   ]
  },
  {
   "cell_type": "code",
   "execution_count": null,
   "id": "f9dedeeb-ffaf-4f23-8d82-b1d6eae0d1d4",
   "metadata": {},
   "outputs": [],
   "source": [
    "tmp_df.info()"
   ]
  },
  {
   "cell_type": "code",
   "execution_count": null,
   "id": "2b8a9e42-4111-4d1f-9e24-739aae262dc1",
   "metadata": {},
   "outputs": [],
   "source": [
    "tmp_df.head()"
   ]
  },
  {
   "cell_type": "code",
   "execution_count": null,
   "id": "02c214c6-b0d4-4d30-881f-e58dea76ee3c",
   "metadata": {},
   "outputs": [],
   "source": [
    "tmp_df = tmp_df.loc[tmp_df[\"연도\"]>=1996].reset_index(drop=True)\n",
    "tmp_df[\"month\"] = 12\n",
    "tmp_df = tmp_df.rename({\"연도\": \"year\"}, axis=1)\n",
    "df_full = df_full.merge(tmp_df[[\"year\", \"month\", \"국내 해수면 높이\", \"국내 해수면온도 편차\"]], on=[\"year\", \"month\"], how=\"left\")\n",
    "df_full[[\"국내 해수면 높이\", \"국내 해수면온도 편차\"]] = df_full[[\"국내 해수면 높이\", \"국내 해수면온도 편차\"]].interpolate().bfill().ffill().values"
   ]
  },
  {
   "cell_type": "code",
   "execution_count": null,
   "id": "8ea8aeb1-4266-45ff-a92e-3e20f8c9f9db",
   "metadata": {},
   "outputs": [],
   "source": [
    "df_full.head()"
   ]
  },
  {
   "cell_type": "markdown",
   "id": "1ad76c73-122f-4ee7-867b-9dd9dcd3a3b5",
   "metadata": {},
   "source": [
    "**유라시아 눈덮힘**"
   ]
  },
  {
   "cell_type": "code",
   "execution_count": null,
   "id": "025c19d9-61a1-455b-9b17-a99bac929aa7",
   "metadata": {},
   "outputs": [],
   "source": [
    "tmp_df = pd.read_csv(\"C:\\\\Users\\\\kogas\\\\Desktop\\\\external_data\\\\20221011\\\\eurasia_snow_cover.csv\")\n",
    "tmp_df.isna().sum().sum()"
   ]
  },
  {
   "cell_type": "code",
   "execution_count": null,
   "id": "91aa88b5-2b33-4f04-9563-51b86cda0327",
   "metadata": {},
   "outputs": [],
   "source": [
    "df_full[\"eurasia_snow_cover\"] = tmp_df.loc[(tmp_df[\"year\"] >= 1996) & (tmp_df[\"year\"] <= 2020), \"eurasia_snow_cover\"].values"
   ]
  },
  {
   "cell_type": "code",
   "execution_count": null,
   "id": "b86b6cd2-ea78-4aca-84fb-024e3e1389e9",
   "metadata": {},
   "outputs": [],
   "source": [
    "df_full[\"eurasia_snow_cover\"].tail(20)"
   ]
  },
  {
   "cell_type": "code",
   "execution_count": null,
   "id": "a41c87ee-36cb-4248-ab44-8a78f214adec",
   "metadata": {},
   "outputs": [],
   "source": [
    "# df_full = df_full.drop(\"eurasia_snow_cover\", axis=1)"
   ]
  },
  {
   "cell_type": "markdown",
   "id": "72ae0f2c-cfbf-4ebc-879f-cb943558343a",
   "metadata": {},
   "source": [
    "**음의 북극진동 (2020년도에 na값이 있어 활용이 불가능하다고 판단하여 drop)**"
   ]
  },
  {
   "cell_type": "code",
   "execution_count": null,
   "id": "560f1b1c-57ac-4746-bfb2-60035a5758d3",
   "metadata": {},
   "outputs": [],
   "source": [
    "tmp_df = pd.read_csv(\"C:\\\\Users\\\\kogas\\\\Desktop\\\\external_data\\\\20221011\\\\arctic_oscillation.csv\")\n",
    "tmp_df.isna().sum().sum()"
   ]
  },
  {
   "cell_type": "code",
   "execution_count": null,
   "id": "e4a34c36-d5b6-4d9e-a485-4044219e4806",
   "metadata": {},
   "outputs": [],
   "source": [
    "df_full[\"arctic_oscillation\"] = tmp_df.loc[(tmp_df[\"Year\"] >= 1996) & (tmp_df[\"Year\"] <= 2020), tmp_df.columns[1:]].to_numpy(dtype=\"float32\").flatten()"
   ]
  },
  {
   "cell_type": "code",
   "execution_count": null,
   "id": "153bd9e9-cc54-4ea7-aaed-b2ae4898d372",
   "metadata": {},
   "outputs": [],
   "source": [
    "df_full[\"arctic_oscillation\"]"
   ]
  },
  {
   "cell_type": "code",
   "execution_count": null,
   "id": "baafd930-6a40-4df3-a2aa-fbb764b38084",
   "metadata": {},
   "outputs": [],
   "source": [
    "df_full = df_full.drop(\"arctic_oscillation\", axis=1)"
   ]
  },
  {
   "cell_type": "markdown",
   "id": "d4fdb404-7fbe-443a-894a-335803978523",
   "metadata": {
    "tags": []
   },
   "source": [
    "**해빙**"
   ]
  },
  {
   "cell_type": "code",
   "execution_count": null,
   "id": "cb9fbafc-793e-4eea-996b-de53273b766d",
   "metadata": {},
   "outputs": [],
   "source": [
    "tmp_df = pd.read_csv(\"C:\\\\Users\\\\kogas\\\\Desktop\\\\external_data\\\\20221011\\\\sea_ice_index_monthly_data_by_year_nh_extend.csv\")\n",
    "tmp_df.isna().sum().sum()"
   ]
  },
  {
   "cell_type": "code",
   "execution_count": null,
   "id": "df82851f-1d4f-4d1c-90ec-f85787322639",
   "metadata": {},
   "outputs": [],
   "source": [
    "df_full[\"sea_ice_index\"] = tmp_df.loc[(tmp_df[\"Date\"] >= 1996) & (tmp_df[\"Date\"] <= 2020), tmp_df.columns[1:]].to_numpy(dtype=\"float32\").flatten()"
   ]
  },
  {
   "cell_type": "code",
   "execution_count": null,
   "id": "b7aa20de-79d9-477e-ab56-925c1dc01959",
   "metadata": {},
   "outputs": [],
   "source": [
    "df_full[\"sea_ice_index\"].isna().sum()"
   ]
  },
  {
   "cell_type": "markdown",
   "id": "5a1043df-bb63-4a7c-b99e-bbef6385feee",
   "metadata": {},
   "source": [
    "**인구 및 인구증가율**"
   ]
  },
  {
   "cell_type": "code",
   "execution_count": null,
   "id": "6a9174c1-cd1c-42f7-b8f4-3ae56b2b898e",
   "metadata": {},
   "outputs": [],
   "source": [
    "tmp_df = pd.read_csv(\"C:\\\\Users\\\\kogas\\\\Desktop\\\\external_data\\\\20221011\\\\korea_pop_popGR.csv\")\n",
    "tmp_df.columns = [\"year\", \"korea_pop\", \"korea_pop_gr\"]\n",
    "tmp_df[\"month\"] = 12"
   ]
  },
  {
   "cell_type": "code",
   "execution_count": null,
   "id": "dca368b5-4906-4fbd-9729-83c92871be98",
   "metadata": {},
   "outputs": [],
   "source": [
    "tmp_df[\"korea_pop\"] = tmp_df[\"korea_pop\"].apply(lambda x: float(x.replace(\",\", \"\")))\n",
    "tmp_df[\"korea_pop_gr\"] = tmp_df[\"korea_pop_gr\"].apply(lambda x: np.nan if x == \"-\" else float(x.replace(\",\", \"\")))\n",
    "\n",
    "# 성장률을 월간으로 평균한 값을 미리 계산\n",
    "tmp_df[\"korea_pop_gr\"] = (((1 + tmp_df[\"korea_pop_gr\"] / 100) ** (1/12)) - 1) * 100"
   ]
  },
  {
   "cell_type": "code",
   "execution_count": null,
   "id": "5d393d7d-3051-4ac7-bb00-78f1b11f0cf4",
   "metadata": {},
   "outputs": [],
   "source": [
    "tmp_df.head()"
   ]
  },
  {
   "cell_type": "code",
   "execution_count": null,
   "id": "61f31569-461f-4963-9d9d-86e95847807e",
   "metadata": {},
   "outputs": [],
   "source": [
    "df_full = df_full.merge(tmp_df, on=[\"year\", \"month\"], how=\"left\")\n",
    "df_full[\"korea_pop\"] = df_full[\"korea_pop\"].interpolate().bfill().ffill()\n",
    "df_full[\"korea_pop_gr\"] = df_full[\"korea_pop_gr\"].bfill().ffill()"
   ]
  },
  {
   "cell_type": "code",
   "execution_count": null,
   "id": "12d2ae6e-1f0b-4b44-84a9-8e94477b0f72",
   "metadata": {},
   "outputs": [],
   "source": [
    "df_full.head()"
   ]
  },
  {
   "cell_type": "code",
   "execution_count": null,
   "id": "2820cc6d-5055-400a-882e-1b03ba40dcad",
   "metadata": {},
   "outputs": [],
   "source": [
    "df_full.isna().sum().sum()"
   ]
  },
  {
   "cell_type": "markdown",
   "id": "bb9dc87c-4e1f-4273-a95f-aa3f88ca4576",
   "metadata": {},
   "source": [
    "**글로벌 지역별 천연가스 생산량**"
   ]
  },
  {
   "cell_type": "code",
   "execution_count": null,
   "id": "d89545c8-634f-4ff5-8953-40793ca8cd66",
   "metadata": {
    "tags": []
   },
   "outputs": [],
   "source": [
    "tmp_df = pd.read_csv(\"C:\\\\Users\\\\kogas\\\\Desktop\\\\external_data\\\\20221013\\\\IEA-world-natural-gas-production-by-region-1973-2020.csv\")\n",
    "# tmp_df.columns = [\"year\", \"korea_pop\", \"korea_pop_gr\"]\n",
    "tmp_df[\"month\"] = 12"
   ]
  },
  {
   "cell_type": "code",
   "execution_count": null,
   "id": "6eb1bcee-59f7-410a-868e-e3db497ebda4",
   "metadata": {},
   "outputs": [],
   "source": [
    "tmp_df.info()"
   ]
  },
  {
   "cell_type": "code",
   "execution_count": null,
   "id": "99ff2610-b553-4c0e-a8a9-3755402e4748",
   "metadata": {},
   "outputs": [],
   "source": [
    "tmp_df.head()"
   ]
  },
  {
   "cell_type": "code",
   "execution_count": null,
   "id": "db322ac3-b60e-4543-b523-52d6b8414364",
   "metadata": {},
   "outputs": [],
   "source": [
    "tmp_df[diff(tmp_df.columns, [\"year\", \"month\"])] /= 12\n",
    "df_full = df_full.merge(tmp_df, on=[\"year\", \"month\"], how=\"left\")\n",
    "df_full[diff(tmp_df.columns, [\"year\", \"month\"])] = df_full[diff(tmp_df.columns, [\"year\", \"month\"])].bfill().ffill()"
   ]
  },
  {
   "cell_type": "code",
   "execution_count": null,
   "id": "7d92c12d-fce7-47e4-9b2e-7cc97b6fa666",
   "metadata": {},
   "outputs": [],
   "source": [
    "df_full.head(20)"
   ]
  },
  {
   "cell_type": "markdown",
   "id": "51e75704-d289-43d4-8632-f41e346965ee",
   "metadata": {},
   "source": [
    "**KOSIS 데이터 (2000년 부터 데이터가 없음)**"
   ]
  },
  {
   "cell_type": "code",
   "execution_count": null,
   "id": "883a89f1-d948-414c-9b6c-1ed85106c752",
   "metadata": {},
   "outputs": [],
   "source": [
    "folder_path_fixed = 'C:\\\\Users\\\\kogas\\\\Desktop\\\\external_data\\\\20221105\\\\external_data_KOSIS\\\\result_fixed'"
   ]
  },
  {
   "cell_type": "code",
   "execution_count": null,
   "id": "853aaf49-4c41-43c9-ab1b-37ddd3a411d3",
   "metadata": {},
   "outputs": [],
   "source": [
    "kosis_df = []\n",
    "for i in glob(folder_path_fixed + \"\\\\*\"):\n",
    "    tmp_df = pd.read_csv(i)\n",
    "    if (str(tmp_df.iloc[0, 0])[:4] == \"2000\") & (str(tmp_df.iloc[0, 0])[4:] == \"01\"): \n",
    "        kosis_df.append(tmp_df)"
   ]
  },
  {
   "cell_type": "code",
   "execution_count": null,
   "id": "982aef49-f756-46ba-9bbd-0fb32ec42bda",
   "metadata": {},
   "outputs": [],
   "source": [
    "print(len(kosis_df))"
   ]
  },
  {
   "cell_type": "markdown",
   "id": "359c79b8-f535-482c-b984-b854e6393168",
   "metadata": {},
   "source": [
    "**전력 데이터 (데이터가 듬성듬성 비어있어서 사용 어려움 판단)**"
   ]
  },
  {
   "cell_type": "code",
   "execution_count": null,
   "id": "ae9e7fc9-dcf0-4229-898a-a0f2f66b2c92",
   "metadata": {},
   "outputs": [],
   "source": [
    "tmp_df = pd.read_csv(\"C:\\\\Users\\\\kogas\\\\Desktop\\\\external_data\\\\20221105\\\\kogas_ind_higCorrr.csv\", encoding=\"cp949\")"
   ]
  },
  {
   "cell_type": "code",
   "execution_count": null,
   "id": "615b213f-8029-47ae-85ca-f49119ce0491",
   "metadata": {},
   "outputs": [],
   "source": [
    "# tmp_df.dropna()[:30]"
   ]
  },
  {
   "cell_type": "code",
   "execution_count": null,
   "id": "e709ed5c-2a77-4676-8d31-904019224863",
   "metadata": {},
   "outputs": [],
   "source": [
    "target_vars = [\"target_civil\", \"target_ind\"]\n",
    "target_name = \"target_ind\"\n",
    "nontrain_vars = [\"year\"]\n",
    "bin_vars = []\n",
    "cat_vars = [\"quarter\", \"month\"]\n",
    "num_vars = diff(df_full.columns, nontrain_vars + bin_vars + cat_vars)\n",
    "\n",
    "assert len(df_full.columns) == len(nontrain_vars) + len(cat_vars) + len(num_vars)"
   ]
  },
  {
   "cell_type": "markdown",
   "id": "486d5d3f-0620-4bb4-818d-98c64f4e683e",
   "metadata": {},
   "source": [
    "## Feature Engineering\n",
    "\n",
    "- version 0 : qva normalizing feature추가 (기준년도=2015)\n",
    "- version 1 : short, intm, long에 대해 mean to std 수치 절대값 0.2 이상 feature 선정 (유사 feature는 주관적 판단 하에 drop)\n",
    "- version 2 : version1 + 시간 feature engineering"
   ]
  },
  {
   "cell_type": "code",
   "execution_count": null,
   "id": "8fa479d5-573e-4443-aa09-c0c02b5cf1ec",
   "metadata": {},
   "outputs": [],
   "source": [
    "target_vars = [\"target_civil\", \"target_ind\"]"
   ]
  },
  {
   "cell_type": "markdown",
   "id": "39e3de22-8c24-4825-a359-7c94df4a6ae4",
   "metadata": {},
   "source": [
    "**qva normalizing by 2015**"
   ]
  },
  {
   "cell_type": "code",
   "execution_count": null,
   "id": "b1e83bd5-d1ea-4bb5-85dc-8f8513cc3ecc",
   "metadata": {},
   "outputs": [],
   "source": [
    "# 부가가치값 normalizing\n",
    "# 부가가치 측정의 경우 인플레이션이 반영되어 실제 부가가치가 늘어났는지 정확히 알 수가 없음\n",
    "# 해당 분기 천연가스 median 가격으로 나눈 후 기준년도(=2015) median 가격을 곱해줌, 2015년도를 기준가격으로 했을 때 얼마나 물건이 생산되었는지 보는 지표\n",
    "tmp_list = []\n",
    "for i in ((df_full.groupby([\"year\", \"quarter\"]).sum()[\"qva\"] / df_full.groupby([\"year\", \"quarter\"]).mean()[\"GEP\"]) * df_full.groupby([\"year\", \"quarter\"]).mean().loc[2015, \"GEP\"]).values:\n",
    "    tmp_list.extend([i / 3] * 3)\n",
    "df_full[\"qva_norm2015\"] = tmp_list"
   ]
  },
  {
   "cell_type": "code",
   "execution_count": null,
   "id": "9f40a7a2-727f-4aae-a7ba-2851ce44cc96",
   "metadata": {},
   "outputs": [],
   "source": [
    "df_full.head()"
   ]
  },
  {
   "cell_type": "markdown",
   "id": "2f8e1390-95cb-4251-a896-411ae9ef39f5",
   "metadata": {},
   "source": [
    "**time feature engineering (norm, sin, cos)**"
   ]
  },
  {
   "cell_type": "code",
   "execution_count": null,
   "id": "46327b49-f3f1-4d94-b89e-107d6d798349",
   "metadata": {},
   "outputs": [],
   "source": [
    "day_secs = 24 * 60 * 60 # 시 분 초\n",
    "month_secs = (365.2425 / 12) * day_secs\n",
    "year_secs = (365.2425) * day_secs"
   ]
  },
  {
   "cell_type": "code",
   "execution_count": null,
   "id": "406da932-e941-494e-9efc-080dccbe77a6",
   "metadata": {},
   "outputs": [],
   "source": [
    "timestamp_s = pd.date_range(str(df_full[\"year\"].unique()[0]) + \"-01-01\", str(df_full[\"year\"].unique()[-1]) + \"-12-31\", freq=\"M\").map(datetime.datetime.timestamp)"
   ]
  },
  {
   "cell_type": "code",
   "execution_count": null,
   "id": "54b8fb29-e2bb-4af5-bf2a-b5fe1470421d",
   "metadata": {},
   "outputs": [],
   "source": [
    "df_full[\"year_sin\"] = np.sin(timestamp_s * (2*np.pi / year_secs))\n",
    "df_full[\"year_cos\"] = np.cos(timestamp_s * (2*np.pi / year_secs))"
   ]
  },
  {
   "cell_type": "code",
   "execution_count": null,
   "id": "4bb84c78-fa96-4b33-bc1e-feac37522b99",
   "metadata": {},
   "outputs": [],
   "source": [
    "df_full[\"season\"] = df_full[\"month\"] % 12 // 3\n",
    "df_full[\"year_linear\"] = df_full[\"month\"] / 12\n",
    "\n",
    "cat_vars.append(\"season\")"
   ]
  },
  {
   "cell_type": "code",
   "execution_count": null,
   "id": "a25ee806-81ca-4ad9-b994-33a46832079a",
   "metadata": {},
   "outputs": [],
   "source": [
    "plt.plot(df_full[\"year_sin\"].iloc[:36])\n",
    "plt.plot(df_full[\"year_cos\"].iloc[:36])"
   ]
  },
  {
   "cell_type": "code",
   "execution_count": null,
   "id": "7a716dc9-cbe8-4c02-8e22-0763570a4c65",
   "metadata": {},
   "outputs": [],
   "source": [
    "df_full.head()"
   ]
  },
  {
   "cell_type": "markdown",
   "id": "daa0e416-a4c8-4a15-8753-ba431c98a7ea",
   "metadata": {},
   "source": [
    "## 2. EDA"
   ]
  },
  {
   "cell_type": "code",
   "execution_count": null,
   "id": "cc595cdc-a7a4-4c04-a344-59af13a403a8",
   "metadata": {},
   "outputs": [],
   "source": [
    "df_eda = df_full.copy()\n",
    "df_eda = df_eda.set_index([\"year\", \"quarter\", \"month\"])"
   ]
  },
  {
   "cell_type": "code",
   "execution_count": null,
   "id": "aaa7c688-4939-49ef-8692-335847548930",
   "metadata": {},
   "outputs": [],
   "source": [
    "dur_short = 12 * 2\n",
    "dur_intm = 12 * 10\n",
    "dur_long = 12 * 14\n",
    "\n",
    "eda_df_dic = {\n",
    "    \"t0\": pd.concat([df_eda, df_eda[\"target_civil\"].shift(-1).to_frame(name=\"target_civil_t0\"), df_eda[\"target_ind\"].shift(-1).to_frame(\"target_ind_t0\")], axis=1).dropna(),\n",
    "    \"short\": pd.concat([df_eda, df_eda[\"target_civil\"].shift(-dur_short).to_frame(name=\"target_civil_short\"), df_eda[\"target_ind\"].shift(-dur_short).to_frame(\"target_ind_short\")], axis=1).dropna(),\n",
    "    \"intm\": pd.concat([df_eda, df_eda[\"target_civil\"].shift(-dur_intm).to_frame(name=\"target_civil_intm\"), df_eda[\"target_ind\"].shift(-dur_intm).to_frame(\"target_ind_intm\")], axis=1).dropna(),\n",
    "    \"long\": pd.concat([df_eda, df_eda[\"target_civil\"].shift(-dur_long).to_frame(name=\"target_civil_long\"), df_eda[\"target_ind\"].shift(-dur_long).to_frame(\"target_ind_long\")], axis=1).dropna(),\n",
    "}"
   ]
  },
  {
   "cell_type": "code",
   "execution_count": null,
   "id": "01475f04-7619-46b5-a790-f117e514e085",
   "metadata": {},
   "outputs": [],
   "source": [
    "eda_df_dic[\"short\"].head()"
   ]
  },
  {
   "cell_type": "code",
   "execution_count": null,
   "id": "d2634113-f076-482c-8b02-d0d71039e2b0",
   "metadata": {},
   "outputs": [],
   "source": [
    "eda_df_dic[\"intm\"].head()"
   ]
  },
  {
   "cell_type": "code",
   "execution_count": null,
   "id": "8c8f1051-819c-442f-80d0-42b37dea4735",
   "metadata": {},
   "outputs": [],
   "source": [
    "eda_df_dic[\"long\"].head()"
   ]
  },
  {
   "cell_type": "markdown",
   "id": "fecf0397-95d3-4883-ab94-3d1ba6990f7a",
   "metadata": {},
   "source": [
    "### 산업용"
   ]
  },
  {
   "cell_type": "markdown",
   "id": "bb995df5-48d2-48b2-a310-0bc18b3274e9",
   "metadata": {},
   "source": [
    "**correlation table**"
   ]
  },
  {
   "cell_type": "code",
   "execution_count": null,
   "id": "3db6ba64-e4a7-4e48-9693-8333fc9eafaa",
   "metadata": {},
   "outputs": [],
   "source": [
    "df_corr = pd.concat([\n",
    "    eda_df_dic[\"t0\"].corr().iloc[:-2, -2:],\n",
    "    eda_df_dic[\"short\"].corr().iloc[:-2, -2:],\n",
    "    eda_df_dic[\"intm\"].corr().iloc[:-2, -2:],\n",
    "    eda_df_dic[\"long\"].corr().iloc[:-2, -2:],\n",
    "], axis=1)\n",
    "df_corr = {\n",
    "    \"target_civil\": df_corr.filter(regex=\"target_civil\"),\n",
    "    \"target_ind\":  df_corr.filter(regex=\"target_ind\"),\n",
    "}"
   ]
  },
  {
   "cell_type": "code",
   "execution_count": null,
   "id": "e2ac8872-4b9a-4d6d-a023-c61710542399",
   "metadata": {},
   "outputs": [],
   "source": [
    "# dur_vars = [\"target_civil_t0\", \"target_civil_short\", \"target_civil_intm\", \"target_civil_long\"]\n",
    "# df_corr[\"target_civil\"][\"target_civil_mean\"] = df_corr[\"target_civil\"][dur_vars].mean(axis=1)\n",
    "# df_corr[\"target_civil\"][\"target_civil_std\"] = df_corr[\"target_civil\"][dur_vars].std(axis=1)\n",
    "# df_corr[\"target_civil\"][\"target_civil_meantostd\"] = df_corr[\"target_civil\"][\"target_civil_mean\"] / (df_corr[\"target_civil\"][\"target_civil_std\"] + 1)\n",
    "# df_corr[\"target_civil\"][\"target_civil_longtoshort\"] = df_corr[\"target_civil\"][\"target_civil_long\"].abs() / (df_corr[\"target_civil\"][\"target_civil_short\"].abs() + 1)\n",
    "# df_summary = df_corr[\"target_civil\"].round(4).iloc[np.argsort(df_corr[\"target_civil\"][\"target_civil_short\"].abs().values)[::-1]]\n",
    "# # df_summary.loc[df_summary[\"target_civil_meantostd\"].abs() > 0.2]\n",
    "# df_summary.iloc[:20]"
   ]
  },
  {
   "cell_type": "code",
   "execution_count": null,
   "id": "05df18ae-1700-422c-9386-f717770f55c2",
   "metadata": {},
   "outputs": [],
   "source": [
    "# dur_vars = [\"target_ind_t0\", \"target_ind_short\", \"target_ind_intm\", \"target_ind_long\"]\n",
    "dur_vars = [\"target_ind_t0\", \"target_ind_short\", \"target_ind_intm\", \"target_ind_long\"]\n",
    "df_corr[\"target_ind\"][\"target_ind_mean\"] = df_corr[\"target_ind\"][dur_vars].abs().mean(axis=1)\n",
    "df_corr[\"target_ind\"][\"target_ind_std\"] = df_corr[\"target_ind\"][dur_vars].std(axis=1)\n",
    "df_corr[\"target_ind\"][\"target_ind_meantostd\"] = df_corr[\"target_ind\"][\"target_ind_mean\"] / (df_corr[\"target_ind\"][\"target_ind_std\"] + 1)\n",
    "df_corr[\"target_ind\"][\"target_ind_longtoshort\"] = df_corr[\"target_ind\"][\"target_ind_long\"].abs() / (df_corr[\"target_ind\"][\"target_ind_short\"].abs() + 1)\n",
    "\n",
    "df_summary = df_corr[\"target_ind\"].round(4).iloc[np.argsort(df_corr[\"target_ind\"][\"target_ind_meantostd\"].abs().values)[::-1]]\n",
    "display(df_summary[dur_vars + [\"target_ind_mean\", \"target_ind_std\", \"target_ind_meantostd\", \"target_ind_longtoshort\"]].iloc[:50])\n",
    "# base feature : mean to std 0.35 이상만"
   ]
  },
  {
   "cell_type": "code",
   "execution_count": null,
   "id": "164dbaa6-ba2a-4c29-8400-23639ddb52bf",
   "metadata": {},
   "outputs": [],
   "source": [
    "df_summary = df_corr[\"target_ind\"].round(4).iloc[np.argsort(df_corr[\"target_ind\"][\"target_ind_t0\"].abs().values)[::-1]]\n",
    "display(df_summary[dur_vars + [\"target_ind_mean\", \"target_ind_std\", \"target_ind_meantostd\", \"target_ind_longtoshort\"]].iloc[:30])\n",
    "t0_term_vars = [\"target_ind\", \"수출\", \"qva\", \"Non-OECD Asia (Incl. China)\", \"korea_pop\"]"
   ]
  },
  {
   "cell_type": "code",
   "execution_count": null,
   "id": "3ac5e2cd-a44e-4f64-83be-19928c164f1c",
   "metadata": {},
   "outputs": [],
   "source": [
    "df_summary = df_corr[\"target_ind\"].round(4).iloc[np.argsort(df_corr[\"target_ind\"][\"target_ind_short\"].abs().values)[::-1]]\n",
    "display(df_summary[dur_vars + [\"target_ind_mean\", \"target_ind_std\", \"target_ind_meantostd\", \"target_ind_longtoshort\"]].iloc[:30])\n",
    "short_term_vars = [\"target_ind\", \"Non-OECD Asia (Incl. China)\", \"qva\", \"korea_pop\", \"수출\"]"
   ]
  },
  {
   "cell_type": "code",
   "execution_count": null,
   "id": "d8f422ec-f265-4141-9e57-a8eec44cf180",
   "metadata": {},
   "outputs": [],
   "source": [
    "df_summary = df_corr[\"target_ind\"].round(4).iloc[np.argsort(df_corr[\"target_ind\"][\"target_ind_intm\"].abs().values)[::-1]]\n",
    "display(df_summary[dur_vars + [\"target_ind_mean\", \"target_ind_std\", \"target_ind_meantostd\", \"target_ind_longtoshort\"]].iloc[:30])\n",
    "intm_term_vars = [\"target_civil\", \"target_ind\", \"korea_pop\", \"OECD\", \"SF_TMP_5m\"]"
   ]
  },
  {
   "cell_type": "code",
   "execution_count": null,
   "id": "6d9a71d6-674b-4690-afad-4a6ea7f740ad",
   "metadata": {},
   "outputs": [],
   "source": [
    "df_summary = df_corr[\"target_ind\"].round(4).iloc[np.argsort(df_corr[\"target_ind\"][\"target_ind_long\"].abs().values)[::-1]]\n",
    "# df_summary.loc[df_summary[\"target_ind_meantostd\"].abs() > 0.2]\n",
    "# df_summary.iloc[:20]\n",
    "display(df_summary[dur_vars + [\"target_ind_mean\", \"target_ind_std\", \"target_ind_meantostd\", \"target_ind_longtoshort\"]].iloc[:30])\n",
    "long_term_vars = [\"year_cos\", \"서울_최고기온\", \"eurasia_snow_cover\", \"부산_평균습도\", \"target_civil\"]"
   ]
  },
  {
   "cell_type": "markdown",
   "id": "0092c527-b938-4f0b-86cc-e1a7d717978e",
   "metadata": {},
   "source": [
    "### EDA for short term, long term threshold"
   ]
  },
  {
   "cell_type": "code",
   "execution_count": null,
   "id": "3e10ade8-272a-4f59-bf8d-6e8d73db0c86",
   "metadata": {},
   "outputs": [],
   "source": [
    "# dur_short = 12 * 2\n",
    "# dur_intm = 12 * 8\n",
    "# dur_long = 12 * 14\n",
    "\n",
    "# eda_df_dic = {\n",
    "#     \"t0\": pd.concat([df_eda, df_eda[\"target_civil\"].shift(-1).to_frame(name=\"target_civil_t0\"), df_eda[\"target_ind\"].shift(-1).to_frame(\"target_ind_t0\")], axis=1).dropna(),\n",
    "#     \"short\": pd.concat([df_eda, df_eda[\"target_civil\"].shift(-dur_short).to_frame(name=\"target_civil_short\"), df_eda[\"target_ind\"].shift(-dur_short).to_frame(\"target_ind_short\")], axis=1).dropna(),\n",
    "#     \"intm\": pd.concat([df_eda, df_eda[\"target_civil\"].shift(-dur_intm).to_frame(name=\"target_civil_intm\"), df_eda[\"target_ind\"].shift(-dur_intm).to_frame(\"target_ind_intm\")], axis=1).dropna(),\n",
    "#     \"long\": pd.concat([df_eda, df_eda[\"target_civil\"].shift(-dur_long).to_frame(name=\"target_civil_long\"), df_eda[\"target_ind\"].shift(-dur_long).to_frame(\"target_ind_long\")], axis=1).dropna(),\n",
    "# }"
   ]
  },
  {
   "cell_type": "code",
   "execution_count": null,
   "id": "0e7b6335-4b65-49ac-937c-9d9f71eaa149",
   "metadata": {},
   "outputs": [],
   "source": [
    "for i in range(1, 169, 1):\n",
    "    eda_df_dic[\"t\" + str(i)] = pd.concat([\n",
    "        df_eda,\n",
    "        df_eda[\"target_civil\"].shift(-i).to_frame(name=\"target_civil_t\" + str(i)),\n",
    "        df_eda[\"target_ind\"].shift(-i).to_frame(\"target_ind_t\" + str(i))\n",
    "    ], axis=1).dropna()"
   ]
  },
  {
   "cell_type": "code",
   "execution_count": null,
   "id": "602a7b8f-7f96-4d16-bdda-5efbb336b514",
   "metadata": {},
   "outputs": [],
   "source": [
    "tmp_shorterm = []\n",
    "tmp_longterm = []\n",
    "\n",
    "for i in range(1, 169, 1):\n",
    "    df_corr = eda_df_dic[\"t\" + str(i)].copy()\n",
    "    tmp_shorterm.append(df_corr.corr().iloc[:-2, -2:].loc[short_term_vars, \"target_ind_t\" + str(i)].abs().mean())\n",
    "    tmp_longterm.append(df_corr.corr().iloc[:-2, -2:].loc[long_term_vars, \"target_ind_t\" + str(i)].abs().mean())\n",
    "#     df_corr[\"target_civil\"][\"target_civil_mean\"] = df_corr[\"target_civil\"][dur_vars].mean(axis=1)\n",
    "#     df_corr[\"target_civil\"][\"target_civil_std\"] = df_corr[\"target_civil\"][dur_vars].std(axis=1)\n",
    "#     df_corr[\"target_civil\"][\"target_civil_meantostd\"] = df_corr[\"target_civil\"][\"target_civil_mean\"] / (df_corr[\"target_civil\"][\"target_civil_std\"] + 1)\n",
    "#     df_corr[\"target_civil\"][\"target_civil_longtoshort\"] = df_corr[\"target_civil\"][\"target_civil_long\"].abs() / (df_corr[\"target_civil\"][\"target_civil_short\"].abs() + 1)\n",
    "#     break\n",
    "    "
   ]
  },
  {
   "cell_type": "code",
   "execution_count": null,
   "id": "7664e4a4-f8f5-4212-8ac0-f93240c188e1",
   "metadata": {},
   "outputs": [],
   "source": [
    "plt.figure(figsize=(16, 8))\n",
    "\n",
    "plt.plot(\n",
    "    [\"YEAR+\" + str(i+1) for i in range(14)],\n",
    "    [np.mean(tmp_shorterm[((i+1)*12-12):((i+1)*12)]) for i in range(14)],\n",
    "    color=\"orange\", marker=\"o\", label=\"short term\"\n",
    ")\n",
    "plt.plot(\n",
    "    [\"YEAR+\" + str(i+1) for i in range(14)],\n",
    "    [np.mean(tmp_longterm[((i+1)*12-12):((i+1)*12)]) for i in range(14)],\n",
    "    linestyle=\"--\", color=\"green\", marker=\"o\", label=\"long term\"\n",
    ")\n",
    "\n",
    "plt.legend(fontsize=14)\n",
    "plt.show()"
   ]
  },
  {
   "cell_type": "code",
   "execution_count": null,
   "id": "ed524a49-c6b6-4657-aa19-5b96fc0aa165",
   "metadata": {},
   "outputs": [],
   "source": [
    "plt.figure(figsize=(20, 9))\n",
    "plt.plot(tmp_shorterm)\n",
    "plt.show()"
   ]
  },
  {
   "cell_type": "code",
   "execution_count": null,
   "id": "44cc81df-5479-4af9-a0e3-7b3880528cd8",
   "metadata": {},
   "outputs": [],
   "source": [
    "plt.figure(figsize=(20, 9))\n",
    "plt.plot(tmp_longterm)\n",
    "plt.show()"
   ]
  },
  {
   "cell_type": "code",
   "execution_count": null,
   "id": "fde0dd9b-210b-47f4-bd21-63255ca80fc9",
   "metadata": {},
   "outputs": [],
   "source": []
  },
  {
   "cell_type": "markdown",
   "id": "1d1c2a99-91c5-47db-a001-42ccb841ce4e",
   "metadata": {},
   "source": [
    "### 민간용"
   ]
  },
  {
   "cell_type": "markdown",
   "id": "2f60c6da-9af6-4abc-b5b0-6b4e179f733c",
   "metadata": {},
   "source": [
    "**correlation table**"
   ]
  },
  {
   "cell_type": "code",
   "execution_count": null,
   "id": "cbf31378-f62c-4bbe-a7b0-248d94a7ad2e",
   "metadata": {},
   "outputs": [],
   "source": [
    "df_corr = pd.concat([\n",
    "    eda_df_dic[\"t0\"].corr().iloc[:-2, -2:],\n",
    "    eda_df_dic[\"short\"].corr().iloc[:-2, -2:],\n",
    "    eda_df_dic[\"intm\"].corr().iloc[:-2, -2:],\n",
    "    eda_df_dic[\"long\"].corr().iloc[:-2, -2:],\n",
    "], axis=1)\n",
    "df_corr = {\n",
    "    \"target_civil\": df_corr.filter(regex=\"target_civil\"),\n",
    "    \"target_ind\":  df_corr.filter(regex=\"target_ind\"),\n",
    "}"
   ]
  },
  {
   "cell_type": "code",
   "execution_count": null,
   "id": "4186a799-8e49-4f54-9cec-ee688b1452a4",
   "metadata": {},
   "outputs": [],
   "source": [
    "# dur_vars = [\"target_civil_t0\", \"target_civil_short\", \"target_civil_intm\", \"target_civil_long\"]\n",
    "# df_corr[\"target_civil\"][\"target_civil_mean\"] = df_corr[\"target_civil\"][dur_vars].mean(axis=1)\n",
    "# df_corr[\"target_civil\"][\"target_civil_std\"] = df_corr[\"target_civil\"][dur_vars].std(axis=1)\n",
    "# df_corr[\"target_civil\"][\"target_civil_meantostd\"] = df_corr[\"target_civil\"][\"target_civil_mean\"] / (df_corr[\"target_civil\"][\"target_civil_std\"] + 1)\n",
    "# df_corr[\"target_civil\"][\"target_civil_longtoshort\"] = df_corr[\"target_civil\"][\"target_civil_long\"].abs() / (df_corr[\"target_civil\"][\"target_civil_short\"].abs() + 1)\n",
    "# df_summary = df_corr[\"target_civil\"].round(4).iloc[np.argsort(df_corr[\"target_civil\"][\"target_civil_short\"].abs().values)[::-1]]\n",
    "# # df_summary.loc[df_summary[\"target_civil_meantostd\"].abs() > 0.2]\n",
    "# df_summary.iloc[:20]"
   ]
  },
  {
   "cell_type": "code",
   "execution_count": null,
   "id": "3b061b49-01f9-4ece-bb69-8f3fea2402bd",
   "metadata": {},
   "outputs": [],
   "source": [
    "df_corr[\"target_civil\"]"
   ]
  },
  {
   "cell_type": "code",
   "execution_count": null,
   "id": "87012444-50fd-437f-a9f3-2b81fbc221b9",
   "metadata": {},
   "outputs": [],
   "source": [
    "# dur_vars = [\"target_civil_t0\", \"target_civil_short\", \"target_civil_intm\", \"target_civil_long\"]\n",
    "dur_vars = [\"target_civil_t0\", \"target_civil_short\", \"target_civil_intm\", \"target_civil_long\"]\n",
    "df_corr[\"target_civil\"][\"target_civil_mean\"] = df_corr[\"target_civil\"][dur_vars].abs().mean(axis=1)\n",
    "df_corr[\"target_civil\"][\"target_civil_std\"] = df_corr[\"target_civil\"][dur_vars].std(axis=1)\n",
    "df_corr[\"target_civil\"][\"target_civil_meantostd\"] = df_corr[\"target_civil\"][\"target_civil_mean\"] / (df_corr[\"target_civil\"][\"target_civil_std\"] + 1)\n",
    "df_corr[\"target_civil\"][\"target_civil_longtoshort\"] = df_corr[\"target_civil\"][\"target_civil_long\"].abs() / (df_corr[\"target_civil\"][\"target_civil_short\"].abs() + 1)\n",
    "\n",
    "df_summary = df_corr[\"target_civil\"].round(4).iloc[np.argsort(df_corr[\"target_civil\"][\"target_civil_meantostd\"].abs().values)[::-1]]\n",
    "display(df_summary[dur_vars + [\"target_civil_mean\", \"target_civil_std\", \"target_civil_meantostd\", \"target_civil_longtoshort\"]].iloc[:50])\n",
    "# base feature : mean to std 0.35 이상만"
   ]
  },
  {
   "cell_type": "code",
   "execution_count": null,
   "id": "326d71a6-01f5-4182-ad34-3c56ea5ef157",
   "metadata": {},
   "outputs": [],
   "source": [
    "df_summary = df_corr[\"target_civil\"].round(4).iloc[np.argsort(df_corr[\"target_civil\"][\"target_civil_t0\"].abs().values)[::-1]]\n",
    "display(df_summary[dur_vars + [\"target_civil_mean\", \"target_civil_std\", \"target_civil_meantostd\", \"target_civil_longtoshort\"]].iloc[:30])\n",
    "t0_term_vars = [\"year_cos\", \"target_civil\", \"서울_최고기온\", \"eurasia_snow_cover\", \"부산_평균습도\"]"
   ]
  },
  {
   "cell_type": "code",
   "execution_count": null,
   "id": "e65de9d3-134e-46bc-a5a5-f5d7a751b321",
   "metadata": {},
   "outputs": [],
   "source": [
    "df_summary = df_corr[\"target_civil\"].round(4).iloc[np.argsort(df_corr[\"target_civil\"][\"target_civil_short\"].abs().values)[::-1]]\n",
    "display(df_summary[dur_vars + [\"target_civil_mean\", \"target_civil_std\", \"target_civil_meantostd\", \"target_civil_longtoshort\"]].iloc[:30])\n",
    "short_term_vars = [\"target_civil\", \"전국평균_최고기온\", \"eurasia_snow_cover\", \"부산_평균습도\", \"year_cos\"]"
   ]
  },
  {
   "cell_type": "code",
   "execution_count": null,
   "id": "bf7aed80-b6d2-4285-b488-75179f5f451b",
   "metadata": {},
   "outputs": [],
   "source": [
    "df_summary = df_corr[\"target_civil\"].round(4).iloc[np.argsort(df_corr[\"target_civil\"][\"target_civil_intm\"].abs().values)[::-1]]\n",
    "display(df_summary[dur_vars + [\"target_civil_mean\", \"target_civil_std\", \"target_civil_meantostd\", \"target_civil_longtoshort\"]].iloc[:30])\n",
    "intm_term_vars = [\"전국평균_최고기온\", \"eurasia_snow_cover\", \"target_civil\", \"부산_평균습도\", \"year_cos\"]"
   ]
  },
  {
   "cell_type": "code",
   "execution_count": null,
   "id": "c0104a46-b125-4336-ba4c-ac0bdb24589d",
   "metadata": {},
   "outputs": [],
   "source": [
    "df_summary = df_corr[\"target_civil\"].round(4).iloc[np.argsort(df_corr[\"target_civil\"][\"target_civil_long\"].abs().values)[::-1]]\n",
    "# df_summary.loc[df_summary[\"target_civil_meantostd\"].abs() > 0.2]\n",
    "# df_summary.iloc[:20]\n",
    "display(df_summary[dur_vars + [\"target_civil_mean\", \"target_civil_std\", \"target_civil_meantostd\", \"target_civil_longtoshort\"]].iloc[:30])\n",
    "long_term_vars = [\"전국평균_최고기온\", \"eurasia_snow_cover\", \"부산_평균습도\", \"target_civil\", \"weight_civil\"]"
   ]
  },
  {
   "cell_type": "markdown",
   "id": "03e5d4fd-3ae8-4657-8a4a-4f9133c62b17",
   "metadata": {},
   "source": [
    "### EDA for short term, long term threshold"
   ]
  },
  {
   "cell_type": "code",
   "execution_count": null,
   "id": "9beb7f31-48d7-4a2b-b430-1e6ed09d9cd9",
   "metadata": {},
   "outputs": [],
   "source": [
    "# dur_short = 12 * 2\n",
    "# dur_intm = 12 * 8\n",
    "# dur_long = 12 * 14\n",
    "\n",
    "# eda_df_dic = {\n",
    "#     \"t0\": pd.concat([df_eda, df_eda[\"target_civil\"].shift(-1).to_frame(name=\"target_civil_t0\"), df_eda[\"target_ind\"].shift(-1).to_frame(\"target_ind_t0\")], axis=1).dropna(),\n",
    "#     \"short\": pd.concat([df_eda, df_eda[\"target_civil\"].shift(-dur_short).to_frame(name=\"target_civil_short\"), df_eda[\"target_ind\"].shift(-dur_short).to_frame(\"target_ind_short\")], axis=1).dropna(),\n",
    "#     \"intm\": pd.concat([df_eda, df_eda[\"target_civil\"].shift(-dur_intm).to_frame(name=\"target_civil_intm\"), df_eda[\"target_ind\"].shift(-dur_intm).to_frame(\"target_ind_intm\")], axis=1).dropna(),\n",
    "#     \"long\": pd.concat([df_eda, df_eda[\"target_civil\"].shift(-dur_long).to_frame(name=\"target_civil_long\"), df_eda[\"target_ind\"].shift(-dur_long).to_frame(\"target_ind_long\")], axis=1).dropna(),\n",
    "# }"
   ]
  },
  {
   "cell_type": "code",
   "execution_count": null,
   "id": "88132bc4-428e-4480-b952-80a03dddfe66",
   "metadata": {},
   "outputs": [],
   "source": [
    "for i in range(1, 169, 1):\n",
    "    eda_df_dic[\"t\" + str(i)] = pd.concat([\n",
    "        df_eda,\n",
    "        df_eda[\"target_ind\"].shift(-i).to_frame(name=\"target_ind_t\" + str(i)),\n",
    "        df_eda[\"target_civil\"].shift(-i).to_frame(name=\"target_civil_t\" + str(i))\n",
    "    ], axis=1).dropna()"
   ]
  },
  {
   "cell_type": "code",
   "execution_count": null,
   "id": "a3c82853-32d9-45ad-bcfc-b51dc07fa089",
   "metadata": {},
   "outputs": [],
   "source": [
    "tmp_shorterm = []\n",
    "tmp_longterm = []\n",
    "\n",
    "for i in range(1, 169, 1):\n",
    "    df_corr = eda_df_dic[\"t\" + str(i)].copy()\n",
    "    tmp_shorterm.append(df_corr.corr().iloc[:-2, -2:].loc[short_term_vars, \"target_civil_t\" + str(i)].abs().mean())\n",
    "    tmp_longterm.append(df_corr.corr().iloc[:-2, -2:].loc[long_term_vars, \"target_civil_t\" + str(i)].abs().mean())\n",
    "#     df_corr[\"target_civil\"][\"target_civil_mean\"] = df_corr[\"target_civil\"][dur_vars].mean(axis=1)\n",
    "#     df_corr[\"target_civil\"][\"target_civil_std\"] = df_corr[\"target_civil\"][dur_vars].std(axis=1)\n",
    "#     df_corr[\"target_civil\"][\"target_civil_meantostd\"] = df_corr[\"target_civil\"][\"target_civil_mean\"] / (df_corr[\"target_civil\"][\"target_civil_std\"] + 1)\n",
    "#     df_corr[\"target_civil\"][\"target_civil_longtoshort\"] = df_corr[\"target_civil\"][\"target_civil_long\"].abs() / (df_corr[\"target_civil\"][\"target_civil_short\"].abs() + 1)\n",
    "#     break\n",
    "    "
   ]
  },
  {
   "cell_type": "code",
   "execution_count": null,
   "id": "373b5fa9-c360-41cc-b922-d12f8f586bcd",
   "metadata": {},
   "outputs": [],
   "source": [
    "plt.figure(figsize=(16, 8))\n",
    "\n",
    "plt.plot(\n",
    "    [\"YEAR+\" + str(i+1) for i in range(14)],\n",
    "    [np.mean(tmp_shorterm[((i+1)*12-12):((i+1)*12)]) for i in range(14)],\n",
    "    color=\"orange\", marker=\"o\", label=\"short term\"\n",
    ")\n",
    "plt.plot(\n",
    "    [\"YEAR+\" + str(i+1) for i in range(14)],\n",
    "    [np.mean(tmp_longterm[((i+1)*12-12):((i+1)*12)]) for i in range(14)],\n",
    "    linestyle=\"--\", color=\"green\", marker=\"o\", label=\"long term\"\n",
    ")\n",
    "\n",
    "plt.legend(fontsize=14)\n",
    "plt.show()"
   ]
  },
  {
   "cell_type": "code",
   "execution_count": null,
   "id": "4c2897eb-7c11-463d-9d39-2e99bd6c8903",
   "metadata": {},
   "outputs": [],
   "source": [
    "plt.figure(figsize=(20, 9))\n",
    "plt.plot(tmp_shorterm)\n",
    "plt.show()"
   ]
  },
  {
   "cell_type": "code",
   "execution_count": null,
   "id": "45668a25-53ed-427e-b17e-d7f6c4a16bb3",
   "metadata": {},
   "outputs": [],
   "source": [
    "plt.figure(figsize=(20, 9))\n",
    "plt.plot(tmp_longterm)\n",
    "plt.show()"
   ]
  },
  {
   "cell_type": "markdown",
   "id": "e854343c-1338-4a3b-be2b-bee734ed90fe",
   "metadata": {},
   "source": [
    "**2-1. Distributin on Target (민간용)**\n",
    "\n",
    "* 민간용 수요는 2005년까지 점진적으로 증가세를 보인다. 그 이후에는 횡보하는 모습이다."
   ]
  },
  {
   "cell_type": "code",
   "execution_count": null,
   "id": "8557152c-a964-42b2-b202-f2ff94abb4fa",
   "metadata": {},
   "outputs": [],
   "source": [
    "plt.figure(figsize=(20, 9))\n",
    "plt.plot([str(i[0]) + \"-\" + str(i[1]) for i in df_eda.groupby([\"year\", \"quarter\"]).mean().index.values], df_eda.groupby([\"year\", \"quarter\"]).mean()[\"target_civil\"].values, marker=\"o\", mfc=\"orange\")\n",
    "plt.title(\"Distribution on civil's natural gas demand\", pad=20, fontsize=14, fontweight=\"bold\")\n",
    "plt.xticks(rotation=90)\n",
    "plt.show()"
   ]
  },
  {
   "cell_type": "code",
   "execution_count": null,
   "id": "b5482134-f2d1-41c4-9106-c2394d98a4f9",
   "metadata": {},
   "outputs": [],
   "source": [
    "plt.figure(figsize=(20, 9))\n",
    "plt.plot([str(i) for i in df_eda.groupby([\"year\"]).mean().index.values], df_eda.groupby([\"year\"]).mean()[\"target_civil\"].values, marker=\"o\", mfc=\"orange\")\n",
    "plt.title(\"Distribution on civil's natural gas demand\", pad=20, fontsize=14, fontweight=\"bold\")\n",
    "plt.xticks(rotation=90)\n",
    "plt.show()"
   ]
  },
  {
   "cell_type": "markdown",
   "id": "15446502-d5c5-4b78-a588-88d5cbb2c51d",
   "metadata": {},
   "source": [
    "**2-2. Distributin on Target (산업용)**\n",
    "\n",
    "* 산업용 수요는 2012년까지 급격한 상승세를 보이다가 이후 살짝 감소 및 횡보하는 모습이다."
   ]
  },
  {
   "cell_type": "code",
   "execution_count": null,
   "id": "e6e4f14a-b1a6-4de4-9d36-7bc23fd64050",
   "metadata": {},
   "outputs": [],
   "source": [
    "plt.figure(figsize=(20, 9))\n",
    "plt.plot([str(i[0]) + \"-\" + str(i[1]) for i in df_eda.groupby([\"year\", \"quarter\"]).mean().index.values], df_eda.groupby([\"year\", \"quarter\"]).mean()[\"target_ind\"].values, marker=\"o\", mfc=\"orange\")\n",
    "plt.title(\"Distribution on industry's natural gas demand\", pad=20)\n",
    "plt.xticks(rotation=90)\n",
    "plt.show()"
   ]
  },
  {
   "cell_type": "code",
   "execution_count": null,
   "id": "4b742d68-9260-4eb6-8234-193533268819",
   "metadata": {},
   "outputs": [],
   "source": [
    "plt.figure(figsize=(20, 9))\n",
    "plt.plot([str(i) for i in df_eda.groupby([\"year\"]).mean().index.values], df_eda.groupby([\"year\"]).mean()[\"target_ind\"].values, marker=\"o\", mfc=\"orange\")\n",
    "plt.title(\"Distribution on civil's natural gas demand\", pad=20, fontsize=14, fontweight=\"bold\")\n",
    "plt.xticks(rotation=90)\n",
    "plt.show()"
   ]
  },
  {
   "cell_type": "markdown",
   "id": "59dfe095-20f9-4b79-95b9-edf8ad047480",
   "metadata": {},
   "source": [
    "**2-3. Distribution on features by timeseries**\n",
    "\n",
    "* 산업용대비 민간용 수요는 점차 줄고 있다. (민간용은 그래도이나 산업용 수요가 2012년까지 점차 증가했기 때문)\n",
    "* 산업용 부가가치는 지속적으로 증가 중 (명목가치로 계산된 것으로 보여 실질적으로 증가했는지는 추가 작업을 통해 확인해야함)\n",
    "* 천연가스 가격은 2013년 까지 상승 후 하락\n",
    "* 오일 가격은 2011년 까지 상승 후 하락"
   ]
  },
  {
   "cell_type": "code",
   "execution_count": null,
   "id": "3a60b085-75a7-4c03-b7d5-bef4112f4cc7",
   "metadata": {},
   "outputs": [],
   "source": [
    "for i in df_eda.columns:\n",
    "    if i in target_vars:\n",
    "        continue\n",
    "    plt.figure(figsize=(20, 9))\n",
    "    plt.plot([str(i[0]) + \"-\" + str(i[1]) for i in df_eda.groupby([\"year\", \"quarter\"]).mean().index.values], df_eda.groupby([\"year\", \"quarter\"]).mean()[i].values, marker=\"o\", mfc=\"orange\")\n",
    "    plt.title(\"Distribution on \" + i, pad=20)\n",
    "    plt.xticks(rotation=90)\n",
    "    plt.show()"
   ]
  },
  {
   "cell_type": "markdown",
   "id": "f143c3b2-5e39-4ca6-bb4b-3bc96ae2acaa",
   "metadata": {},
   "source": [
    "**2-4. Scatter plot on feature & target (민간용) - short**\n",
    "* 상대가격은 민간용 수요와 크게 상관성이 없음\n",
    "* 산업용 수요와 비교했을 시, 민간용 수요는 가격과 큰 상관성이 없다고 보여짐\n",
    "* **기후관련 feature는 큰 상관성이 있을 것이라고 기대됨**\n",
    "* 바로 다음 월과의 상관관계보다 같은 월에 대해 더 큰 상관관계를 가짐 (계절 영향일 것으로 보임)"
   ]
  },
  {
   "cell_type": "code",
   "execution_count": null,
   "id": "e6799da5-2b28-44f9-8a13-e0998a36a068",
   "metadata": {},
   "outputs": [],
   "source": [
    "for i in eda_df_dic[\"short\"].columns:\n",
    "    if i in [\"target_civil_short\", \"target_ind_short\"]:\n",
    "        continue\n",
    "    plt.figure(figsize=(12, 8))\n",
    "    plt.scatter(eda_df_dic[\"short\"][i].values, eda_df_dic[\"short\"][\"target_civil_short\"].values, color=\"orange\", edgecolor=\"black\")\n",
    "    corr = np.corrcoef(eda_df_dic[\"short\"][i].values, eda_df_dic[\"short\"][\"target_civil_short\"].values)[0,1]\n",
    "    plt.title(f\"Scatter plot on {i} (민간용 short term) - (Correlation={np.round(corr, 3)})\", pad=20, weight=\"bold\", fontsize=14)\n",
    "    x_range = plt.xlim()\n",
    "    y_range = plt.ylim()\n",
    "    reg = linregress(eda_df_dic[\"short\"][i].values, eda_df_dic[\"short\"][\"target_civil_short\"].values)\n",
    "    corr = np.corrcoef(eda_df_dic[\"short\"][i].values, eda_df_dic[\"short\"][\"target_civil_short\"].values)[0,1]\n",
    "    plt.axline(xy1=(0, reg.intercept), slope=reg.slope, linestyle=\"--\", color=\"green\")\n",
    "    plt.xlim(x_range)\n",
    "#     plt.text(x_range[0] + 0.1 * np.abs(x_range[0]), y_range[1] - 0.1 * np.abs(y_range[1]), s=f\"Correlation : {np.round(corr, 3)}\", weight=\"bold\", fontsize=12)\n",
    "    plt.show()"
   ]
  },
  {
   "cell_type": "markdown",
   "id": "16d284d8-9037-4aa9-a81f-8a1099d92bb1",
   "metadata": {},
   "source": [
    "**2-4. Scatter plot on feature & target (민간용) - long**"
   ]
  },
  {
   "cell_type": "code",
   "execution_count": null,
   "id": "038ea8d2-ebe6-4110-9b01-991eb2f90af1",
   "metadata": {},
   "outputs": [],
   "source": [
    "for i in eda_df_dic[\"long\"].columns:\n",
    "    if i in [\"target_civil_long\", \"target_ind_long\"]:\n",
    "        continue\n",
    "    plt.figure(figsize=(12, 8))\n",
    "    plt.scatter(eda_df_dic[\"long\"][i].values, eda_df_dic[\"long\"][\"target_civil_long\"].values, color=\"orange\", edgecolor=\"black\")\n",
    "    corr = np.corrcoef(eda_df_dic[\"long\"][i].values, eda_df_dic[\"long\"][\"target_civil_long\"].values)[0,1]\n",
    "    plt.title(f\"Scatter plot on {i} (민간용 long term) - (Correlation : {np.round(corr, 3)})\", pad=20, weight=\"bold\", fontsize=14)\n",
    "    x_range = plt.xlim()\n",
    "    y_range = plt.ylim()\n",
    "    reg = linregress(eda_df_dic[\"long\"][i].values, eda_df_dic[\"long\"][\"target_civil_long\"].values)\n",
    "    corr = np.corrcoef(eda_df_dic[\"long\"][i].values, eda_df_dic[\"long\"][\"target_civil_long\"].values)[0,1]\n",
    "    plt.axline(xy1=(0, reg.intercept), slope=reg.slope, linestyle=\"--\", color=\"green\")\n",
    "    plt.xlim(x_range)\n",
    "#     plt.text(x_range[0] + 0.1 * np.abs(x_range[0]), y_range[1] - 0.1 * np.abs(y_range[1]), s=f\"Correlation : {np.round(corr, 3)}\", weight=\"bold\", fontsize=12)\n",
    "    plt.show()"
   ]
  },
  {
   "cell_type": "markdown",
   "id": "f9f85125-5b93-4406-ae7d-c2d9ee1122e6",
   "metadata": {},
   "source": [
    "**2-5. Scatter plot on feature & target (산업용) - short**\n",
    "\n",
    "* 산업용부가가치와 큰 양의 상관관계를 가짐 \n",
    "* 천연가스 가격 뿐만 아닌 오일 가격과도 큰 양의 상관관계를 가짐\n",
    "* **산업용 부분은 기후보다 경제상황과 관련된 feature와 큰 상관성을 가질 것이라고 기대 됨**"
   ]
  },
  {
   "cell_type": "code",
   "execution_count": null,
   "id": "4beb3ce8-57ea-4743-b83e-d8a6f0b5d963",
   "metadata": {},
   "outputs": [],
   "source": [
    "for i in eda_df_dic[\"short\"].columns:\n",
    "    if i in [\"target_civil_short\", \"target_ind_short\"]:\n",
    "        continue\n",
    "    plt.figure(figsize=(12, 8))\n",
    "    plt.scatter(eda_df_dic[\"short\"][i].values, eda_df_dic[\"short\"][\"target_ind_short\"].values, color=\"orange\", edgecolor=\"black\")\n",
    "    corr = np.corrcoef(eda_df_dic[\"short\"][i].values, eda_df_dic[\"short\"][\"target_ind_short\"].values)[0,1]\n",
    "    plt.title(f\"Scatter plot on {i} (산업용 short term) - (Correlation : {np.round(corr, 3)})\", pad=20, weight=\"bold\", fontsize=14)\n",
    "    x_range = plt.xlim()\n",
    "    y_range = plt.ylim()\n",
    "    reg = linregress(eda_df_dic[\"short\"][i].values, eda_df_dic[\"short\"][\"target_ind_short\"].values)\n",
    "    corr = np.corrcoef(eda_df_dic[\"short\"][i].values, eda_df_dic[\"short\"][\"target_ind_short\"].values)[0,1]\n",
    "    plt.axline(xy1=(0, reg.intercept), slope=reg.slope, linestyle=\"--\", color=\"green\")\n",
    "    plt.xlim(x_range)\n",
    "#     plt.text(x_range[0] + 0.1 * np.abs(x_range[0]), y_range[1] - 0.1 * np.abs(y_range[1]), s=f\"Correlation : {np.round(corr, 3)}\", weight=\"bold\", fontsize=12)\n",
    "    plt.show()"
   ]
  },
  {
   "cell_type": "markdown",
   "id": "603297b2-8ab7-4035-9e5e-ad5505587a2b",
   "metadata": {},
   "source": [
    "**2-5. Scatter plot on feature & target (산업용) - long**"
   ]
  },
  {
   "cell_type": "code",
   "execution_count": null,
   "id": "3a53a848-a453-41f0-875e-49b0a05243b3",
   "metadata": {},
   "outputs": [],
   "source": [
    "for i in eda_df_dic[\"long\"].columns:\n",
    "    if i in [\"target_civil_long\", \"target_ind_long\"]:\n",
    "        continue\n",
    "    plt.figure(figsize=(12, 8))\n",
    "    plt.scatter(eda_df_dic[\"long\"][i].values, eda_df_dic[\"long\"][\"target_ind_long\"].values, color=\"orange\", edgecolor=\"black\")\n",
    "    corr = np.corrcoef(eda_df_dic[\"long\"][i].values, eda_df_dic[\"long\"][\"target_ind_long\"].values)[0,1]\n",
    "    plt.title(f\"Scatter plot on {i} (산업용 short term) - (Correlation : {np.round(corr, 3)})\", pad=20, weight=\"bold\", fontsize=14)\n",
    "    x_range = plt.xlim()\n",
    "    y_range = plt.ylim()\n",
    "    reg = linregress(eda_df_dic[\"long\"][i].values, eda_df_dic[\"long\"][\"target_ind_long\"].values)\n",
    "    corr = np.corrcoef(eda_df_dic[\"long\"][i].values, eda_df_dic[\"long\"][\"target_ind_long\"].values)[0,1]\n",
    "    plt.axline(xy1=(0, reg.intercept), slope=reg.slope, linestyle=\"--\", color=\"green\")\n",
    "    plt.xlim(x_range)\n",
    "#     plt.text(x_range[0] + 0.1 * np.abs(x_range[0]), y_range[1] - 0.1 * np.abs(y_range[1]), s=f\"Correlation : {np.round(corr, 3)}\", weight=\"bold\", fontsize=12)\n",
    "    plt.show()"
   ]
  },
  {
   "cell_type": "markdown",
   "id": "0817a307-7834-4ded-a542-639986cbe409",
   "metadata": {},
   "source": [
    "**create data pipeline**"
   ]
  },
  {
   "cell_type": "code",
   "execution_count": null,
   "id": "fd73e82b-69e9-4f74-b00d-cd78cdc3eb97",
   "metadata": {},
   "outputs": [],
   "source": [
    "df_full.isna().sum().sum()"
   ]
  },
  {
   "cell_type": "code",
   "execution_count": null,
   "id": "c8595524-c5c9-44b0-a04d-9f1e491fc005",
   "metadata": {},
   "outputs": [],
   "source": [
    "nontrain_vars = [\"year\"]\n",
    "bin_vars = []\n",
    "cat_vars = [\"quarter\", \"month\"]\n",
    "num_vars = diff(df_full.columns, target_vars + nontrain_vars + bin_vars + cat_vars)"
   ]
  },
  {
   "cell_type": "code",
   "execution_count": null,
   "id": "3811fd33-e079-46f4-8b49-f6a4e8641ec2",
   "metadata": {},
   "outputs": [],
   "source": [
    "df_full[num_vars] = df_full[num_vars].astype(\"float32\")"
   ]
  },
  {
   "cell_type": "code",
   "execution_count": null,
   "id": "d2295100-93cf-4a73-880c-aec47217a93b",
   "metadata": {},
   "outputs": [],
   "source": [
    "pred_steps = 168\n",
    "seqLength = 12 + 1\n",
    "\n",
    "def get_multilabel(df):\n",
    "    concat_list = []\n",
    "    for i in range(len(df)):\n",
    "        valid_split_point = len(df) - pred_steps - i\n",
    "        if valid_split_point < 1:\n",
    "            valid_split_point += 1\n",
    "            i -= 1\n",
    "            break\n",
    "        tmp_target = df[target_vars].iloc[valid_split_point:(len(df)-i)]\n",
    "        tmp_civil = tmp_target[\"target_civil\"].to_frame().T\n",
    "        tmp_civil.columns = [\"target_civil_t\" + str(i) for i in range(pred_steps)]\n",
    "\n",
    "        tmp_ind = tmp_target[\"target_ind\"].to_frame().T\n",
    "        tmp_ind.columns = [\"target_ind_t\" + str(i) for i in range(pred_steps)]\n",
    "\n",
    "        concat_list.append(\n",
    "            pd.concat([\n",
    "                df.iloc[valid_split_point-1].to_frame().T.reset_index(drop=True),\n",
    "                tmp_civil.reset_index(drop=True), tmp_ind.reset_index(drop=True)\n",
    "            ], axis=1)\n",
    "        )\n",
    "    return pd.concat(concat_list, axis=0, ignore_index=True)[::-1].reset_index(drop=True)"
   ]
  },
  {
   "cell_type": "code",
   "execution_count": null,
   "id": "ad135ac6-a029-48c7-b9b8-b53dcaa4051d",
   "metadata": {},
   "outputs": [],
   "source": [
    "ref_date_range = pd.Index(df_full[[\"year\", \"quarter\", \"month\"]].iloc[(seqLength-1):])\n",
    "df_full = df_full.drop(nontrain_vars, axis=1)\n",
    "\n",
    "ohe = OneHotEncoder(sparse=False)\n",
    "df_full = pd.concat([df_full.drop(cat_vars, axis=1), pd.DataFrame(ohe.fit_transform(df_full[cat_vars]))], axis=1)"
   ]
  },
  {
   "cell_type": "code",
   "execution_count": null,
   "id": "1ca8ca4a-3aa6-4721-b325-32eac4556c34",
   "metadata": {},
   "outputs": [],
   "source": [
    "# df_test = df_full.iloc[(-pred_steps-seqLength+1):]\n",
    "df_test = df_full.iloc[-pred_steps:]\n",
    "df_full = get_multilabel(df_full)"
   ]
  },
  {
   "cell_type": "code",
   "execution_count": null,
   "id": "507961c8-10fd-4ac0-b826-7d7dbc319233",
   "metadata": {},
   "outputs": [],
   "source": [
    "df_full"
   ]
  },
  {
   "cell_type": "code",
   "execution_count": null,
   "id": "74d47812-40c5-44da-a15c-a95b918504c7",
   "metadata": {},
   "outputs": [],
   "source": [
    "df_test"
   ]
  },
  {
   "cell_type": "markdown",
   "id": "a21a3623-dd46-4a75-8494-57fb5ccd0352",
   "metadata": {},
   "source": [
    "## Modeling - baseline"
   ]
  },
  {
   "cell_type": "code",
   "execution_count": null,
   "id": "b12e0436-f012-43a7-b832-d366f68ce7c3",
   "metadata": {},
   "outputs": [],
   "source": [
    "architecture_name = \"fv\" + str(feature_version) + \"_linear_targetTF_outputMed_try2\"\n",
    "architecture_root_path = folder_path + \"architectures\\\\\" + architecture_name + \"\\\\\"\n",
    "if not os.path.exists(architecture_root_path):\n",
    "    os.makedirs(architecture_root_path)\n",
    "shutil.copy(folder_path + \"YJ_baseline_noSeq_targetTF.ipynb\", architecture_root_path + \"YJ_baseline_noSeq_targetTF.ipynb\")"
   ]
  },
  {
   "cell_type": "markdown",
   "id": "e2e279ae-5481-479b-9cf6-2fda14feb786",
   "metadata": {
    "tags": []
   },
   "source": [
    "### 민간용 부분 training & inference"
   ]
  },
  {
   "cell_type": "markdown",
   "id": "9e6e0aa0-2ae0-42ca-a5d6-451a3dd2bfc9",
   "metadata": {},
   "source": [
    "**learning parameter setting**"
   ]
  },
  {
   "cell_type": "code",
   "execution_count": null,
   "id": "33e5c94a-f02e-4ec0-86e2-858f07a32d9d",
   "metadata": {},
   "outputs": [],
   "source": [
    "def do_fold_training(target_name, another_target_name):\n",
    "    for fold, (train_idx, valid_idx) in enumerate(kfolds_spliter.split(df_full)):\n",
    "        scaler = StandardScaler()\n",
    "        target_scaler = StandardScaler()\n",
    "\n",
    "        train_ds = df_full.iloc[train_idx].reset_index(drop=True)\n",
    "    #     train_ds[num_vars + [\"target_ind\"]] = scaler.fit_transform(train_ds[num_vars + [\"target_ind\"]])\n",
    "    #     train_ds[[target_name]] = target_scaler.fit_transform(train_ds[[target_name]])\n",
    "        train_ds[scaling_vars] = np.log1p(train_ds[scaling_vars])\n",
    "        train_ds[[target_name]] = np.log1p(train_ds[[target_name]])\n",
    "\n",
    "\n",
    "        valid_ds = df_full.iloc[valid_idx]\n",
    "    #     valid_ds[num_vars + [\"target_ind\"]] = scaler.transform(valid_ds[num_vars + [\"target_ind\"]])\n",
    "    #     valid_ds[[target_name]] = target_scaler.transform(valid_ds[[target_name]])\n",
    "        valid_ds[scaling_vars] = np.log1p(valid_ds[scaling_vars])\n",
    "        valid_ds[[target_name]] = np.log1p(valid_ds[[target_name]])\n",
    "\n",
    "        test_ds = df_test.iloc[:]\n",
    "    #     test_ds[num_vars + [\"target_ind\"]] = scaler.transform(test_ds[num_vars + [\"target_ind\"]])\n",
    "    #     test_ds[[target_name]] = target_scaler.transform(test_ds[[target_name]])\n",
    "        test_ds[scaling_vars] = np.log1p(test_ds[scaling_vars])\n",
    "        test_ds[[target_name]] = np.log1p(test_ds[[target_name]])\n",
    "\n",
    "        base_model = LinearRegression()\n",
    "        chain_model = RegressorChain(base_model, cv=None, random_state=42)\n",
    "\n",
    "        target_df = train_ds.filter(regex=target_name + \"_t\").to_numpy()\n",
    "    #     chain_model.fit(\n",
    "    #         train_ds[diff(train_ds.columns, list(train_ds.filter(regex='target_civil_t').columns) + list(train_ds.filter(regex='target_ind_t').columns))].to_numpy(),\n",
    "    #         np.concatenate([target_scaler.transform(target_df[:,[i]]) for i in range(target_df.shape[1])], axis=1)\n",
    "    #     )\n",
    "        chain_model.fit(\n",
    "            train_ds[diff(train_ds.columns, list(train_ds.filter(regex='target_civil_t').columns) + list(train_ds.filter(regex='target_ind_t').columns))].to_numpy(),\n",
    "            np.concatenate([np.log1p(target_df[:,[i]]) for i in range(target_df.shape[1])], axis=1)\n",
    "        )\n",
    "\n",
    "        tmp_pred = chain_model.predict(\n",
    "            valid_ds[diff(valid_ds.columns, list(valid_ds.filter(regex='target_civil_t').columns) + list(valid_ds.filter(regex='target_ind_t').columns))].to_numpy()\n",
    "        )\n",
    "    #     valid_pred = np.concatenate([target_scaler.inverse_transform(tmp_pred[:,[i]]) for i in range(tmp_pred.shape[1])], axis=1)\n",
    "        valid_pred = np.concatenate([np.expm1(tmp_pred[:,[i]]) for i in range(tmp_pred.shape[1])], axis=1)\n",
    "\n",
    "        tmp_pred = chain_model.predict(\n",
    "            test_ds[diff(test_ds.columns, list(test_ds.filter(regex='target_civil_t').columns) + list(test_ds.filter(regex='target_ind_t').columns))].to_numpy()\n",
    "        )\n",
    "    #     test_pred[target_name][:] += np.concatenate([target_scaler.inverse_transform(tmp_pred[:,[i]]) for i in range(tmp_pred.shape[1])], axis=1) / n_folds\n",
    "        test_pred[target_name][:] += np.concatenate([np.expm1(tmp_pred[:,[i]]) for i in range(tmp_pred.shape[1])], axis=1) / n_folds\n",
    "\n",
    "        metric_list[\"MAE\"].append(skl_merics.mean_absolute_error(valid_pred, valid_ds.filter(regex=target_name + \"_t\").to_numpy()))\n",
    "        metric_list[\"MAPE\"].append(skl_merics.mean_absolute_percentage_error(valid_pred, valid_ds.filter(regex=target_name + \"_t\").to_numpy(), multioutput=\"uniform_average\"))\n",
    "\n",
    "        scaler_list.append(scaler)\n",
    "        model_list.append(chain_model)"
   ]
  },
  {
   "cell_type": "code",
   "execution_count": null,
   "id": "e51bbb91-3f03-49af-a6e5-e1f505537421",
   "metadata": {},
   "outputs": [],
   "source": [
    "test_pred = {\n",
    "    \"target_civil\": np.zeros(shape=(pred_steps, pred_steps)),\n",
    "    \"target_ind\": np.zeros(shape=(pred_steps, pred_steps))\n",
    "}"
   ]
  },
  {
   "cell_type": "code",
   "execution_count": null,
   "id": "f1153230-89c0-4376-8716-c4bedbb338ac",
   "metadata": {},
   "outputs": [],
   "source": [
    "# 맨 마지막 fold가 가장 최신임\n",
    "n_folds = 4\n",
    "# group_kfolds_dic = get_cv_dic(n_folds=n_folds, ref_idx=np.array(range(len(df_full_x))))\n",
    "kfolds_spliter = TimeSeriesSplit(n_folds, max_train_size=60, test_size=3)\n",
    "\n",
    "target_name = \"target_civil\"\n",
    "another_target_name = \"target_ind\"\n",
    "scaling_vars = [\"qva\", \"gas_price\", \"oil_price\"] + [target_name, another_target_name]\n",
    "\n",
    "scaler_list = []\n",
    "model_list = []\n",
    "metric_list = {\n",
    "    \"MAE\": [],\n",
    "    \"MAPE\": []\n",
    "}\n",
    "\n",
    "seed_everything()\n",
    "do_fold_training(target_name, another_target_name)"
   ]
  },
  {
   "cell_type": "code",
   "execution_count": null,
   "id": "950df18c-1395-4929-bf60-52263bb11e0d",
   "metadata": {},
   "outputs": [],
   "source": [
    "score_table = pd.DataFrame(metric_list)\n",
    "score_table.loc[\"average\"] = score_table.mean(axis=0)\n",
    "score_table.loc[\"std\"] = score_table.std(axis=0)\n",
    "score_table.to_csv(architecture_root_path + target_name + \"_score_table.csv\", index=True)"
   ]
  },
  {
   "cell_type": "code",
   "execution_count": null,
   "id": "c21c629f-7726-48c3-abf5-5a1027d361f9",
   "metadata": {},
   "outputs": [],
   "source": [
    "score_table"
   ]
  },
  {
   "cell_type": "markdown",
   "id": "38f967ea-516c-4d2a-809e-a325263c447f",
   "metadata": {},
   "source": [
    "### 산업용 부분 training & inference"
   ]
  },
  {
   "cell_type": "code",
   "execution_count": null,
   "id": "f6ef9a96-e030-4d95-942e-77f685121689",
   "metadata": {},
   "outputs": [],
   "source": [
    "# 맨 마지막 fold가 가장 최신임\n",
    "n_folds = 4\n",
    "# group_kfolds_dic = get_cv_dic(n_folds=n_folds, ref_idx=np.array(range(len(df_full_x))))\n",
    "kfolds_spliter = TimeSeriesSplit(n_folds, max_train_size=60, test_size=3)\n",
    "\n",
    "target_name = \"target_ind\"\n",
    "another_target_name = \"target_civil\"\n",
    "scaling_vars = [\"qva\", \"gas_price\", \"oil_price\"] + [target_name, another_target_name]\n",
    "\n",
    "scaler_list = []\n",
    "model_list = []\n",
    "metric_list = {\n",
    "    \"MAE\": [],\n",
    "    \"MAPE\": []\n",
    "}\n",
    "\n",
    "seed_everything()\n",
    "do_fold_training(target_name, another_target_name)"
   ]
  },
  {
   "cell_type": "code",
   "execution_count": null,
   "id": "4d6bc184-fa98-41a7-926f-8921cb0e4e28",
   "metadata": {},
   "outputs": [],
   "source": [
    "score_table = pd.DataFrame(metric_list)\n",
    "score_table.loc[\"average\"] = score_table.mean(axis=0)\n",
    "score_table.loc[\"std\"] = score_table.std(axis=0)\n",
    "score_table.to_csv(architecture_root_path + target_name + \"_score_table.csv\", index=True)"
   ]
  },
  {
   "cell_type": "code",
   "execution_count": null,
   "id": "b505cc24-b1bc-4a5e-8503-1c005f1b87a7",
   "metadata": {},
   "outputs": [],
   "source": [
    "score_table"
   ]
  },
  {
   "cell_type": "code",
   "execution_count": null,
   "id": "cc9feead-fac2-4d1a-be40-f39771fff424",
   "metadata": {},
   "outputs": [],
   "source": [
    "df_submission = pd.read_csv('C:\\\\Users\\\\kogas\\\\Desktop\\\\task1_files\\\\dataset\\\\submission_sample.csv')\n",
    "df_submission.info()"
   ]
  },
  {
   "cell_type": "markdown",
   "id": "3d5d3b60-94ce-4625-bff5-073a8d85bc0d",
   "metadata": {},
   "source": [
    "## Submission"
   ]
  },
  {
   "cell_type": "code",
   "execution_count": null,
   "id": "0f2ec884-c64e-418c-afe1-5793477a53b1",
   "metadata": {},
   "outputs": [],
   "source": [
    "df_submission = pd.read_csv('C:\\\\Users\\\\kogas\\\\Desktop\\\\task1_files\\\\dataset\\\\submission_sample.csv')\n",
    "df_submission.head()"
   ]
  },
  {
   "cell_type": "markdown",
   "id": "8477c610-9bdb-4320-92af-aead12d93532",
   "metadata": {},
   "source": [
    "### 민간용 submission"
   ]
  },
  {
   "cell_type": "code",
   "execution_count": null,
   "id": "10978b14-94e2-455f-adfe-7efa5efca378",
   "metadata": {},
   "outputs": [],
   "source": [
    "fliped_output = np.fliplr(test_pred[\"target_civil\"])\n",
    "output_list = []\n",
    "for i in range(test_pred[\"target_civil\"].shape[0]):\n",
    "#     output_list.append(round(trim_mean(fliped_output.diagonal(-i), proportiontocut=0.25), 3))\n",
    "    output_list.append(round(np.median(fliped_output.diagonal(-i)), 3))\n",
    "#     output_list.append(round(pd.Series(fliped_output.diagonal(-i)).ewm(alpha=0.5, min_periods=len(fliped_output.diagonal(-i))).mean().iloc[-1], 3))"
   ]
  },
  {
   "cell_type": "code",
   "execution_count": null,
   "id": "553b4b91-b3a6-4cd5-a403-d6af63c03422",
   "metadata": {},
   "outputs": [],
   "source": [
    "df_submission[\"CIVIL\"] = output_list"
   ]
  },
  {
   "cell_type": "markdown",
   "id": "3cdad2ef-6611-43e6-96cb-e6abfa9588eb",
   "metadata": {},
   "source": [
    "### 산업용 submission"
   ]
  },
  {
   "cell_type": "code",
   "execution_count": null,
   "id": "53a67f97-8f04-403b-875d-a11d9855ae41",
   "metadata": {},
   "outputs": [],
   "source": [
    "fliped_output = np.fliplr(test_pred[\"target_ind\"])\n",
    "output_list = []\n",
    "for i in range(test_pred[\"target_ind\"].shape[0]):\n",
    "#     output_list.append(round(trim_mean(fliped_output.diagonal(-i), proportiontocut=0.25), 3))\n",
    "    output_list.append(round(np.median(fliped_output.diagonal(-i)) , 3))\n",
    "#     output_list.append(round(pd.Series(fliped_output.diagonal(-i)).ewm(alpha=0.5, min_periods=len(fliped_output.diagonal(-i))).mean().iloc[-1], 3))"
   ]
  },
  {
   "cell_type": "code",
   "execution_count": null,
   "id": "7598f05f-6486-40a5-bd75-2220b66e5eb8",
   "metadata": {},
   "outputs": [],
   "source": [
    "output_list[:5]"
   ]
  },
  {
   "cell_type": "code",
   "execution_count": null,
   "id": "740ac488-d444-4b3a-93cf-3e5d12bd6721",
   "metadata": {},
   "outputs": [],
   "source": [
    "df_submission[\"IND\"] = output_list"
   ]
  },
  {
   "cell_type": "code",
   "execution_count": null,
   "id": "710b4e93-85fd-4c32-a435-3407aa7c58f3",
   "metadata": {},
   "outputs": [],
   "source": [
    "df_submission"
   ]
  },
  {
   "cell_type": "code",
   "execution_count": null,
   "id": "256b9b84-55a8-423d-a0db-3126da314a40",
   "metadata": {},
   "outputs": [],
   "source": [
    "df_submission.to_csv(architecture_root_path + architecture_name + \".csv\", index=False)"
   ]
  },
  {
   "cell_type": "markdown",
   "id": "289602b6-2643-45f1-9e9f-ba097b43ad14",
   "metadata": {},
   "source": [
    "## Visualization on inference data"
   ]
  },
  {
   "cell_type": "markdown",
   "id": "d63efc86-a704-44b6-a79b-1fd7b0cd2394",
   "metadata": {},
   "source": [
    "**create dataframe for visualization**"
   ]
  },
  {
   "cell_type": "code",
   "execution_count": null,
   "id": "1db95cf8-21fc-47e4-afeb-d75a26646c82",
   "metadata": {},
   "outputs": [],
   "source": [
    "df_result_viz = df_submission.copy()\n",
    "df_result_viz.columns = df_result_viz.columns.str.lower()\n",
    "df_result_viz[\"quarter\"] = df_result_viz[\"month\"].apply(lambda x: month_dic[x])\n",
    "df_result_viz"
   ]
  },
  {
   "cell_type": "markdown",
   "id": "783c732e-f75e-455e-87d5-6e0ff3d2ae25",
   "metadata": {},
   "source": [
    "**for civil (분기 평균)**"
   ]
  },
  {
   "cell_type": "code",
   "execution_count": null,
   "id": "047d0302-0b24-49c4-8d2a-cb0060e69a29",
   "metadata": {},
   "outputs": [],
   "source": [
    "plt.figure(figsize=(20, 9))\n",
    "plt.plot(\n",
    "    [str(i[0]) + \"-\" + str(i[1]) for i in df_eda.loc[df_eda.index.get_level_values(0) >= 2010].groupby([\"year\", \"quarter\"]).mean().index.values],\n",
    "    df_eda.loc[df_eda.index.get_level_values(0) >= 2010].groupby([\"year\", \"quarter\"]).mean()[\"target_civil\"].values,\n",
    "    marker=\"o\", mfc=\"orange\"\n",
    ")\n",
    "plt.plot(\n",
    "    [str(i[0]) + \"-\" + str(i[1]) for i in df_result_viz.groupby([\"year\", \"quarter\"]).mean().index.values],\n",
    "    df_result_viz.groupby([\"year\", \"quarter\"]).mean()[\"civil\"].values,\n",
    "    color=\"grey\", linestyle=\"--\", marker=\"o\", mfc=\"green\"\n",
    ")\n",
    "plt.title(\"forecasting on civil natural gas demand\", pad=20, fontsize=14, weight=\"bold\")\n",
    "plt.xticks(rotation=90)\n",
    "plt.show()"
   ]
  },
  {
   "cell_type": "markdown",
   "id": "305a84ab-2211-4d11-bcd2-6d83950fcc79",
   "metadata": {},
   "source": [
    "**for industrial (분기 평균)**"
   ]
  },
  {
   "cell_type": "code",
   "execution_count": null,
   "id": "9fb71140-7411-444b-8bdf-ff944785e586",
   "metadata": {},
   "outputs": [],
   "source": [
    "plt.figure(figsize=(20, 9))\n",
    "plt.plot(\n",
    "    [str(i[0]) + \"-\" + str(i[1]) for i in df_eda.loc[df_eda.index.get_level_values(0) >= 2010].groupby([\"year\", \"quarter\"]).mean().index.values],\n",
    "    df_eda.loc[df_eda.index.get_level_values(0) >= 2010].groupby([\"year\", \"quarter\"]).mean()[\"target_ind\"].values,\n",
    "    marker=\"o\", mfc=\"orange\"\n",
    ")\n",
    "plt.plot(\n",
    "    [str(i[0]) + \"-\" + str(i[1]) for i in df_result_viz.groupby([\"year\", \"quarter\"]).mean().index.values],\n",
    "    df_result_viz.groupby([\"year\", \"quarter\"]).mean()[\"ind\"].values,\n",
    "    color=\"grey\", linestyle=\"--\", marker=\"o\", mfc=\"green\"\n",
    ")\n",
    "plt.title(\"forecasting on industrial natural gas demand\", pad=20, fontsize=14, weight=\"bold\")\n",
    "plt.xticks(rotation=90)\n",
    "plt.show()"
   ]
  }
 ],
 "metadata": {
  "kernelspec": {
   "display_name": "conda_kogas_3.8.10",
   "language": "python",
   "name": "kogas"
  },
  "language_info": {
   "codemirror_mode": {
    "name": "ipython",
    "version": 3
   },
   "file_extension": ".py",
   "mimetype": "text/x-python",
   "name": "python",
   "nbconvert_exporter": "python",
   "pygments_lexer": "ipython3",
   "version": "3.8.10"
  },
  "vscode": {
   "interpreter": {
    "hash": "3e3016afa388d710912df1f7fba6b17acce9a1a9b5b9ac735b3e9c0d92ae6d4b"
   }
  }
 },
 "nbformat": 4,
 "nbformat_minor": 5
}

{
 "cells": [
  {
   "cell_type": "markdown",
   "metadata": {},
   "source": [
    "## Setup"
   ]
  },
  {
   "cell_type": "code",
   "execution_count": null,
   "metadata": {},
   "outputs": [],
   "source": [
    "import sys\n",
    "import os\n",
    "import IPython\n",
    "import multiprocessing\n",
    "import copy\n",
    "import pickle\n",
    "import warnings\n",
    "from datetime import datetime\n",
    "from time import time\n",
    "from matplotlib import font_manager as fm, rc, rcParams\n",
    "import matplotlib.pyplot as plt\n",
    "import seaborn as sns\n",
    "\n",
    "import numpy as np\n",
    "from numpy import array, nan, random as rnd, where as which\n",
    "import pandas as pd\n",
    "from pandas import DataFrame as dataframe, Series as series, isna, isnull, read_csv\n",
    "from pandas.tseries.offsets import DateOffset\n",
    "from scipy.special import boxcox1p\n",
    "from scipy.stats import skew\n",
    "\n",
    "import pandas as pd\n",
    "import numpy as np\n",
    "import os\n",
    "import FinanceDataReader as fdr\n",
    "\n",
    "from sklearn.linear_model import LinearRegression\n",
    "import xgboost as xgb\n",
    "from catboost import CatBoostClassifier\n",
    "from catboost import CatBoostRegressor\n",
    "from xgboost import XGBRegressor\n",
    "from lightgbm import LGBMRegressor\n",
    "from tqdm import tqdm\n",
    "\n",
    "# display setting\n",
    "warnings.filterwarnings(action='ignore')\n",
    "rcParams['axes.unicode_minus'] = False\n",
    "pd.set_option('display.max_columns', 20)\n",
    "pd.set_option('display.max_rows', 400)\n",
    "pd.set_option('display.width', 1500)\n",
    "\n",
    "# plot setting\n",
    "# 폰트 경로 본인 PC에 맞춰 설정\n",
    "font_path = 'c:/windows/fonts/KoPub Dotum Light.ttf'\n",
    "font_obj = fm.FontProperties(fname=font_path, size=12).get_name()\n",
    "rc('font', family=font_obj)\n",
    "myColors = sns.hls_palette(20, s=0.4)"
   ]
  },
  {
   "cell_type": "markdown",
   "metadata": {},
   "source": [
    "## Loading data"
   ]
  },
  {
   "cell_type": "code",
   "execution_count": null,
   "metadata": {},
   "outputs": [],
   "source": [
    "#기본 세팅 및 파일 불러오기\n",
    "# Get Stock List\n",
    "path = 'C:/Users/nashv/Desktop/asiaE_FinalProject/DACON/open_week4'\n",
    "list_name = 'Stock_List.csv'\n",
    "sample_name = 'sample_submission_week4.csv'\n",
    "\n",
    "# Get Data & Modeling\n",
    "start_date = '20210104'\n",
    "end_date = '20210917'"
   ]
  },
  {
   "cell_type": "code",
   "execution_count": null,
   "metadata": {},
   "outputs": [],
   "source": [
    "# path와 list_name을 조인하여 csv 파일 불러옴\n",
    "stock_list = pd.read_csv(os.path.join(path ,list_name))\n",
    "# 종목코드를 6자리로 맞추고 부족하면 앞에 0으로 채움\n",
    "stock_list['종목코드'] = stock_list['종목코드'].apply(lambda x : str(x).zfill(6))\n",
    "\n",
    "# 시작 날짜를 weekday() 메서드를 사용하여 Python에서 요일 이름 가져 옴\n",
    "start_weekday = pd.to_datetime(start_date).weekday()\n",
    "# 마지막 날짜를 53주 내에서 몇주차 인지 전환\n",
    "max_weeknum = pd.to_datetime(end_date).strftime('%V')\n",
    "Business_days = pd.DataFrame(pd.date_range(start_date ,end_date ,freq='B'), columns = ['Date'])\n",
    "\n",
    "print(f'WEEKDAY of \"start_date\" : {start_weekday}')\n",
    "print(f'NUM of WEEKS to \"end_date\" : {max_weeknum}')\n",
    "print(f'HOW MANY \"Business_days\" : {Business_days.shape}', )\n",
    "display(Business_days.head())\n",
    "\n",
    "sample_name = 'sample_submission_week4.csv'\n",
    "sample_submission = pd.read_csv(os.path.join(path ,sample_name))"
   ]
  },
  {
   "cell_type": "markdown",
   "metadata": {},
   "source": [
    "## Define Model & Training"
   ]
  },
  {
   "cell_type": "markdown",
   "metadata": {},
   "source": [
    "### 1. LightGBM"
   ]
  },
  {
   "cell_type": "code",
   "execution_count": null,
   "metadata": {},
   "outputs": [],
   "source": [
    "# LGBM 3주차\n",
    "model = LGBMRegressor()\n",
    "for code in tqdm(stock_list['종목코드'].values):\n",
    "    data = fdr.DataReader(code, start = start_date, end = end_date)[['Close']].reset_index()\n",
    "    data = pd.merge(Business_days, data, how = 'outer')\n",
    "    data['weekday'] = data.Date.apply(lambda x : x.weekday())\n",
    "    data['weeknum'] = data.Date.apply(lambda x : x.strftime('%V'))\n",
    "    data.Close = data.Close.ffill()\n",
    "    data = pd.pivot_table(data = data, values = 'Close', columns = 'weekday', index = 'weeknum')\n",
    "\n",
    "    x = data.iloc[0:-2].to_numpy() # 2021년 1월 04일 ~ 2021년 8월 13일까지의 데이터로\n",
    "    y = data.iloc[1:-1].to_numpy() # 2021년 1월 11일 ~ 2021년 8월 20일까지의 데이터를 학습한다.\n",
    "    y_0 = y[: ,0]\n",
    "    y_1 = y[: ,1]\n",
    "    y_2 = y[: ,2]\n",
    "    y_3 = y[: ,3]\n",
    "    y_4 = y[: ,4]\n",
    "\n",
    "    y_values = [y_0, y_1, y_2, y_3, y_4]\n",
    "    x_public = data.iloc[-2].to_numpy() # 2021년 8월 23일부터 8월 27일까지의 데이터를 예측할 것이다.\n",
    "\n",
    "    predictions = []\n",
    "    for y_value in y_values :\n",
    "        model.fit(x ,y_value)\n",
    "        prediction = model.predict(np.expand_dims(x_public ,0))\n",
    "        predictions.append(prediction[0])\n",
    "    sample_submission.loc[: ,code] = predictions * 2\n",
    "sample_submission.isna().sum().sum()\n",
    "\n",
    "columns = list(sample_submission.columns[1:])\n",
    "columns = ['Day'] + [str(x).zfill(6) for x in columns]\n",
    "sample_submission.columns = columns\n",
    "sample_submission.to_csv('BASELINE_LGBMRegressor_Week4.csv' ,index=False)\n",
    "sample_submission"
   ]
  },
  {
   "cell_type": "markdown",
   "metadata": {},
   "source": [
    "### 2. XGBoost"
   ]
  },
  {
   "cell_type": "code",
   "execution_count": null,
   "metadata": {},
   "outputs": [],
   "source": [
    "# xgboost 3추자\n",
    "model = XGBRegressor()\n",
    "for code in tqdm(stock_list['종목코드'].values):\n",
    "    data = fdr.DataReader(code, start = start_date, end = end_date)[['Close']].reset_index()\n",
    "    data = pd.merge(Business_days, data, how = 'outer')\n",
    "    data['weekday'] = data.Date.apply(lambda x : x.weekday())\n",
    "    data['weeknum'] = data.Date.apply(lambda x : x.strftime('%V'))\n",
    "    data.Close = data.Close.ffill()\n",
    "    data = pd.pivot_table(data = data, values = 'Close', columns = 'weekday', index = 'weeknum')\n",
    "\n",
    "    x = data.iloc[0:-2].to_numpy() # 2021년 1월 04일 ~ 2021년 8월 13일까지의 데이터로\n",
    "    y = data.iloc[1:-1].to_numpy() # 2021년 1월 11일 ~ 2021년 8월 20일까지의 데이터를 학습한다.\n",
    "    y_0 = y[: ,0]\n",
    "    y_1 = y[: ,1]\n",
    "    y_2 = y[: ,2]\n",
    "    y_3 = y[: ,3]\n",
    "    y_4 = y[: ,4]\n",
    "\n",
    "    y_values = [y_0, y_1, y_2, y_3, y_4]\n",
    "    x_public = data.iloc[-2].to_numpy() # 2021년 8월 23일부터 8월 27일까지의 데이터를 예측할 것이다.\n",
    "\n",
    "    predictions = []\n",
    "    for y_value in y_values :\n",
    "        model.fit(x ,y_value)\n",
    "        prediction = model.predict(np.expand_dims(x_public ,0))\n",
    "        predictions.append(prediction[0])\n",
    "    sample_submission.loc[: ,code] = predictions * 2\n",
    "sample_submission.isna().sum().sum()\n",
    "\n",
    "columns = list(sample_submission.columns[1:])\n",
    "columns = ['Day'] + [str(x).zfill(6) for x in columns]\n",
    "sample_submission.columns = columns\n",
    "sample_submission.to_csv('BASELINE_XGBRegressor_Week4.csv' ,index=False)\n",
    "sample_submission"
   ]
  },
  {
   "cell_type": "markdown",
   "metadata": {},
   "source": [
    "### 3. CatBoost"
   ]
  },
  {
   "cell_type": "code",
   "execution_count": null,
   "metadata": {},
   "outputs": [],
   "source": [
    "# CatBoost 3주차\n",
    "model = CatBoostRegressor()\n",
    "for code in tqdm(stock_list['종목코드'].values):\n",
    "    data = fdr.DataReader(code, start = start_date, end = end_date)[['Close']].reset_index()\n",
    "    data = pd.merge(Business_days, data, how = 'outer')\n",
    "    data['weekday'] = data.Date.apply(lambda x : x.weekday())\n",
    "    data['weeknum'] = data.Date.apply(lambda x : x.strftime('%V'))\n",
    "    data.Close = data.Close.ffill()\n",
    "    data = pd.pivot_table(data = data, values = 'Close', columns = 'weekday', index = 'weeknum')\n",
    "\n",
    "    x = data.iloc[0:-2].to_numpy() # 2021년 1월 04일 ~ 2021년 8월 13일까지의 데이터로\n",
    "    y = data.iloc[1:-1].to_numpy() # 2021년 1월 11일 ~ 2021년 8월 20일까지의 데이터를 학습한다.\n",
    "    y_0 = y[: ,0]\n",
    "    y_1 = y[: ,1]\n",
    "    y_2 = y[: ,2]\n",
    "    y_3 = y[: ,3]\n",
    "    y_4 = y[: ,4]\n",
    "\n",
    "    y_values = [y_0, y_1, y_2, y_3, y_4]\n",
    "    x_public = data.iloc[-2].to_numpy() # 2021년 8월 23일부터 8월 27일까지의 데이터를 예측할 것이다.\n",
    "\n",
    "    predictions = []\n",
    "    for y_value in y_values :\n",
    "        model.fit(x ,y_value)\n",
    "        prediction = model.predict(np.expand_dims(x_public ,0))\n",
    "        predictions.append(prediction[0])\n",
    "    sample_submission.loc[: ,code] = predictions * 2\n",
    "sample_submission.isna().sum().sum()\n",
    "\n",
    "columns = list(sample_submission.columns[1:])\n",
    "columns = ['Day'] + [str(x).zfill(6) for x in columns]\n",
    "sample_submission.columns = columns\n",
    "sample_submission.to_csv('BASELINE_CatBoostRegressor_Week4.csv' ,index=False)\n",
    "sample_submission"
   ]
  },
  {
   "cell_type": "code",
   "execution_count": null,
   "metadata": {},
   "outputs": [],
   "source": []
  }
 ],
 "metadata": {
  "language_info": {
   "name": "python"
  },
  "orig_nbformat": 4
 },
 "nbformat": 4,
 "nbformat_minor": 2
}

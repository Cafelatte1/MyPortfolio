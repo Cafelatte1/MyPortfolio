{
  "nbformat": 4,
  "nbformat_minor": 0,
  "metadata": {
    "colab": {
      "provenance": [],
      "toc_visible": true
    },
    "kernelspec": {
      "name": "python3",
      "display_name": "Python 3"
    },
    "accelerator": "GPU",
    "widgets": {
      "application/vnd.jupyter.widget-state+json": {
        "6b15f3b20e2846d8ad449c0a6545110d": {
          "model_module": "@jupyter-widgets/controls",
          "model_name": "HBoxModel",
          "model_module_version": "1.5.0",
          "state": {
            "_dom_classes": [],
            "_model_module": "@jupyter-widgets/controls",
            "_model_module_version": "1.5.0",
            "_model_name": "HBoxModel",
            "_view_count": null,
            "_view_module": "@jupyter-widgets/controls",
            "_view_module_version": "1.5.0",
            "_view_name": "HBoxView",
            "box_style": "",
            "children": [
              "IPY_MODEL_74938111e85c49d2b26f1a4ecfa8bdd5",
              "IPY_MODEL_db493ca621d04b0dad824f56ea293328",
              "IPY_MODEL_79a4f4ea176441a690cede04f00938f3"
            ],
            "layout": "IPY_MODEL_01bc21ab8eaa42298d75b543943504a5"
          }
        },
        "74938111e85c49d2b26f1a4ecfa8bdd5": {
          "model_module": "@jupyter-widgets/controls",
          "model_name": "HTMLModel",
          "model_module_version": "1.5.0",
          "state": {
            "_dom_classes": [],
            "_model_module": "@jupyter-widgets/controls",
            "_model_module_version": "1.5.0",
            "_model_name": "HTMLModel",
            "_view_count": null,
            "_view_module": "@jupyter-widgets/controls",
            "_view_module_version": "1.5.0",
            "_view_name": "HTMLView",
            "description": "",
            "description_tooltip": null,
            "layout": "IPY_MODEL_4288a61a462b4a03924b5bce677da270",
            "placeholder": "​",
            "style": "IPY_MODEL_f35537342c194e9fb9d2a5eefe4a4d18",
            "value": "100%"
          }
        },
        "db493ca621d04b0dad824f56ea293328": {
          "model_module": "@jupyter-widgets/controls",
          "model_name": "FloatProgressModel",
          "model_module_version": "1.5.0",
          "state": {
            "_dom_classes": [],
            "_model_module": "@jupyter-widgets/controls",
            "_model_module_version": "1.5.0",
            "_model_name": "FloatProgressModel",
            "_view_count": null,
            "_view_module": "@jupyter-widgets/controls",
            "_view_module_version": "1.5.0",
            "_view_name": "ProgressView",
            "bar_style": "success",
            "description": "",
            "description_tooltip": null,
            "layout": "IPY_MODEL_9cba2d16170a4b438093f4c991a87797",
            "max": 170498071,
            "min": 0,
            "orientation": "horizontal",
            "style": "IPY_MODEL_80ad717dae1f4d7ba8f22f6d9cbae25a",
            "value": 170498071
          }
        },
        "79a4f4ea176441a690cede04f00938f3": {
          "model_module": "@jupyter-widgets/controls",
          "model_name": "HTMLModel",
          "model_module_version": "1.5.0",
          "state": {
            "_dom_classes": [],
            "_model_module": "@jupyter-widgets/controls",
            "_model_module_version": "1.5.0",
            "_model_name": "HTMLModel",
            "_view_count": null,
            "_view_module": "@jupyter-widgets/controls",
            "_view_module_version": "1.5.0",
            "_view_name": "HTMLView",
            "description": "",
            "description_tooltip": null,
            "layout": "IPY_MODEL_452efbcdf0e1442b95e73921fdc54dc6",
            "placeholder": "​",
            "style": "IPY_MODEL_e6a6663796ed44d3be7506c50af2aeaa",
            "value": " 170498071/170498071 [00:03&lt;00:00, 54743224.46it/s]"
          }
        },
        "01bc21ab8eaa42298d75b543943504a5": {
          "model_module": "@jupyter-widgets/base",
          "model_name": "LayoutModel",
          "model_module_version": "1.2.0",
          "state": {
            "_model_module": "@jupyter-widgets/base",
            "_model_module_version": "1.2.0",
            "_model_name": "LayoutModel",
            "_view_count": null,
            "_view_module": "@jupyter-widgets/base",
            "_view_module_version": "1.2.0",
            "_view_name": "LayoutView",
            "align_content": null,
            "align_items": null,
            "align_self": null,
            "border": null,
            "bottom": null,
            "display": null,
            "flex": null,
            "flex_flow": null,
            "grid_area": null,
            "grid_auto_columns": null,
            "grid_auto_flow": null,
            "grid_auto_rows": null,
            "grid_column": null,
            "grid_gap": null,
            "grid_row": null,
            "grid_template_areas": null,
            "grid_template_columns": null,
            "grid_template_rows": null,
            "height": null,
            "justify_content": null,
            "justify_items": null,
            "left": null,
            "margin": null,
            "max_height": null,
            "max_width": null,
            "min_height": null,
            "min_width": null,
            "object_fit": null,
            "object_position": null,
            "order": null,
            "overflow": null,
            "overflow_x": null,
            "overflow_y": null,
            "padding": null,
            "right": null,
            "top": null,
            "visibility": null,
            "width": null
          }
        },
        "4288a61a462b4a03924b5bce677da270": {
          "model_module": "@jupyter-widgets/base",
          "model_name": "LayoutModel",
          "model_module_version": "1.2.0",
          "state": {
            "_model_module": "@jupyter-widgets/base",
            "_model_module_version": "1.2.0",
            "_model_name": "LayoutModel",
            "_view_count": null,
            "_view_module": "@jupyter-widgets/base",
            "_view_module_version": "1.2.0",
            "_view_name": "LayoutView",
            "align_content": null,
            "align_items": null,
            "align_self": null,
            "border": null,
            "bottom": null,
            "display": null,
            "flex": null,
            "flex_flow": null,
            "grid_area": null,
            "grid_auto_columns": null,
            "grid_auto_flow": null,
            "grid_auto_rows": null,
            "grid_column": null,
            "grid_gap": null,
            "grid_row": null,
            "grid_template_areas": null,
            "grid_template_columns": null,
            "grid_template_rows": null,
            "height": null,
            "justify_content": null,
            "justify_items": null,
            "left": null,
            "margin": null,
            "max_height": null,
            "max_width": null,
            "min_height": null,
            "min_width": null,
            "object_fit": null,
            "object_position": null,
            "order": null,
            "overflow": null,
            "overflow_x": null,
            "overflow_y": null,
            "padding": null,
            "right": null,
            "top": null,
            "visibility": null,
            "width": null
          }
        },
        "f35537342c194e9fb9d2a5eefe4a4d18": {
          "model_module": "@jupyter-widgets/controls",
          "model_name": "DescriptionStyleModel",
          "model_module_version": "1.5.0",
          "state": {
            "_model_module": "@jupyter-widgets/controls",
            "_model_module_version": "1.5.0",
            "_model_name": "DescriptionStyleModel",
            "_view_count": null,
            "_view_module": "@jupyter-widgets/base",
            "_view_module_version": "1.2.0",
            "_view_name": "StyleView",
            "description_width": ""
          }
        },
        "9cba2d16170a4b438093f4c991a87797": {
          "model_module": "@jupyter-widgets/base",
          "model_name": "LayoutModel",
          "model_module_version": "1.2.0",
          "state": {
            "_model_module": "@jupyter-widgets/base",
            "_model_module_version": "1.2.0",
            "_model_name": "LayoutModel",
            "_view_count": null,
            "_view_module": "@jupyter-widgets/base",
            "_view_module_version": "1.2.0",
            "_view_name": "LayoutView",
            "align_content": null,
            "align_items": null,
            "align_self": null,
            "border": null,
            "bottom": null,
            "display": null,
            "flex": null,
            "flex_flow": null,
            "grid_area": null,
            "grid_auto_columns": null,
            "grid_auto_flow": null,
            "grid_auto_rows": null,
            "grid_column": null,
            "grid_gap": null,
            "grid_row": null,
            "grid_template_areas": null,
            "grid_template_columns": null,
            "grid_template_rows": null,
            "height": null,
            "justify_content": null,
            "justify_items": null,
            "left": null,
            "margin": null,
            "max_height": null,
            "max_width": null,
            "min_height": null,
            "min_width": null,
            "object_fit": null,
            "object_position": null,
            "order": null,
            "overflow": null,
            "overflow_x": null,
            "overflow_y": null,
            "padding": null,
            "right": null,
            "top": null,
            "visibility": null,
            "width": null
          }
        },
        "80ad717dae1f4d7ba8f22f6d9cbae25a": {
          "model_module": "@jupyter-widgets/controls",
          "model_name": "ProgressStyleModel",
          "model_module_version": "1.5.0",
          "state": {
            "_model_module": "@jupyter-widgets/controls",
            "_model_module_version": "1.5.0",
            "_model_name": "ProgressStyleModel",
            "_view_count": null,
            "_view_module": "@jupyter-widgets/base",
            "_view_module_version": "1.2.0",
            "_view_name": "StyleView",
            "bar_color": null,
            "description_width": ""
          }
        },
        "452efbcdf0e1442b95e73921fdc54dc6": {
          "model_module": "@jupyter-widgets/base",
          "model_name": "LayoutModel",
          "model_module_version": "1.2.0",
          "state": {
            "_model_module": "@jupyter-widgets/base",
            "_model_module_version": "1.2.0",
            "_model_name": "LayoutModel",
            "_view_count": null,
            "_view_module": "@jupyter-widgets/base",
            "_view_module_version": "1.2.0",
            "_view_name": "LayoutView",
            "align_content": null,
            "align_items": null,
            "align_self": null,
            "border": null,
            "bottom": null,
            "display": null,
            "flex": null,
            "flex_flow": null,
            "grid_area": null,
            "grid_auto_columns": null,
            "grid_auto_flow": null,
            "grid_auto_rows": null,
            "grid_column": null,
            "grid_gap": null,
            "grid_row": null,
            "grid_template_areas": null,
            "grid_template_columns": null,
            "grid_template_rows": null,
            "height": null,
            "justify_content": null,
            "justify_items": null,
            "left": null,
            "margin": null,
            "max_height": null,
            "max_width": null,
            "min_height": null,
            "min_width": null,
            "object_fit": null,
            "object_position": null,
            "order": null,
            "overflow": null,
            "overflow_x": null,
            "overflow_y": null,
            "padding": null,
            "right": null,
            "top": null,
            "visibility": null,
            "width": null
          }
        },
        "e6a6663796ed44d3be7506c50af2aeaa": {
          "model_module": "@jupyter-widgets/controls",
          "model_name": "DescriptionStyleModel",
          "model_module_version": "1.5.0",
          "state": {
            "_model_module": "@jupyter-widgets/controls",
            "_model_module_version": "1.5.0",
            "_model_name": "DescriptionStyleModel",
            "_view_count": null,
            "_view_module": "@jupyter-widgets/base",
            "_view_module_version": "1.2.0",
            "_view_name": "StyleView",
            "description_width": ""
          }
        }
      }
    }
  },
  "cells": [
    {
      "cell_type": "markdown",
      "metadata": {
        "id": "4M2bOS5W62SA"
      },
      "source": [
        "## Setup"
      ]
    },
    {
      "cell_type": "code",
      "source": [
        "!pip install -q transformers"
      ],
      "metadata": {
        "id": "zO9VlVuiGiYz",
        "colab": {
          "base_uri": "https://localhost:8080/"
        },
        "outputId": "49619c52-76a6-434c-a27f-acb49dbeb94f"
      },
      "execution_count": 1,
      "outputs": [
        {
          "output_type": "stream",
          "name": "stdout",
          "text": [
            "\u001b[2K     \u001b[90m━━━━━━━━━━━━━━━━━━━━━━━━━━━━━━━━━━━━━━━━\u001b[0m \u001b[32m6.3/6.3 MB\u001b[0m \u001b[31m55.3 MB/s\u001b[0m eta \u001b[36m0:00:00\u001b[0m\n",
            "\u001b[2K     \u001b[90m━━━━━━━━━━━━━━━━━━━━━━━━━━━━━━━━━━━━━━━━\u001b[0m \u001b[32m7.6/7.6 MB\u001b[0m \u001b[31m66.8 MB/s\u001b[0m eta \u001b[36m0:00:00\u001b[0m\n",
            "\u001b[2K     \u001b[90m━━━━━━━━━━━━━━━━━━━━━━━━━━━━━━━━━━━━━━\u001b[0m \u001b[32m190.3/190.3 KB\u001b[0m \u001b[31m10.4 MB/s\u001b[0m eta \u001b[36m0:00:00\u001b[0m\n",
            "\u001b[?25h"
          ]
        }
      ]
    },
    {
      "cell_type": "code",
      "metadata": {
        "id": "QFH8bsYnCixL"
      },
      "source": [
        "GLOBAL_SEED = 42\n",
        "\n",
        "import os\n",
        "os.environ['PYTHONHASHSEED'] = str(GLOBAL_SEED)\n",
        "import sys\n",
        "\n",
        "import pandas as pd\n",
        "import numpy as np\n",
        "from numpy import random as np_rnd\n",
        "import random as rnd\n",
        "import gc\n",
        "import datetime\n",
        "import copy\n",
        "import pickle\n",
        "from sklearn.metrics import accuracy_score, f1_score\n",
        "\n",
        "import torch\n",
        "from torch import nn\n",
        "from torch.utils.data import Dataset, DataLoader\n",
        "from torchvision import datasets\n",
        "from torchvision.transforms import transforms\n",
        "from torch.optim import AdamW\n",
        "from transformers import get_polynomial_decay_schedule_with_warmup\n",
        "\n",
        "device = \"cuda\" if torch.cuda.is_available() else \"cpu\""
      ],
      "execution_count": 2,
      "outputs": []
    },
    {
      "cell_type": "code",
      "source": [
        "def seed_everything(seed=42):\n",
        "    os.environ['PYTHONHASHSEED'] = str(seed)\n",
        "    # python random\n",
        "    rnd.seed(seed)\n",
        "    # numpy random\n",
        "    np_rnd.seed(seed)\n",
        "    # tf random\n",
        "    try:\n",
        "        tf_rnd.set_seed(seed)\n",
        "    except:\n",
        "        pass\n",
        "    # RAPIDS random\n",
        "    try:\n",
        "        cupy.random.seed(seed)\n",
        "    except:\n",
        "        pass\n",
        "    # pytorch random\n",
        "    try:\n",
        "        torch.manual_seed(seed)\n",
        "        torch.cuda.manual_seed(seed)\n",
        "        torch.backends.cudnn.deterministic = True\n",
        "    except:\n",
        "        pass\n",
        "\n",
        "def pickleIO(obj, src, op=\"w\"):\n",
        "    if op==\"w\":\n",
        "        with open(src, op + \"b\") as f:\n",
        "            pickle.dump(obj, f)\n",
        "    elif op==\"r\":\n",
        "        with open(src, op + \"b\") as f:\n",
        "            tmp = pickle.load(f)\n",
        "        return tmp\n",
        "    else:\n",
        "        print(\"unknown operation\")\n",
        "        return obj\n",
        "    \n",
        "def findIdx(data_x, col_names):\n",
        "    return [int(i) for i, j in enumerate(data_x) if j in col_names]\n",
        "\n",
        "def createFolder(directory):\n",
        "    try:\n",
        "        if not os.path.exists(directory):\n",
        "            os.makedirs(directory)\n",
        "    except OSError:\n",
        "        print('Error: Creating directory. ' + directory)"
      ],
      "metadata": {
        "id": "7KDYdmNdH1RK"
      },
      "execution_count": 3,
      "outputs": []
    },
    {
      "cell_type": "code",
      "source": [
        "class CFG:\n",
        "    local = False\n",
        "    debug = False\n",
        "    \n",
        "    epochs = 20\n",
        "    early_stopping_rounds = max(10, epochs // 5)\n",
        "    batch_size = 128\n",
        "    number_of_labels = 10\n",
        "    classes = ('plane', 'car', 'bird', 'cat', 'deer', 'dog', 'frog', 'horse', 'ship', 'truck')\n",
        "    eta = 5e-4\n",
        "    weight_decay = 1e-4\n",
        "\n",
        "if CFG.debug:\n",
        "    CFG.epochs = 5"
      ],
      "metadata": {
        "id": "gpuSZEW8IEeh"
      },
      "execution_count": 4,
      "outputs": []
    },
    {
      "cell_type": "markdown",
      "source": [
        "## Loading CIFAR10 Dataset"
      ],
      "metadata": {
        "id": "h-m3LndoE3BQ"
      }
    },
    {
      "cell_type": "code",
      "source": [
        "# Create an instance for training. \n",
        "# When we run this code for the first time, the CIFAR10 train dataset will be downloaded locally. \n",
        "train_ds = datasets.CIFAR10(root=\"./data\", train=True, download=True)\n",
        "train_mean = [train_ds.data[:,:,:,i].mean() for i in range(train_ds.data.shape[-1])]\n",
        "del train_ds; gc.collect()"
      ],
      "metadata": {
        "colab": {
          "base_uri": "https://localhost:8080/",
          "height": 101,
          "referenced_widgets": [
            "6b15f3b20e2846d8ad449c0a6545110d",
            "74938111e85c49d2b26f1a4ecfa8bdd5",
            "db493ca621d04b0dad824f56ea293328",
            "79a4f4ea176441a690cede04f00938f3",
            "01bc21ab8eaa42298d75b543943504a5",
            "4288a61a462b4a03924b5bce677da270",
            "f35537342c194e9fb9d2a5eefe4a4d18",
            "9cba2d16170a4b438093f4c991a87797",
            "80ad717dae1f4d7ba8f22f6d9cbae25a",
            "452efbcdf0e1442b95e73921fdc54dc6",
            "e6a6663796ed44d3be7506c50af2aeaa"
          ]
        },
        "id": "Th6rmDDqIswu",
        "outputId": "58388f24-e69e-40c3-b750-3515edd6fa15"
      },
      "execution_count": 5,
      "outputs": [
        {
          "output_type": "stream",
          "name": "stdout",
          "text": [
            "Downloading https://www.cs.toronto.edu/~kriz/cifar-10-python.tar.gz to ./data/cifar-10-python.tar.gz\n"
          ]
        },
        {
          "output_type": "display_data",
          "data": {
            "text/plain": [
              "  0%|          | 0/170498071 [00:00<?, ?it/s]"
            ],
            "application/vnd.jupyter.widget-view+json": {
              "version_major": 2,
              "version_minor": 0,
              "model_id": "6b15f3b20e2846d8ad449c0a6545110d"
            }
          },
          "metadata": {}
        },
        {
          "output_type": "stream",
          "name": "stdout",
          "text": [
            "Extracting ./data/cifar-10-python.tar.gz to ./data\n"
          ]
        },
        {
          "output_type": "execute_result",
          "data": {
            "text/plain": [
              "120"
            ]
          },
          "metadata": {},
          "execution_count": 5
        }
      ]
    },
    {
      "cell_type": "markdown",
      "source": [
        "**INFO: Use MinMax Normalization 0~1 (different from the original paper)**"
      ],
      "metadata": {
        "id": "UnswGx9ws2C8"
      }
    },
    {
      "cell_type": "code",
      "source": [
        "# Create Train dataset loader\n",
        "train_ft = transforms.Compose([\n",
        "    transforms.ToTensor(),\n",
        "    transforms.ConvertImageDtype(torch.float32),\n",
        "    transforms.Normalize(0, 255),\n",
        "    # transforms.Normalize(train_mean, 1),\n",
        "    transforms.RandomHorizontalFlip(),\n",
        "])\n",
        "train_dl = DataLoader(\n",
        "    datasets.CIFAR10(root=\"./data\", train=True, transform=train_ft ,download=True),\n",
        "    batch_size=CFG.batch_size, shuffle=True, drop_last=True\n",
        ")\n",
        "\n",
        "# Create Test dataset loader\n",
        "test_ft = transforms.Compose([\n",
        "    transforms.ToTensor(),\n",
        "    transforms.ConvertImageDtype(torch.float32),\n",
        "    transforms.Normalize(0, 255),\n",
        "    # transforms.Normalize(train_mean, 1),\n",
        "    # transforms.RandomHorizontalFlip(),\n",
        "])\n",
        "test_dl = DataLoader(\n",
        "    datasets.CIFAR10(root=\"./data\", train=False, transform=test_ft, download=True),\n",
        "    batch_size=CFG.batch_size, shuffle=False, drop_last=False\n",
        ")\n",
        "\n",
        "print(\"The number of images in a test set is: \", len(test_dl) * CFG.batch_size)\n",
        "print(\"The number of iteration is: \", len(train_dl))"
      ],
      "metadata": {
        "colab": {
          "base_uri": "https://localhost:8080/"
        },
        "id": "DaJWD7KxLc6z",
        "outputId": "5f6623de-bd34-4dc6-b8d9-aa85ee134ae1"
      },
      "execution_count": 6,
      "outputs": [
        {
          "output_type": "stream",
          "name": "stdout",
          "text": [
            "Files already downloaded and verified\n",
            "Files already downloaded and verified\n",
            "The number of images in a test set is:  10112\n",
            "The number of iteration is:  390\n"
          ]
        }
      ]
    },
    {
      "cell_type": "markdown",
      "metadata": {
        "id": "NKO1CzhyFK5D"
      },
      "source": [
        "## Create Model & Define helper functions"
      ]
    },
    {
      "cell_type": "code",
      "source": [
        "def get_optimizer_params(model, eta, weight_decay):\n",
        "    param_optimizer = list(model.named_parameters())\n",
        "    no_decay = [\"bias\", \"LayerNorm.bias\", \"LayerNorm.weight\"]\n",
        "    optimizer_parameters = [\n",
        "        # apply weight decay\n",
        "        {'params': [p for n, p in param_optimizer if not any(nd in n for nd in no_decay)],\n",
        "         'lr': eta, 'weight_decay': weight_decay},\n",
        "        # don't apply weight decay for LayerNormalization layer\n",
        "        {'params': [p for n, p in param_optimizer if any(nd in n for nd in no_decay)],\n",
        "         'lr': eta, 'weight_decay': 0.0},\n",
        "    ]\n",
        "    return optimizer_parameters\n",
        "\n",
        "\n",
        "def get_scheduler(optimizer, num_warmup_steps, num_training_steps):\n",
        "    scheduler = get_polynomial_decay_schedule_with_warmup(\n",
        "        optimizer, num_warmup_steps=num_warmup_steps, num_training_steps=num_training_steps, power=0.5, lr_end=1e-7\n",
        "    )\n",
        "    return scheduler\n",
        "\n",
        "\n",
        "class AverageMeter(object):\n",
        "    \"\"\"Computes and stores the average and current value\"\"\"\n",
        "    def __init__(self, name, fmt=':f'):\n",
        "        self.name = name\n",
        "        self.fmt = fmt\n",
        "        self.reset()\n",
        "\n",
        "    def reset(self):\n",
        "        self.val = 0\n",
        "        self.avg = 0\n",
        "        self.sum = 0\n",
        "        self.count = 0\n",
        "\n",
        "    def update(self, val, n=1):\n",
        "        self.val = val\n",
        "        self.sum += val * n\n",
        "        self.count += n\n",
        "        self.avg = self.sum / self.count\n",
        "\n",
        "    def __str__(self):\n",
        "        fmtstr = '{name} {val' + self.fmt + '} ({avg' + self.fmt + '})'\n",
        "        return fmtstr.format(**self.__dict__)"
      ],
      "metadata": {
        "id": "R__Wsv7pQP3G"
      },
      "execution_count": 7,
      "outputs": []
    },
    {
      "cell_type": "markdown",
      "source": [
        "**INFO: The model is simplified architecture from original paper**\n"
      ],
      "metadata": {
        "id": "SR-UTxhsQR5R"
      }
    },
    {
      "cell_type": "code",
      "source": [
        "base_hidden_layers = 16\n",
        "\n",
        "class VGGNet(nn.Module):\n",
        "    def __init__(self, ):\n",
        "        super(VGGNet,self).__init__()\n",
        "\n",
        "        self.conv = nn.Sequential(\n",
        "            nn.Conv2d(3, base_hidden_layers, kernel_size=(3, 3), padding=\"same\"),\n",
        "            nn.ReLU(),\n",
        "            nn.Conv2d(base_hidden_layers, base_hidden_layers, kernel_size=(3, 3), padding=\"same\"),\n",
        "            nn.ReLU(),\n",
        "            nn.MaxPool2d(kernel_size=(2,2)),\n",
        "            nn.Conv2d(base_hidden_layers, base_hidden_layers * 2, kernel_size=(3, 3), padding=\"same\"),\n",
        "            nn.ReLU(),\n",
        "            nn.Conv2d(base_hidden_layers * 2, base_hidden_layers * 2, kernel_size=(3, 3), padding=\"same\"),\n",
        "            nn.ReLU(),\n",
        "            nn.MaxPool2d(kernel_size=(2,2)),\n",
        "            nn.Flatten(),\n",
        "        )\n",
        "\n",
        "        self.fc = nn.Sequential(\n",
        "            nn.Dropout(),\n",
        "            nn.Linear(base_hidden_layers * 2 * 8 * 8, base_hidden_layers * 2 * 8 * 8 // 4),\n",
        "            nn.ReLU(),\n",
        "        )\n",
        "\n",
        "        self.classifier = nn.Linear(base_hidden_layers * 2 * 8 * 8 // 4, CFG.number_of_labels)\n",
        "\n",
        "    def forward(self, x):\n",
        "        x = self.conv(x)\n",
        "        x = self.fc(x)\n",
        "        return self.classifier(x)"
      ],
      "metadata": {
        "id": "ar8v-fLrNRhg"
      },
      "execution_count": 8,
      "outputs": []
    },
    {
      "cell_type": "markdown",
      "metadata": {
        "id": "kFj6geDUTPkl"
      },
      "source": [
        "## Training"
      ]
    },
    {
      "cell_type": "code",
      "source": [
        "def fn_training():\n",
        "    return_score_dic = []\n",
        "    best_score = np.inf\n",
        "    \n",
        "    seed_everything()\n",
        "    for epoch in range(CFG.epochs):\n",
        "        train_loss = AverageMeter('Loss', ':.4e')\n",
        "        valid_loss = AverageMeter('Loss', ':.4e')\n",
        "        train_accuracy = AverageMeter('Accuracy', ':.4e')\n",
        "        valid_accuracy = AverageMeter('Accuracy', ':.4e')\n",
        "        train_f1 = AverageMeter('F1', ':.4e')\n",
        "        valid_f1 = AverageMeter('F1', ':.4e')\n",
        "\n",
        "        model.train()\n",
        "        for feature, label in train_dl:\n",
        "            with torch.cuda.amp.autocast():\n",
        "                feature = feature.to(device)\n",
        "                label = label.to(device)\n",
        "                output = model(feature)\n",
        "                loss = criterion(output, label)\n",
        "\n",
        "            # initialization gradients to zero\n",
        "            optimizer.zero_grad()\n",
        "            # get scaled gradients by float16 (default)\n",
        "            grad_scaler.scale(loss).backward()\n",
        "            # apply original gradients (unscaling) to parameters\n",
        "            # if these gradients do not contain infs or NaNs, optimizer.step() is then called.\n",
        "            # otherwise, optimizer.step() is skipped.\n",
        "            grad_scaler.step(optimizer)\n",
        "            grad_scaler.update()\n",
        "            scheduler.step()\n",
        "            \n",
        "            train_loss.update(loss.item())\n",
        "\n",
        "            y_pred = output.argmax(axis=-1).detach().cpu().numpy()\n",
        "            y_true = label.detach().cpu().numpy()\n",
        "\n",
        "            train_accuracy.update(accuracy_score(y_true, y_pred))        \n",
        "            train_f1.update(f1_score(y_true, y_pred, average=\"macro\"))\n",
        "\n",
        "        model.eval()\n",
        "        for feature, label in test_dl:\n",
        "            with torch.no_grad():\n",
        "                feature = feature.to(device)\n",
        "                label = label.to(device)\n",
        "                output = model(feature)\n",
        "                loss = criterion(output, label)\n",
        "\n",
        "            valid_loss.update(loss.item())  \n",
        "\n",
        "            y_pred = output.argmax(axis=-1).detach().cpu().numpy()\n",
        "            y_true = label.detach().cpu().numpy()\n",
        "\n",
        "            valid_accuracy.update(accuracy_score(y_true, y_pred))        \n",
        "            valid_f1.update(f1_score(y_true, y_pred, average=\"macro\"))\n",
        "\n",
        "        score = valid_loss.avg\n",
        "        return_score_dic.append({\n",
        "            \"epoch\": epoch,\n",
        "            \"train_loss\": train_loss.avg,\n",
        "            \"valid_loss\": valid_loss.avg,\n",
        "            \"train_accuracy\": train_accuracy.avg,\n",
        "            \"valid_accuracy\": valid_accuracy.avg,\n",
        "            \"train_f1\": train_f1.avg,\n",
        "            \"valid_f1\": valid_f1.avg,  \n",
        "        })\n",
        "\n",
        "        if score < best_score:\n",
        "            best_score = copy.deepcopy(score)\n",
        "            early_stopping_cnt = 0 \n",
        "        else:\n",
        "            early_stopping_cnt += 1\n",
        "\n",
        "        if early_stopping_cnt == CFG.early_stopping_rounds:\n",
        "            print(\"INFO : Early Stopped ! (Epoch[{0}/{1}])\".format(epoch+1, CFG.epochs))  \n",
        "            break\n",
        "\n",
        "        print(f'[{epoch+1:02d}/{CFG.epochs}]:  * Train Loss {train_loss.avg:.3f} * Train Accuracy {train_accuracy.avg:.3f} * Train F1 {train_f1.avg:.3f} * Valid Loss {valid_loss.avg:.3f} * Valid Accuracy {valid_accuracy.avg:.3f} * Valid F1 {valid_f1.avg:.3f}')\n",
        "\n",
        "    return return_score_dic"
      ],
      "metadata": {
        "id": "kV41_PFCRbgE"
      },
      "execution_count": 9,
      "outputs": []
    },
    {
      "cell_type": "code",
      "metadata": {
        "id": "mQ_CXj23St6c"
      },
      "source": [
        "# model\n",
        "model = VGGNet()\n",
        "model.to(device)\n",
        "\n",
        "# optimizer & scheduler\n",
        "optimizer_parameters = get_optimizer_params(\n",
        "    model,\n",
        "    eta=CFG.eta,\n",
        "    weight_decay=CFG.weight_decay\n",
        ")\n",
        "optimizer = AdamW(optimizer_parameters, lr=CFG.eta, weight_decay=CFG.weight_decay)\n",
        "scheduler = get_scheduler(\n",
        "    optimizer,\n",
        "    num_warmup_steps=0,\n",
        "    num_training_steps=(len(train_dl) * CFG.epochs)\n",
        ")\n",
        "\n",
        "# loss function\n",
        "criterion = nn.CrossEntropyLoss()\n",
        "\n",
        "# gradient scaler for fast operation with float16\n",
        "grad_scaler = torch.cuda.amp.GradScaler()"
      ],
      "execution_count": 10,
      "outputs": []
    },
    {
      "cell_type": "code",
      "source": [
        "%%time\n",
        "\n",
        "score_dic = fn_training()"
      ],
      "metadata": {
        "colab": {
          "base_uri": "https://localhost:8080/"
        },
        "id": "F8dvyK8KSPeA",
        "outputId": "f93fc080-a5c9-41db-8ad2-9e7a42b95b04"
      },
      "execution_count": 11,
      "outputs": [
        {
          "output_type": "stream",
          "name": "stdout",
          "text": [
            "[01/20]:  * Train Loss 2.303 * Train Accuracy 0.098 * Train F1 0.024 * Valid Loss 2.303 * Valid Accuracy 0.099 * Valid F1 0.018\n",
            "[02/20]:  * Train Loss 2.303 * Train Accuracy 0.098 * Train F1 0.023 * Valid Loss 2.303 * Valid Accuracy 0.101 * Valid F1 0.018\n",
            "[03/20]:  * Train Loss 2.303 * Train Accuracy 0.096 * Train F1 0.021 * Valid Loss 2.303 * Valid Accuracy 0.099 * Valid F1 0.018\n",
            "[04/20]:  * Train Loss 2.229 * Train Accuracy 0.150 * Train F1 0.087 * Valid Loss 1.959 * Valid Accuracy 0.305 * Valid F1 0.286\n",
            "[05/20]:  * Train Loss 1.890 * Train Accuracy 0.323 * Train F1 0.308 * Valid Loss 1.775 * Valid Accuracy 0.367 * Valid F1 0.352\n",
            "[06/20]:  * Train Loss 1.763 * Train Accuracy 0.373 * Train F1 0.359 * Valid Loss 1.656 * Valid Accuracy 0.413 * Valid F1 0.396\n",
            "[07/20]:  * Train Loss 1.681 * Train Accuracy 0.401 * Train F1 0.387 * Valid Loss 1.601 * Valid Accuracy 0.431 * Valid F1 0.416\n",
            "[08/20]:  * Train Loss 1.632 * Train Accuracy 0.420 * Train F1 0.405 * Valid Loss 1.554 * Valid Accuracy 0.447 * Valid F1 0.425\n",
            "[09/20]:  * Train Loss 1.587 * Train Accuracy 0.436 * Train F1 0.420 * Valid Loss 1.513 * Valid Accuracy 0.464 * Valid F1 0.440\n",
            "[10/20]:  * Train Loss 1.549 * Train Accuracy 0.451 * Train F1 0.434 * Valid Loss 1.475 * Valid Accuracy 0.481 * Valid F1 0.461\n",
            "[11/20]:  * Train Loss 1.515 * Train Accuracy 0.463 * Train F1 0.448 * Valid Loss 1.449 * Valid Accuracy 0.487 * Valid F1 0.467\n",
            "[12/20]:  * Train Loss 1.491 * Train Accuracy 0.471 * Train F1 0.455 * Valid Loss 1.430 * Valid Accuracy 0.492 * Valid F1 0.469\n",
            "[13/20]:  * Train Loss 1.470 * Train Accuracy 0.479 * Train F1 0.464 * Valid Loss 1.414 * Valid Accuracy 0.500 * Valid F1 0.480\n",
            "[14/20]:  * Train Loss 1.452 * Train Accuracy 0.487 * Train F1 0.472 * Valid Loss 1.399 * Valid Accuracy 0.508 * Valid F1 0.491\n",
            "[15/20]:  * Train Loss 1.435 * Train Accuracy 0.492 * Train F1 0.476 * Valid Loss 1.380 * Valid Accuracy 0.512 * Valid F1 0.494\n",
            "[16/20]:  * Train Loss 1.420 * Train Accuracy 0.497 * Train F1 0.483 * Valid Loss 1.383 * Valid Accuracy 0.510 * Valid F1 0.487\n",
            "[17/20]:  * Train Loss 1.408 * Train Accuracy 0.503 * Train F1 0.488 * Valid Loss 1.365 * Valid Accuracy 0.520 * Valid F1 0.503\n",
            "[18/20]:  * Train Loss 1.398 * Train Accuracy 0.505 * Train F1 0.490 * Valid Loss 1.359 * Valid Accuracy 0.520 * Valid F1 0.498\n",
            "[19/20]:  * Train Loss 1.384 * Train Accuracy 0.512 * Train F1 0.497 * Valid Loss 1.346 * Valid Accuracy 0.526 * Valid F1 0.507\n",
            "[20/20]:  * Train Loss 1.377 * Train Accuracy 0.516 * Train F1 0.503 * Valid Loss 1.342 * Valid Accuracy 0.529 * Valid F1 0.510\n",
            "CPU times: user 5min 42s, sys: 2.02 s, total: 5min 44s\n",
            "Wall time: 5min 50s\n"
          ]
        }
      ]
    },
    {
      "cell_type": "code",
      "source": [
        "pd.DataFrame(score_dic).mean().iloc[1:]"
      ],
      "metadata": {
        "colab": {
          "base_uri": "https://localhost:8080/"
        },
        "id": "kq1n5mwzbA-A",
        "outputId": "3d51b874-a1b0-461a-be7a-a7290a7d27e8"
      },
      "execution_count": 12,
      "outputs": [
        {
          "output_type": "execute_result",
          "data": {
            "text/plain": [
              "train_loss        1.679539\n",
              "valid_loss        1.615322\n",
              "train_accuracy    0.388708\n",
              "valid_accuracy    0.415546\n",
              "train_f1          0.362206\n",
              "valid_f1          0.386823\n",
              "dtype: float64"
            ]
          },
          "metadata": {},
          "execution_count": 12
        }
      ]
    },
    {
      "cell_type": "code",
      "source": [],
      "metadata": {
        "id": "_QiKLnpMQmuU"
      },
      "execution_count": 12,
      "outputs": []
    }
  ]
}
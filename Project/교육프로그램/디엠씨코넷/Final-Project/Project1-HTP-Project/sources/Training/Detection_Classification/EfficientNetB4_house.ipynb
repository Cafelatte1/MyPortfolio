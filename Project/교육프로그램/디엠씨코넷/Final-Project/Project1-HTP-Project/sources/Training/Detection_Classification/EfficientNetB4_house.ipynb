{
 "cells": [
  {
   "attachments": {},
   "cell_type": "markdown",
   "metadata": {},
   "source": [
    "## 베이스라인 모델"
   ]
  },
  {
   "attachments": {},
   "cell_type": "markdown",
   "metadata": {},
   "source": [
    "### import"
   ]
  },
  {
   "cell_type": "code",
   "execution_count": 1,
   "metadata": {},
   "outputs": [],
   "source": [
    "import torch\n",
    "import pickle\n",
    "import cv2\n",
    "import pandas as pd\n",
    "import numpy as np\n",
    "import random\n",
    "import os\n",
    "\n",
    "from sklearn.model_selection import train_test_split\n",
    "from sklearn.metrics import roc_auc_score, log_loss, accuracy_score, f1_score # ROC AUC 점수 계산 함수\n",
    "\n",
    "import torch.nn as nn # 신경망 모듈\n",
    "from torch.utils.data import Dataset # 데이터 생성을 위한 클래스\n",
    "from torch.utils.data import DataLoader # 데이터 로더 클래스\n",
    "\n",
    "from efficientnet_pytorch import EfficientNet # EfficientNet 모델\n",
    "from tqdm.notebook import tqdm # 진행률 표시 막대 \n",
    "import multiprocessing\n",
    "\n",
    "# 이미지 변환을 위한 모듈\n",
    "import albumentations as A\n",
    "from albumentations.pytorch import ToTensorV2"
   ]
  },
  {
   "cell_type": "code",
   "execution_count": 2,
   "metadata": {},
   "outputs": [],
   "source": [
    "os.environ['CUDA_LAUNCH_BLOCKING'] = \"1\""
   ]
  },
  {
   "attachments": {},
   "cell_type": "markdown",
   "metadata": {},
   "source": [
    "### 시드값 고정"
   ]
  },
  {
   "cell_type": "code",
   "execution_count": 3,
   "metadata": {},
   "outputs": [],
   "source": [
    "# 시드값 고정\n",
    "seed = 42\n",
    "os.environ['PYTHONHASHSEED'] = str(seed)\n",
    "random.seed(seed)\n",
    "np.random.seed(seed)\n",
    "torch.manual_seed(seed)\n",
    "torch.cuda.manual_seed(seed)\n",
    "torch.cuda.manual_seed_all(seed)\n",
    "torch.backends.cudnn.deterministic = True\n",
    "torch.backends.cudnn.benchmark = False\n",
    "torch.backends.cudnn.enabled = False"
   ]
  },
  {
   "attachments": {},
   "cell_type": "markdown",
   "metadata": {},
   "source": [
    "### GPU 장비 설정"
   ]
  },
  {
   "cell_type": "code",
   "execution_count": 4,
   "metadata": {},
   "outputs": [
    {
     "data": {
      "text/plain": [
       "device(type='cuda')"
      ]
     },
     "execution_count": 4,
     "metadata": {},
     "output_type": "execute_result"
    }
   ],
   "source": [
    "device = torch.device('cuda' if torch.cuda.is_available() else 'cpu')\n",
    "\n",
    "device"
   ]
  },
  {
   "attachments": {},
   "cell_type": "markdown",
   "metadata": {},
   "source": [
    "### 데이터 준비"
   ]
  },
  {
   "cell_type": "code",
   "execution_count": 5,
   "metadata": {},
   "outputs": [],
   "source": [
    "# 데이터 경로\n",
    "with open('./data/pre_data/df_metainfo.pkl', 'rb') as f:\n",
    "    data_dict = pickle.load(f)\n",
    "\n",
    "house = data_dict['house']\n",
    "\n",
    "test = house[house['fold_door_yn'] == 0]\n",
    "train = house[house['fold_door_yn'] != 0]\n",
    "\n",
    "test = test.iloc[:, :1]\n",
    "train = train[['id', 'door_yn', 'roof_yn', 'window_cnt']]\n",
    "train.iloc[:, 1:] = train.iloc[:, 1:].values.astype('int64')"
   ]
  },
  {
   "cell_type": "code",
   "execution_count": 6,
   "metadata": {},
   "outputs": [
    {
     "name": "stdout",
     "output_type": "stream",
     "text": [
      "<class 'pandas.core.frame.DataFrame'>\n",
      "Int64Index: 794 entries, 0 to 992\n",
      "Data columns (total 4 columns):\n",
      " #   Column      Non-Null Count  Dtype \n",
      "---  ------      --------------  ----- \n",
      " 0   id          794 non-null    object\n",
      " 1   door_yn     794 non-null    int64 \n",
      " 2   roof_yn     794 non-null    int64 \n",
      " 3   window_cnt  794 non-null    int64 \n",
      "dtypes: int64(3), object(1)\n",
      "memory usage: 31.0+ KB\n"
     ]
    }
   ],
   "source": [
    "train.info()"
   ]
  },
  {
   "cell_type": "code",
   "execution_count": 7,
   "metadata": {},
   "outputs": [
    {
     "data": {
      "text/html": [
       "<div>\n",
       "<style scoped>\n",
       "    .dataframe tbody tr th:only-of-type {\n",
       "        vertical-align: middle;\n",
       "    }\n",
       "\n",
       "    .dataframe tbody tr th {\n",
       "        vertical-align: top;\n",
       "    }\n",
       "\n",
       "    .dataframe thead th {\n",
       "        text-align: right;\n",
       "    }\n",
       "</style>\n",
       "<table border=\"1\" class=\"dataframe\">\n",
       "  <thead>\n",
       "    <tr style=\"text-align: right;\">\n",
       "      <th></th>\n",
       "      <th>id</th>\n",
       "      <th>door_yn</th>\n",
       "      <th>roof_yn</th>\n",
       "      <th>window_cnt</th>\n",
       "    </tr>\n",
       "  </thead>\n",
       "  <tbody>\n",
       "    <tr>\n",
       "      <th>0</th>\n",
       "      <td>24_175_23002_house</td>\n",
       "      <td>1</td>\n",
       "      <td>0</td>\n",
       "      <td>1</td>\n",
       "    </tr>\n",
       "    <tr>\n",
       "      <th>1</th>\n",
       "      <td>24_175_23003_house</td>\n",
       "      <td>0</td>\n",
       "      <td>1</td>\n",
       "      <td>2</td>\n",
       "    </tr>\n",
       "    <tr>\n",
       "      <th>2</th>\n",
       "      <td>24_175_23004_house</td>\n",
       "      <td>1</td>\n",
       "      <td>1</td>\n",
       "      <td>0</td>\n",
       "    </tr>\n",
       "    <tr>\n",
       "      <th>3</th>\n",
       "      <td>24_175_23005_house</td>\n",
       "      <td>1</td>\n",
       "      <td>1</td>\n",
       "      <td>0</td>\n",
       "    </tr>\n",
       "    <tr>\n",
       "      <th>4</th>\n",
       "      <td>24_175_23006_house</td>\n",
       "      <td>0</td>\n",
       "      <td>0</td>\n",
       "      <td>2</td>\n",
       "    </tr>\n",
       "  </tbody>\n",
       "</table>\n",
       "</div>"
      ],
      "text/plain": [
       "                   id  door_yn  roof_yn  window_cnt\n",
       "0  24_175_23002_house        1        0           1\n",
       "1  24_175_23003_house        0        1           2\n",
       "2  24_175_23004_house        1        1           0\n",
       "3  24_175_23005_house        1        1           0\n",
       "4  24_175_23006_house        0        0           2"
      ]
     },
     "execution_count": 7,
     "metadata": {},
     "output_type": "execute_result"
    }
   ],
   "source": [
    "train.head()"
   ]
  },
  {
   "cell_type": "code",
   "execution_count": 8,
   "metadata": {},
   "outputs": [
    {
     "data": {
      "text/html": [
       "<div>\n",
       "<style scoped>\n",
       "    .dataframe tbody tr th:only-of-type {\n",
       "        vertical-align: middle;\n",
       "    }\n",
       "\n",
       "    .dataframe tbody tr th {\n",
       "        vertical-align: top;\n",
       "    }\n",
       "\n",
       "    .dataframe thead th {\n",
       "        text-align: right;\n",
       "    }\n",
       "</style>\n",
       "<table border=\"1\" class=\"dataframe\">\n",
       "  <thead>\n",
       "    <tr style=\"text-align: right;\">\n",
       "      <th></th>\n",
       "      <th>id</th>\n",
       "    </tr>\n",
       "  </thead>\n",
       "  <tbody>\n",
       "    <tr>\n",
       "      <th>6</th>\n",
       "      <td>24_175_23008_house</td>\n",
       "    </tr>\n",
       "    <tr>\n",
       "      <th>7</th>\n",
       "      <td>24_175_23010_house</td>\n",
       "    </tr>\n",
       "    <tr>\n",
       "      <th>12</th>\n",
       "      <td>24_175_23018_house</td>\n",
       "    </tr>\n",
       "    <tr>\n",
       "      <th>15</th>\n",
       "      <td>24_175_23183_house</td>\n",
       "    </tr>\n",
       "    <tr>\n",
       "      <th>17</th>\n",
       "      <td>24_176_23022_house</td>\n",
       "    </tr>\n",
       "  </tbody>\n",
       "</table>\n",
       "</div>"
      ],
      "text/plain": [
       "                    id\n",
       "6   24_175_23008_house\n",
       "7   24_175_23010_house\n",
       "12  24_175_23018_house\n",
       "15  24_175_23183_house\n",
       "17  24_176_23022_house"
      ]
     },
     "execution_count": 8,
     "metadata": {},
     "output_type": "execute_result"
    }
   ],
   "source": [
    "test.head()"
   ]
  },
  {
   "cell_type": "code",
   "execution_count": 9,
   "metadata": {},
   "outputs": [
    {
     "data": {
      "text/html": [
       "<div>\n",
       "<style scoped>\n",
       "    .dataframe tbody tr th:only-of-type {\n",
       "        vertical-align: middle;\n",
       "    }\n",
       "\n",
       "    .dataframe tbody tr th {\n",
       "        vertical-align: top;\n",
       "    }\n",
       "\n",
       "    .dataframe thead th {\n",
       "        text-align: right;\n",
       "    }\n",
       "</style>\n",
       "<table border=\"1\" class=\"dataframe\">\n",
       "  <thead>\n",
       "    <tr style=\"text-align: right;\">\n",
       "      <th></th>\n",
       "      <th>id</th>\n",
       "      <th>door_yn_0</th>\n",
       "      <th>door_yn_1</th>\n",
       "      <th>roof_yn_0</th>\n",
       "      <th>roof_yn_1</th>\n",
       "      <th>window_cnt_0</th>\n",
       "      <th>window_cnt_1</th>\n",
       "      <th>window_cnt_2</th>\n",
       "    </tr>\n",
       "  </thead>\n",
       "  <tbody>\n",
       "    <tr>\n",
       "      <th>0</th>\n",
       "      <td>24_175_23002_house</td>\n",
       "      <td>0</td>\n",
       "      <td>1</td>\n",
       "      <td>1</td>\n",
       "      <td>0</td>\n",
       "      <td>0</td>\n",
       "      <td>1</td>\n",
       "      <td>0</td>\n",
       "    </tr>\n",
       "    <tr>\n",
       "      <th>1</th>\n",
       "      <td>24_175_23003_house</td>\n",
       "      <td>1</td>\n",
       "      <td>0</td>\n",
       "      <td>0</td>\n",
       "      <td>1</td>\n",
       "      <td>0</td>\n",
       "      <td>0</td>\n",
       "      <td>1</td>\n",
       "    </tr>\n",
       "    <tr>\n",
       "      <th>2</th>\n",
       "      <td>24_175_23004_house</td>\n",
       "      <td>0</td>\n",
       "      <td>1</td>\n",
       "      <td>0</td>\n",
       "      <td>1</td>\n",
       "      <td>1</td>\n",
       "      <td>0</td>\n",
       "      <td>0</td>\n",
       "    </tr>\n",
       "    <tr>\n",
       "      <th>3</th>\n",
       "      <td>24_175_23005_house</td>\n",
       "      <td>0</td>\n",
       "      <td>1</td>\n",
       "      <td>0</td>\n",
       "      <td>1</td>\n",
       "      <td>1</td>\n",
       "      <td>0</td>\n",
       "      <td>0</td>\n",
       "    </tr>\n",
       "    <tr>\n",
       "      <th>4</th>\n",
       "      <td>24_175_23006_house</td>\n",
       "      <td>1</td>\n",
       "      <td>0</td>\n",
       "      <td>1</td>\n",
       "      <td>0</td>\n",
       "      <td>0</td>\n",
       "      <td>0</td>\n",
       "      <td>1</td>\n",
       "    </tr>\n",
       "    <tr>\n",
       "      <th>...</th>\n",
       "      <td>...</td>\n",
       "      <td>...</td>\n",
       "      <td>...</td>\n",
       "      <td>...</td>\n",
       "      <td>...</td>\n",
       "      <td>...</td>\n",
       "      <td>...</td>\n",
       "      <td>...</td>\n",
       "    </tr>\n",
       "    <tr>\n",
       "      <th>988</th>\n",
       "      <td>5_29_23040_house</td>\n",
       "      <td>0</td>\n",
       "      <td>1</td>\n",
       "      <td>0</td>\n",
       "      <td>1</td>\n",
       "      <td>0</td>\n",
       "      <td>0</td>\n",
       "      <td>1</td>\n",
       "    </tr>\n",
       "    <tr>\n",
       "      <th>989</th>\n",
       "      <td>5_29_23041_house</td>\n",
       "      <td>0</td>\n",
       "      <td>1</td>\n",
       "      <td>0</td>\n",
       "      <td>1</td>\n",
       "      <td>0</td>\n",
       "      <td>0</td>\n",
       "      <td>1</td>\n",
       "    </tr>\n",
       "    <tr>\n",
       "      <th>990</th>\n",
       "      <td>5_29_23043_house</td>\n",
       "      <td>1</td>\n",
       "      <td>0</td>\n",
       "      <td>0</td>\n",
       "      <td>1</td>\n",
       "      <td>0</td>\n",
       "      <td>1</td>\n",
       "      <td>0</td>\n",
       "    </tr>\n",
       "    <tr>\n",
       "      <th>991</th>\n",
       "      <td>5_29_23044_house</td>\n",
       "      <td>0</td>\n",
       "      <td>1</td>\n",
       "      <td>0</td>\n",
       "      <td>1</td>\n",
       "      <td>0</td>\n",
       "      <td>1</td>\n",
       "      <td>0</td>\n",
       "    </tr>\n",
       "    <tr>\n",
       "      <th>992</th>\n",
       "      <td>5_29_23045_house</td>\n",
       "      <td>0</td>\n",
       "      <td>1</td>\n",
       "      <td>0</td>\n",
       "      <td>1</td>\n",
       "      <td>0</td>\n",
       "      <td>1</td>\n",
       "      <td>0</td>\n",
       "    </tr>\n",
       "  </tbody>\n",
       "</table>\n",
       "<p>794 rows × 8 columns</p>\n",
       "</div>"
      ],
      "text/plain": [
       "                     id  door_yn_0  door_yn_1  roof_yn_0  roof_yn_1  \\\n",
       "0    24_175_23002_house          0          1          1          0   \n",
       "1    24_175_23003_house          1          0          0          1   \n",
       "2    24_175_23004_house          0          1          0          1   \n",
       "3    24_175_23005_house          0          1          0          1   \n",
       "4    24_175_23006_house          1          0          1          0   \n",
       "..                  ...        ...        ...        ...        ...   \n",
       "988    5_29_23040_house          0          1          0          1   \n",
       "989    5_29_23041_house          0          1          0          1   \n",
       "990    5_29_23043_house          1          0          0          1   \n",
       "991    5_29_23044_house          0          1          0          1   \n",
       "992    5_29_23045_house          0          1          0          1   \n",
       "\n",
       "     window_cnt_0  window_cnt_1  window_cnt_2  \n",
       "0               0             1             0  \n",
       "1               0             0             1  \n",
       "2               1             0             0  \n",
       "3               1             0             0  \n",
       "4               0             0             1  \n",
       "..            ...           ...           ...  \n",
       "988             0             0             1  \n",
       "989             0             0             1  \n",
       "990             0             1             0  \n",
       "991             0             1             0  \n",
       "992             0             1             0  \n",
       "\n",
       "[794 rows x 8 columns]"
      ]
     },
     "execution_count": 9,
     "metadata": {},
     "output_type": "execute_result"
    }
   ],
   "source": [
    "encoded_train = pd.get_dummies(train, columns = ['door_yn', 'roof_yn', 'window_cnt'])\n",
    "encoded_train"
   ]
  },
  {
   "cell_type": "code",
   "execution_count": 10,
   "metadata": {},
   "outputs": [
    {
     "data": {
      "text/html": [
       "<div>\n",
       "<style scoped>\n",
       "    .dataframe tbody tr th:only-of-type {\n",
       "        vertical-align: middle;\n",
       "    }\n",
       "\n",
       "    .dataframe tbody tr th {\n",
       "        vertical-align: top;\n",
       "    }\n",
       "\n",
       "    .dataframe thead th {\n",
       "        text-align: right;\n",
       "    }\n",
       "</style>\n",
       "<table border=\"1\" class=\"dataframe\">\n",
       "  <thead>\n",
       "    <tr style=\"text-align: right;\">\n",
       "      <th></th>\n",
       "      <th>id</th>\n",
       "      <th>door_yn_0</th>\n",
       "      <th>door_yn_1</th>\n",
       "    </tr>\n",
       "  </thead>\n",
       "  <tbody>\n",
       "    <tr>\n",
       "      <th>0</th>\n",
       "      <td>24_175_23002_house</td>\n",
       "      <td>0</td>\n",
       "      <td>1</td>\n",
       "    </tr>\n",
       "    <tr>\n",
       "      <th>1</th>\n",
       "      <td>24_175_23003_house</td>\n",
       "      <td>1</td>\n",
       "      <td>0</td>\n",
       "    </tr>\n",
       "    <tr>\n",
       "      <th>2</th>\n",
       "      <td>24_175_23004_house</td>\n",
       "      <td>0</td>\n",
       "      <td>1</td>\n",
       "    </tr>\n",
       "    <tr>\n",
       "      <th>3</th>\n",
       "      <td>24_175_23005_house</td>\n",
       "      <td>0</td>\n",
       "      <td>1</td>\n",
       "    </tr>\n",
       "    <tr>\n",
       "      <th>4</th>\n",
       "      <td>24_175_23006_house</td>\n",
       "      <td>1</td>\n",
       "      <td>0</td>\n",
       "    </tr>\n",
       "  </tbody>\n",
       "</table>\n",
       "</div>"
      ],
      "text/plain": [
       "                   id  door_yn_0  door_yn_1\n",
       "0  24_175_23002_house          0          1\n",
       "1  24_175_23003_house          1          0\n",
       "2  24_175_23004_house          0          1\n",
       "3  24_175_23005_house          0          1\n",
       "4  24_175_23006_house          1          0"
      ]
     },
     "execution_count": 10,
     "metadata": {},
     "output_type": "execute_result"
    }
   ],
   "source": [
    "dore_train = encoded_train[['id', 'door_yn_0', 'door_yn_1']]\n",
    "dore_train.head()"
   ]
  },
  {
   "cell_type": "code",
   "execution_count": 11,
   "metadata": {},
   "outputs": [
    {
     "data": {
      "text/html": [
       "<div>\n",
       "<style scoped>\n",
       "    .dataframe tbody tr th:only-of-type {\n",
       "        vertical-align: middle;\n",
       "    }\n",
       "\n",
       "    .dataframe tbody tr th {\n",
       "        vertical-align: top;\n",
       "    }\n",
       "\n",
       "    .dataframe thead th {\n",
       "        text-align: right;\n",
       "    }\n",
       "</style>\n",
       "<table border=\"1\" class=\"dataframe\">\n",
       "  <thead>\n",
       "    <tr style=\"text-align: right;\">\n",
       "      <th></th>\n",
       "      <th>id</th>\n",
       "      <th>roof_yn_0</th>\n",
       "      <th>roof_yn_1</th>\n",
       "    </tr>\n",
       "  </thead>\n",
       "  <tbody>\n",
       "    <tr>\n",
       "      <th>0</th>\n",
       "      <td>24_175_23002_house</td>\n",
       "      <td>1</td>\n",
       "      <td>0</td>\n",
       "    </tr>\n",
       "    <tr>\n",
       "      <th>1</th>\n",
       "      <td>24_175_23003_house</td>\n",
       "      <td>0</td>\n",
       "      <td>1</td>\n",
       "    </tr>\n",
       "    <tr>\n",
       "      <th>2</th>\n",
       "      <td>24_175_23004_house</td>\n",
       "      <td>0</td>\n",
       "      <td>1</td>\n",
       "    </tr>\n",
       "    <tr>\n",
       "      <th>3</th>\n",
       "      <td>24_175_23005_house</td>\n",
       "      <td>0</td>\n",
       "      <td>1</td>\n",
       "    </tr>\n",
       "    <tr>\n",
       "      <th>4</th>\n",
       "      <td>24_175_23006_house</td>\n",
       "      <td>1</td>\n",
       "      <td>0</td>\n",
       "    </tr>\n",
       "  </tbody>\n",
       "</table>\n",
       "</div>"
      ],
      "text/plain": [
       "                   id  roof_yn_0  roof_yn_1\n",
       "0  24_175_23002_house          1          0\n",
       "1  24_175_23003_house          0          1\n",
       "2  24_175_23004_house          0          1\n",
       "3  24_175_23005_house          0          1\n",
       "4  24_175_23006_house          1          0"
      ]
     },
     "execution_count": 11,
     "metadata": {},
     "output_type": "execute_result"
    }
   ],
   "source": [
    "roof_train = encoded_train[['id', 'roof_yn_0', 'roof_yn_1']]\n",
    "roof_train.head()"
   ]
  },
  {
   "cell_type": "code",
   "execution_count": 12,
   "metadata": {},
   "outputs": [
    {
     "data": {
      "text/html": [
       "<div>\n",
       "<style scoped>\n",
       "    .dataframe tbody tr th:only-of-type {\n",
       "        vertical-align: middle;\n",
       "    }\n",
       "\n",
       "    .dataframe tbody tr th {\n",
       "        vertical-align: top;\n",
       "    }\n",
       "\n",
       "    .dataframe thead th {\n",
       "        text-align: right;\n",
       "    }\n",
       "</style>\n",
       "<table border=\"1\" class=\"dataframe\">\n",
       "  <thead>\n",
       "    <tr style=\"text-align: right;\">\n",
       "      <th></th>\n",
       "      <th>id</th>\n",
       "      <th>window_cnt_0</th>\n",
       "      <th>window_cnt_1</th>\n",
       "      <th>window_cnt_2</th>\n",
       "    </tr>\n",
       "  </thead>\n",
       "  <tbody>\n",
       "    <tr>\n",
       "      <th>0</th>\n",
       "      <td>24_175_23002_house</td>\n",
       "      <td>0</td>\n",
       "      <td>1</td>\n",
       "      <td>0</td>\n",
       "    </tr>\n",
       "    <tr>\n",
       "      <th>1</th>\n",
       "      <td>24_175_23003_house</td>\n",
       "      <td>0</td>\n",
       "      <td>0</td>\n",
       "      <td>1</td>\n",
       "    </tr>\n",
       "    <tr>\n",
       "      <th>2</th>\n",
       "      <td>24_175_23004_house</td>\n",
       "      <td>1</td>\n",
       "      <td>0</td>\n",
       "      <td>0</td>\n",
       "    </tr>\n",
       "    <tr>\n",
       "      <th>3</th>\n",
       "      <td>24_175_23005_house</td>\n",
       "      <td>1</td>\n",
       "      <td>0</td>\n",
       "      <td>0</td>\n",
       "    </tr>\n",
       "    <tr>\n",
       "      <th>4</th>\n",
       "      <td>24_175_23006_house</td>\n",
       "      <td>0</td>\n",
       "      <td>0</td>\n",
       "      <td>1</td>\n",
       "    </tr>\n",
       "  </tbody>\n",
       "</table>\n",
       "</div>"
      ],
      "text/plain": [
       "                   id  window_cnt_0  window_cnt_1  window_cnt_2\n",
       "0  24_175_23002_house             0             1             0\n",
       "1  24_175_23003_house             0             0             1\n",
       "2  24_175_23004_house             1             0             0\n",
       "3  24_175_23005_house             1             0             0\n",
       "4  24_175_23006_house             0             0             1"
      ]
     },
     "execution_count": 12,
     "metadata": {},
     "output_type": "execute_result"
    }
   ],
   "source": [
    "window_train = encoded_train[['id', 'window_cnt_0', 'window_cnt_1', 'window_cnt_2']]\n",
    "window_train.head()"
   ]
  },
  {
   "attachments": {},
   "cell_type": "markdown",
   "metadata": {},
   "source": [
    "- 훈련 데이터, 검증 데이터 분리"
   ]
  },
  {
   "cell_type": "code",
   "execution_count": 13,
   "metadata": {},
   "outputs": [],
   "source": [
    "# 훈련 데이터, 검증 데이터 분리\n",
    "dore_train, dore_valid = train_test_split(train,\n",
    "                                test_size=0.1,\n",
    "                                stratify=train[['door_yn', 'roof_yn', 'window_cnt']],\n",
    "                                random_state=42)\n",
    "dore_train = dore_train.reset_index(drop=True)\n",
    "dore_valid = dore_valid.reset_index(drop=True)"
   ]
  },
  {
   "cell_type": "code",
   "execution_count": 14,
   "metadata": {},
   "outputs": [
    {
     "name": "stdout",
     "output_type": "stream",
     "text": [
      "<class 'pandas.core.frame.DataFrame'>\n",
      "RangeIndex: 714 entries, 0 to 713\n",
      "Data columns (total 4 columns):\n",
      " #   Column      Non-Null Count  Dtype \n",
      "---  ------      --------------  ----- \n",
      " 0   id          714 non-null    object\n",
      " 1   door_yn     714 non-null    int64 \n",
      " 2   roof_yn     714 non-null    int64 \n",
      " 3   window_cnt  714 non-null    int64 \n",
      "dtypes: int64(3), object(1)\n",
      "memory usage: 22.4+ KB\n"
     ]
    }
   ],
   "source": [
    "dore_train.info()"
   ]
  },
  {
   "cell_type": "code",
   "execution_count": 15,
   "metadata": {},
   "outputs": [
    {
     "data": {
      "text/plain": [
       "1    563\n",
       "0    151\n",
       "Name: door_yn, dtype: int64"
      ]
     },
     "execution_count": 15,
     "metadata": {},
     "output_type": "execute_result"
    }
   ],
   "source": [
    "dore_train[\"door_yn\"].value_counts()"
   ]
  },
  {
   "cell_type": "code",
   "execution_count": 16,
   "metadata": {},
   "outputs": [
    {
     "name": "stdout",
     "output_type": "stream",
     "text": [
      "<class 'pandas.core.frame.DataFrame'>\n",
      "RangeIndex: 80 entries, 0 to 79\n",
      "Data columns (total 4 columns):\n",
      " #   Column      Non-Null Count  Dtype \n",
      "---  ------      --------------  ----- \n",
      " 0   id          80 non-null     object\n",
      " 1   door_yn     80 non-null     int64 \n",
      " 2   roof_yn     80 non-null     int64 \n",
      " 3   window_cnt  80 non-null     int64 \n",
      "dtypes: int64(3), object(1)\n",
      "memory usage: 2.6+ KB\n"
     ]
    }
   ],
   "source": [
    "dore_valid.info()"
   ]
  },
  {
   "cell_type": "code",
   "execution_count": 17,
   "metadata": {},
   "outputs": [
    {
     "data": {
      "text/plain": [
       "1    62\n",
       "0    18\n",
       "Name: door_yn, dtype: int64"
      ]
     },
     "execution_count": 17,
     "metadata": {},
     "output_type": "execute_result"
    }
   ],
   "source": [
    "dore_valid[\"door_yn\"].value_counts()"
   ]
  },
  {
   "attachments": {},
   "cell_type": "markdown",
   "metadata": {},
   "source": [
    "- 데이터셋 클래스 정의"
   ]
  },
  {
   "cell_type": "code",
   "execution_count": 18,
   "metadata": {},
   "outputs": [],
   "source": [
    "class ImageDataset(Dataset):\n",
    "    # 초기화 메서드(생성자)\n",
    "    def __init__(self, df, img_dir='./', transform=None, is_test=False):\n",
    "        super().__init__() # 상속받은 Dataset의 __init__() 메서드 호출\n",
    "        # 전달받은 인수 저장\n",
    "        self.df = df\n",
    "        self.img_dir = img_dir\n",
    "        self.transform = transform\n",
    "        self.is_test = is_test\n",
    "    \n",
    "    # 데이터셋 크기 반환 메서드 \n",
    "    def __len__(self):\n",
    "        return len(self.df)\n",
    "    \n",
    "    # 인덱스(idx)에 해당하는 데이터 반환 메서드\n",
    "    def __getitem__(self, idx):\n",
    "        img_id = self.df.iloc[idx, 0]             # 이미지 ID\n",
    "        img_path = self.img_dir + img_id + '.jpg' # 2. 이미지 파일 경로\n",
    "        image = cv2.imread(img_path)              # 이미지 파일 읽기\n",
    "        image = cv2.cvtColor(image, cv2.COLOR_BGR2RGB) # 이미지 색상 보정\n",
    "        # 이미지 변환 \n",
    "        if self.transform is not None:\n",
    "            image = self.transform(image=image)['image']  # 3.\n",
    "        # 테스트 데이터면 이미지 데이터만 반환, 그렇지 않으면 타깃값도 반환 \n",
    "        if self.is_test:  # 4.\n",
    "            return image # 5. 테스트용일 때\n",
    "        else:\n",
    "            # # 타깃값 n개 중 가장 큰 값의 인덱스  # 6.\n",
    "            # label = np.argmax(self.df.iloc[idx, 1:])\n",
    "            # pandas indexing 버그인지 모르겠으나, 특정열을 선택하면 obejct로 바뀌어 버려서 다시 int로 재변환\n",
    "            label = self.df.iloc[idx, 1:].values.astype(\"int64\")\n",
    "            return image, label # 훈련/검증용일 때  # 7."
   ]
  },
  {
   "attachments": {},
   "cell_type": "markdown",
   "metadata": {},
   "source": [
    "- 이미지 변환기 정의"
   ]
  },
  {
   "cell_type": "code",
   "execution_count": 19,
   "metadata": {},
   "outputs": [],
   "source": [
    "# 훈련 데이터용 변환기\n",
    "transform_train = A.Compose([\n",
    "    A.Resize(224, 224),       # 1. 이미지 크기 조절 \n",
    "    # A.RandomBrightnessContrast(brightness_limit=0.2, # 2. 밝기 대비 조절\n",
    "    #                            contrast_limit=0.2, p=0.3),\n",
    "    # A.VerticalFlip(p = 0.2),    # 상하 대칭 변환\n",
    "    # A.HorizontalFlip(p = 0.5),  # 좌우 대칭 변환 \n",
    "    # A.ShiftScaleRotate(       # 3. 이동, 스케일링, 회전 변환\n",
    "    #     shift_limit = 0.1,\n",
    "    #     scale_limit = 0.2,\n",
    "    #     rotate_limit = 30, p = 0.3),\n",
    "    # A.OneOf([A.Emboss(p = 1),   # 4. 양각화, 날카로움, 블러 효과\n",
    "    #          A.Sharpen(p = 1),\n",
    "    #          A.Blur(p = 1)], p = 0.3),\n",
    "    # A.PiecewiseAffine(p = 0.3), # 5. 어파인 변환 \n",
    "    A.Normalize(),            # 6. 정규화 변환 \n",
    "    ToTensorV2()              # 7. 텐서로 변환\n",
    "])"
   ]
  },
  {
   "cell_type": "code",
   "execution_count": 20,
   "metadata": {},
   "outputs": [],
   "source": [
    "# 검증 및 테스트 데이터용 변환기\n",
    "transform_test = A.Compose([\n",
    "    A.Resize(224, 224), # 이미지 크기 조절 \n",
    "    A.Normalize(),      # 정규화 변환\n",
    "    ToTensorV2()        # 텐서로 변환\n",
    "])"
   ]
  },
  {
   "attachments": {},
   "cell_type": "markdown",
   "metadata": {},
   "source": [
    "- 데이터 셋 및 데이터 로더 생성"
   ]
  },
  {
   "cell_type": "code",
   "execution_count": 21,
   "metadata": {},
   "outputs": [],
   "source": [
    "# def seed_worker(worker_id):   #데이터 로더 시드값 고정 함수\n",
    "#     worker_seed = torch.initial_seed() % 2**32\n",
    "#     np.random.seed(worker_seed)\n",
    "#     random.seed(worker_seed)\n",
    "    \n",
    "# g = torch.Generator()  # 제너레이터 생성\n",
    "# g.manual_seed(0)  # 제너레이터 시드값 고정"
   ]
  },
  {
   "cell_type": "code",
   "execution_count": 22,
   "metadata": {},
   "outputs": [],
   "source": [
    "img_dir = './image/crop_data/house/'\n",
    "batch_size = 4\n",
    "\n",
    "loader_train = DataLoader(\n",
    "    ImageDataset(dore_train, img_dir=img_dir, transform=transform_train, is_test=False),\n",
    "    batch_size=batch_size, shuffle=True,\n",
    ")\n",
    "loader_valid = DataLoader(\n",
    "    ImageDataset(dore_valid, img_dir=img_dir, transform=transform_test, is_test=False),\n",
    "    batch_size=batch_size, shuffle=False,\n",
    ")"
   ]
  },
  {
   "cell_type": "code",
   "execution_count": 23,
   "metadata": {},
   "outputs": [
    {
     "name": "stdout",
     "output_type": "stream",
     "text": [
      "torch.Size([4, 3, 224, 224])\n",
      "torch.Size([4, 3])\n"
     ]
    }
   ],
   "source": [
    "for batch in loader_train:\n",
    "    print(batch[0].shape)\n",
    "    print(batch[1].shape)\n",
    "    break"
   ]
  },
  {
   "attachments": {},
   "cell_type": "markdown",
   "metadata": {},
   "source": [
    "### 모델 생성"
   ]
  },
  {
   "attachments": {},
   "cell_type": "markdown",
   "metadata": {},
   "source": [
    "- EfficientNet 모델 생성"
   ]
  },
  {
   "cell_type": "code",
   "execution_count": 24,
   "metadata": {},
   "outputs": [
    {
     "name": "stdout",
     "output_type": "stream",
     "text": [
      "Loaded pretrained weights for efficientnet-b4\n"
     ]
    }
   ],
   "source": [
    "# 사전 훈련된 efficientnet-b7 모델 불러오기\n",
    "model = EfficientNet.from_pretrained('efficientnet-b4', num_classes=7) \n",
    "model = model.to(device) # 장비 할당"
   ]
  },
  {
   "attachments": {},
   "cell_type": "markdown",
   "metadata": {},
   "source": [
    "### 모델 훈련 및 성능 검증"
   ]
  },
  {
   "attachments": {},
   "cell_type": "markdown",
   "metadata": {},
   "source": [
    "- 손실함수와 옵티마이저 설정"
   ]
  },
  {
   "cell_type": "code",
   "execution_count": 25,
   "metadata": {},
   "outputs": [],
   "source": [
    "# 손실 함수\n",
    "criterion = nn.CrossEntropyLoss()\n",
    "# 옵티마이저\n",
    "optimizer = torch.optim.AdamW(model.parameters(), lr=0.00006, weight_decay=0.0001)"
   ]
  },
  {
   "attachments": {},
   "cell_type": "markdown",
   "metadata": {},
   "source": [
    "- 훈련 및 성능 검증"
   ]
  },
  {
   "cell_type": "code",
   "execution_count": 26,
   "metadata": {},
   "outputs": [
    {
     "data": {
      "application/vnd.jupyter.widget-view+json": {
       "model_id": "94c3ea7526b24ffdb4507c47bd3c4338",
       "version_major": 2,
       "version_minor": 0
      },
      "text/plain": [
       "  0%|          | 0/179 [00:00<?, ?it/s]"
      ]
     },
     "metadata": {},
     "output_type": "display_data"
    },
    {
     "name": "stdout",
     "output_type": "stream",
     "text": [
      "에폭 [1/10] - 훈련 데이터 손실값 : 1.9309\n"
     ]
    },
    {
     "data": {
      "application/vnd.jupyter.widget-view+json": {
       "model_id": "18b43962fbe34b5aabbb014664619b6b",
       "version_major": 2,
       "version_minor": 0
      },
      "text/plain": [
       "  0%|          | 0/20 [00:00<?, ?it/s]"
      ]
     },
     "metadata": {},
     "output_type": "display_data"
    },
    {
     "name": "stdout",
     "output_type": "stream",
     "text": [
      "에폭 [1/10] - 검증 데이터 손실값 : 1.5868\n",
      "에폭 [1/10] - 검증 데이터 정확도: 0.7958 / 검증 데이터 F1 점수: 0.5370\n",
      "에폭 1의 모델이 ./model/person_model1_loss1.5868_acc0.7958_f10.5370.pth로 저장되었습니다.\n"
     ]
    },
    {
     "data": {
      "application/vnd.jupyter.widget-view+json": {
       "model_id": "ae12be7a53274ecdb9a114b213697177",
       "version_major": 2,
       "version_minor": 0
      },
      "text/plain": [
       "  0%|          | 0/179 [00:00<?, ?it/s]"
      ]
     },
     "metadata": {},
     "output_type": "display_data"
    },
    {
     "name": "stdout",
     "output_type": "stream",
     "text": [
      "에폭 [2/10] - 훈련 데이터 손실값 : 1.3816\n"
     ]
    },
    {
     "data": {
      "application/vnd.jupyter.widget-view+json": {
       "model_id": "c4241edc5a11450696fd4006969eaf33",
       "version_major": 2,
       "version_minor": 0
      },
      "text/plain": [
       "  0%|          | 0/20 [00:00<?, ?it/s]"
      ]
     },
     "metadata": {},
     "output_type": "display_data"
    },
    {
     "name": "stdout",
     "output_type": "stream",
     "text": [
      "에폭 [2/10] - 검증 데이터 손실값 : 1.3550\n",
      "에폭 [2/10] - 검증 데이터 정확도: 0.8208 / 검증 데이터 F1 점수: 0.5915\n",
      "에폭 2의 모델이 ./model/person_model2_loss1.3550_acc0.8208_f10.5915.pth로 저장되었습니다.\n"
     ]
    },
    {
     "data": {
      "application/vnd.jupyter.widget-view+json": {
       "model_id": "7ed646827e5a4ba9aea704c155368066",
       "version_major": 2,
       "version_minor": 0
      },
      "text/plain": [
       "  0%|          | 0/179 [00:00<?, ?it/s]"
      ]
     },
     "metadata": {},
     "output_type": "display_data"
    },
    {
     "name": "stdout",
     "output_type": "stream",
     "text": [
      "에폭 [3/10] - 훈련 데이터 손실값 : 1.1225\n"
     ]
    },
    {
     "data": {
      "application/vnd.jupyter.widget-view+json": {
       "model_id": "ec57fa8f2cf34bf39e3c7a87d1c79015",
       "version_major": 2,
       "version_minor": 0
      },
      "text/plain": [
       "  0%|          | 0/20 [00:00<?, ?it/s]"
      ]
     },
     "metadata": {},
     "output_type": "display_data"
    },
    {
     "name": "stdout",
     "output_type": "stream",
     "text": [
      "에폭 [3/10] - 검증 데이터 손실값 : 1.3446\n",
      "에폭 [3/10] - 검증 데이터 정확도: 0.8125 / 검증 데이터 F1 점수: 0.6604\n",
      "에폭 3의 모델이 ./model/person_model3_loss1.3446_acc0.8125_f10.6604.pth로 저장되었습니다.\n"
     ]
    },
    {
     "data": {
      "application/vnd.jupyter.widget-view+json": {
       "model_id": "b2954d301a484f5897c7abb9627ff4a7",
       "version_major": 2,
       "version_minor": 0
      },
      "text/plain": [
       "  0%|          | 0/179 [00:00<?, ?it/s]"
      ]
     },
     "metadata": {},
     "output_type": "display_data"
    },
    {
     "name": "stdout",
     "output_type": "stream",
     "text": [
      "에폭 [4/10] - 훈련 데이터 손실값 : 0.9368\n"
     ]
    },
    {
     "data": {
      "application/vnd.jupyter.widget-view+json": {
       "model_id": "1900623c2bb64755953fc7c6da6c3340",
       "version_major": 2,
       "version_minor": 0
      },
      "text/plain": [
       "  0%|          | 0/20 [00:00<?, ?it/s]"
      ]
     },
     "metadata": {},
     "output_type": "display_data"
    },
    {
     "name": "stdout",
     "output_type": "stream",
     "text": [
      "에폭 [4/10] - 검증 데이터 손실값 : 1.2682\n",
      "에폭 [4/10] - 검증 데이터 정확도: 0.8125 / 검증 데이터 F1 점수: 0.6615\n",
      "에폭 4의 모델이 ./model/person_model4_loss1.2682_acc0.8125_f10.6615.pth로 저장되었습니다.\n"
     ]
    },
    {
     "data": {
      "application/vnd.jupyter.widget-view+json": {
       "model_id": "8105136c623b464489a63342f2613a69",
       "version_major": 2,
       "version_minor": 0
      },
      "text/plain": [
       "  0%|          | 0/179 [00:00<?, ?it/s]"
      ]
     },
     "metadata": {},
     "output_type": "display_data"
    },
    {
     "name": "stdout",
     "output_type": "stream",
     "text": [
      "에폭 [5/10] - 훈련 데이터 손실값 : 0.7520\n"
     ]
    },
    {
     "data": {
      "application/vnd.jupyter.widget-view+json": {
       "model_id": "1c0d4c4cf67945768c628395c197550b",
       "version_major": 2,
       "version_minor": 0
      },
      "text/plain": [
       "  0%|          | 0/20 [00:00<?, ?it/s]"
      ]
     },
     "metadata": {},
     "output_type": "display_data"
    },
    {
     "name": "stdout",
     "output_type": "stream",
     "text": [
      "에폭 [5/10] - 검증 데이터 손실값 : 1.1809\n",
      "에폭 [5/10] - 검증 데이터 정확도: 0.8208 / 검증 데이터 F1 점수: 0.6973\n",
      "에폭 5의 모델이 ./model/person_model5_loss1.1809_acc0.8208_f10.6973.pth로 저장되었습니다.\n"
     ]
    },
    {
     "data": {
      "application/vnd.jupyter.widget-view+json": {
       "model_id": "fb15392a052745a39ebf7cfea44e3e37",
       "version_major": 2,
       "version_minor": 0
      },
      "text/plain": [
       "  0%|          | 0/179 [00:00<?, ?it/s]"
      ]
     },
     "metadata": {},
     "output_type": "display_data"
    },
    {
     "name": "stdout",
     "output_type": "stream",
     "text": [
      "에폭 [6/10] - 훈련 데이터 손실값 : 0.6127\n"
     ]
    },
    {
     "data": {
      "application/vnd.jupyter.widget-view+json": {
       "model_id": "e249f9076acc4944b0cf6e6f6e290731",
       "version_major": 2,
       "version_minor": 0
      },
      "text/plain": [
       "  0%|          | 0/20 [00:00<?, ?it/s]"
      ]
     },
     "metadata": {},
     "output_type": "display_data"
    },
    {
     "name": "stdout",
     "output_type": "stream",
     "text": [
      "에폭 [6/10] - 검증 데이터 손실값 : 1.1523\n",
      "에폭 [6/10] - 검증 데이터 정확도: 0.8375 / 검증 데이터 F1 점수: 0.7162\n",
      "에폭 6의 모델이 ./model/person_model6_loss1.1523_acc0.8375_f10.7162.pth로 저장되었습니다.\n"
     ]
    },
    {
     "data": {
      "application/vnd.jupyter.widget-view+json": {
       "model_id": "d0e12440d4894f6f9135dd835e35676c",
       "version_major": 2,
       "version_minor": 0
      },
      "text/plain": [
       "  0%|          | 0/179 [00:00<?, ?it/s]"
      ]
     },
     "metadata": {},
     "output_type": "display_data"
    },
    {
     "name": "stdout",
     "output_type": "stream",
     "text": [
      "에폭 [7/10] - 훈련 데이터 손실값 : 0.5036\n"
     ]
    },
    {
     "data": {
      "application/vnd.jupyter.widget-view+json": {
       "model_id": "34501460158c451b8429ffc3b420d1fb",
       "version_major": 2,
       "version_minor": 0
      },
      "text/plain": [
       "  0%|          | 0/20 [00:00<?, ?it/s]"
      ]
     },
     "metadata": {},
     "output_type": "display_data"
    },
    {
     "name": "stdout",
     "output_type": "stream",
     "text": [
      "에폭 [7/10] - 검증 데이터 손실값 : 1.1745\n",
      "에폭 [7/10] - 검증 데이터 정확도: 0.8167 / 검증 데이터 F1 점수: 0.7178\n",
      "에폭 7의 모델이 ./model/person_model7_loss1.1745_acc0.8167_f10.7178.pth로 저장되었습니다.\n"
     ]
    },
    {
     "data": {
      "application/vnd.jupyter.widget-view+json": {
       "model_id": "fc88a616203d4de7b7b0bb0ce95d7d04",
       "version_major": 2,
       "version_minor": 0
      },
      "text/plain": [
       "  0%|          | 0/179 [00:00<?, ?it/s]"
      ]
     },
     "metadata": {},
     "output_type": "display_data"
    },
    {
     "name": "stdout",
     "output_type": "stream",
     "text": [
      "에폭 [8/10] - 훈련 데이터 손실값 : 0.4302\n"
     ]
    },
    {
     "data": {
      "application/vnd.jupyter.widget-view+json": {
       "model_id": "1771327f9df248aebbfb642c85a643ea",
       "version_major": 2,
       "version_minor": 0
      },
      "text/plain": [
       "  0%|          | 0/20 [00:00<?, ?it/s]"
      ]
     },
     "metadata": {},
     "output_type": "display_data"
    },
    {
     "name": "stdout",
     "output_type": "stream",
     "text": [
      "에폭 [8/10] - 검증 데이터 손실값 : 1.2262\n",
      "에폭 [8/10] - 검증 데이터 정확도: 0.8167 / 검증 데이터 F1 점수: 0.7055\n",
      "에폭 8의 모델이 ./model/person_model8_loss1.2262_acc0.8167_f10.7055.pth로 저장되었습니다.\n"
     ]
    },
    {
     "data": {
      "application/vnd.jupyter.widget-view+json": {
       "model_id": "d744da45506f4e27acd8ba58e4008e1f",
       "version_major": 2,
       "version_minor": 0
      },
      "text/plain": [
       "  0%|          | 0/179 [00:00<?, ?it/s]"
      ]
     },
     "metadata": {},
     "output_type": "display_data"
    },
    {
     "name": "stdout",
     "output_type": "stream",
     "text": [
      "에폭 [9/10] - 훈련 데이터 손실값 : 0.4217\n"
     ]
    },
    {
     "data": {
      "application/vnd.jupyter.widget-view+json": {
       "model_id": "fd3865e2437b4bd68aaeb6004c304af7",
       "version_major": 2,
       "version_minor": 0
      },
      "text/plain": [
       "  0%|          | 0/20 [00:00<?, ?it/s]"
      ]
     },
     "metadata": {},
     "output_type": "display_data"
    },
    {
     "name": "stdout",
     "output_type": "stream",
     "text": [
      "에폭 [9/10] - 검증 데이터 손실값 : 1.2309\n",
      "에폭 [9/10] - 검증 데이터 정확도: 0.8125 / 검증 데이터 F1 점수: 0.7201\n",
      "에폭 9의 모델이 ./model/person_model9_loss1.2309_acc0.8125_f10.7201.pth로 저장되었습니다.\n"
     ]
    },
    {
     "data": {
      "application/vnd.jupyter.widget-view+json": {
       "model_id": "7cb9a54e4d6247399c7b6df707fd2047",
       "version_major": 2,
       "version_minor": 0
      },
      "text/plain": [
       "  0%|          | 0/179 [00:00<?, ?it/s]"
      ]
     },
     "metadata": {},
     "output_type": "display_data"
    },
    {
     "name": "stdout",
     "output_type": "stream",
     "text": [
      "에폭 [10/10] - 훈련 데이터 손실값 : 0.2643\n"
     ]
    },
    {
     "data": {
      "application/vnd.jupyter.widget-view+json": {
       "model_id": "392adcfd728242bcb77be8143ada8718",
       "version_major": 2,
       "version_minor": 0
      },
      "text/plain": [
       "  0%|          | 0/20 [00:00<?, ?it/s]"
      ]
     },
     "metadata": {},
     "output_type": "display_data"
    },
    {
     "name": "stdout",
     "output_type": "stream",
     "text": [
      "에폭 [10/10] - 검증 데이터 손실값 : 1.4165\n",
      "에폭 [10/10] - 검증 데이터 정확도: 0.8083 / 검증 데이터 F1 점수: 0.6908\n",
      "에폭 10의 모델이 ./model/person_model10_loss1.4165_acc0.8083_f10.6908.pth로 저장되었습니다.\n"
     ]
    }
   ],
   "source": [
    "epochs = 10\n",
    "model_save_path = \"./model/\"\n",
    "\n",
    "# 총 에폭만큼 반복\n",
    "for epoch in range(epochs):\n",
    "    # <훈련>\n",
    "    model.train()        # 모델을 훈련 상태로 설정 \n",
    "    epoch_train_loss = 0 # 에폭별 손실값 초기화 (훈련 데이터용)\n",
    "    \n",
    "    # '반복 횟수'만큼 반복 \n",
    "    for images, labels in tqdm(loader_train):\n",
    "        # 이미지, 레이블(타깃값) 데이터 미니배치를 장비에 할당 \n",
    "        images = images.to(device)\n",
    "        labels = labels.to(device)\n",
    "        # 옵티마이저 내 기울기 초기화\n",
    "        optimizer.zero_grad()\n",
    "        # 순전파 : 이미지 데이터를 신경망 모델의 입력값으로 사용해 출력값 계산\n",
    "        outputs = model(images)\n",
    "        # 손실 함수를 활용해 outputs와 labels의 손실값 계산\n",
    "        # 각 target에 대한 loss 계산\n",
    "        # loss = criterion(outputs, labels)\n",
    "        loss1 = criterion(outputs[:, 0:2], labels[:, 0])\n",
    "        loss2 = criterion(outputs[:, 2:4], labels[:, 1])\n",
    "        loss3 = criterion(outputs[:, 4:7], labels[:, 2])\n",
    "        # 최종 loss 합산\n",
    "        final_loss = loss1 + loss2 + loss3\n",
    "        # 현재 배치에서의 손실 추가 (훈련 데이터용)\n",
    "        epoch_train_loss += final_loss.item()\n",
    "        final_loss.backward() # 역전파 수행\n",
    "        optimizer.step() # 가중치 갱신\n",
    "        # break\n",
    "\n",
    "    # 훈련 데이터 손실값 출력\n",
    "    print(f'에폭 [{epoch+1}/{epochs}] - 훈련 데이터 손실값 : {epoch_train_loss/len(loader_train):.4f}')\n",
    "\n",
    "    # break\n",
    "    # <검증>\n",
    "    model.eval()          # 모델을 평가 상태로 설정 \n",
    "    epoch_valid_loss = 0  # 에폭별 손실값 초기화 (검증 데이터용)\n",
    "    pred_array = {\n",
    "        \"door_yn\": [],\n",
    "        \"roof_yn\": [],\n",
    "        \"window_cnt\": [],\n",
    "    }\n",
    "    true_array = {\n",
    "        \"door_yn\": [],\n",
    "        \"roof_yn\": [],\n",
    "        \"window_cnt\": [],\n",
    "    }\n",
    "    with torch.no_grad(): # 기울기 계산 비활성화\n",
    "        # 미니배치 단위로 검증\n",
    "        for images, labels in tqdm(loader_valid):\n",
    "            images = images.to(device)\n",
    "            labels = labels.to(device)\n",
    "            # 출력값 게산\n",
    "            outputs = model(images)\n",
    "            # 각 target에 대한 loss 계산\n",
    "            loss1 = criterion(outputs[:, 0:2], labels[:, 0])\n",
    "            loss2 = criterion(outputs[:, 2:4], labels[:, 1])\n",
    "            loss3 = criterion(outputs[:, 4:7], labels[:, 2])\n",
    "            # 최종 loss 합산\n",
    "            final_loss = loss1 + loss2 + loss3\n",
    "            epoch_valid_loss += final_loss.item()\n",
    "            # metric 계산\n",
    "            pred_array[\"door_yn\"].extend(outputs[:, 0:2].argmax(dim=-1).tolist())\n",
    "            pred_array[\"roof_yn\"].extend(outputs[:, 2:4].argmax(dim=-1).tolist())\n",
    "            pred_array[\"window_cnt\"].extend(outputs[:, 4:7].argmax(dim=-1).tolist())\n",
    "            true_array[\"door_yn\"].extend(labels[:, 0].tolist())\n",
    "            true_array[\"roof_yn\"].extend(labels[:, 1].tolist())\n",
    "            true_array[\"window_cnt\"].extend(labels[:, 2].tolist())\n",
    "            # break\n",
    "        \n",
    "    # 훈련 데이터 손실값 출력\n",
    "    print(f'에폭 [{epoch+1}/{epochs}] - 검증 데이터 손실값 : {epoch_valid_loss/len(loader_valid):.4f}')\n",
    "\n",
    "    # 정확도, F1 점수 계산 (target별 따로 게산 후 산술평균)\n",
    "    accuracy = np.mean([accuracy_score(a, p) for a, p in zip(true_array.values(), pred_array.values())])\n",
    "    f1 = np.mean([f1_score(a, p, average='macro') for a, p in zip(true_array.values(), pred_array.values())])\n",
    "\n",
    "    print(f'에폭 [{epoch+1}/{epochs}] - 검증 데이터 정확도: {accuracy:.4f} / 검증 데이터 F1 점수: {f1:.4f}')\n",
    "    # 에폭마다 모델 저장\n",
    "    torch.save(model.state_dict(), f\"{model_save_path}house_model{epoch+1}_loss{epoch_valid_loss/len(loader_valid):.4f}_acc{accuracy:.4f}_f1{f1:.4f}.pth\")\n",
    "    print(f\"에폭 {epoch+1}의 모델이 {model_save_path}house_model{epoch+1}_loss{epoch_valid_loss/len(loader_valid):.4f}_acc{accuracy:.4f}_f1{f1:.4f}.pth로 저장되었습니다.\")\n",
    "\n",
    "    # break"
   ]
  },
  {
   "attachments": {},
   "cell_type": "markdown",
   "metadata": {},
   "source": [
    "### 예측 결과"
   ]
  },
  {
   "attachments": {},
   "cell_type": "markdown",
   "metadata": {},
   "source": [
    "- 테스트용 데이터셋"
   ]
  },
  {
   "cell_type": "code",
   "execution_count": 48,
   "metadata": {},
   "outputs": [],
   "source": [
    "loader_test = DataLoader(\n",
    "    ImageDataset(test, img_dir=img_dir, transform=transform_test, is_test=True),\n",
    "    batch_size=batch_size, shuffle=False\n",
    ")"
   ]
  },
  {
   "attachments": {},
   "cell_type": "markdown",
   "metadata": {},
   "source": [
    "- 예측"
   ]
  },
  {
   "cell_type": "code",
   "execution_count": 49,
   "metadata": {},
   "outputs": [],
   "source": [
    "model.eval() # 모델을 평가 상태로 설정 \n",
    "preds = {\n",
    "    \"door_yn\": [],\n",
    "    \"roof_yn\": [],\n",
    "    \"window_cnt\": [],\n",
    "}\n",
    "\n",
    "with torch.no_grad():\n",
    "    for i, images in enumerate(loader_test):\n",
    "        images = images.to(device)\n",
    "        outputs = model(images)\n",
    "        # 타깃 예측 확률 \n",
    "        preds[\"door_yn\"].extend(outputs[:, 0:2].argmax(dim=-1).tolist())\n",
    "        preds[\"roof_yn\"].extend(outputs[:, 2:4].argmax(dim=-1).tolist())\n",
    "        preds[\"window_cnt\"].extend(outputs[:, 4:7].argmax(dim=-1).tolist())"
   ]
  },
  {
   "cell_type": "code",
   "execution_count": 61,
   "metadata": {},
   "outputs": [
    {
     "name": "stdout",
     "output_type": "stream",
     "text": [
      "example\n",
      "[1, 1, 1, 1, 1, 1, 1, 1, 1, 1, 1, 1]\n",
      "example\n",
      "[1, 1, 1, 1, 1, 1, 1, 1, 1, 1, 1, 1]\n",
      "example\n",
      "[1, 1, 1, 1, 1, 1, 1, 1, 1, 1, 2, 1]\n"
     ]
    }
   ],
   "source": [
    "for v in preds.values():\n",
    "    print(\"example\")\n",
    "    print(v[:12])"
   ]
  },
  {
   "attachments": {},
   "cell_type": "markdown",
   "metadata": {},
   "source": [
    "- 결과 저장"
   ]
  },
  {
   "cell_type": "code",
   "execution_count": 65,
   "metadata": {},
   "outputs": [],
   "source": [
    "# submission[['healthy', 'multiple_diseases', 'rust', 'scab']] = preds\n",
    "# submission.to_csv('./data/submission.csv', index=False)"
   ]
  },
  {
   "cell_type": "code",
   "execution_count": null,
   "metadata": {},
   "outputs": [],
   "source": [
    "# # 원래 형태로 되돌리기\n",
    "# original_train = encoded_train.copy()\n",
    "\n",
    "# columns_to_convert = ['door_yn', 'roof_yn', 'window_cnt']\n",
    "# for col in columns_to_convert:\n",
    "#     # 각 원-핫 인코딩된 컬럼을 복원\n",
    "#     original_train[col] = original_train.loc[:, original_train.columns.str.startswith(col)].idxmax(axis=1)\n",
    "#     # 복원된 컬럼의 레이블 추출 (col_value에서 \"col_\" 뒤의 문자열 추출)\n",
    "#     original_train[col] = original_train[col].apply(lambda x: x.split('_')[2])\n",
    "#     # 원-핫 인코딩된 컬럼 삭제\n",
    "#     original_train.drop(columns=[c for c in original_train.columns if c.startswith(f\"{col}_\")], inplace=True)"
   ]
  },
  {
   "cell_type": "code",
   "execution_count": null,
   "metadata": {},
   "outputs": [],
   "source": []
  }
 ],
 "metadata": {
  "kernelspec": {
   "display_name": "cuda",
   "language": "python",
   "name": "python3"
  },
  "language_info": {
   "codemirror_mode": {
    "name": "ipython",
    "version": 3
   },
   "file_extension": ".py",
   "mimetype": "text/x-python",
   "name": "python",
   "nbconvert_exporter": "python",
   "pygments_lexer": "ipython3",
   "version": "3.7.16"
  },
  "orig_nbformat": 4
 },
 "nbformat": 4,
 "nbformat_minor": 2
}

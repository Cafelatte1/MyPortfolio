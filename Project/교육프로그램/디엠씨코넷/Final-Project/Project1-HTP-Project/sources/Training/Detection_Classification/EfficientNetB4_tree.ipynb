{
 "cells": [
  {
   "attachments": {},
   "cell_type": "markdown",
   "metadata": {},
   "source": [
    "## 베이스라인 모델"
   ]
  },
  {
   "attachments": {},
   "cell_type": "markdown",
   "metadata": {},
   "source": [
    "### import"
   ]
  },
  {
   "cell_type": "code",
   "execution_count": 1,
   "metadata": {},
   "outputs": [],
   "source": [
    "import torch\n",
    "import pickle\n",
    "import cv2\n",
    "import pandas as pd\n",
    "import numpy as np\n",
    "import random\n",
    "import os\n",
    "\n",
    "from sklearn.model_selection import train_test_split\n",
    "from sklearn.metrics import accuracy_score, f1_score # ROC AUC 점수 계산 함수\n",
    "\n",
    "import torch.nn as nn # 신경망 모듈\n",
    "from torch.utils.data import Dataset # 데이터 생성을 위한 클래스\n",
    "from torch.utils.data import DataLoader # 데이터 로더 클래스\n",
    "\n",
    "from efficientnet_pytorch import EfficientNet # EfficientNet 모델\n",
    "from tqdm.notebook import tqdm # 진행률 표시 막대 \n",
    "import multiprocessing\n",
    "\n",
    "# 이미지 변환을 위한 모듈\n",
    "import albumentations as A\n",
    "from albumentations.pytorch import ToTensorV2"
   ]
  },
  {
   "cell_type": "code",
   "execution_count": 2,
   "metadata": {},
   "outputs": [],
   "source": [
    "os.environ['CUDA_LAUNCH_BLOCKING'] = \"1\""
   ]
  },
  {
   "attachments": {},
   "cell_type": "markdown",
   "metadata": {},
   "source": [
    "### 시드값 고정"
   ]
  },
  {
   "cell_type": "code",
   "execution_count": 3,
   "metadata": {},
   "outputs": [],
   "source": [
    "# 시드값 고정\n",
    "seed = 42\n",
    "os.environ['PYTHONHASHSEED'] = str(seed)\n",
    "random.seed(seed)\n",
    "np.random.seed(seed)\n",
    "torch.manual_seed(seed)\n",
    "torch.cuda.manual_seed(seed)\n",
    "torch.cuda.manual_seed_all(seed)\n",
    "torch.backends.cudnn.deterministic = True\n",
    "torch.backends.cudnn.benchmark = False\n",
    "torch.backends.cudnn.enabled = False"
   ]
  },
  {
   "attachments": {},
   "cell_type": "markdown",
   "metadata": {},
   "source": [
    "### GPU 장비 설정"
   ]
  },
  {
   "cell_type": "code",
   "execution_count": 4,
   "metadata": {},
   "outputs": [
    {
     "data": {
      "text/plain": [
       "device(type='cuda')"
      ]
     },
     "execution_count": 4,
     "metadata": {},
     "output_type": "execute_result"
    }
   ],
   "source": [
    "device = torch.device('cuda' if torch.cuda.is_available() else 'cpu')\n",
    "\n",
    "device"
   ]
  },
  {
   "attachments": {},
   "cell_type": "markdown",
   "metadata": {},
   "source": [
    "### 데이터 준비"
   ]
  },
  {
   "cell_type": "code",
   "execution_count": 8,
   "metadata": {},
   "outputs": [
    {
     "data": {
      "text/html": [
       "<div>\n",
       "<style scoped>\n",
       "    .dataframe tbody tr th:only-of-type {\n",
       "        vertical-align: middle;\n",
       "    }\n",
       "\n",
       "    .dataframe tbody tr th {\n",
       "        vertical-align: top;\n",
       "    }\n",
       "\n",
       "    .dataframe thead th {\n",
       "        text-align: right;\n",
       "    }\n",
       "</style>\n",
       "<table border=\"1\" class=\"dataframe\">\n",
       "  <thead>\n",
       "    <tr style=\"text-align: right;\">\n",
       "      <th></th>\n",
       "      <th>id</th>\n",
       "      <th>branch_yn</th>\n",
       "      <th>root_yn</th>\n",
       "      <th>crown_yn</th>\n",
       "      <th>fruit_yn</th>\n",
       "      <th>gnarl_yn</th>\n",
       "      <th>loc</th>\n",
       "      <th>size</th>\n",
       "      <th>fold_branch_yn</th>\n",
       "      <th>fold_root_yn</th>\n",
       "      <th>fold_crown_yn</th>\n",
       "      <th>fold_fruit_yn</th>\n",
       "      <th>fold_gnarl_yn</th>\n",
       "      <th>fold_loc</th>\n",
       "      <th>fold_size</th>\n",
       "    </tr>\n",
       "  </thead>\n",
       "  <tbody>\n",
       "    <tr>\n",
       "      <th>0</th>\n",
       "      <td>24_175_23002_tree</td>\n",
       "      <td>0</td>\n",
       "      <td>0</td>\n",
       "      <td>1</td>\n",
       "      <td>1</td>\n",
       "      <td>0</td>\n",
       "      <td>0</td>\n",
       "      <td>1</td>\n",
       "      <td>2</td>\n",
       "      <td>4</td>\n",
       "      <td>3</td>\n",
       "      <td>4</td>\n",
       "      <td>2</td>\n",
       "      <td>4</td>\n",
       "      <td>1</td>\n",
       "    </tr>\n",
       "    <tr>\n",
       "      <th>1</th>\n",
       "      <td>24_175_23003_tree</td>\n",
       "      <td>0</td>\n",
       "      <td>0</td>\n",
       "      <td>1</td>\n",
       "      <td>0</td>\n",
       "      <td>0</td>\n",
       "      <td>1</td>\n",
       "      <td>0</td>\n",
       "      <td>4</td>\n",
       "      <td>2</td>\n",
       "      <td>4</td>\n",
       "      <td>3</td>\n",
       "      <td>1</td>\n",
       "      <td>3</td>\n",
       "      <td>0</td>\n",
       "    </tr>\n",
       "    <tr>\n",
       "      <th>2</th>\n",
       "      <td>24_175_23006_tree</td>\n",
       "      <td>0</td>\n",
       "      <td>0</td>\n",
       "      <td>1</td>\n",
       "      <td>0</td>\n",
       "      <td>0</td>\n",
       "      <td>1</td>\n",
       "      <td>0</td>\n",
       "      <td>2</td>\n",
       "      <td>2</td>\n",
       "      <td>1</td>\n",
       "      <td>2</td>\n",
       "      <td>0</td>\n",
       "      <td>3</td>\n",
       "      <td>0</td>\n",
       "    </tr>\n",
       "    <tr>\n",
       "      <th>3</th>\n",
       "      <td>24_175_23009_tree</td>\n",
       "      <td>1</td>\n",
       "      <td>0</td>\n",
       "      <td>0</td>\n",
       "      <td>0</td>\n",
       "      <td>0</td>\n",
       "      <td>0</td>\n",
       "      <td>0</td>\n",
       "      <td>2</td>\n",
       "      <td>3</td>\n",
       "      <td>2</td>\n",
       "      <td>4</td>\n",
       "      <td>3</td>\n",
       "      <td>4</td>\n",
       "      <td>0</td>\n",
       "    </tr>\n",
       "    <tr>\n",
       "      <th>4</th>\n",
       "      <td>24_175_23010_tree</td>\n",
       "      <td>0</td>\n",
       "      <td>0</td>\n",
       "      <td>1</td>\n",
       "      <td>1</td>\n",
       "      <td>1</td>\n",
       "      <td>1</td>\n",
       "      <td>2</td>\n",
       "      <td>4</td>\n",
       "      <td>0</td>\n",
       "      <td>0</td>\n",
       "      <td>3</td>\n",
       "      <td>0</td>\n",
       "      <td>1</td>\n",
       "      <td>2</td>\n",
       "    </tr>\n",
       "    <tr>\n",
       "      <th>...</th>\n",
       "      <td>...</td>\n",
       "      <td>...</td>\n",
       "      <td>...</td>\n",
       "      <td>...</td>\n",
       "      <td>...</td>\n",
       "      <td>...</td>\n",
       "      <td>...</td>\n",
       "      <td>...</td>\n",
       "      <td>...</td>\n",
       "      <td>...</td>\n",
       "      <td>...</td>\n",
       "      <td>...</td>\n",
       "      <td>...</td>\n",
       "      <td>...</td>\n",
       "      <td>...</td>\n",
       "    </tr>\n",
       "    <tr>\n",
       "      <th>987</th>\n",
       "      <td>5_29_23037_tree</td>\n",
       "      <td>0</td>\n",
       "      <td>0</td>\n",
       "      <td>1</td>\n",
       "      <td>0</td>\n",
       "      <td>0</td>\n",
       "      <td>1</td>\n",
       "      <td>0</td>\n",
       "      <td>1</td>\n",
       "      <td>0</td>\n",
       "      <td>0</td>\n",
       "      <td>3</td>\n",
       "      <td>2</td>\n",
       "      <td>3</td>\n",
       "      <td>1</td>\n",
       "    </tr>\n",
       "    <tr>\n",
       "      <th>988</th>\n",
       "      <td>5_29_23038_tree</td>\n",
       "      <td>0</td>\n",
       "      <td>1</td>\n",
       "      <td>1</td>\n",
       "      <td>0</td>\n",
       "      <td>0</td>\n",
       "      <td>1</td>\n",
       "      <td>1</td>\n",
       "      <td>1</td>\n",
       "      <td>0</td>\n",
       "      <td>2</td>\n",
       "      <td>0</td>\n",
       "      <td>3</td>\n",
       "      <td>0</td>\n",
       "      <td>2</td>\n",
       "    </tr>\n",
       "    <tr>\n",
       "      <th>992</th>\n",
       "      <td>5_29_23043_tree</td>\n",
       "      <td>0</td>\n",
       "      <td>1</td>\n",
       "      <td>1</td>\n",
       "      <td>1</td>\n",
       "      <td>0</td>\n",
       "      <td>1</td>\n",
       "      <td>1</td>\n",
       "      <td>1</td>\n",
       "      <td>0</td>\n",
       "      <td>2</td>\n",
       "      <td>2</td>\n",
       "      <td>3</td>\n",
       "      <td>3</td>\n",
       "      <td>2</td>\n",
       "    </tr>\n",
       "    <tr>\n",
       "      <th>993</th>\n",
       "      <td>5_29_23044_tree</td>\n",
       "      <td>1</td>\n",
       "      <td>1</td>\n",
       "      <td>1</td>\n",
       "      <td>1</td>\n",
       "      <td>0</td>\n",
       "      <td>1</td>\n",
       "      <td>1</td>\n",
       "      <td>1</td>\n",
       "      <td>1</td>\n",
       "      <td>3</td>\n",
       "      <td>1</td>\n",
       "      <td>1</td>\n",
       "      <td>3</td>\n",
       "      <td>4</td>\n",
       "    </tr>\n",
       "    <tr>\n",
       "      <th>994</th>\n",
       "      <td>5_29_23045_tree</td>\n",
       "      <td>1</td>\n",
       "      <td>0</td>\n",
       "      <td>1</td>\n",
       "      <td>1</td>\n",
       "      <td>0</td>\n",
       "      <td>1</td>\n",
       "      <td>1</td>\n",
       "      <td>3</td>\n",
       "      <td>0</td>\n",
       "      <td>0</td>\n",
       "      <td>4</td>\n",
       "      <td>0</td>\n",
       "      <td>4</td>\n",
       "      <td>1</td>\n",
       "    </tr>\n",
       "  </tbody>\n",
       "</table>\n",
       "<p>796 rows × 15 columns</p>\n",
       "</div>"
      ],
      "text/plain": [
       "                    id  branch_yn  root_yn  crown_yn  fruit_yn  gnarl_yn  loc  \\\n",
       "0    24_175_23002_tree          0        0         1         1         0    0   \n",
       "1    24_175_23003_tree          0        0         1         0         0    1   \n",
       "2    24_175_23006_tree          0        0         1         0         0    1   \n",
       "3    24_175_23009_tree          1        0         0         0         0    0   \n",
       "4    24_175_23010_tree          0        0         1         1         1    1   \n",
       "..                 ...        ...      ...       ...       ...       ...  ...   \n",
       "987    5_29_23037_tree          0        0         1         0         0    1   \n",
       "988    5_29_23038_tree          0        1         1         0         0    1   \n",
       "992    5_29_23043_tree          0        1         1         1         0    1   \n",
       "993    5_29_23044_tree          1        1         1         1         0    1   \n",
       "994    5_29_23045_tree          1        0         1         1         0    1   \n",
       "\n",
       "     size  fold_branch_yn  fold_root_yn  fold_crown_yn  fold_fruit_yn  \\\n",
       "0       1               2             4              3              4   \n",
       "1       0               4             2              4              3   \n",
       "2       0               2             2              1              2   \n",
       "3       0               2             3              2              4   \n",
       "4       2               4             0              0              3   \n",
       "..    ...             ...           ...            ...            ...   \n",
       "987     0               1             0              0              3   \n",
       "988     1               1             0              2              0   \n",
       "992     1               1             0              2              2   \n",
       "993     1               1             1              3              1   \n",
       "994     1               3             0              0              4   \n",
       "\n",
       "     fold_gnarl_yn  fold_loc  fold_size  \n",
       "0                2         4          1  \n",
       "1                1         3          0  \n",
       "2                0         3          0  \n",
       "3                3         4          0  \n",
       "4                0         1          2  \n",
       "..             ...       ...        ...  \n",
       "987              2         3          1  \n",
       "988              3         0          2  \n",
       "992              3         3          2  \n",
       "993              1         3          4  \n",
       "994              0         4          1  \n",
       "\n",
       "[796 rows x 15 columns]"
      ]
     },
     "execution_count": 8,
     "metadata": {},
     "output_type": "execute_result"
    }
   ],
   "source": [
    "# 데이터 경로\n",
    "with open('./data/pre_data/df_metainfo.pkl', 'rb') as f:\n",
    "    data_dict = pickle.load(f)\n",
    "\n",
    "person = data_dict['tree']\n",
    "\n",
    "test = person[person['fold_branch_yn'] == 0]\n",
    "train = person[person['fold_branch_yn'] != 0]\n",
    "train"
   ]
  },
  {
   "cell_type": "code",
   "execution_count": 9,
   "metadata": {},
   "outputs": [
    {
     "data": {
      "text/html": [
       "<div>\n",
       "<style scoped>\n",
       "    .dataframe tbody tr th:only-of-type {\n",
       "        vertical-align: middle;\n",
       "    }\n",
       "\n",
       "    .dataframe tbody tr th {\n",
       "        vertical-align: top;\n",
       "    }\n",
       "\n",
       "    .dataframe thead th {\n",
       "        text-align: right;\n",
       "    }\n",
       "</style>\n",
       "<table border=\"1\" class=\"dataframe\">\n",
       "  <thead>\n",
       "    <tr style=\"text-align: right;\">\n",
       "      <th></th>\n",
       "      <th>id</th>\n",
       "      <th>branch_yn</th>\n",
       "      <th>root_yn</th>\n",
       "      <th>crown_yn</th>\n",
       "      <th>fruit_yn</th>\n",
       "      <th>gnarl_yn</th>\n",
       "    </tr>\n",
       "  </thead>\n",
       "  <tbody>\n",
       "    <tr>\n",
       "      <th>0</th>\n",
       "      <td>24_175_23002_tree</td>\n",
       "      <td>0</td>\n",
       "      <td>0</td>\n",
       "      <td>1</td>\n",
       "      <td>1</td>\n",
       "      <td>0</td>\n",
       "    </tr>\n",
       "    <tr>\n",
       "      <th>1</th>\n",
       "      <td>24_175_23003_tree</td>\n",
       "      <td>0</td>\n",
       "      <td>0</td>\n",
       "      <td>1</td>\n",
       "      <td>0</td>\n",
       "      <td>0</td>\n",
       "    </tr>\n",
       "    <tr>\n",
       "      <th>2</th>\n",
       "      <td>24_175_23006_tree</td>\n",
       "      <td>0</td>\n",
       "      <td>0</td>\n",
       "      <td>1</td>\n",
       "      <td>0</td>\n",
       "      <td>0</td>\n",
       "    </tr>\n",
       "    <tr>\n",
       "      <th>3</th>\n",
       "      <td>24_175_23009_tree</td>\n",
       "      <td>1</td>\n",
       "      <td>0</td>\n",
       "      <td>0</td>\n",
       "      <td>0</td>\n",
       "      <td>0</td>\n",
       "    </tr>\n",
       "    <tr>\n",
       "      <th>4</th>\n",
       "      <td>24_175_23010_tree</td>\n",
       "      <td>0</td>\n",
       "      <td>0</td>\n",
       "      <td>1</td>\n",
       "      <td>1</td>\n",
       "      <td>1</td>\n",
       "    </tr>\n",
       "    <tr>\n",
       "      <th>...</th>\n",
       "      <td>...</td>\n",
       "      <td>...</td>\n",
       "      <td>...</td>\n",
       "      <td>...</td>\n",
       "      <td>...</td>\n",
       "      <td>...</td>\n",
       "    </tr>\n",
       "    <tr>\n",
       "      <th>987</th>\n",
       "      <td>5_29_23037_tree</td>\n",
       "      <td>0</td>\n",
       "      <td>0</td>\n",
       "      <td>1</td>\n",
       "      <td>0</td>\n",
       "      <td>0</td>\n",
       "    </tr>\n",
       "    <tr>\n",
       "      <th>988</th>\n",
       "      <td>5_29_23038_tree</td>\n",
       "      <td>0</td>\n",
       "      <td>1</td>\n",
       "      <td>1</td>\n",
       "      <td>0</td>\n",
       "      <td>0</td>\n",
       "    </tr>\n",
       "    <tr>\n",
       "      <th>992</th>\n",
       "      <td>5_29_23043_tree</td>\n",
       "      <td>0</td>\n",
       "      <td>1</td>\n",
       "      <td>1</td>\n",
       "      <td>1</td>\n",
       "      <td>0</td>\n",
       "    </tr>\n",
       "    <tr>\n",
       "      <th>993</th>\n",
       "      <td>5_29_23044_tree</td>\n",
       "      <td>1</td>\n",
       "      <td>1</td>\n",
       "      <td>1</td>\n",
       "      <td>1</td>\n",
       "      <td>0</td>\n",
       "    </tr>\n",
       "    <tr>\n",
       "      <th>994</th>\n",
       "      <td>5_29_23045_tree</td>\n",
       "      <td>1</td>\n",
       "      <td>0</td>\n",
       "      <td>1</td>\n",
       "      <td>1</td>\n",
       "      <td>0</td>\n",
       "    </tr>\n",
       "  </tbody>\n",
       "</table>\n",
       "<p>796 rows × 6 columns</p>\n",
       "</div>"
      ],
      "text/plain": [
       "                    id  branch_yn  root_yn  crown_yn  fruit_yn  gnarl_yn\n",
       "0    24_175_23002_tree          0        0         1         1         0\n",
       "1    24_175_23003_tree          0        0         1         0         0\n",
       "2    24_175_23006_tree          0        0         1         0         0\n",
       "3    24_175_23009_tree          1        0         0         0         0\n",
       "4    24_175_23010_tree          0        0         1         1         1\n",
       "..                 ...        ...      ...       ...       ...       ...\n",
       "987    5_29_23037_tree          0        0         1         0         0\n",
       "988    5_29_23038_tree          0        1         1         0         0\n",
       "992    5_29_23043_tree          0        1         1         1         0\n",
       "993    5_29_23044_tree          1        1         1         1         0\n",
       "994    5_29_23045_tree          1        0         1         1         0\n",
       "\n",
       "[796 rows x 6 columns]"
      ]
     },
     "execution_count": 9,
     "metadata": {},
     "output_type": "execute_result"
    }
   ],
   "source": [
    "\n",
    "test = test.iloc[:, :1]\n",
    "train = train[['id', 'branch_yn', 'root_yn', 'crown_yn', 'fruit_yn', 'gnarl_yn']]\n",
    "train\n"
   ]
  },
  {
   "cell_type": "code",
   "execution_count": 10,
   "metadata": {},
   "outputs": [
    {
     "name": "stderr",
     "output_type": "stream",
     "text": [
      "c:\\Users\\USER\\anaconda3\\envs\\torch\\lib\\site-packages\\pandas\\core\\indexing.py:1835: SettingWithCopyWarning: \n",
      "A value is trying to be set on a copy of a slice from a DataFrame.\n",
      "Try using .loc[row_indexer,col_indexer] = value instead\n",
      "\n",
      "See the caveats in the documentation: https://pandas.pydata.org/pandas-docs/stable/user_guide/indexing.html#returning-a-view-versus-a-copy\n",
      "  self._setitem_single_column(loc, value[:, i].tolist(), pi)\n"
     ]
    }
   ],
   "source": [
    "train.iloc[:, 1:] = train.iloc[:, 1:].values.astype('int64')"
   ]
  },
  {
   "cell_type": "code",
   "execution_count": 11,
   "metadata": {},
   "outputs": [
    {
     "name": "stdout",
     "output_type": "stream",
     "text": [
      "<class 'pandas.core.frame.DataFrame'>\n",
      "Int64Index: 796 entries, 0 to 994\n",
      "Data columns (total 6 columns):\n",
      " #   Column     Non-Null Count  Dtype \n",
      "---  ------     --------------  ----- \n",
      " 0   id         796 non-null    object\n",
      " 1   branch_yn  796 non-null    int64 \n",
      " 2   root_yn    796 non-null    int64 \n",
      " 3   crown_yn   796 non-null    int64 \n",
      " 4   fruit_yn   796 non-null    int64 \n",
      " 5   gnarl_yn   796 non-null    int64 \n",
      "dtypes: int64(5), object(1)\n",
      "memory usage: 43.5+ KB\n"
     ]
    }
   ],
   "source": [
    "train.info()"
   ]
  },
  {
   "cell_type": "code",
   "execution_count": 12,
   "metadata": {},
   "outputs": [
    {
     "data": {
      "text/html": [
       "<div>\n",
       "<style scoped>\n",
       "    .dataframe tbody tr th:only-of-type {\n",
       "        vertical-align: middle;\n",
       "    }\n",
       "\n",
       "    .dataframe tbody tr th {\n",
       "        vertical-align: top;\n",
       "    }\n",
       "\n",
       "    .dataframe thead th {\n",
       "        text-align: right;\n",
       "    }\n",
       "</style>\n",
       "<table border=\"1\" class=\"dataframe\">\n",
       "  <thead>\n",
       "    <tr style=\"text-align: right;\">\n",
       "      <th></th>\n",
       "      <th>id</th>\n",
       "      <th>branch_yn</th>\n",
       "      <th>root_yn</th>\n",
       "      <th>crown_yn</th>\n",
       "      <th>fruit_yn</th>\n",
       "      <th>gnarl_yn</th>\n",
       "    </tr>\n",
       "  </thead>\n",
       "  <tbody>\n",
       "    <tr>\n",
       "      <th>0</th>\n",
       "      <td>24_175_23002_tree</td>\n",
       "      <td>0</td>\n",
       "      <td>0</td>\n",
       "      <td>1</td>\n",
       "      <td>1</td>\n",
       "      <td>0</td>\n",
       "    </tr>\n",
       "    <tr>\n",
       "      <th>1</th>\n",
       "      <td>24_175_23003_tree</td>\n",
       "      <td>0</td>\n",
       "      <td>0</td>\n",
       "      <td>1</td>\n",
       "      <td>0</td>\n",
       "      <td>0</td>\n",
       "    </tr>\n",
       "    <tr>\n",
       "      <th>2</th>\n",
       "      <td>24_175_23006_tree</td>\n",
       "      <td>0</td>\n",
       "      <td>0</td>\n",
       "      <td>1</td>\n",
       "      <td>0</td>\n",
       "      <td>0</td>\n",
       "    </tr>\n",
       "    <tr>\n",
       "      <th>3</th>\n",
       "      <td>24_175_23009_tree</td>\n",
       "      <td>1</td>\n",
       "      <td>0</td>\n",
       "      <td>0</td>\n",
       "      <td>0</td>\n",
       "      <td>0</td>\n",
       "    </tr>\n",
       "    <tr>\n",
       "      <th>4</th>\n",
       "      <td>24_175_23010_tree</td>\n",
       "      <td>0</td>\n",
       "      <td>0</td>\n",
       "      <td>1</td>\n",
       "      <td>1</td>\n",
       "      <td>1</td>\n",
       "    </tr>\n",
       "  </tbody>\n",
       "</table>\n",
       "</div>"
      ],
      "text/plain": [
       "                  id  branch_yn  root_yn  crown_yn  fruit_yn  gnarl_yn\n",
       "0  24_175_23002_tree          0        0         1         1         0\n",
       "1  24_175_23003_tree          0        0         1         0         0\n",
       "2  24_175_23006_tree          0        0         1         0         0\n",
       "3  24_175_23009_tree          1        0         0         0         0\n",
       "4  24_175_23010_tree          0        0         1         1         1"
      ]
     },
     "execution_count": 12,
     "metadata": {},
     "output_type": "execute_result"
    }
   ],
   "source": [
    "train.head()"
   ]
  },
  {
   "cell_type": "code",
   "execution_count": 13,
   "metadata": {},
   "outputs": [
    {
     "data": {
      "text/html": [
       "<div>\n",
       "<style scoped>\n",
       "    .dataframe tbody tr th:only-of-type {\n",
       "        vertical-align: middle;\n",
       "    }\n",
       "\n",
       "    .dataframe tbody tr th {\n",
       "        vertical-align: top;\n",
       "    }\n",
       "\n",
       "    .dataframe thead th {\n",
       "        text-align: right;\n",
       "    }\n",
       "</style>\n",
       "<table border=\"1\" class=\"dataframe\">\n",
       "  <thead>\n",
       "    <tr style=\"text-align: right;\">\n",
       "      <th></th>\n",
       "      <th>id</th>\n",
       "    </tr>\n",
       "  </thead>\n",
       "  <tbody>\n",
       "    <tr>\n",
       "      <th>9</th>\n",
       "      <td>24_175_23018_tree</td>\n",
       "    </tr>\n",
       "    <tr>\n",
       "      <th>13</th>\n",
       "      <td>24_176_23021_tree</td>\n",
       "    </tr>\n",
       "    <tr>\n",
       "      <th>14</th>\n",
       "      <td>24_176_23022_tree</td>\n",
       "    </tr>\n",
       "    <tr>\n",
       "      <th>15</th>\n",
       "      <td>24_176_23023_tree</td>\n",
       "    </tr>\n",
       "    <tr>\n",
       "      <th>22</th>\n",
       "      <td>24_176_23032_tree</td>\n",
       "    </tr>\n",
       "  </tbody>\n",
       "</table>\n",
       "</div>"
      ],
      "text/plain": [
       "                   id\n",
       "9   24_175_23018_tree\n",
       "13  24_176_23021_tree\n",
       "14  24_176_23022_tree\n",
       "15  24_176_23023_tree\n",
       "22  24_176_23032_tree"
      ]
     },
     "execution_count": 13,
     "metadata": {},
     "output_type": "execute_result"
    }
   ],
   "source": [
    "test.head()"
   ]
  },
  {
   "attachments": {},
   "cell_type": "markdown",
   "metadata": {},
   "source": [
    "- 훈련 데이터, 검증 데이터 분리"
   ]
  },
  {
   "cell_type": "code",
   "execution_count": 23,
   "metadata": {},
   "outputs": [],
   "source": [
    "# 훈련 데이터, 검증 데이터 분리\n",
    "train, valid = train_test_split(train,\n",
    "                                test_size=0.1,\n",
    "                                stratify=train[['root_yn','crown_yn','gnarl_yn']],\n",
    "                                random_state=42)\n",
    "train = train.reset_index(drop=True)\n",
    "valid = valid.reset_index(drop=True)"
   ]
  },
  {
   "cell_type": "code",
   "execution_count": 24,
   "metadata": {},
   "outputs": [
    {
     "name": "stdout",
     "output_type": "stream",
     "text": [
      "<class 'pandas.core.frame.DataFrame'>\n",
      "RangeIndex: 716 entries, 0 to 715\n",
      "Data columns (total 6 columns):\n",
      " #   Column     Non-Null Count  Dtype \n",
      "---  ------     --------------  ----- \n",
      " 0   id         716 non-null    object\n",
      " 1   branch_yn  716 non-null    int64 \n",
      " 2   root_yn    716 non-null    int64 \n",
      " 3   crown_yn   716 non-null    int64 \n",
      " 4   fruit_yn   716 non-null    int64 \n",
      " 5   gnarl_yn   716 non-null    int64 \n",
      "dtypes: int64(5), object(1)\n",
      "memory usage: 33.7+ KB\n"
     ]
    }
   ],
   "source": [
    "train.info()"
   ]
  },
  {
   "cell_type": "code",
   "execution_count": 25,
   "metadata": {},
   "outputs": [
    {
     "data": {
      "text/plain": [
       "0    406\n",
       "1    310\n",
       "Name: fruit_yn, dtype: int64"
      ]
     },
     "execution_count": 25,
     "metadata": {},
     "output_type": "execute_result"
    }
   ],
   "source": [
    "train[\"fruit_yn\"].value_counts()"
   ]
  },
  {
   "cell_type": "code",
   "execution_count": 26,
   "metadata": {},
   "outputs": [
    {
     "name": "stdout",
     "output_type": "stream",
     "text": [
      "<class 'pandas.core.frame.DataFrame'>\n",
      "RangeIndex: 80 entries, 0 to 79\n",
      "Data columns (total 6 columns):\n",
      " #   Column     Non-Null Count  Dtype \n",
      "---  ------     --------------  ----- \n",
      " 0   id         80 non-null     object\n",
      " 1   branch_yn  80 non-null     int64 \n",
      " 2   root_yn    80 non-null     int64 \n",
      " 3   crown_yn   80 non-null     int64 \n",
      " 4   fruit_yn   80 non-null     int64 \n",
      " 5   gnarl_yn   80 non-null     int64 \n",
      "dtypes: int64(5), object(1)\n",
      "memory usage: 3.9+ KB\n"
     ]
    }
   ],
   "source": [
    "valid.info()"
   ]
  },
  {
   "cell_type": "code",
   "execution_count": 28,
   "metadata": {},
   "outputs": [
    {
     "data": {
      "text/plain": [
       "1    41\n",
       "0    39\n",
       "Name: fruit_yn, dtype: int64"
      ]
     },
     "execution_count": 28,
     "metadata": {},
     "output_type": "execute_result"
    }
   ],
   "source": [
    "valid[\"fruit_yn\"].value_counts()"
   ]
  },
  {
   "attachments": {},
   "cell_type": "markdown",
   "metadata": {},
   "source": [
    "- 데이터셋 클래스 정의"
   ]
  },
  {
   "cell_type": "code",
   "execution_count": 29,
   "metadata": {},
   "outputs": [],
   "source": [
    "class ImageDataset(Dataset):\n",
    "    # 초기화 메서드(생성자)\n",
    "    def __init__(self, df, img_dir='./', transform=None, is_test=False):\n",
    "        super().__init__() # 상속받은 Dataset의 __init__() 메서드 호출\n",
    "        # 전달받은 인수 저장\n",
    "        self.df = df\n",
    "        self.img_dir = img_dir\n",
    "        self.transform = transform\n",
    "        self.is_test = is_test\n",
    "    \n",
    "    # 데이터셋 크기 반환 메서드 \n",
    "    def __len__(self):\n",
    "        return len(self.df)\n",
    "    \n",
    "    # 인덱스(idx)에 해당하는 데이터 반환 메서드\n",
    "    def __getitem__(self, idx):\n",
    "        img_id = self.df.iloc[idx, 0]             # 이미지 ID\n",
    "        img_path = self.img_dir + img_id + '.jpg' # 2. 이미지 파일 경로\n",
    "        image = cv2.imread(img_path)              # 이미지 파일 읽기\n",
    "        image = cv2.cvtColor(image, cv2.COLOR_BGR2RGB) # 이미지 색상 보정\n",
    "        # 이미지 변환 \n",
    "        if self.transform is not None:\n",
    "            image = self.transform(image=image)['image']  # 3.\n",
    "        # 테스트 데이터면 이미지 데이터만 반환, 그렇지 않으면 타깃값도 반환 \n",
    "        if self.is_test:  # 4.\n",
    "            return image # 5. 테스트용일 때\n",
    "        else:\n",
    "            # # 타깃값 n개 중 가장 큰 값의 인덱스  # 6.\n",
    "            # label = np.argmax(self.df.iloc[idx, 1:])\n",
    "            # pandas indexing 버그인지 모르겠으나, 특정열을 선택하면 obejct로 바뀌어 버려서 다시 int로 재변환\n",
    "            label = self.df.iloc[idx, 1:].values.astype(\"int64\")\n",
    "            return image, label # 훈련/검증용일 때  # 7."
   ]
  },
  {
   "attachments": {},
   "cell_type": "markdown",
   "metadata": {},
   "source": [
    "- 이미지 변환기 정의"
   ]
  },
  {
   "cell_type": "code",
   "execution_count": 30,
   "metadata": {},
   "outputs": [],
   "source": [
    "# 훈련 데이터용 변환기\n",
    "transform_train = A.Compose([\n",
    "    A.Resize(224, 224),       # 1. 이미지 크기 조절 \n",
    "    # A.RandomBrightnessContrast(brightness_limit=0.2, # 2. 밝기 대비 조절\n",
    "    #                            contrast_limit=0.2, p=0.3),\n",
    "    # A.VerticalFlip(p = 0.2),    # 상하 대칭 변환\n",
    "    # A.HorizontalFlip(p = 0.5),  # 좌우 대칭 변환 \n",
    "    # A.ShiftScaleRotate(       # 3. 이동, 스케일링, 회전 변환\n",
    "    #     shift_limit = 0.1,\n",
    "    #     scale_limit = 0.2,\n",
    "    #     rotate_limit = 30, p = 0.3),\n",
    "    # A.OneOf([A.Emboss(p = 1),   # 4. 양각화, 날카로움, 블러 효과\n",
    "    #          A.Sharpen(p = 1),\n",
    "    #          A.Blur(p = 1)], p = 0.3),\n",
    "    # A.PiecewiseAffine(p = 0.3), # 5. 어파인 변환 \n",
    "    A.Normalize(),            # 6. 정규화 변환 \n",
    "    ToTensorV2()              # 7. 텐서로 변환\n",
    "])"
   ]
  },
  {
   "cell_type": "code",
   "execution_count": 31,
   "metadata": {},
   "outputs": [],
   "source": [
    "# 검증 및 테스트 데이터용 변환기\n",
    "transform_test = A.Compose([\n",
    "    A.Resize(224, 224), # 이미지 크기 조절 \n",
    "    A.Normalize(),      # 정규화 변환\n",
    "    ToTensorV2()        # 텐서로 변환\n",
    "])"
   ]
  },
  {
   "attachments": {},
   "cell_type": "markdown",
   "metadata": {},
   "source": [
    "- 데이터 셋 및 데이터 로더 생성"
   ]
  },
  {
   "cell_type": "code",
   "execution_count": 84,
   "metadata": {},
   "outputs": [],
   "source": [
    "# def seed_worker(worker_id):   #데이터 로더 시드값 고정 함수\n",
    "#     worker_seed = torch.initial_seed() % 2**32\n",
    "#     np.random.seed(worker_seed)\n",
    "#     random.seed(worker_seed)\n",
    "    \n",
    "# g = torch.Generator()  # 제너레이터 생성\n",
    "# g.manual_seed(0)  # 제너레이터 시드값 고정"
   ]
  },
  {
   "cell_type": "code",
   "execution_count": 32,
   "metadata": {},
   "outputs": [],
   "source": [
    "img_dir = './image/crop_data/tree/'\n",
    "batch_size = 4\n",
    "\n",
    "loader_train = DataLoader(\n",
    "    ImageDataset(train, img_dir=img_dir, transform=transform_train, is_test=False),\n",
    "    batch_size=batch_size, shuffle=True,\n",
    ")\n",
    "loader_valid = DataLoader(\n",
    "    ImageDataset(valid, img_dir=img_dir, transform=transform_test, is_test=False),\n",
    "    batch_size=batch_size, shuffle=False,\n",
    ")"
   ]
  },
  {
   "cell_type": "code",
   "execution_count": 33,
   "metadata": {},
   "outputs": [
    {
     "name": "stdout",
     "output_type": "stream",
     "text": [
      "torch.Size([4, 3, 224, 224])\n",
      "torch.Size([4, 5])\n"
     ]
    }
   ],
   "source": [
    "for batch in loader_train:\n",
    "    print(batch[0].shape)\n",
    "    print(batch[1].shape)\n",
    "    break"
   ]
  },
  {
   "attachments": {},
   "cell_type": "markdown",
   "metadata": {},
   "source": [
    "### 모델 생성"
   ]
  },
  {
   "attachments": {},
   "cell_type": "markdown",
   "metadata": {},
   "source": [
    "- EfficientNet 모델 생성"
   ]
  },
  {
   "cell_type": "code",
   "execution_count": 34,
   "metadata": {},
   "outputs": [
    {
     "name": "stdout",
     "output_type": "stream",
     "text": [
      "Loaded pretrained weights for efficientnet-b4\n"
     ]
    }
   ],
   "source": [
    "# 사전 훈련된 efficientnet-b7 모델 불러오기\n",
    "model = EfficientNet.from_pretrained('efficientnet-b4', num_classes=10) \n",
    "model = model.to(device) # 장비 할당"
   ]
  },
  {
   "attachments": {},
   "cell_type": "markdown",
   "metadata": {},
   "source": [
    "### 모델 훈련 및 성능 검증"
   ]
  },
  {
   "attachments": {},
   "cell_type": "markdown",
   "metadata": {},
   "source": [
    "- 손실함수와 옵티마이저 설정"
   ]
  },
  {
   "cell_type": "code",
   "execution_count": 35,
   "metadata": {},
   "outputs": [],
   "source": [
    "# 손실 함수\n",
    "criterion = nn.CrossEntropyLoss()\n",
    "# 옵티마이저\n",
    "optimizer = torch.optim.AdamW(model.parameters(), lr=0.00006, weight_decay=0.0001)"
   ]
  },
  {
   "attachments": {},
   "cell_type": "markdown",
   "metadata": {},
   "source": [
    "- 훈련 및 성능 검증"
   ]
  },
  {
   "cell_type": "code",
   "execution_count": 89,
   "metadata": {},
   "outputs": [
    {
     "data": {
      "application/vnd.jupyter.widget-view+json": {
       "model_id": "909c126df4ce4509a9cb7d9e66151bb8",
       "version_major": 2,
       "version_minor": 0
      },
      "text/plain": [
       "  0%|          | 0/179 [00:00<?, ?it/s]"
      ]
     },
     "metadata": {},
     "output_type": "display_data"
    },
    {
     "name": "stdout",
     "output_type": "stream",
     "text": [
      "에폭 [1/10] - 훈련 데이터 손실값 : 1.5527\n"
     ]
    },
    {
     "data": {
      "application/vnd.jupyter.widget-view+json": {
       "model_id": "59cb1b047c0b4d1989399d79d2855a9f",
       "version_major": 2,
       "version_minor": 0
      },
      "text/plain": [
       "  0%|          | 0/20 [00:00<?, ?it/s]"
      ]
     },
     "metadata": {},
     "output_type": "display_data"
    },
    {
     "name": "stdout",
     "output_type": "stream",
     "text": [
      "에폭 [1/10] - 검증 데이터 손실값 : 0.9959\n",
      "에폭 [1/10] - 검증 데이터 정확도: 0.9625 / 검증 데이터 F1 점수: 0.4904\n",
      "에폭 1의 모델이 ./model/person_model1_loss0.9959_acc0.9625_f10.4904.pth로 저장되었습니다.\n"
     ]
    },
    {
     "data": {
      "application/vnd.jupyter.widget-view+json": {
       "model_id": "1ac289abcc26433fa7232c1dcdb370bb",
       "version_major": 2,
       "version_minor": 0
      },
      "text/plain": [
       "  0%|          | 0/179 [00:00<?, ?it/s]"
      ]
     },
     "metadata": {},
     "output_type": "display_data"
    },
    {
     "name": "stdout",
     "output_type": "stream",
     "text": [
      "에폭 [2/10] - 훈련 데이터 손실값 : 0.7911\n"
     ]
    },
    {
     "data": {
      "application/vnd.jupyter.widget-view+json": {
       "model_id": "68a8b786b72e4cc4be1979eeda1b8fb5",
       "version_major": 2,
       "version_minor": 0
      },
      "text/plain": [
       "  0%|          | 0/20 [00:00<?, ?it/s]"
      ]
     },
     "metadata": {},
     "output_type": "display_data"
    },
    {
     "name": "stdout",
     "output_type": "stream",
     "text": [
      "에폭 [2/10] - 검증 데이터 손실값 : 1.0614\n",
      "에폭 [2/10] - 검증 데이터 정확도: 0.9437 / 검증 데이터 F1 점수: 0.4854\n",
      "에폭 2의 모델이 ./model/person_model2_loss1.0614_acc0.9437_f10.4854.pth로 저장되었습니다.\n"
     ]
    },
    {
     "data": {
      "application/vnd.jupyter.widget-view+json": {
       "model_id": "6335b7ee814847d5b2a3ed1f58ae098c",
       "version_major": 2,
       "version_minor": 0
      },
      "text/plain": [
       "  0%|          | 0/179 [00:00<?, ?it/s]"
      ]
     },
     "metadata": {},
     "output_type": "display_data"
    },
    {
     "name": "stdout",
     "output_type": "stream",
     "text": [
      "에폭 [3/10] - 훈련 데이터 손실값 : 0.6608\n"
     ]
    },
    {
     "data": {
      "application/vnd.jupyter.widget-view+json": {
       "model_id": "9ce511c934a84e89953c3e30510a7b86",
       "version_major": 2,
       "version_minor": 0
      },
      "text/plain": [
       "  0%|          | 0/20 [00:00<?, ?it/s]"
      ]
     },
     "metadata": {},
     "output_type": "display_data"
    },
    {
     "name": "stdout",
     "output_type": "stream",
     "text": [
      "에폭 [3/10] - 검증 데이터 손실값 : 0.9382\n",
      "에폭 [3/10] - 검증 데이터 정확도: 0.9469 / 검증 데이터 F1 점수: 0.4862\n",
      "에폭 3의 모델이 ./model/person_model3_loss0.9382_acc0.9469_f10.4862.pth로 저장되었습니다.\n"
     ]
    },
    {
     "data": {
      "application/vnd.jupyter.widget-view+json": {
       "model_id": "40027858e73b4301a0fed222c8e5b562",
       "version_major": 2,
       "version_minor": 0
      },
      "text/plain": [
       "  0%|          | 0/179 [00:00<?, ?it/s]"
      ]
     },
     "metadata": {},
     "output_type": "display_data"
    },
    {
     "name": "stdout",
     "output_type": "stream",
     "text": [
      "에폭 [4/10] - 훈련 데이터 손실값 : 0.5501\n"
     ]
    },
    {
     "data": {
      "application/vnd.jupyter.widget-view+json": {
       "model_id": "38a3cf6f4d9b4420bc49d04a3bde721a",
       "version_major": 2,
       "version_minor": 0
      },
      "text/plain": [
       "  0%|          | 0/20 [00:00<?, ?it/s]"
      ]
     },
     "metadata": {},
     "output_type": "display_data"
    },
    {
     "name": "stdout",
     "output_type": "stream",
     "text": [
      "에폭 [4/10] - 검증 데이터 손실값 : 0.9794\n",
      "에폭 [4/10] - 검증 데이터 정확도: 0.9406 / 검증 데이터 F1 점수: 0.5072\n",
      "에폭 4의 모델이 ./model/person_model4_loss0.9794_acc0.9406_f10.5072.pth로 저장되었습니다.\n"
     ]
    },
    {
     "data": {
      "application/vnd.jupyter.widget-view+json": {
       "model_id": "661f06f7cefa482ab960da795c880fa9",
       "version_major": 2,
       "version_minor": 0
      },
      "text/plain": [
       "  0%|          | 0/179 [00:00<?, ?it/s]"
      ]
     },
     "metadata": {},
     "output_type": "display_data"
    },
    {
     "name": "stdout",
     "output_type": "stream",
     "text": [
      "에폭 [5/10] - 훈련 데이터 손실값 : 0.4547\n"
     ]
    },
    {
     "data": {
      "application/vnd.jupyter.widget-view+json": {
       "model_id": "b50f86677ea34d5987a3ecff124fa0a7",
       "version_major": 2,
       "version_minor": 0
      },
      "text/plain": [
       "  0%|          | 0/20 [00:00<?, ?it/s]"
      ]
     },
     "metadata": {},
     "output_type": "display_data"
    },
    {
     "name": "stdout",
     "output_type": "stream",
     "text": [
      "에폭 [5/10] - 검증 데이터 손실값 : 0.9537\n",
      "에폭 [5/10] - 검증 데이터 정확도: 0.9344 / 검증 데이터 F1 점수: 0.5056\n",
      "에폭 5의 모델이 ./model/person_model5_loss0.9537_acc0.9344_f10.5056.pth로 저장되었습니다.\n"
     ]
    },
    {
     "data": {
      "application/vnd.jupyter.widget-view+json": {
       "model_id": "e210ef4d231a4f75a914c89a0f266d44",
       "version_major": 2,
       "version_minor": 0
      },
      "text/plain": [
       "  0%|          | 0/179 [00:00<?, ?it/s]"
      ]
     },
     "metadata": {},
     "output_type": "display_data"
    },
    {
     "name": "stdout",
     "output_type": "stream",
     "text": [
      "에폭 [6/10] - 훈련 데이터 손실값 : 0.3947\n"
     ]
    },
    {
     "data": {
      "application/vnd.jupyter.widget-view+json": {
       "model_id": "644690c51d1f4defb0b0cdb36c4a634f",
       "version_major": 2,
       "version_minor": 0
      },
      "text/plain": [
       "  0%|          | 0/20 [00:00<?, ?it/s]"
      ]
     },
     "metadata": {},
     "output_type": "display_data"
    },
    {
     "name": "stdout",
     "output_type": "stream",
     "text": [
      "에폭 [6/10] - 검증 데이터 손실값 : 0.7891\n",
      "에폭 [6/10] - 검증 데이터 정확도: 0.9469 / 검증 데이터 F1 점수: 0.5640\n",
      "에폭 6의 모델이 ./model/person_model6_loss0.7891_acc0.9469_f10.5640.pth로 저장되었습니다.\n"
     ]
    },
    {
     "data": {
      "application/vnd.jupyter.widget-view+json": {
       "model_id": "e1e9b5701fb4408ba28912d225ebb8c9",
       "version_major": 2,
       "version_minor": 0
      },
      "text/plain": [
       "  0%|          | 0/179 [00:00<?, ?it/s]"
      ]
     },
     "metadata": {},
     "output_type": "display_data"
    },
    {
     "name": "stdout",
     "output_type": "stream",
     "text": [
      "에폭 [7/10] - 훈련 데이터 손실값 : 0.2968\n"
     ]
    },
    {
     "data": {
      "application/vnd.jupyter.widget-view+json": {
       "model_id": "547465fbe7f748d18228f403eb6ce6a6",
       "version_major": 2,
       "version_minor": 0
      },
      "text/plain": [
       "  0%|          | 0/20 [00:00<?, ?it/s]"
      ]
     },
     "metadata": {},
     "output_type": "display_data"
    },
    {
     "name": "stdout",
     "output_type": "stream",
     "text": [
      "에폭 [7/10] - 검증 데이터 손실값 : 0.7351\n",
      "에폭 [7/10] - 검증 데이터 정확도: 0.9375 / 검증 데이터 F1 점수: 0.5115\n",
      "에폭 7의 모델이 ./model/person_model7_loss0.7351_acc0.9375_f10.5115.pth로 저장되었습니다.\n"
     ]
    },
    {
     "data": {
      "application/vnd.jupyter.widget-view+json": {
       "model_id": "111c26a243144ced91b77430f6a077af",
       "version_major": 2,
       "version_minor": 0
      },
      "text/plain": [
       "  0%|          | 0/179 [00:00<?, ?it/s]"
      ]
     },
     "metadata": {},
     "output_type": "display_data"
    },
    {
     "name": "stdout",
     "output_type": "stream",
     "text": [
      "에폭 [8/10] - 훈련 데이터 손실값 : 0.2488\n"
     ]
    },
    {
     "data": {
      "application/vnd.jupyter.widget-view+json": {
       "model_id": "3ade539cefcb421fb248f9a4d11a7d33",
       "version_major": 2,
       "version_minor": 0
      },
      "text/plain": [
       "  0%|          | 0/20 [00:00<?, ?it/s]"
      ]
     },
     "metadata": {},
     "output_type": "display_data"
    },
    {
     "name": "stdout",
     "output_type": "stream",
     "text": [
      "에폭 [8/10] - 검증 데이터 손실값 : 0.8482\n",
      "에폭 [8/10] - 검증 데이터 정확도: 0.9250 / 검증 데이터 F1 점수: 0.5611\n",
      "에폭 8의 모델이 ./model/person_model8_loss0.8482_acc0.9250_f10.5611.pth로 저장되었습니다.\n"
     ]
    },
    {
     "data": {
      "application/vnd.jupyter.widget-view+json": {
       "model_id": "c767fc6068e14e2d990607bbdaa050f2",
       "version_major": 2,
       "version_minor": 0
      },
      "text/plain": [
       "  0%|          | 0/179 [00:00<?, ?it/s]"
      ]
     },
     "metadata": {},
     "output_type": "display_data"
    },
    {
     "name": "stdout",
     "output_type": "stream",
     "text": [
      "에폭 [9/10] - 훈련 데이터 손실값 : 0.2134\n"
     ]
    },
    {
     "data": {
      "application/vnd.jupyter.widget-view+json": {
       "model_id": "8c8794b6f3464cc0837be78660a9296d",
       "version_major": 2,
       "version_minor": 0
      },
      "text/plain": [
       "  0%|          | 0/20 [00:00<?, ?it/s]"
      ]
     },
     "metadata": {},
     "output_type": "display_data"
    },
    {
     "name": "stdout",
     "output_type": "stream",
     "text": [
      "에폭 [9/10] - 검증 데이터 손실값 : 0.7397\n",
      "에폭 [9/10] - 검증 데이터 정확도: 0.9375 / 검증 데이터 F1 점수: 0.5192\n",
      "에폭 9의 모델이 ./model/person_model9_loss0.7397_acc0.9375_f10.5192.pth로 저장되었습니다.\n"
     ]
    },
    {
     "data": {
      "application/vnd.jupyter.widget-view+json": {
       "model_id": "20fab793d7854c33b1462309dde57413",
       "version_major": 2,
       "version_minor": 0
      },
      "text/plain": [
       "  0%|          | 0/179 [00:00<?, ?it/s]"
      ]
     },
     "metadata": {},
     "output_type": "display_data"
    },
    {
     "name": "stdout",
     "output_type": "stream",
     "text": [
      "에폭 [10/10] - 훈련 데이터 손실값 : 0.1575\n"
     ]
    },
    {
     "data": {
      "application/vnd.jupyter.widget-view+json": {
       "model_id": "047c59d9c10e46f7ac2ba57d05ede40b",
       "version_major": 2,
       "version_minor": 0
      },
      "text/plain": [
       "  0%|          | 0/20 [00:00<?, ?it/s]"
      ]
     },
     "metadata": {},
     "output_type": "display_data"
    },
    {
     "name": "stdout",
     "output_type": "stream",
     "text": [
      "에폭 [10/10] - 검증 데이터 손실값 : 0.7605\n",
      "에폭 [10/10] - 검증 데이터 정확도: 0.9312 / 검증 데이터 F1 점수: 0.5047\n",
      "에폭 10의 모델이 ./model/person_model10_loss0.7605_acc0.9312_f10.5047.pth로 저장되었습니다.\n"
     ]
    }
   ],
   "source": [
    "epochs = 10\n",
    "model_save_path = \"./model/\"\n",
    "\n",
    "# 총 에폭만큼 반복\n",
    "for epoch in range(epochs):\n",
    "    # <훈련>\n",
    "    model.train()        # 모델을 훈련 상태로 설정 \n",
    "    epoch_train_loss = 0 # 에폭별 손실값 초기화 (훈련 데이터용)\n",
    "    \n",
    "    # '반복 횟수'만큼 반복 \n",
    "    for images, labels in tqdm(loader_train):\n",
    "        # 이미지, 레이블(타깃값) 데이터 미니배치를 장비에 할당 \n",
    "        images = images.to(device)\n",
    "        labels = labels.to(device)\n",
    "        # 옵티마이저 내 기울기 초기화\n",
    "        optimizer.zero_grad()\n",
    "        # 순전파 : 이미지 데이터를 신경망 모델의 입력값으로 사용해 출력값 계산\n",
    "        outputs = model(images)\n",
    "        # 손실 함수를 활용해 outputs와 labels의 손실값 계산\n",
    "        # 각 target에 대한 loss 계산\n",
    "        # loss = criterion(outputs, labels)\n",
    "        loss1 = criterion(outputs[:, 0:2], labels[:, 0])\n",
    "        loss2 = criterion(outputs[:, 2:4], labels[:, 1])\n",
    "        loss3 = criterion(outputs[:, 4:6], labels[:, 2])\n",
    "        loss4 = criterion(outputs[:, 6:8], labels[:, 3])\n",
    "        loss5 = criterion(outputs[:, 8:10], labels[:, 4])\n",
    "        # 최종 loss 합산\n",
    "        final_loss = loss1 + loss2 + loss3 + loss4 + loss5\n",
    "        # 현재 배치에서의 손실 추가 (훈련 데이터용)\n",
    "        epoch_train_loss += final_loss.item()\n",
    "        final_loss.backward() # 역전파 수행\n",
    "        optimizer.step() # 가중치 갱신\n",
    "        # break\n",
    "\n",
    "    # 훈련 데이터 손실값 출력\n",
    "    print(f'에폭 [{epoch+1}/{epochs}] - 훈련 데이터 손실값 : {epoch_train_loss/len(loader_train):.4f}')\n",
    "\n",
    "    # break\n",
    "    # <검증>\n",
    "    model.eval()          # 모델을 평가 상태로 설정 \n",
    "    epoch_valid_loss = 0  # 에폭별 손실값 초기화 (검증 데이터용)\n",
    "    pred_array = {\n",
    "        \"branch_yn\": [],\n",
    "        \"root_yn\": [],\n",
    "        \"crown_yn\": [],\n",
    "        \"fruit_yn\": [],\n",
    "        \"gnarl_yn\": []\n",
    "    }\n",
    "    true_array = {\n",
    "        \"branch_yn\": [],\n",
    "        \"root_yn\": [],\n",
    "        \"crown_yn\": [],\n",
    "        \"fruit_yn\": [],\n",
    "        \"gnarl_yn\": []\n",
    "    }\n",
    "    with torch.no_grad(): # 기울기 계산 비활성화\n",
    "        # 미니배치 단위로 검증\n",
    "        for images, labels in tqdm(loader_valid):\n",
    "            images = images.to(device)\n",
    "            labels = labels.to(device)\n",
    "            # 출력값 게산\n",
    "            outputs = model(images)\n",
    "            # 각 target에 대한 loss 계산\n",
    "            loss1 = criterion(outputs[:, 0:2], labels[:, 0])\n",
    "            loss2 = criterion(outputs[:, 2:4], labels[:, 1])\n",
    "            loss3 = criterion(outputs[:, 4:6], labels[:, 2])\n",
    "            loss4 = criterion(outputs[:, 6:8], labels[:, 3])\n",
    "            loss4 = criterion(outputs[:, 8:10], labels[:, 4])\n",
    "            # 최종 loss 합산\n",
    "            final_loss = loss1 + loss2 + loss3 + loss4\n",
    "            epoch_valid_loss += final_loss.item()\n",
    "            # metric 계산\n",
    "            pred_array[\"branch_yn\"].extend(outputs[:, 0:2].argmax(dim=-1).tolist())\n",
    "            pred_array[\"root_yn\"].extend(outputs[:, 2:4].argmax(dim=-1).tolist())\n",
    "            pred_array[\"crown_yn\"].extend(outputs[:, 4:6].argmax(dim=-1).tolist())\n",
    "            pred_array[\"fruit_yn\"].extend(outputs[:, 6:8].argmax(dim=-1).tolist())\n",
    "            pred_array[\"gnarl_yn\"].extend(outputs[:, 8:10].argmax(dim=-1).tolist())\n",
    "            true_array[\"branch_yn\"].extend(labels[:, 0].tolist())\n",
    "            true_array[\"root_yn\"].extend(labels[:, 1].tolist())\n",
    "            true_array[\"crown_yn\"].extend(labels[:, 2].tolist())\n",
    "            true_array[\"fruit_yn\"].extend(labels[:, 3].tolist())\n",
    "            true_array[\"gnarl_yn\"].extend(labels[:, 4].tolist())\n",
    "            # break\n",
    "        \n",
    "    # 훈련 데이터 손실값 출력\n",
    "    print(f'에폭 [{epoch+1}/{epochs}] - 검증 데이터 손실값 : {epoch_valid_loss/len(loader_valid):.4f}')\n",
    "\n",
    "    # 정확도, F1 점수 계산 (target별 따로 게산 후 산술평균)\n",
    "    accuracy = np.mean([accuracy_score(a, p) for a, p in zip(true_array.values(), pred_array.values())])\n",
    "    f1 = np.mean([f1_score(a, p, average='macro') for a, p in zip(true_array.values(), pred_array.values())])\n",
    "\n",
    "    print(f'에폭 [{epoch+1}/{epochs}] - 검증 데이터 정확도: {accuracy:.4f} / 검증 데이터 F1 점수: {f1:.4f}')\n",
    "    # 에폭마다 모델 저장\n",
    "    torch.save(model.state_dict(), f\"{model_save_path}tree_model{epoch+1}_loss{epoch_valid_loss/len(loader_valid):.4f}_acc{accuracy:.4f}_f1{f1:.4f}.pth\")\n",
    "    print(f\"에폭 {epoch+1}의 모델이 {model_save_path}tree_model{epoch+1}_loss{epoch_valid_loss/len(loader_valid):.4f}_acc{accuracy:.4f}_f1{f1:.4f}.pth로 저장되었습니다.\")\n",
    "\n",
    "    # break"
   ]
  },
  {
   "attachments": {},
   "cell_type": "markdown",
   "metadata": {},
   "source": [
    "### 예측 결과"
   ]
  },
  {
   "attachments": {},
   "cell_type": "markdown",
   "metadata": {},
   "source": [
    "- 테스트용 데이터셋"
   ]
  },
  {
   "cell_type": "code",
   "execution_count": 48,
   "metadata": {},
   "outputs": [],
   "source": [
    "loader_test = DataLoader(\n",
    "    ImageDataset(test, img_dir=img_dir, transform=transform_test, is_test=True),\n",
    "    batch_size=batch_size, shuffle=False\n",
    ")"
   ]
  },
  {
   "attachments": {},
   "cell_type": "markdown",
   "metadata": {},
   "source": [
    "- 예측"
   ]
  },
  {
   "cell_type": "code",
   "execution_count": 49,
   "metadata": {},
   "outputs": [],
   "source": [
    "model.eval() # 모델을 평가 상태로 설정 \n",
    "preds = {\n",
    "    \"branch_yn\": [],\n",
    "    \"root_yn\": [],\n",
    "    \"crown_yn\": [],\n",
    "    \"fruit_yn\": [],\n",
    "    \"gnarl_yn\": []\n",
    "}\n",
    "\n",
    "with torch.no_grad():\n",
    "    for i, images in enumerate(loader_test):\n",
    "        images = images.to(device)\n",
    "        outputs = model(images)\n",
    "        # 타깃 예측 확률 \n",
    "        preds[\"branch_yn\"].extend(outputs[:, 0:2].argmax(dim=-1).tolist())\n",
    "        preds[\"root_yn\"].extend(outputs[:, 2:4].argmax(dim=-1).tolist())\n",
    "        preds[\"crown_yn\"].extend(outputs[:, 4:6].argmax(dim=-1).tolist())\n",
    "        preds[\"fruit_yn\"].extend(outputs[:, 6:8].argmax(dim=-1).tolist())\n",
    "        preds[\"gnarl_yn\"].extend(outputs[:, 8:10].argmax(dim=-1).tolist())"
   ]
  },
  {
   "cell_type": "code",
   "execution_count": 61,
   "metadata": {},
   "outputs": [
    {
     "name": "stdout",
     "output_type": "stream",
     "text": [
      "example\n",
      "[1, 1, 1, 1, 1, 1, 1, 1, 1, 1, 1, 1]\n",
      "example\n",
      "[1, 1, 1, 1, 1, 1, 1, 1, 1, 1, 1, 1]\n",
      "example\n",
      "[1, 1, 1, 1, 1, 1, 1, 1, 1, 1, 2, 1]\n"
     ]
    }
   ],
   "source": [
    "for v in preds.values():\n",
    "    print(\"example\")\n",
    "    print(v[:12])"
   ]
  },
  {
   "attachments": {},
   "cell_type": "markdown",
   "metadata": {},
   "source": [
    "- 결과 저장"
   ]
  },
  {
   "cell_type": "code",
   "execution_count": 65,
   "metadata": {},
   "outputs": [],
   "source": [
    "# submission[['healthy', 'multiple_diseases', 'rust', 'scab']] = preds\n",
    "# submission.to_csv('./data/submission.csv', index=False)"
   ]
  },
  {
   "cell_type": "code",
   "execution_count": null,
   "metadata": {},
   "outputs": [],
   "source": [
    "# # 원래 형태로 되돌리기\n",
    "# original_train = encoded_train.copy()\n",
    "\n",
    "# columns_to_convert = ['door_yn', 'roof_yn', 'window_cnt']\n",
    "# for col in columns_to_convert:\n",
    "#     # 각 원-핫 인코딩된 컬럼을 복원\n",
    "#     original_train[col] = original_train.loc[:, original_train.columns.str.startswith(col)].idxmax(axis=1)\n",
    "#     # 복원된 컬럼의 레이블 추출 (col_value에서 \"col_\" 뒤의 문자열 추출)\n",
    "#     original_train[col] = original_train[col].apply(lambda x: x.split('_')[2])\n",
    "#     # 원-핫 인코딩된 컬럼 삭제\n",
    "#     original_train.drop(columns=[c for c in original_train.columns if c.startswith(f\"{col}_\")], inplace=True)"
   ]
  },
  {
   "cell_type": "code",
   "execution_count": null,
   "metadata": {},
   "outputs": [],
   "source": []
  }
 ],
 "metadata": {
  "kernelspec": {
   "display_name": "cuda",
   "language": "python",
   "name": "python3"
  },
  "language_info": {
   "codemirror_mode": {
    "name": "ipython",
    "version": 3
   },
   "file_extension": ".py",
   "mimetype": "text/x-python",
   "name": "python",
   "nbconvert_exporter": "python",
   "pygments_lexer": "ipython3",
   "version": "3.7.16"
  },
  "orig_nbformat": 4
 },
 "nbformat": 4,
 "nbformat_minor": 2
}

{
 "cells": [
  {
   "cell_type": "markdown",
   "id": "32e6d459",
   "metadata": {
    "papermill": {
     "duration": 0.023159,
     "end_time": "2021-09-27T01:36:30.356554",
     "exception": false,
     "start_time": "2021-09-27T01:36:30.333395",
     "status": "completed"
    },
    "tags": []
   },
   "source": [
    "# Importing"
   ]
  },
  {
   "cell_type": "code",
   "execution_count": 1,
   "id": "5c16f3ab",
   "metadata": {
    "_kg_hide-input": true,
    "_kg_hide-output": true,
    "execution": {
     "iopub.execute_input": "2021-09-27T01:36:30.406592Z",
     "iopub.status.busy": "2021-09-27T01:36:30.405495Z",
     "iopub.status.idle": "2021-09-27T01:37:00.884220Z",
     "shell.execute_reply": "2021-09-27T01:37:00.883256Z",
     "shell.execute_reply.started": "2021-09-26T14:41:24.992526Z"
    },
    "papermill": {
     "duration": 30.504198,
     "end_time": "2021-09-27T01:37:00.884445",
     "exception": false,
     "start_time": "2021-09-27T01:36:30.380247",
     "status": "completed"
    },
    "tags": []
   },
   "outputs": [
    {
     "name": "stdout",
     "output_type": "stream",
     "text": [
      "Collecting yfinance\r\n",
      "  Downloading yfinance-0.1.63.tar.gz (26 kB)\r\n",
      "Requirement already satisfied: pandas>=0.24 in /opt/conda/lib/python3.7/site-packages (from yfinance) (1.3.2)\r\n",
      "Requirement already satisfied: numpy>=1.15 in /opt/conda/lib/python3.7/site-packages (from yfinance) (1.19.5)\r\n",
      "Requirement already satisfied: requests>=2.20 in /opt/conda/lib/python3.7/site-packages (from yfinance) (2.25.1)\r\n",
      "Collecting multitasking>=0.0.7\r\n",
      "  Downloading multitasking-0.0.9.tar.gz (8.1 kB)\r\n",
      "Requirement already satisfied: lxml>=4.5.1 in /opt/conda/lib/python3.7/site-packages (from yfinance) (4.6.3)\r\n",
      "Requirement already satisfied: python-dateutil>=2.7.3 in /opt/conda/lib/python3.7/site-packages (from pandas>=0.24->yfinance) (2.8.0)\r\n",
      "Requirement already satisfied: pytz>=2017.3 in /opt/conda/lib/python3.7/site-packages (from pandas>=0.24->yfinance) (2021.1)\r\n",
      "Requirement already satisfied: six>=1.5 in /opt/conda/lib/python3.7/site-packages (from python-dateutil>=2.7.3->pandas>=0.24->yfinance) (1.15.0)\r\n",
      "Requirement already satisfied: urllib3<1.27,>=1.21.1 in /opt/conda/lib/python3.7/site-packages (from requests>=2.20->yfinance) (1.26.6)\r\n",
      "Requirement already satisfied: chardet<5,>=3.0.2 in /opt/conda/lib/python3.7/site-packages (from requests>=2.20->yfinance) (4.0.0)\r\n",
      "Requirement already satisfied: certifi>=2017.4.17 in /opt/conda/lib/python3.7/site-packages (from requests>=2.20->yfinance) (2021.5.30)\r\n",
      "Requirement already satisfied: idna<3,>=2.5 in /opt/conda/lib/python3.7/site-packages (from requests>=2.20->yfinance) (2.10)\r\n",
      "Building wheels for collected packages: yfinance, multitasking\r\n",
      "  Building wheel for yfinance (setup.py) ... \u001b[?25l-\b \b\\\b \bdone\r\n",
      "\u001b[?25h  Created wheel for yfinance: filename=yfinance-0.1.63-py2.py3-none-any.whl size=23918 sha256=bd479c644822b810ffb583123a1e0be4cf804d8af6097e830818f8ecdf9790b8\r\n",
      "  Stored in directory: /root/.cache/pip/wheels/fe/87/8b/7ec24486e001d3926537f5f7801f57a74d181be25b11157983\r\n",
      "  Building wheel for multitasking (setup.py) ... \u001b[?25l-\b \b\\\b \bdone\r\n",
      "\u001b[?25h  Created wheel for multitasking: filename=multitasking-0.0.9-py3-none-any.whl size=8375 sha256=1f8a3f979392c89b99c4c4457e6151ad6fea6c4124fefcd3399ff934e24b503e\r\n",
      "  Stored in directory: /root/.cache/pip/wheels/ae/25/47/4d68431a7ec1b6c4b5233365934b74c1d4e665bf5f968d363a\r\n",
      "Successfully built yfinance multitasking\r\n",
      "Installing collected packages: multitasking, yfinance\r\n",
      "Successfully installed multitasking-0.0.9 yfinance-0.1.63\r\n",
      "\u001b[33mWARNING: Running pip as the 'root' user can result in broken permissions and conflicting behaviour with the system package manager. It is recommended to use a virtual environment instead: https://pip.pypa.io/warnings/venv\u001b[0m\r\n"
     ]
    },
    {
     "data": {
      "text/html": [
       "<style type='text/css'>\n",
       ".datatable table.frame { margin-bottom: 0; }\n",
       ".datatable table.frame thead { border-bottom: none; }\n",
       ".datatable table.frame tr.coltypes td {  color: #FFFFFF;  line-height: 6px;  padding: 0 0.5em;}\n",
       ".datatable .bool    { background: #DDDD99; }\n",
       ".datatable .object  { background: #565656; }\n",
       ".datatable .int     { background: #5D9E5D; }\n",
       ".datatable .float   { background: #4040CC; }\n",
       ".datatable .str     { background: #CC4040; }\n",
       ".datatable .time    { background: #40CC40; }\n",
       ".datatable .row_index {  background: var(--jp-border-color3);  border-right: 1px solid var(--jp-border-color0);  color: var(--jp-ui-font-color3);  font-size: 9px;}\n",
       ".datatable .frame tbody td { text-align: left; }\n",
       ".datatable .frame tr.coltypes .row_index {  background: var(--jp-border-color0);}\n",
       ".datatable th:nth-child(2) { padding-left: 12px; }\n",
       ".datatable .hellipsis {  color: var(--jp-cell-editor-border-color);}\n",
       ".datatable .vellipsis {  background: var(--jp-layout-color0);  color: var(--jp-cell-editor-border-color);}\n",
       ".datatable .na {  color: var(--jp-cell-editor-border-color);  font-size: 80%;}\n",
       ".datatable .sp {  opacity: 0.25;}\n",
       ".datatable .footer { font-size: 9px; }\n",
       ".datatable .frame_dimensions {  background: var(--jp-border-color3);  border-top: 1px solid var(--jp-border-color0);  color: var(--jp-ui-font-color3);  display: inline-block;  opacity: 0.6;  padding: 1px 10px 1px 5px;}\n",
       "</style>\n"
      ],
      "text/plain": [
       "<IPython.core.display.HTML object>"
      ]
     },
     "metadata": {},
     "output_type": "display_data"
    },
    {
     "name": "stderr",
     "output_type": "stream",
     "text": [
      "2021-09-27 01:36:47.631083: W tensorflow/stream_executor/platform/default/dso_loader.cc:60] Could not load dynamic library 'libcudart.so.11.0'; dlerror: libcudart.so.11.0: cannot open shared object file: No such file or directory; LD_LIBRARY_PATH: /opt/conda/lib\n",
      "2021-09-27 01:36:47.631226: I tensorflow/stream_executor/cuda/cudart_stub.cc:29] Ignore above cudart dlerror if you do not have a GPU set up on your machine.\n"
     ]
    },
    {
     "name": "stdout",
     "output_type": "stream",
     "text": [
      "Collecting scikeras\r\n",
      "  Downloading scikeras-0.4.1-py3-none-any.whl (27 kB)\r\n",
      "Requirement already satisfied: importlib-metadata<4,>=3 in /opt/conda/lib/python3.7/site-packages (from scikeras) (3.4.0)\r\n",
      "Requirement already satisfied: packaging<22.0,>=0.21 in /opt/conda/lib/python3.7/site-packages (from scikeras) (21.0)\r\n",
      "Requirement already satisfied: scikit-learn>=0.22.0 in /opt/conda/lib/python3.7/site-packages (from scikeras) (0.23.2)\r\n",
      "Requirement already satisfied: zipp>=0.5 in /opt/conda/lib/python3.7/site-packages (from importlib-metadata<4,>=3->scikeras) (3.5.0)\r\n",
      "Requirement already satisfied: typing-extensions>=3.6.4 in /opt/conda/lib/python3.7/site-packages (from importlib-metadata<4,>=3->scikeras) (3.7.4.3)\r\n",
      "Requirement already satisfied: pyparsing>=2.0.2 in /opt/conda/lib/python3.7/site-packages (from packaging<22.0,>=0.21->scikeras) (2.4.7)\r\n",
      "Requirement already satisfied: numpy>=1.13.3 in /opt/conda/lib/python3.7/site-packages (from scikit-learn>=0.22.0->scikeras) (1.19.5)\r\n",
      "Requirement already satisfied: scipy>=0.19.1 in /opt/conda/lib/python3.7/site-packages (from scikit-learn>=0.22.0->scikeras) (1.7.1)\r\n",
      "Requirement already satisfied: threadpoolctl>=2.0.0 in /opt/conda/lib/python3.7/site-packages (from scikit-learn>=0.22.0->scikeras) (2.2.0)\r\n",
      "Requirement already satisfied: joblib>=0.11 in /opt/conda/lib/python3.7/site-packages (from scikit-learn>=0.22.0->scikeras) (1.0.1)\r\n",
      "Installing collected packages: scikeras\r\n",
      "Successfully installed scikeras-0.4.1\r\n",
      "\u001b[33mWARNING: Running pip as the 'root' user can result in broken permissions and conflicting behaviour with the system package manager. It is recommended to use a virtual environment instead: https://pip.pypa.io/warnings/venv\u001b[0m\r\n"
     ]
    }
   ],
   "source": [
    "# This Python 3 environment comes with many helpful analytics libraries installed\n",
    "# It is defined by the kaggle/python Docker image: https://github.com/kaggle/docker-python\n",
    "# For example, here's several helpful packages to load\n",
    "\n",
    "import os\n",
    "import multiprocessing\n",
    "import copy\n",
    "import pickle\n",
    "import warnings\n",
    "from datetime import datetime\n",
    "from time import time\n",
    "from matplotlib import font_manager as fm, rc\n",
    "import matplotlib.pyplot as plt\n",
    "import seaborn as sns\n",
    "\n",
    "import numpy as np\n",
    "from numpy import array, nan, random as rnd, where as which\n",
    "import pandas as pd\n",
    "from pandas import DataFrame as dataframe, Series as series, isna, isnull, read_csv\n",
    "from pandas.tseries.offsets import DateOffset\n",
    "from scipy.special import boxcox1p\n",
    "from scipy.stats import skew\n",
    "\n",
    "# from sklearn import datasets\n",
    "!pip install yfinance\n",
    "import yfinance\n",
    "from sklearn import preprocessing as prep\n",
    "from sklearn.impute import KNNImputer\n",
    "from sklearn.ensemble import IsolationForest\n",
    "from sklearn.model_selection import train_test_split as tts, GridSearchCV as GridTuner, StratifiedKFold, KFold\n",
    "from sklearn.feature_selection import SelectFromModel\n",
    "from sklearn.preprocessing import OneHotEncoder, StandardScaler, MinMaxScaler\n",
    "from sklearn import metrics\n",
    "from sklearn.pipeline import make_pipeline\n",
    "\n",
    "from sklearn import linear_model as lm\n",
    "from sklearn.discriminant_analysis import QuadraticDiscriminantAnalysis as qda\n",
    "from sklearn import svm\n",
    "import lightgbm as lgb\n",
    "import xgboost as xgb\n",
    "import catboost as cat\n",
    "from sklearn import neighbors as knn\n",
    "from sklearn import ensemble\n",
    "\n",
    "import tensorflow as tf\n",
    "from tensorflow.keras.models import Model\n",
    "from tensorflow.keras import layers\n",
    "from tensorflow.keras import activations\n",
    "from tensorflow.keras import optimizers\n",
    "from tensorflow.keras import metrics as tf_metrics\n",
    "from tensorflow.keras import callbacks as tf_callbacks\n",
    "from tqdm.keras import TqdmCallback\n",
    "!pip install scikeras\n",
    "from scikeras.wrappers import KerasClassifier, KerasRegressor\n",
    "import tensorflow_addons as tfa\n",
    "import keras_tuner as kt\n",
    "from keras_tuner import HyperModel\n",
    "\n",
    "# display setting\n",
    "warnings.filterwarnings(action='ignore')\n",
    "\n",
    "# Input data files are available in the read-only \"../input/\" directory\n",
    "# For example, running this (by clicking run or pressing Shift+Enter) will list all files under the input directory\n",
    "\n",
    "# You can write up to 20GB to the current directory (/kaggle/working/) that gets preserved as output when you create a version using \"Save & Run All\" \n",
    "# You can also write temporary files to /kaggle/temp/, but they won't be saved outside of the current session"
   ]
  },
  {
   "cell_type": "markdown",
   "id": "c03d912b",
   "metadata": {
    "papermill": {
     "duration": 0.029427,
     "end_time": "2021-09-27T01:37:00.943842",
     "exception": false,
     "start_time": "2021-09-27T01:37:00.914415",
     "status": "completed"
    },
    "tags": []
   },
   "source": [
    "# Utility Functions"
   ]
  },
  {
   "cell_type": "code",
   "execution_count": 2,
   "id": "c794a4fd",
   "metadata": {
    "_kg_hide-input": true,
    "execution": {
     "iopub.execute_input": "2021-09-27T01:37:01.046920Z",
     "iopub.status.busy": "2021-09-27T01:37:01.008782Z",
     "iopub.status.idle": "2021-09-27T01:37:01.065584Z",
     "shell.execute_reply": "2021-09-27T01:37:01.064918Z",
     "shell.execute_reply.started": "2021-09-26T14:41:40.68353Z"
    },
    "jupyter": {
     "source_hidden": true
    },
    "papermill": {
     "duration": 0.092406,
     "end_time": "2021-09-27T01:37:01.065776",
     "exception": false,
     "start_time": "2021-09-27T01:37:00.973370",
     "status": "completed"
    },
    "tags": []
   },
   "outputs": [],
   "source": [
    "class MyLabelEncoder:\n",
    "    def __init__(self, preset={}):\n",
    "        # dic_cat format -> {\"col_name\": {\"value\": replace}}\n",
    "        self.dic_cat = preset\n",
    "    def fit_transform(self, data_x, col_names):\n",
    "        tmp_x = copy.deepcopy(data_x)\n",
    "        for i in col_names:\n",
    "            # type check\n",
    "            if not ((tmp_x[i].dtype.name == \"object\") or (tmp_x[i].dtype.name == \"category\")):\n",
    "                print(F\"WARNING : {i} is not object or category\")\n",
    "            # if key is not in dic, update dic\n",
    "            if i not in self.dic_cat.keys():\n",
    "                tmp_dic = dict.fromkeys(sorted(set(tmp_x[i]).difference([nan])))\n",
    "                label_cnt = 0\n",
    "                for j in tmp_dic.keys():\n",
    "                    tmp_dic[j] = label_cnt\n",
    "                    label_cnt += 1\n",
    "                self.dic_cat[i] = tmp_dic\n",
    "            # transform value which is not in dic to nan\n",
    "            tmp_x[i] = tmp_x[i].astype(\"object\")\n",
    "            conv = tmp_x[i].replace(self.dic_cat[i])\n",
    "            for conv_idx, j in enumerate(conv):\n",
    "                if j not in self.dic_cat[i].values():\n",
    "                    conv[conv_idx] = nan\n",
    "            # final return\n",
    "            tmp_x[i] = conv.astype(\"float\")\n",
    "        return tmp_x\n",
    "    def transform(self, data_x, col_names):\n",
    "        tmp_x = copy.deepcopy(data_x)\n",
    "        for i in col_names:\n",
    "            if not ((tmp_x[i].dtype.name == \"object\") or (tmp_x[i].dtype.name == \"category\")):\n",
    "                print(F\"WARNING : {i} is not object or category\")\n",
    "            # transform value which is not in dic to nan\n",
    "            tmp_x[i] = tmp_x[i].astype(\"object\")\n",
    "            conv = tmp_x[i].replace(self.dic_cat[i])\n",
    "            for conv_idx, j in enumerate(conv):\n",
    "                if j not in self.dic_cat[i].values():\n",
    "                    conv[conv_idx] = nan\n",
    "            # final return\n",
    "            tmp_x[i] = conv.astype(\"float\")\n",
    "        return tmp_x\n",
    "\n",
    "    def clear(self, dic_cat={}):\n",
    "        self.dic_cat = dic_cat\n",
    "class MyOneHotEncoder:\n",
    "    def __init__(self, label_preset={}):\n",
    "        self.dic_cat = {}\n",
    "        self.label_preset = label_preset\n",
    "    def fit_transform(self, data_x, col_names):\n",
    "        tmp_x = dataframe()\n",
    "        for i in data_x:\n",
    "            if i not in col_names:\n",
    "                tmp_x = pd.concat([tmp_x, dataframe(data_x[i])], axis=1)\n",
    "            else:\n",
    "                if not ((data_x[i].dtype.name == \"object\") or (data_x[i].dtype.name == \"category\")):\n",
    "                    print(F\"WARNING : {i} is not object or category\")\n",
    "                self.dic_cat[i] = OneHotEncoder(sparse=False, handle_unknown=\"ignore\")\n",
    "                conv = self.dic_cat[i].fit_transform(dataframe(data_x[i])).astype(\"int\")\n",
    "                col_list = []\n",
    "                for j in self.dic_cat[i].categories_[0]:\n",
    "                    if i in self.label_preset.keys():\n",
    "                        for k, v in self.label_preset[i].items():\n",
    "                            if v == j:\n",
    "                                col_list.append(str(i) + \"_\" + str(k))\n",
    "                    else:\n",
    "                        col_list.append(str(i) + \"_\" + str(j))\n",
    "                conv = dataframe(conv, columns=col_list)\n",
    "                tmp_x = pd.concat([tmp_x, conv], axis=1)\n",
    "        return tmp_x\n",
    "    def transform(self, data_x, col_names):\n",
    "        tmp_x = dataframe()\n",
    "        for i in data_x:\n",
    "            if not i in col_names:\n",
    "                tmp_x = pd.concat([tmp_x, dataframe(data_x[i])], axis=1)\n",
    "            else:\n",
    "                if not ((data_x[i].dtype.name == \"object\") or (data_x[i].dtype.name == \"category\")):\n",
    "                    print(F\"WARNING : {i} is not object or category\")\n",
    "                conv = self.dic_cat[i].transform(dataframe(data_x[i])).astype(\"int\")\n",
    "                col_list = []\n",
    "                for j in self.dic_cat[i].categories_[0]:\n",
    "                    if i in self.label_preset.keys():\n",
    "                        for k, v in self.label_preset[i].items():\n",
    "                            if v == j: col_list.append(str(i) + \"_\" + str(k))\n",
    "                    else:\n",
    "                        col_list.append(str(i) + \"_\" + str(j))\n",
    "                conv = dataframe(conv, columns=col_list)\n",
    "                tmp_x = pd.concat([tmp_x, conv], axis=1)\n",
    "        return tmp_x\n",
    "    def clear(self, dic_cat={}, label_preset={}):\n",
    "        self.dic_cat = dic_cat\n",
    "        self.label_preset = label_preset\n",
    "class MyKNNImputer:\n",
    "    def __init__(self, k=5):\n",
    "        self.imputer = KNNImputer(n_neighbors=k)\n",
    "        self.cat_dic = {}\n",
    "        self.naidx_dix = {}\n",
    "    def fit_transform(self, x, y, cat_vars=None):\n",
    "        for i in cat_vars:\n",
    "            self.cat_dic[i] = diff(list(sorted(set(x[i]))), [nan])\n",
    "            self.naidx_dix[i] = list(which(array(x[i].isna()))[0])\n",
    "        x_imp = dataframe(self.imputer.fit_transform(x, y), columns=x.columns)\n",
    "\n",
    "        # if imputed categorical value are not in the range, adjust the value\n",
    "        for i in cat_vars:\n",
    "            x_imp[i] = x_imp[i].apply(lambda x: int(round(x, 0)))\n",
    "            for j in self.naidx_dix[i]:\n",
    "                if x_imp[i][j] not in self.cat_dic[i]:\n",
    "                    if x_imp[i][j] < self.cat_dic[i][0]:\n",
    "                        x_imp[i][self.naidx_dix[i]] = self.cat_dic[i][0]\n",
    "                    elif x_imp[i][j] > self.cat_dic[i][0]:\n",
    "                        x_imp[i][self.naidx_dix[i]] = self.cat_dic[i][len(self.cat_dic[i]) - 1]\n",
    "        return x_imp\n",
    "    def transform(self, x):\n",
    "        for i in self.cat_dic.keys():\n",
    "            self.naidx_dix[i] = list(which(array(x[i].isna()))[0])\n",
    "        x_imp = dataframe(self.imputer.transform(x), columns=x.columns)\n",
    "\n",
    "        # if imputed categorical value are not in the range, adjust the value\n",
    "        for i in self.cat_dic.keys():\n",
    "            x_imp[i] = x_imp[i].apply(lambda x: int(round(x, 0)))\n",
    "            for j in self.naidx_dix[i]:\n",
    "                if x_imp[i][j] not in self.cat_dic[i]:\n",
    "                    if x_imp[i][j] < self.cat_dic[i][0]:\n",
    "                        x_imp[i][self.naidx_dix[i]] = self.cat_dic[i][0]\n",
    "                    elif x_imp[i][j] > self.cat_dic[i][0]:\n",
    "                        x_imp[i][self.naidx_dix[i]] = self.cat_dic[i][len(self.cat_dic[i]) - 1]\n",
    "        return x_imp\n",
    "    def clear(self, cat_dic={}, naidx_dix={}):\n",
    "        self.cat_dic = cat_dic\n",
    "        self.naidx_dix = naidx_dix\n",
    "def easyIO(x=None, path=None, op=\"r\"):\n",
    "    tmp = None\n",
    "    if op == \"r\":\n",
    "        with open(path, \"rb\") as f:\n",
    "            tmp = pickle.load(f)\n",
    "        return tmp\n",
    "    elif op == \"w\":\n",
    "        tmp = {}\n",
    "        print(x)\n",
    "        if type(x) is dict:\n",
    "            for k in x.keys():\n",
    "                if \"MLP\" in k:\n",
    "                    tmp[k] = {}\n",
    "                    for model_comps in x[k].keys():\n",
    "                        if model_comps != \"model\":\n",
    "                            tmp[k][model_comps] = x[k][model_comps]\n",
    "                    print(F\"INFO : {k} model is removed (keras)\")\n",
    "                else:\n",
    "                    tmp[k] = x[k]\n",
    "        if input(\"Write [y / n]: \") == \"y\":\n",
    "            with open(path, \"wb\") as f:\n",
    "                pickle.dump(tmp, f)\n",
    "            print(\"operation success\")\n",
    "        else:\n",
    "            print(\"operation fail\")\n",
    "    else:\n",
    "        print(\"Unknown operation type\")\n",
    "def diff(first, second):\n",
    "    second = set(second)\n",
    "    return [item for item in first if item not in second]\n",
    "def findIdx(data_x, col_names):\n",
    "    return [int(i) for i, j in enumerate(data_x) if j in col_names]\n",
    "def orderElems(for_order, using_ref):\n",
    "    return [i for i in using_ref if i in for_order]\n",
    "def change_width(ax, new_value):\n",
    "    for patch in ax.patches :\n",
    "        current_width = patch.get_width()\n",
    "        adj_value = current_width - new_value\n",
    "        # we change the bar width\n",
    "        patch.set_width(new_value)\n",
    "        # we recenter the bar\n",
    "        patch.set_x(patch.get_x() + adj_value * .5)\n",
    "def dispPerfTable(result_dic, metric_names, sort_norm):\n",
    "    perf_tabel = dataframe()\n",
    "    for k, v in result_dic.items():\n",
    "        if v is not None:\n",
    "            if \"performance\" in v.keys():\n",
    "                perf_tabel = pd.concat([perf_tabel, dataframe([[k] + list(v[\"performance\"].values())])], axis=0, ignore_index=True)\n",
    "    perf_tabel.columns = [\"Models\"] + metric_names\n",
    "    perf_tabel.sort_values(sort_norm, ascending=False, inplace=True)\n",
    "    print(perf_tabel)"
   ]
  },
  {
   "cell_type": "markdown",
   "id": "ceeb20fb",
   "metadata": {
    "papermill": {
     "duration": 0.029388,
     "end_time": "2021-09-27T01:37:01.124757",
     "exception": false,
     "start_time": "2021-09-27T01:37:01.095369",
     "status": "completed"
    },
    "tags": []
   },
   "source": [
    "# Loading the dataset"
   ]
  },
  {
   "cell_type": "code",
   "execution_count": 3,
   "id": "5f606ddf",
   "metadata": {
    "execution": {
     "iopub.execute_input": "2021-09-27T01:37:01.193100Z",
     "iopub.status.busy": "2021-09-27T01:37:01.187688Z",
     "iopub.status.idle": "2021-09-27T01:37:01.256699Z",
     "shell.execute_reply": "2021-09-27T01:37:01.257257Z",
     "shell.execute_reply.started": "2021-09-26T14:41:40.741712Z"
    },
    "papermill": {
     "duration": 0.103067,
     "end_time": "2021-09-27T01:37:01.257467",
     "exception": false,
     "start_time": "2021-09-27T01:37:01.154400",
     "status": "completed"
    },
    "tags": []
   },
   "outputs": [
    {
     "name": "stdout",
     "output_type": "stream",
     "text": [
      "<class 'pandas.core.frame.DataFrame'>\n",
      "RangeIndex: 891 entries, 0 to 890\n",
      "Data columns (total 12 columns):\n",
      " #   Column       Non-Null Count  Dtype  \n",
      "---  ------       --------------  -----  \n",
      " 0   PassengerId  891 non-null    int64  \n",
      " 1   Survived     891 non-null    int64  \n",
      " 2   Pclass       891 non-null    int64  \n",
      " 3   Name         891 non-null    object \n",
      " 4   Sex          891 non-null    object \n",
      " 5   Age          714 non-null    float64\n",
      " 6   SibSp        891 non-null    int64  \n",
      " 7   Parch        891 non-null    int64  \n",
      " 8   Ticket       891 non-null    object \n",
      " 9   Fare         891 non-null    float64\n",
      " 10  Cabin        204 non-null    object \n",
      " 11  Embarked     889 non-null    object \n",
      "dtypes: float64(2), int64(5), object(5)\n",
      "memory usage: 83.7+ KB\n",
      "<class 'pandas.core.frame.DataFrame'>\n",
      "RangeIndex: 891 entries, 0 to 890\n",
      "Data columns (total 12 columns):\n",
      " #   Column       Non-Null Count  Dtype  \n",
      "---  ------       --------------  -----  \n",
      " 0   PassengerId  891 non-null    int64  \n",
      " 1   Survived     891 non-null    int64  \n",
      " 2   Pclass       891 non-null    int64  \n",
      " 3   Name         891 non-null    object \n",
      " 4   Sex          891 non-null    object \n",
      " 5   Age          714 non-null    float64\n",
      " 6   SibSp        891 non-null    int64  \n",
      " 7   Parch        891 non-null    int64  \n",
      " 8   Ticket       891 non-null    object \n",
      " 9   Fare         891 non-null    float64\n",
      " 10  Cabin        204 non-null    object \n",
      " 11  Embarked     889 non-null    object \n",
      "dtypes: float64(2), int64(5), object(5)\n",
      "memory usage: 83.7+ KB\n"
     ]
    }
   ],
   "source": [
    "# ===== data wrangling =====\n",
    "folder_path = \"../input/titanic/\"\n",
    "target_var = \"Survived\"\n",
    "\n",
    "cat_vars = [\"Pclass\", \"Cabin\", \"Embarked\"]\n",
    "bin_vars = [\"Sex\"]\n",
    "\n",
    "full_x = read_csv(folder_path + \"train.csv\")\n",
    "full_x.info()\n",
    "test_x = read_csv(folder_path + \"test.csv\")\n",
    "full_x.info()\n",
    "\n",
    "full_y = full_x[\"Survived\"]\n",
    "full_x.drop([\"PassengerId\", \"Survived\", \"Ticket\"], axis=1, inplace=True)\n",
    "test_x.drop([\"PassengerId\", \"Ticket\"], axis=1, inplace=True)"
   ]
  },
  {
   "cell_type": "markdown",
   "id": "89f6e8d9",
   "metadata": {
    "papermill": {
     "duration": 0.029598,
     "end_time": "2021-09-27T01:37:01.317007",
     "exception": false,
     "start_time": "2021-09-27T01:37:01.287409",
     "status": "completed"
    },
    "tags": []
   },
   "source": [
    "# Preprocessing"
   ]
  },
  {
   "cell_type": "markdown",
   "id": "ef5acc13",
   "metadata": {
    "papermill": {
     "duration": 0.029507,
     "end_time": "2021-09-27T01:37:01.376390",
     "exception": false,
     "start_time": "2021-09-27T01:37:01.346883",
     "status": "completed"
    },
    "tags": []
   },
   "source": [
    "**Operations on preprcessing**\n",
    "\n",
    "* Data transformation\n",
    "\n",
    "> 2nd element of split 'Name' column replace 'Name' column -> **categories : [\"Mr.\", \"Miss.\", \"Mrs.\", \"Master.\", nan]**\n",
    "\n",
    "> Cabin with nan is replaced by \"no_cabin\"\n",
    "\n",
    "> nums_cabin = length of split 'Cabin' column\n",
    "\n",
    "Example. way to get the nums_cabin from Cabin\n",
    "\n",
    "(no_cabin) -> 0\n",
    "\n",
    "(A1) -> 1\n",
    "\n",
    "(A1, B2, C3) -> 3\n",
    "\n",
    "* Imputing NAs by using KNNImputer"
   ]
  },
  {
   "cell_type": "code",
   "execution_count": 4,
   "id": "2334ad52",
   "metadata": {
    "execution": {
     "iopub.execute_input": "2021-09-27T01:37:01.440942Z",
     "iopub.status.busy": "2021-09-27T01:37:01.440138Z",
     "iopub.status.idle": "2021-09-27T01:37:01.580747Z",
     "shell.execute_reply": "2021-09-27T01:37:01.581622Z",
     "shell.execute_reply.started": "2021-09-26T14:41:40.797231Z"
    },
    "papermill": {
     "duration": 0.175391,
     "end_time": "2021-09-27T01:37:01.581957",
     "exception": false,
     "start_time": "2021-09-27T01:37:01.406566",
     "status": "completed"
    },
    "tags": []
   },
   "outputs": [
    {
     "name": "stdout",
     "output_type": "stream",
     "text": [
      "WARNING : Pclass is not object or category\n",
      "WARNING : Pclass is not object or category\n",
      "NA check\n",
      "0\n",
      "0\n"
     ]
    }
   ],
   "source": [
    "# ===== preprocessing =====\n",
    "name_vec = [\"Mr.\", \"Miss.\", \"Mrs.\", \"Master.\"]\n",
    "full_x[\"Name\"] = [nan if i not in name_vec else i for i in full_x[\"Name\"].apply(lambda x: x.split(\" \")[1])]\n",
    "test_x[\"Name\"] = [nan if i not in name_vec else i for i in test_x[\"Name\"].apply(lambda x: x.split(\" \")[1])]\n",
    "cat_vars = cat_vars + [\"Name\"]\n",
    "\n",
    "col_cabin = []\n",
    "col_nums_cabin = []\n",
    "for i in full_x[\"Cabin\"]:\n",
    "    if isna(i):\n",
    "        col_cabin.append(\"no_cabin\")\n",
    "        col_nums_cabin.append(0)\n",
    "    else:\n",
    "        col_cabin.append(i.split(\" \")[0][0])\n",
    "        col_nums_cabin.append(len(i.split(\" \")))\n",
    "full_x[\"Cabin\"] = col_cabin\n",
    "full_x[\"nums_cabin\"] = col_nums_cabin\n",
    "\n",
    "col_cabin = []\n",
    "col_nums_cabin = []\n",
    "for i in test_x[\"Cabin\"]:\n",
    "    if isna(i):\n",
    "        col_cabin.append(\"no_cabin\")\n",
    "        col_nums_cabin.append(0)\n",
    "    else:\n",
    "        col_cabin.append(i.split(\" \")[0][0])\n",
    "        col_nums_cabin.append(len(i.split(\" \")))\n",
    "test_x[\"Cabin\"] = col_cabin\n",
    "test_x[\"nums_cabin\"] = col_nums_cabin\n",
    "\n",
    "label_encoder = MyLabelEncoder()\n",
    "full_x = label_encoder.fit_transform(full_x, cat_vars + bin_vars)\n",
    "test_x = label_encoder.transform(test_x, cat_vars + bin_vars)\n",
    "\n",
    "# full_x.info()\n",
    "# test_x.info()\n",
    "\n",
    "# imputing\n",
    "knn_imputer = MyKNNImputer()\n",
    "full_x = knn_imputer.fit_transform(full_x, full_y, cat_vars + bin_vars)\n",
    "test_x = knn_imputer.transform(test_x)\n",
    "\n",
    "print(\"NA check\")\n",
    "print(full_x.isna().sum().sum())\n",
    "print(test_x.isna().sum().sum())"
   ]
  },
  {
   "cell_type": "markdown",
   "id": "92a003b3",
   "metadata": {
    "papermill": {
     "duration": 0.044616,
     "end_time": "2021-09-27T01:37:01.680559",
     "exception": false,
     "start_time": "2021-09-27T01:37:01.635943",
     "status": "completed"
    },
    "tags": []
   },
   "source": [
    "# Feature Engineering"
   ]
  },
  {
   "cell_type": "markdown",
   "id": "3d104153",
   "metadata": {
    "papermill": {
     "duration": 0.031009,
     "end_time": "2021-09-27T01:37:01.742308",
     "exception": false,
     "start_time": "2021-09-27T01:37:01.711299",
     "status": "completed"
    },
    "tags": []
   },
   "source": [
    "**Operations on feature engineering**\n",
    "\n",
    "* Create derived variables\n",
    "\n",
    "> under_15 <- If Age <= YearBuilt, 1 else 0\n",
    "\n",
    "> no_child <- If SibSp == 0, 1 else 0\n",
    "\n",
    "> no_parent <- If Parch == 0, 1\n",
    "\n",
    "> family_size <- SibSp + Parch + 1\n",
    "\n",
    "> alone <- If SibSp == 1, 0 else 1"
   ]
  },
  {
   "cell_type": "code",
   "execution_count": 5,
   "id": "6dbba322",
   "metadata": {
    "execution": {
     "iopub.execute_input": "2021-09-27T01:37:01.813539Z",
     "iopub.status.busy": "2021-09-27T01:37:01.806684Z",
     "iopub.status.idle": "2021-09-27T01:37:01.826909Z",
     "shell.execute_reply": "2021-09-27T01:37:01.827399Z",
     "shell.execute_reply.started": "2021-09-26T14:41:40.942896Z"
    },
    "papermill": {
     "duration": 0.054728,
     "end_time": "2021-09-27T01:37:01.827610",
     "exception": false,
     "start_time": "2021-09-27T01:37:01.772882",
     "status": "completed"
    },
    "tags": []
   },
   "outputs": [],
   "source": [
    "# ===== feature engineering =====\n",
    "full_x[\"under_15\"] = [1 if i <= 15 else 0 for i in full_x[\"Age\"]]\n",
    "full_x[\"no_child\"] = [1 if i == 0 else 0 for i in full_x[\"SibSp\"]]\n",
    "full_x[\"no_parent\"] = [1 if i == 0 else 0 for i in full_x[\"Parch\"]]\n",
    "full_x[\"family_size\"] = full_x[\"SibSp\"] + full_x[\"Parch\"] + 1\n",
    "full_x[\"alone\"] = [1 if i == 1 else 0 for i in full_x[\"family_size\"]]\n",
    "\n",
    "test_x[\"under_15\"] = [1 if i <= 15 else 0 for i in test_x[\"Age\"]]\n",
    "test_x[\"no_child\"] = [1 if i == 0 else 0 for i in test_x[\"SibSp\"]]\n",
    "test_x[\"no_parent\"] = [1 if i == 0 else 0 for i in test_x[\"Parch\"]]\n",
    "test_x[\"family_size\"] = test_x[\"SibSp\"] + test_x[\"Parch\"] + 1\n",
    "test_x[\"alone\"] = [1 if i == 1 else 0 for i in test_x[\"family_size\"]]\n",
    "\n",
    "bin_vars = bin_vars + [\"under_15\", \"no_child\", \"no_parent\", \"alone\"]"
   ]
  },
  {
   "cell_type": "markdown",
   "id": "26af5eda",
   "metadata": {
    "papermill": {
     "duration": 0.029929,
     "end_time": "2021-09-27T01:37:01.887789",
     "exception": false,
     "start_time": "2021-09-27T01:37:01.857860",
     "status": "completed"
    },
    "tags": []
   },
   "source": [
    "# Visualization"
   ]
  },
  {
   "cell_type": "code",
   "execution_count": 6,
   "id": "50078c32",
   "metadata": {
    "_kg_hide-input": true,
    "execution": {
     "iopub.execute_input": "2021-09-27T01:37:01.954426Z",
     "iopub.status.busy": "2021-09-27T01:37:01.953692Z",
     "iopub.status.idle": "2021-09-27T01:37:03.914795Z",
     "shell.execute_reply": "2021-09-27T01:37:03.915247Z",
     "shell.execute_reply.started": "2021-09-26T14:41:40.985791Z"
    },
    "papermill": {
     "duration": 1.997003,
     "end_time": "2021-09-27T01:37:03.915456",
     "exception": false,
     "start_time": "2021-09-27T01:37:01.918453",
     "status": "completed"
    },
    "tags": []
   },
   "outputs": [
    {
     "data": {
      "image/png": "[encoded data removed]",
      "text/plain": [
       "<Figure size 864x432 with 1 Axes>"
      ]
     },
     "metadata": {
      "needs_background": "light"
     },
     "output_type": "display_data"
    },
    {
     "data": {
      "image/png": "[encoded data removed]",
      "text/plain": [
       "<Figure size 864x432 with 1 Axes>"
      ]
     },
     "metadata": {
      "needs_background": "light"
     },
     "output_type": "display_data"
    },
    {
     "data": {
      "image/png": "[encoded data removed]",
      "text/plain": [
       "<Figure size 864x432 with 1 Axes>"
      ]
     },
     "metadata": {
      "needs_background": "light"
     },
     "output_type": "display_data"
    },
    {
     "data": {
      "image/png": "[encoded data removed]",
      "text/plain": [
       "<Figure size 864x432 with 1 Axes>"
      ]
     },
     "metadata": {
      "needs_background": "light"
     },
     "output_type": "display_data"
    },
    {
     "data": {
      "image/png": "[encoded data removed]",
      "text/plain": [
       "<Figure size 864x432 with 1 Axes>"
      ]
     },
     "metadata": {
      "needs_background": "light"
     },
     "output_type": "display_data"
    },
    {
     "data": {
      "image/png": "[encoded data removed]",
      "text/plain": [
       "<Figure size 864x432 with 1 Axes>"
      ]
     },
     "metadata": {
      "needs_background": "light"
     },
     "output_type": "display_data"
    },
    {
     "data": {
      "image/png": "[encoded data removed]",
      "text/plain": [
       "<Figure size 864x432 with 1 Axes>"
      ]
     },
     "metadata": {
      "needs_background": "light"
     },
     "output_type": "display_data"
    },
    {
     "data": {
      "image/png": "[encoded data removed]",
      "text/plain": [
       "<Figure size 864x432 with 1 Axes>"
      ]
     },
     "metadata": {
      "needs_background": "light"
     },
     "output_type": "display_data"
    },
    {
     "data": {
      "image/png": "[encoded data removed]",
      "text/plain": [
       "<Figure size 864x432 with 1 Axes>"
      ]
     },
     "metadata": {
      "needs_background": "light"
     },
     "output_type": "display_data"
    }
   ],
   "source": [
    "# ===== Visualization =====\n",
    "tmp_df = full_x.copy()\n",
    "tmp_df[\"target\"] = full_y.copy()\n",
    "\n",
    "fig, ax = plt.subplots(figsize=(12,6))\n",
    "graph = sns.countplot(x=tmp_df[\"target\"],\n",
    "                      palette=sns.hls_palette(10),\n",
    "                      edgecolor=sns.color_palette(\"dark\")[5])\n",
    "graph.set_title(\"Target Distribution\", fontsize=15, fontweight=\"bold\", pad=15)\n",
    "change_width(ax, 0.2)\n",
    "plt.show()\n",
    "\n",
    "fig, ax = plt.subplots(figsize=(12,6))\n",
    "graph = sns.countplot(x=tmp_df[\"target\"],\n",
    "                      hue=tmp_df[\"Pclass\"].replace(dict((v,k) for k,v in label_encoder.dic_cat[\"Pclass\"].items())),\n",
    "                      palette=sns.hls_palette(10),\n",
    "                      edgecolor=sns.color_palette(\"dark\")[5])\n",
    "graph.set_title(\"Pclass by Target\", fontsize=15, fontweight=\"bold\", pad=15)\n",
    "change_width(ax, 0.2)\n",
    "plt.show()\n",
    "\n",
    "fig, ax = plt.subplots(figsize=(12,6))\n",
    "graph = sns.countplot(x=tmp_df[\"target\"],\n",
    "                      hue=tmp_df[\"Name\"].replace(dict((v,k) for k,v in label_encoder.dic_cat[\"Name\"].items())),\n",
    "                      palette=sns.hls_palette(10),\n",
    "                      edgecolor=sns.color_palette(\"dark\")[5])\n",
    "graph.set_title(\"Name by Target\", fontsize=15, fontweight=\"bold\", pad=15)\n",
    "change_width(ax, 0.2)\n",
    "plt.show()\n",
    "\n",
    "fig, ax = plt.subplots(figsize=(12,6))\n",
    "graph = sns.countplot(x=tmp_df[\"target\"],\n",
    "                      hue=tmp_df[\"Sex\"].replace(dict((v,k) for k,v in label_encoder.dic_cat[\"Sex\"].items())),\n",
    "                      palette=sns.hls_palette(10),\n",
    "                      edgecolor=sns.color_palette(\"dark\")[5])\n",
    "graph.set_title(\"Sex by Target\", fontsize=15, fontweight=\"bold\", pad=15)\n",
    "change_width(ax, 0.2)\n",
    "plt.show()\n",
    "\n",
    "fig, ax = plt.subplots(figsize=(12,6))\n",
    "graph = sns.boxplot(x=tmp_df[\"target\"], y=tmp_df[\"Age\"], palette=sns.hls_palette())\n",
    "graph.set_title(\"Age by Target\", fontsize=15, fontweight=\"bold\", pad=15)\n",
    "change_width(ax, 0.2)\n",
    "plt.show()\n",
    "\n",
    "fig, ax = plt.subplots(figsize=(12,6))\n",
    "graph = sns.boxplot(x=tmp_df[\"target\"], y=tmp_df[\"Fare\"], palette=sns.hls_palette())\n",
    "graph.set_title(\"Fare by Target\", fontsize=15, fontweight=\"bold\", pad=15)\n",
    "change_width(ax, 0.2)\n",
    "plt.show()\n",
    "\n",
    "fig, ax = plt.subplots(figsize=(12,6))\n",
    "graph = sns.countplot(x=tmp_df[\"target\"],\n",
    "                      hue=tmp_df[\"nums_cabin\"],\n",
    "                      palette=sns.hls_palette(10),\n",
    "                      edgecolor=sns.color_palette(\"dark\")[5])\n",
    "graph.set_title(\"nums_cabin by Target\", fontsize=15, fontweight=\"bold\", pad=15)\n",
    "# change_width(ax, 0.2)\n",
    "plt.show()\n",
    "\n",
    "fig, ax = plt.subplots(figsize=(12,6))\n",
    "graph = sns.countplot(x=tmp_df[\"target\"],\n",
    "                      hue=tmp_df[\"under_15\"],\n",
    "                      palette=sns.hls_palette(10),\n",
    "                      edgecolor=sns.color_palette(\"dark\")[5])\n",
    "graph.set_title(\"under_15 by Target\", fontsize=15, fontweight=\"bold\", pad=15)\n",
    "change_width(ax, 0.2)\n",
    "plt.show()\n",
    "\n",
    "fig, ax = plt.subplots(figsize=(12,6))\n",
    "graph = sns.countplot(x=tmp_df[\"target\"],\n",
    "                      hue=tmp_df[\"family_size\"],\n",
    "                      palette=sns.hls_palette(10),\n",
    "                      edgecolor=sns.color_palette(\"dark\")[5])\n",
    "graph.set_title(\"family_size by Target\", fontsize=15, fontweight=\"bold\", pad=15)\n",
    "graph.legend(loc='upper right')\n",
    "# change_width(ax, 0.2)\n",
    "plt.show()\n",
    "\n",
    "# del tmp_df"
   ]
  },
  {
   "cell_type": "markdown",
   "id": "5cfac062",
   "metadata": {
    "papermill": {
     "duration": 0.036696,
     "end_time": "2021-09-27T01:37:03.989951",
     "exception": false,
     "start_time": "2021-09-27T01:37:03.953255",
     "status": "completed"
    },
    "tags": []
   },
   "source": [
    "**Visualization summary**\n",
    "\n",
    "1. Sex, Name is notably important for survive\n",
    "\n",
    "2. Fare has some anomaly objects (need to be removed)"
   ]
  },
  {
   "cell_type": "markdown",
   "id": "f08aec12",
   "metadata": {
    "papermill": {
     "duration": 0.036436,
     "end_time": "2021-09-27T01:37:04.063290",
     "exception": false,
     "start_time": "2021-09-27T01:37:04.026854",
     "status": "completed"
    },
    "tags": []
   },
   "source": [
    "# Feature Importance Visualization"
   ]
  },
  {
   "cell_type": "code",
   "execution_count": 7,
   "id": "7ea86cf7",
   "metadata": {
    "execution": {
     "iopub.execute_input": "2021-09-27T01:37:04.149928Z",
     "iopub.status.busy": "2021-09-27T01:37:04.148472Z",
     "iopub.status.idle": "2021-09-27T01:37:05.404763Z",
     "shell.execute_reply": "2021-09-27T01:37:05.405261Z",
     "shell.execute_reply.started": "2021-09-26T14:41:43.190218Z"
    },
    "papermill": {
     "duration": 1.30602,
     "end_time": "2021-09-27T01:37:05.405444",
     "exception": false,
     "start_time": "2021-09-27T01:37:04.099424",
     "status": "completed"
    },
    "tags": []
   },
   "outputs": [
    {
     "data": {
      "text/plain": [
       "Text(0, 0.5, 'Gain')"
      ]
     },
     "execution_count": 7,
     "metadata": {},
     "output_type": "execute_result"
    },
    {
     "data": {
      "image/png": "[encoded data removed]",
      "text/plain": [
       "<Figure size 864x432 with 1 Axes>"
      ]
     },
     "metadata": {
      "needs_background": "light"
     },
     "output_type": "display_data"
    }
   ],
   "source": [
    "# RandomForest Feature Importance\n",
    "feature_selector = lgb.LGBMClassifier(boosting_type=\"rf\", objective=\"binary\",\n",
    "                                      n_estimators=1000, learning_rate=1e-3, num_leaves=2**6-1,\n",
    "                                      subsample=0.6, subsample_freq=1, importance_type=\"gain\",\n",
    "                                      silent=True, n_jobs=multiprocessing.cpu_count(), random_state=6565)\n",
    "model_fs = SelectFromModel(feature_selector, threshold=\"mean\")\n",
    "model_fs.fit(full_x, full_y, categorical_feature=findIdx(full_x.columns, cat_vars))\n",
    "\n",
    "# descending order the columns by feature importance (all features)\n",
    "fs_order = np.argsort(-model_fs.estimator_.feature_importances_)\n",
    "fs_cols = full_x.columns[fs_order]\n",
    "fs_scores = model_fs.estimator_.feature_importances_[fs_order]\n",
    "\n",
    "fig, ax = plt.subplots(figsize=(12,6))\n",
    "graph = sns.barplot(x=fs_cols[:10], y=fs_scores[:10], edgecolor=sns.color_palette(\"dark\")[5], palette=sns.hls_palette(20))\n",
    "graph.set_title(\"RandomForest Feature Importance By Split Gain\", fontsize=15, fontweight=\"bold\", pad=15)\n",
    "graph.set_xticklabels(graph.get_xticklabels(), rotation=45)\n",
    "graph.set_xlabel(\"Variables\", fontsize=12, fontweight=\"bold\", labelpad=15)\n",
    "graph.set_ylabel(\"Gain\", fontsize=12, fontweight=\"bold\", labelpad=15)\n",
    "# plt.show()"
   ]
  },
  {
   "cell_type": "markdown",
   "id": "41821408",
   "metadata": {
    "papermill": {
     "duration": 0.037479,
     "end_time": "2021-09-27T01:37:05.481246",
     "exception": false,
     "start_time": "2021-09-27T01:37:05.443767",
     "status": "completed"
    },
    "tags": []
   },
   "source": [
    "**Feature Importance Analysis Summary**\n",
    "\n",
    "* Sex also shows the importance too in random forest model\n",
    "\n",
    "* family-related variables show low importance. (family_size, Parch, Sibsp)"
   ]
  },
  {
   "cell_type": "markdown",
   "id": "e024325f",
   "metadata": {
    "papermill": {
     "duration": 0.037824,
     "end_time": "2021-09-27T01:37:05.557351",
     "exception": false,
     "start_time": "2021-09-27T01:37:05.519527",
     "status": "completed"
    },
    "tags": []
   },
   "source": [
    "# Anomaly Detection (Skipping, no helpful for performance)"
   ]
  },
  {
   "cell_type": "markdown",
   "id": "bc78080c",
   "metadata": {
    "papermill": {
     "duration": 0.03753,
     "end_time": "2021-09-27T01:37:05.632952",
     "exception": false,
     "start_time": "2021-09-27T01:37:05.595422",
     "status": "completed"
    },
    "tags": []
   },
   "source": [
    "**Boxplot Anomaly Detection**\n",
    "\n",
    "* As showed above, Fare has some anomalies.\n",
    "\n",
    "* I removed thoes objects."
   ]
  },
  {
   "cell_type": "code",
   "execution_count": 8,
   "id": "8d37009d",
   "metadata": {
    "execution": {
     "iopub.execute_input": "2021-09-27T01:37:05.713206Z",
     "iopub.status.busy": "2021-09-27T01:37:05.712516Z",
     "iopub.status.idle": "2021-09-27T01:37:05.717386Z",
     "shell.execute_reply": "2021-09-27T01:37:05.716905Z",
     "shell.execute_reply.started": "2021-09-26T14:41:44.087166Z"
    },
    "papermill": {
     "duration": 0.046025,
     "end_time": "2021-09-27T01:37:05.717523",
     "exception": false,
     "start_time": "2021-09-27T01:37:05.671498",
     "status": "completed"
    },
    "tags": []
   },
   "outputs": [],
   "source": [
    "# # ===== Anomaly Detection =====\n",
    "# anomalyVec = (full_x[\"Fare\"] >= 400).apply(lambda x: not x)\n",
    "\n",
    "# fig, ax = plt.subplots(figsize=(12,6))\n",
    "# graph = sns.boxplot(x=tmp_df[\"target\"][anomalyVec], y=tmp_df[\"Fare\"][anomalyVec], palette=sns.hls_palette())\n",
    "# graph.set_title(\"Fare by Target\", fontsize=15, fontweight=\"bold\", pad=15)\n",
    "# change_width(ax, 0.2)\n",
    "# plt.show()"
   ]
  },
  {
   "cell_type": "code",
   "execution_count": 9,
   "id": "7b1883d0",
   "metadata": {
    "execution": {
     "iopub.execute_input": "2021-09-27T01:37:05.797183Z",
     "iopub.status.busy": "2021-09-27T01:37:05.796500Z",
     "iopub.status.idle": "2021-09-27T01:37:05.799183Z",
     "shell.execute_reply": "2021-09-27T01:37:05.799735Z",
     "shell.execute_reply.started": "2021-09-26T14:41:44.091362Z"
    },
    "papermill": {
     "duration": 0.044476,
     "end_time": "2021-09-27T01:37:05.799897",
     "exception": false,
     "start_time": "2021-09-27T01:37:05.755421",
     "status": "completed"
    },
    "tags": []
   },
   "outputs": [],
   "source": [
    "# full_x = full_x[anomalyVec]\n",
    "# full_x.reset_index(drop=True, inplace=True)\n",
    "# full_y = full_y[anomalyVec]\n",
    "# full_y.reset_index(drop=True, inplace=True)"
   ]
  },
  {
   "cell_type": "markdown",
   "id": "578ab943",
   "metadata": {
    "papermill": {
     "duration": 0.037461,
     "end_time": "2021-09-27T01:37:05.876169",
     "exception": false,
     "start_time": "2021-09-27T01:37:05.838708",
     "status": "completed"
    },
    "tags": []
   },
   "source": [
    "**Train, Valdation Split**\n",
    "\n",
    "* I split the dataset by the way stratified by target"
   ]
  },
  {
   "cell_type": "code",
   "execution_count": 10,
   "id": "440cb776",
   "metadata": {
    "execution": {
     "iopub.execute_input": "2021-09-27T01:37:05.956132Z",
     "iopub.status.busy": "2021-09-27T01:37:05.955411Z",
     "iopub.status.idle": "2021-09-27T01:37:06.989128Z",
     "shell.execute_reply": "2021-09-27T01:37:06.990486Z",
     "shell.execute_reply.started": "2021-09-26T14:41:44.105548Z"
    },
    "papermill": {
     "duration": 1.076827,
     "end_time": "2021-09-27T01:37:06.990762",
     "exception": false,
     "start_time": "2021-09-27T01:37:05.913935",
     "status": "completed"
    },
    "tags": []
   },
   "outputs": [
    {
     "name": "stdout",
     "output_type": "stream",
     "text": [
      "WARNING : Pclass is not object or category\n",
      "WARNING : Name is not object or category\n",
      "WARNING : Cabin is not object or category\n",
      "WARNING : Embarked is not object or category\n",
      "WARNING : Pclass is not object or category\n",
      "WARNING : Name is not object or category\n",
      "WARNING : Cabin is not object or category\n",
      "WARNING : Embarked is not object or category\n",
      "shape check\n",
      "train_x : (712, 15)\n",
      "val_x : (179, 15)\n",
      "test_x : (418, 15)\n",
      "train_x_oh : (712, 30)\n",
      "val_x_oh : (179, 30)\n",
      "train_x_oh : (712, 30)\n",
      "train_y : (712,)\n",
      "val_y : (179,)\n"
     ]
    }
   ],
   "source": [
    "myOneHotEncoder = MyOneHotEncoder(label_preset=label_encoder.dic_cat)\n",
    "full_x_oh = myOneHotEncoder.fit_transform(full_x, cat_vars)\n",
    "test_x_oh = myOneHotEncoder.transform(test_x, cat_vars)\n",
    "\n",
    "train_x, val_x, train_x_oh, val_x_oh, train_y, val_y = tts(full_x, full_x_oh, full_y, stratify=full_y,\n",
    "                                                           test_size=0.2, shuffle=True, random_state=54321)\n",
    "\n",
    "train_x.reset_index(drop=True, inplace=True)\n",
    "val_x.reset_index(drop=True, inplace=True)\n",
    "train_x_oh.reset_index(drop=True, inplace=True)\n",
    "val_x_oh.reset_index(drop=True, inplace=True)\n",
    "train_y.reset_index(drop=True, inplace=True)\n",
    "val_y.reset_index(drop=True, inplace=True)\n",
    "\n",
    "del full_x, full_x_oh, full_y\n",
    "\n",
    "result_val = easyIO(None, \"../input/titanic-prep/result_val.pickle\", op=\"r\")\n",
    "cut_off = round(train_y.mean(), 3)\n",
    "class_levels = [0,1]\n",
    "kfolds_spliter = StratifiedKFold(10, shuffle=True, random_state=12345).get_n_splits(train_x, train_y)\n",
    "categoIdx = findIdx(train_x, cat_vars)\n",
    "\n",
    "print(\"shape check\")\n",
    "print(\"train_x :\", train_x.shape)\n",
    "print(\"val_x :\",val_x.shape)\n",
    "print(\"test_x :\",test_x.shape)\n",
    "\n",
    "print(\"train_x_oh :\",train_x_oh.shape)\n",
    "print(\"val_x_oh :\",val_x_oh.shape)\n",
    "print(\"train_x_oh :\",train_x_oh.shape)\n",
    "\n",
    "print(\"train_y :\",train_y.shape)\n",
    "print(\"val_y :\",val_y.shape)"
   ]
  },
  {
   "cell_type": "markdown",
   "id": "25802fa1",
   "metadata": {
    "papermill": {
     "duration": 0.039071,
     "end_time": "2021-09-27T01:37:07.069739",
     "exception": false,
     "start_time": "2021-09-27T01:37:07.030668",
     "status": "completed"
    },
    "tags": []
   },
   "source": [
    "# Modeling\n",
    "\n",
    "* Below are the models I am trying.\n",
    "\n",
    "> ElasticNet, SVM, XGBoost(gbtree), LightGBM(RandomForest), LightGBM(GOSS), CatBoost(GBM), KNN\n",
    "\n",
    "> Stacking Ensemble, 5 kinds of MLP, MLP With Boosting"
   ]
  },
  {
   "cell_type": "markdown",
   "id": "0e19dd0c",
   "metadata": {
    "papermill": {
     "duration": 0.038077,
     "end_time": "2021-09-27T01:37:07.146593",
     "exception": false,
     "start_time": "2021-09-27T01:37:07.108516",
     "status": "completed"
    },
    "tags": []
   },
   "source": [
    "**Validation Performance (tried models)**"
   ]
  },
  {
   "cell_type": "code",
   "execution_count": 11,
   "id": "87a535b2",
   "metadata": {
    "execution": {
     "iopub.execute_input": "2021-09-27T01:37:07.230171Z",
     "iopub.status.busy": "2021-09-27T01:37:07.229489Z",
     "iopub.status.idle": "2021-09-27T01:37:07.253922Z",
     "shell.execute_reply": "2021-09-27T01:37:07.254385Z",
     "shell.execute_reply.started": "2021-09-26T14:41:44.594608Z"
    },
    "papermill": {
     "duration": 0.069437,
     "end_time": "2021-09-27T01:37:07.254556",
     "exception": false,
     "start_time": "2021-09-27T01:37:07.185119",
     "status": "completed"
    },
    "tags": []
   },
   "outputs": [
    {
     "name": "stdout",
     "output_type": "stream",
     "text": [
      "                 Models    Logloss  Accuracy        F1   ROC_AUC\n",
      "6               CAT_GBM   0.355392  0.837989  0.805369  0.920356\n",
      "3               XGB_GBT   0.355467  0.854749  0.824324  0.917260\n",
      "13     StackingEnsemble   0.364710  0.854749  0.821918  0.916864\n",
      "4                LGB_RF   0.385505  0.837989  0.807947  0.915415\n",
      "9         MLP_ResNet_V1        NaN  0.871508  0.836879  0.913570\n",
      "11            MLP_LP_V1   0.368466  0.849162  0.805755  0.913307\n",
      "12     MLP_MultiActs_V1   0.367828  0.871508  0.834532  0.912385\n",
      "5              LGB_GOSS   0.377965  0.832402  0.794521  0.911331\n",
      "0            ElasticNet   0.371203  0.849162  0.816327  0.909750\n",
      "10      MLP_DenseNet_V1   0.367537  0.837989  0.800000  0.909354\n",
      "8           MLP_Desc_V1        NaN  0.871508  0.827068  0.905534\n",
      "14  kfoldsMLP_ResNet_V1   0.368637  0.832402  0.791667  0.905402\n",
      "2                   SVM   0.408288  0.843575  0.800000  0.881555\n",
      "7                   KNN   1.098280  0.810056  0.776316  0.878129\n",
      "1                   QDA  16.964083  0.418994  0.570248  0.791568\n"
     ]
    }
   ],
   "source": [
    "dispPerfTable(result_val, [\"Logloss\", \"Accuracy\", \"F1\", \"ROC_AUC\"], \"ROC_AUC\")"
   ]
  },
  {
   "cell_type": "markdown",
   "id": "cc849645",
   "metadata": {
    "papermill": {
     "duration": 0.038579,
     "end_time": "2021-09-27T01:37:07.331691",
     "exception": false,
     "start_time": "2021-09-27T01:37:07.293112",
     "status": "completed"
    },
    "tags": []
   },
   "source": [
    "**Random Forest**\n",
    "\n",
    "* Searched hyper-parameters"
   ]
  },
  {
   "cell_type": "code",
   "execution_count": 12,
   "id": "ffe35d68",
   "metadata": {
    "execution": {
     "iopub.execute_input": "2021-09-27T01:37:07.416324Z",
     "iopub.status.busy": "2021-09-27T01:37:07.413890Z",
     "iopub.status.idle": "2021-09-27T01:37:07.418405Z",
     "shell.execute_reply": "2021-09-27T01:37:07.418977Z",
     "shell.execute_reply.started": "2021-09-26T14:42:55.38435Z"
    },
    "papermill": {
     "duration": 0.047962,
     "end_time": "2021-09-27T01:37:07.419170",
     "exception": false,
     "start_time": "2021-09-27T01:37:07.371208",
     "status": "completed"
    },
    "tags": []
   },
   "outputs": [
    {
     "name": "stdout",
     "output_type": "stream",
     "text": [
      "{'colsample_bytree': 0.8, 'min_child_samples': 5, 'min_child_weight': 0.0001, 'min_split_gain': 0.2, 'num_leaves': 63, 'reg_lambda': 1.0, 'subsample': 0.8}\n"
     ]
    }
   ],
   "source": [
    "print(result_val[\"LGB_RF\"][\"best_params\"])"
   ]
  },
  {
   "cell_type": "markdown",
   "id": "93f72b14",
   "metadata": {
    "papermill": {
     "duration": 0.039375,
     "end_time": "2021-09-27T01:37:07.498494",
     "exception": false,
     "start_time": "2021-09-27T01:37:07.459119",
     "status": "completed"
    },
    "tags": []
   },
   "source": [
    "* Prediction"
   ]
  },
  {
   "cell_type": "code",
   "execution_count": 13,
   "id": "57762903",
   "metadata": {
    "execution": {
     "iopub.execute_input": "2021-09-27T01:37:07.581112Z",
     "iopub.status.busy": "2021-09-27T01:37:07.580446Z",
     "iopub.status.idle": "2021-09-27T01:37:07.775873Z",
     "shell.execute_reply": "2021-09-27T01:37:07.776809Z",
     "shell.execute_reply.started": "2021-09-26T14:49:33.869251Z"
    },
    "papermill": {
     "duration": 0.238735,
     "end_time": "2021-09-27T01:37:07.777053",
     "exception": false,
     "start_time": "2021-09-27T01:37:07.538318",
     "status": "completed"
    },
    "tags": []
   },
   "outputs": [
    {
     "name": "stdout",
     "output_type": "stream",
     "text": [
      "Validation Logloss ---> 0.38520836083308874\n"
     ]
    }
   ],
   "source": [
    "ntrees = 500\n",
    "eta = 5e-3\n",
    "patientRate = 0.2\n",
    "seed = 22\n",
    "\n",
    "model_rf = lgb.LGBMClassifier(boosting_type=\"rf\", objective=\"binary\",\n",
    "                               n_estimators=ntrees, learning_rate=eta,\n",
    "                               num_leaves=result_val[\"LGB_RF\"][\"best_params\"][\"num_leaves\"],\n",
    "                               subsample=result_val[\"LGB_RF\"][\"best_params\"][\"subsample\"],\n",
    "                               colsample_bytree=result_val[\"LGB_RF\"][\"best_params\"][\"colsample_bytree\"],\n",
    "                               reg_lambda=result_val[\"LGB_RF\"][\"best_params\"][\"reg_lambda\"],\n",
    "                               min_child_weight=result_val[\"LGB_RF\"][\"best_params\"][\"min_child_weight\"],\n",
    "                               min_child_samples=result_val[\"LGB_RF\"][\"best_params\"][\"min_child_samples\"],\n",
    "                               min_split_gain=result_val[\"LGB_RF\"][\"best_params\"][\"min_split_gain\"],\n",
    "                               n_jobs=multiprocessing.cpu_count(), random_state=seed,\n",
    "                               subsample_freq=2, silent=True)\n",
    "model_rf.fit(train_x, train_y, categorical_feature=categoIdx,\n",
    "            eval_set=[(val_x, val_y)], eval_metric=\"binary_logloss\",\n",
    "            verbose=False, early_stopping_rounds=int(np.floor(ntrees * patientRate)))\n",
    "\n",
    "print(\"Validation Logloss --->\", metrics.log_loss(val_y, model_rf.predict_proba(val_x)[...,1]))\n",
    "\n",
    "pred_test = [1 if i>=cut_off else 0 for i in model_rf.predict_proba(test_x)[...,1]]"
   ]
  },
  {
   "cell_type": "markdown",
   "id": "6c2b482b",
   "metadata": {
    "papermill": {
     "duration": 0.040636,
     "end_time": "2021-09-27T01:37:07.859732",
     "exception": false,
     "start_time": "2021-09-27T01:37:07.819096",
     "status": "completed"
    },
    "tags": []
   },
   "source": [
    "# Submission\n",
    "\n",
    "* Cut-Off on Survive = 0.383"
   ]
  },
  {
   "cell_type": "code",
   "execution_count": 14,
   "id": "1385f35e",
   "metadata": {
    "execution": {
     "iopub.execute_input": "2021-09-27T01:37:07.946261Z",
     "iopub.status.busy": "2021-09-27T01:37:07.945386Z",
     "iopub.status.idle": "2021-09-27T01:37:07.961713Z",
     "shell.execute_reply": "2021-09-27T01:37:07.960393Z",
     "shell.execute_reply.started": "2021-09-26T14:49:55.046438Z"
    },
    "papermill": {
     "duration": 0.062133,
     "end_time": "2021-09-27T01:37:07.961889",
     "exception": false,
     "start_time": "2021-09-27T01:37:07.899756",
     "status": "completed"
    },
    "tags": []
   },
   "outputs": [],
   "source": [
    "submission = read_csv(\"../input/titanic/gender_submission.csv\")\n",
    "submission[target_var] = pred_test\n",
    "submission.to_csv(\"./submission.csv\", index=False)"
   ]
  }
 ],
 "metadata": {
  "kernelspec": {
   "display_name": "Python 3",
   "language": "python",
   "name": "python3"
  },
  "language_info": {
   "codemirror_mode": {
    "name": "ipython",
    "version": 3
   },
   "file_extension": ".py",
   "mimetype": "text/x-python",
   "name": "python",
   "nbconvert_exporter": "python",
   "pygments_lexer": "ipython3",
   "version": "3.7.10"
  },
  "papermill": {
   "default_parameters": {},
   "duration": 48.819444,
   "end_time": "2021-09-27T01:37:10.843692",
   "environment_variables": {},
   "exception": null,
   "input_path": "__notebook__.ipynb",
   "output_path": "__notebook__.ipynb",
   "parameters": {},
   "start_time": "2021-09-27T01:36:22.024248",
   "version": "2.3.3"
  }
 },
 "nbformat": 4,
 "nbformat_minor": 5
}
